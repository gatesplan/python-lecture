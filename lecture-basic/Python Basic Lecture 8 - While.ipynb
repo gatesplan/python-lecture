{
 "cells": [
  {
   "metadata": {},
   "cell_type": "markdown",
   "source": "# 복습 키워드\n\n1. `print()` 출력함수\n2. `print(sep: str, end: str)` 출력함수의 키워드 파라메터\n3. `f-string` 문법\n4. `\"str\".builtin()` 기본적인 문자열 빌트인 함수들\n    - `\"str\".upper()` 대문자로 변환\n    - `\"str\".lower()` 소문자로 변환\n    - `\"str\".capitalize()` 첫 글자만 대문자로 변환\n    - `\"str\".replace(old:str, new:str)` 특정 문자열 교체\n    - `\"str\".strip()` 양쪽 공백 제거\n    - `\"str\".lstrip()` 왼쪽 공백 제거\n    - `\"str\".rstrip()` 오른쪽 공백 제거\n5. list 자료형 선언과 사용법\n    - `list = [1, 2, 3]` 리스트 선언\n    - `print(list)` 리스트 출력\n    - `list(\"str\")` 문자열을 리스트로 변환\n    - `\"str\".split(sep: str)` 문자열을 리스트로 변환\n    - `list[a:b]` 리스트 슬라이싱\n6. `*list` 언패킹\n7. `[].builtin()` 리스트 빌트인 함수들\n    - `[].append(any)` 리스트에 요소 추가\n    - `[].insert(index:int, any)` 리스트 특정 위치에 요소 추가\n    - `[].extend(list)` 리스트에 다른 리스트 요소 추가\n    - `[].remove(any)` 리스트에서 요소 제거\n    - `[].pop()` 리스트 마지막 요소 제거\n    - `[].clear()` 리스트 비우기\n    - `[].index(any)` 리스트에서 요소의 인덱스 찾기\n    - `[].count(any)` 리스트에서 요소의 개수 세기\n    - `[].sort()` 리스트 정렬\n    - `[].reverse()` 리스트 역순 정렬\n    - `[].copy()` 리스트 복사\n8. `input()` 입력 함수\n9. `type()` 자료형 확인 함수\n10. 자료형 변환 (캐스팅)\n    - `int()` 정수로 변환\n    - `float()` 실수로 변환\n    - `str()` 문자열로 변환\n    - `list()` 리스트로 변환\n11. 비교 연산자와 조건문\n    - `==, !=, >, <, >=, <=` 비교 연산자\n    - `if, elif, else` 조건문\n    - `and, or, not` 논리 연산자\n    - `in` 포함 연산자\n12. tuple 자료형과 사용법\n    - `tuple = (1, 2, 3)` 튜플 선언\n    - `x, y = tuple` 튜플 언패킹\n    - `tuple.count(any)` 튜플에서 요소의 개수 세기\n    - `tuple.index(any)` 튜플에서 요소의 인덱스 찾기\n    - `len()`, `max()`, `min()`, `sum()` 빌트인 함수들",
   "id": "1789e10890e9f5ae"
  },
  {
   "metadata": {},
   "cell_type": "markdown",
   "source": "# Python Basic Lecture 8: While문\n\n이번 단원에서는 반복문 중 하나인 while문을 배운다.\n\nWhile문은 조건이 참인 동안 계속 반복하는 구조를 만들 때 사용한다. 게임, 메뉴 시스템, 사용자 입력 처리 등 다양한 프로그램에서 핵심적인 역할을 한다.\n\nWhile문을 잘못 사용하면 **무한루프**에 빠질 수 있으므로, 올바른 사용법과 주의사항을 함께 배워보자.\n\n구체적인 내용은 다음 세 가지이다:\n\n1. While문과 break\n2. While문과 break, continue  \n3. While문 안전장치 (Failsafe)",
   "id": "82abedf0c199a89a"
  },
  {
   "metadata": {},
   "cell_type": "markdown",
   "source": [
    "## 1. While문과 break\n",
    "\n",
    "While문의 기본 구조는 `while 조건:` 다음에 실행할 코드를 들여쓰기로 작성하는 것이다. `break`를 사용하면 반복문을 즉시 종료할 수 있다."
   ],
   "id": "949919ecb84bfe20"
  },
  {
   "metadata": {},
   "cell_type": "code",
   "source": [
    "# 기본 while문 - 1부터 5까지 출력\n",
    "count = 1\n",
    "while count <= 5:\n",
    "    print(f\"숫자: {count}\")\n",
    "    count += 1\n",
    "\n",
    "print(\"반복 끝!\")"
   ],
   "id": "37b7a1198ad372c3",
   "outputs": [],
   "execution_count": null
  },
  {
   "metadata": {},
   "cell_type": "code",
   "source": [
    "# break 사용 예시 - 무한루프에서 조건으로 탈출\n",
    "count = 1\n",
    "while True:  # 무한루프처럼 보이지만...\n",
    "    print(f\"카운트: {count}\")\n",
    "    count += 1\n",
    "\n",
    "    if count > 5:\n",
    "        print(\"5를 넘었으므로 종료!\")\n",
    "        break  # 여기서 반복문 종료\n",
    "\n",
    "print(\"반복문 밖으로 나왔습니다.\")"
   ],
   "id": "12267d13c71cf6b6",
   "outputs": [],
   "execution_count": null
  },
  {
   "cell_type": "code",
   "id": "9rpv4urjjgo",
   "source": "# 실용적인 예시 - 간단한 메뉴 시스템\nwhile True:\n    print(\"\\n=== 메뉴 ===\")\n    print(\"1. 안녕하세요\")\n    print(\"2. 현재 시간\")\n    print(\"3. 종료\")\n    \n    choice = input(\"선택하세요 (1-3): \")\n    \n    if choice == '1':\n        print(\"안녕하세요! 반갑습니다!\")\n    elif choice == '2':\n        print(\"지금은 Python 수업 시간입니다.\")\n    elif choice == '3':\n        print(\"프로그램을 종료합니다.\")\n        break\n    else:\n        print(\"잘못된 선택입니다.\")",
   "metadata": {},
   "outputs": [],
   "execution_count": null
  },
  {
   "metadata": {},
   "cell_type": "code",
   "source": [
    "# while문으로 숫자 3개 입력을 받고 입력을 종료\n",
    "alist = []\n",
    "while True:\n",
    "    a = input(\"값을 입력하세요.\")\n",
    "    if a.isf():\n",
    "        afloat = float(a)\n",
    "        if afloat.is_integer():\n",
    "            alist.append(int(afloat))\n",
    "        else:\n",
    "            alist.append(afloat)\n",
    "\n",
    "    else:\n",
    "        alist.append(a)\n",
    "\n",
    "    # 종료조건\n",
    "    if len(alist) >= 3:\n",
    "        break\n",
    "\n",
    "print(alist)"
   ],
   "id": "6b7f542cbf52ba37",
   "outputs": [],
   "execution_count": null
  },
  {
   "cell_type": "markdown",
   "id": "7j7p2k2v2iu",
   "source": "## 2. While문과 break, continue\n\n- `break`: 반복문을 즉시 종료하고 빠져나간다\n- `continue`: 현재 반복을 건너뛰고 다음 반복으로 넘어간다",
   "metadata": {}
  },
  {
   "cell_type": "code",
   "id": "x60osyo8njh",
   "source": "# continue 사용 예시 - 짝수만 출력\ncount = 0\nwhile count < 10:\n    count += 1\n    \n    if count % 2 == 1:  # 홀수면\n        continue  # 아래 코드 건너뛰고 다음 반복으로\n    \n    print(f\"짝수: {count}\")\n\nprint(\"완료!\")",
   "metadata": {},
   "outputs": [],
   "execution_count": null
  },
  {
   "cell_type": "code",
   "id": "un6emieo7a9",
   "source": "# break와 continue를 함께 사용한 메뉴 시스템\nwhile True:\n    print(\"\\n=== 고급 메뉴 ===\")\n    print(\"1. 계산기\")\n    print(\"2. 인사말\")\n    print(\"3. 잘못된 메뉴 (테스트용)\")\n    print(\"0. 종료\")\n    \n    choice = input(\"선택하세요: \")\n    \n    if choice == '0':\n        print(\"프로그램을 종료합니다.\")\n        break\n    elif choice == '1':\n        a = int(input(\"첫 번째 숫자: \"))\n        b = int(input(\"두 번째 숫자: \"))\n        print(f\"결과: {a + b}\")\n    elif choice == '2':\n        name = input(\"이름을 입력하세요: \")\n        print(f\"안녕하세요, {name}님!\")\n    elif choice == '3':\n        print(\"잘못된 메뉴입니다. 다시 선택하세요.\")\n        continue  # 메뉴를 다시 보여줌\n    else:\n        print(\"올바른 번호를 입력하세요.\")\n        continue",
   "metadata": {},
   "outputs": [],
   "execution_count": null
  },
  {
   "cell_type": "markdown",
   "id": "ydp83do95wf",
   "source": "## 3. While문 안전장치 (Failsafe)\n\nWhile문에서 가장 조심해야 할 것은 **무한루프**다. 조건이 절대 거짓이 되지 않으면 프로그램이 영원히 실행된다. 안전장치를 만들어서 이를 방지할 수 있다.",
   "metadata": {}
  },
  {
   "metadata": {},
   "cell_type": "code",
   "source": [
    "# 위험한 예시 (무한루프 - 실행하지 마세요!)\n",
    "# count = 1\n",
    "# while count <= 5:\n",
    "#     print(f\"숫자: {count}\")\n",
    "\n",
    "# 올바른 방법\n",
    "count = 1\n",
    "while count <= 5:\n",
    "    print(f\"숫자: {count}\")\n",
    "    count += 1  # 반드시 조건을 변경하는 코드 포함!\n",
    "\n",
    "print(\"정상 종료\")"
   ],
   "id": "d4aea31b2726a8d5",
   "outputs": [],
   "execution_count": null
  },
  {
   "metadata": {},
   "cell_type": "code",
   "source": [
    "# 안전장치가 있는 while문 패턴들\n",
    "\n",
    "# 패턴 1: 카운터 사용\n",
    "print(\"=== 패턴 1: 카운터 사용 ===\")\n",
    "counter = 0\n",
    "while counter < 3:\n",
    "    print(f\"반복 {counter + 1}\")\n",
    "    counter += 1  # 카운터 증가 필수!\n",
    "\n",
    "# 패턴 2: 조건 변수 사용\n",
    "print(\"\\n=== 패턴 2: 조건 변수 사용 ===\")\n",
    "game_running = True\n",
    "turn = 1\n",
    "while game_running:\n",
    "    print(f\"턴 {turn}\")\n",
    "    turn += 1\n",
    "    \n",
    "    if turn > 3:\n",
    "        game_running = False  # 조건 변경으로 종료\n",
    "\n",
    "# 패턴 3: 안전장치가 있는 무한루프\n",
    "print(\"\\n=== 패턴 3: 안전장치 무한루프 ===\")\n",
    "safety_count = 0\n",
    "max_iterations = 5\n",
    "while True:\n",
    "    print(f\"작업 중... ({safety_count + 1})\")\n",
    "    safety_count += 1\n",
    "    \n",
    "    # 안전장치: 너무 많이 반복되면 강제 종료\n",
    "    if safety_count >= max_iterations:\n",
    "        print(\"안전장치 작동! 프로그램을 종료합니다.\")\n",
    "        break"
   ],
   "id": "bc620cad1336d71b",
   "outputs": [],
   "execution_count": null
  }
 ],
 "metadata": {
  "kernelspec": {
   "display_name": "Python 3",
   "language": "python",
   "name": "python3"
  },
  "language_info": {
   "codemirror_mode": {
    "name": "ipython",
    "version": 2
   },
   "file_extension": ".py",
   "mimetype": "text/x-python",
   "name": "python",
   "nbconvert_exporter": "python",
   "pygments_lexer": "ipython2",
   "version": "2.7.6"
  }
 },
 "nbformat": 4,
 "nbformat_minor": 5
}
