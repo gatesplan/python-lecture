{
 "cells": [
  {
   "cell_type": "markdown",
   "metadata": {},
   "source": [
    "# 복습 키워드\n",
    "\n",
    "1. `print()` 출력함수\n",
    "2. `print(sep: str, end: str)` 출력함수의 키워드 파라메터\n",
    "3. `f-string` 문법\n",
    "4. `\"str\".builtin()` 기본적인 문자열 빌트인 함수들\n",
    "    - `\"str\".upper()` 대문자로 변환\n",
    "    - `\"str\".lower()` 소문자로 변환\n",
    "    - `\"str\".capitalize()` 첫 글자만 대문자로 변환\n",
    "    - `\"str\".replace(old:str, new:str)` 특정 문자열 교체\n",
    "    - `\"str\".strip()` 양쪽 공백 제거\n",
    "    - `\"str\".lstrip()` 왼쪽 공백 제거\n",
    "    - `\"str\".rstrip()` 오른쪽 공백 제거\n",
    "5. list 자료형 선언과 사용법\n",
    "    - `list = [1, 2, 3]` 리스트 선언\n",
    "    - `print(list)` 리스트 출력\n",
    "    - `list(\"str\")` 문자열을 리스트로 변환\n",
    "    - `\"str\".split(sep: str)` 문자열을 리스트로 변환\n",
    "    - `list[a:b]` 리스트 슬라이싱\n",
    "6. `*list` 언패킹\n",
    "7. `[].builtin()` 리스트 빌트인 함수들\n",
    "    - `[].append(any)` 리스트에 요소 추가\n",
    "    - `[].insert(index:int, any)` 리스트 특정 위치에 요소 추가\n",
    "    - `[].extend(list)` 리스트에 다른 리스트 요소 추가\n",
    "    - `[].remove(any)` 리스트에서 요소 제거\n",
    "    - `[].pop()` 리스트 마지막 요소 제거\n",
    "    - `[].clear()` 리스트 비우기\n",
    "    - `[].index(any)` 리스트에서 요소의 인덱스 찾기\n",
    "    - `[].count(any)` 리스트에서 요소의 개수 세기\n",
    "    - `[].sort()` 리스트 정렬\n",
    "    - `[].reverse()` 리스트 역순 정렬\n",
    "    - `[].copy()` 리스트 복사\n",
    "8. `input()` 입력 함수\n",
    "9. `type()` 자료형 확인 함수\n",
    "10. 자료형 변환 (캐스팅)\n",
    "    - `int()` 정수로 변환\n",
    "    - `float()` 실수로 변환\n",
    "    - `str()` 문자열로 변환\n",
    "    - `list()` 리스트로 변환\n",
    "11. 비교 연산자와 조건문\n",
    "    - `==, !=, >, <, >=, <=` 비교 연산자\n",
    "    - `if, elif, else` 조건문\n",
    "    - `and, or, not` 논리 연산자\n",
    "    - `in` 포함 연산자"
   ]
  },
  {
   "cell_type": "markdown",
   "metadata": {},
   "source": [
    "# Python Basic Lecture 7: While문과 Tuple\n",
    "\n",
    "이번 단원에서는 새로운 자료형인 tuple과 반복문 중 하나인 while문을 배운다.\n",
    "\n",
    "Tuple은 좌표, 상태 정보 등을 저장할 때 유용하고, while문은 조건에 따라 반복하는 구조를 만들 때 사용한다. 둘을 조합하면 게임, 시뮬레이션 등 재미있는 프로그램을 만들 수 있다.\n",
    "\n",
    "1. Tuple 자료형과 기본 사용법\n",
    "2. While문 기본 문법과 제어\n",
    "3. While + Tuple 실용 예제들\n",
    "4. 실용적인 응용 프로그램들"
   ]
  },
  {
   "cell_type": "markdown",
   "metadata": {},
   "source": [
    "## 1. Tuple 자료형\n",
    "\n",
    "이번 시간에는 새로운 자료형인 tuple을 배운다. 지금까지 배운 자료형은 문자열`string`, 정수`int`, 실수`float`, 리스트`list`이다.\n",
    "\n",
    "Tuple은 리스트와 비슷하지만 중요한 차이점이 있다. 한 번 만들면 변경할 수 없다는 점이다. 이런 특성을 **불변(immutable)**이라고 한다.\n",
    "\n",
    "구체적인 내용은 다음 네 가지이다:\n",
    "\n",
    "1. Tuple 선언하기\n",
    "2. Tuple 언패킹하기\n",
    "3. List와 Tuple의 차이점\n",
    "4. Tuple을 언제 사용하는가"
   ]
  },
  {
   "cell_type": "markdown",
   "metadata": {},
   "source": [
    "### 1.1. Tuple 선언하기\n",
    "\n",
    "Tuple은 소괄호 `()`를 사용해서 선언한다. 리스트가 대괄호 `[]`를 쓰는 것과 대비된다."
   ]
  },
  {
   "cell_type": "code",
   "execution_count": null,
   "metadata": {},
   "outputs": [],
   "source": [
    "# 기본 tuple 선언\n",
    "point = (10, 20)  # 좌표 (x, y)\n",
    "color = (255, 128, 0)  # RGB 색상\n",
    "student = ('김철수', 20, 'A')  # 이름, 나이, 등급\n",
    "\n",
    "print(\"좌표:\", point)\n",
    "print(\"색상:\", color)\n",
    "print(\"학생 정보:\", student)"
   ]
  },
  {
   "cell_type": "code",
   "execution_count": null,
   "metadata": {},
   "outputs": [],
   "source": [
    "# 빈 tuple과 요소 하나인 tuple\n",
    "empty_tuple = ()  # 빈 tuple\n",
    "single_tuple = (42,)  # 요소 하나 - 콤마가 중요!\n",
    "\n",
    "print(\"빈 tuple:\", empty_tuple)\n",
    "print(\"하나 tuple:\", single_tuple)\n",
    "\n",
    "# 콤마 없으면 그냥 괄호로 인식됨\n",
    "not_tuple = (42)  # 이건 그냥 숫자 42\n",
    "print(\"이건 tuple이 아님:\", type(not_tuple))"
   ]
  },
  {
   "cell_type": "code",
   "metadata": {
    "ExecuteTime": {
     "end_time": "2025-08-03T16:32:18.069964Z",
     "start_time": "2025-08-03T16:32:18.063647Z"
    }
   },
   "source": [
    "# 괄호 없이도 tuple 만들 수 있음\n",
    "coordinates = 100, 200  # 이것도 tuple\n",
    "print(\"좌표:\", coordinates)\n",
    "print(\"타입:\", type(coordinates))\n",
    "\n",
    "# 리스트를 tuple로 변환\n",
    "my_list = [1, 2, 3, 4, 5]\n",
    "my_tuple = tuple(my_list)\n",
    "print(\"원본 리스트:\", my_list)\n",
    "print(\"변환된 tuple:\", my_tuple)"
   ],
   "outputs": [
    {
     "name": "stdout",
     "output_type": "stream",
     "text": [
      "좌표: (100, 200)\n",
      "타입: <class 'tuple'>\n",
      "원본 리스트: [1, 2, 3, 4, 5]\n",
      "변환된 tuple: (1, 2, 3, 4, 5)\n"
     ]
    }
   ],
   "execution_count": 1
  },
  {
   "cell_type": "markdown",
   "metadata": {},
   "source": [
    "### 1.2. Tuple 언패킹하기\n",
    "\n",
    "Tuple의 각 요소를 개별 변수에 할당하는 것을 언패킹이라고 한다. 리스트 언패킹과 똑같은 방법이다."
   ]
  },
  {
   "cell_type": "code",
   "execution_count": null,
   "metadata": {},
   "outputs": [],
   "source": [
    "# 기본 언패킹\n",
    "point = (10, 20)\n",
    "x, y = point\n",
    "print(f\"x 좌표: {x}\")\n",
    "print(f\"y 좌표: {y}\")\n",
    "\n",
    "# 학생 정보 언패킹\n",
    "student_info = ('이영희', 19, 'B+')\n",
    "name, age, grade = student_info\n",
    "print(f\"이름: {name}, 나이: {age}, 성적: {grade}\")"
   ]
  },
  {
   "cell_type": "code",
   "execution_count": null,
   "metadata": {},
   "outputs": [],
   "source": [
    "# * 사용한 언패킹\n",
    "rgb_color = (255, 128, 64, 32, 16)  # RGB + 추가 정보\n",
    "red, green, blue, *others = rgb_color\n",
    "print(f\"빨강: {red}, 초록: {green}, 파랑: {blue}\")\n",
    "print(f\"기타: {others}\")\n",
    "\n",
    "# 함수에서 여러 값 반환할 때 자주 사용됨\n",
    "def get_name_age():\n",
    "    return '박민수', 25  # 자동으로 tuple이 됨\n",
    "\n",
    "student_name, student_age = get_name_age()\n",
    "print(f\"학생: {student_name}, 나이: {student_age}\")"
   ]
  },
  {
   "cell_type": "markdown",
   "metadata": {},
   "source": [
    "### 1.3. List와 Tuple의 차이점\n",
    "\n",
    "가장 중요한 차이점은 tuple은 **불변(immutable)**이라는 것이다. 한 번 만들면 내용을 바꿀 수 없다."
   ]
  },
  {
   "cell_type": "code",
   "execution_count": null,
   "metadata": {},
   "outputs": [],
   "source": [
    "# 리스트는 변경 가능\n",
    "my_list = [1, 2, 3]\n",
    "print(\"원본 리스트:\", my_list)\n",
    "\n",
    "my_list[0] = 100  # 첫 번째 요소 변경 가능\n",
    "my_list.append(4)  # 새 요소 추가 가능\n",
    "print(\"변경된 리스트:\", my_list)\n",
    "\n",
    "# Tuple은 변경 불가능\n",
    "my_tuple = (1, 2, 3)\n",
    "print(\"원본 tuple:\", my_tuple)\n",
    "\n",
    "# my_tuple[0] = 100  # 오류! tuple은 변경 불가\n",
    "# my_tuple.append(4)  # 오류! append 메서드도 없음"
   ]
  },
  {
   "cell_type": "code",
   "execution_count": null,
   "metadata": {},
   "outputs": [],
   "source": [
    "# 하지만 읽기는 가능\n",
    "point = (100, 200)\n",
    "print(\"x 좌표:\", point[0])\n",
    "print(\"y 좌표:\", point[1])\n",
    "\n",
    "# 슬라이싱도 가능\n",
    "numbers = (1, 2, 3, 4, 5)\n",
    "print(\"앞의 3개:\", numbers[:3])\n",
    "print(\"뒤의 2개:\", numbers[-2:])\n",
    "\n",
    "# len(), in 연산자도 사용 가능\n",
    "print(\"길이:\", len(numbers))\n",
    "print(\"3이 있나?\", 3 in numbers)"
   ]
  },
  {
   "cell_type": "markdown",
   "metadata": {},
   "source": [
    "### 1.4. Tuple을 언제 사용하는가\n",
    "\n",
    "Tuple은 **변경되지 않아야 하는 데이터**를 저장할 때 사용한다. 다음과 같은 경우에 유용하다:\n",
    "\n",
    "1. **좌표**: (x, y), (x, y, z)\n",
    "2. **RGB 색상**: (red, green, blue)\n",
    "3. **날짜**: (년, 월, 일)\n",
    "4. **고정된 설정값**: (가로, 세로, 깊이)\n",
    "5. **함수에서 여러 값 반환**할 때"
   ]
  },
  {
   "cell_type": "code",
   "execution_count": null,
   "metadata": {},
   "outputs": [],
   "source": [
    "# 실제 사용 예시들\n",
    "# 1. 좌표 저장\n",
    "player_position = (50, 100)\n",
    "enemy_position = (200, 300)\n",
    "\n",
    "# 2. 색상 정의\n",
    "RED = (255, 0, 0)\n",
    "GREEN = (0, 255, 0)\n",
    "BLUE = (0, 0, 255)\n",
    "\n",
    "# 3. 게임 캐릭터 상태 (변경되지 않는 기본 정보)\n",
    "character_stats = (100, 50, 25)  # 체력, 마나, 공격력\n",
    "hp, mp, attack = character_stats\n",
    "\n",
    "print(f\"캐릭터 상태 - 체력: {hp}, 마나: {mp}, 공격력: {attack}\")\n",
    "\n",
    "# 4. 설정 정보\n",
    "SCREEN_SIZE = (800, 600)\n",
    "width, height = SCREEN_SIZE\n",
    "print(f\"화면 크기: {width}x{height}\")"
   ]
  },
  {
   "cell_type": "code",
   "source": [
    "# 100만건 데이터로 메모리 사용량 비교\n",
    "import sys\n",
    "import time\n",
    "import random\n",
    "\n",
    "# 100만개의 랜덤 실수 데이터 생성\n",
    "data_size = 1000000\n",
    "print(f\"=== {data_size:,}건 랜덤 실수 데이터 비교 ===\")\n",
    "\n",
    "# 랜덤 실수 데이터 생성 (0.0 ~ 1000.0 범위)\n",
    "random_floats = [random.uniform(0.0, 1000.0) for _ in range(data_size)]\n"
   ],
   "metadata": {
    "ExecuteTime": {
     "end_time": "2025-08-03T16:41:56.806022Z",
     "start_time": "2025-08-03T16:41:56.513923Z"
    }
   },
   "outputs": [
    {
     "name": "stdout",
     "output_type": "stream",
     "text": [
      "=== 1,000,000건 랜덤 실수 데이터 비교 ===\n"
     ]
    }
   ],
   "execution_count": 7
  },
  {
   "metadata": {
    "ExecuteTime": {
     "end_time": "2025-08-03T16:41:57.745484Z",
     "start_time": "2025-08-03T16:41:57.492307Z"
    }
   },
   "cell_type": "code",
   "source": [
    "# 2. 읽기 속도 비교 (순회)\n",
    "print(\"\\\\n2. 순회 속도 비교:\")\n",
    "\n",
    "# Tuple 순회 시간 측정\n",
    "start_time = time.time()\n",
    "total = 0\n",
    "for item in tuple_data:\n",
    "    total += item\n",
    "tuple_time = time.time() - start_time\n",
    "\n",
    "# List 순회 시간 측정\n",
    "start_time = time.time()\n",
    "total = 0\n",
    "for item in list_data:\n",
    "    total += item\n",
    "list_time = time.time() - start_time\n",
    "\n",
    "print(f\"Tuple 순회 시간: {tuple_time:.4f}초\")\n",
    "print(f\"List 순회 시간:  {list_time:.4f}초\")\n",
    "if tuple_time < list_time:\n",
    "    print(f\"Tuple이 {(list_time/tuple_time-1)*100:.1f}% 빠름\")\n",
    "else:\n",
    "    print(f\"List가 {(tuple_time/list_time-1)*100:.1f}% 빠름\")"
   ],
   "outputs": [
    {
     "name": "stdout",
     "output_type": "stream",
     "text": [
      "\\n2. 순회 속도 비교:\n",
      "Tuple 순회 시간: 0.1353초\n",
      "List 순회 시간:  0.1086초\n",
      "List가 24.7% 빠름\n"
     ]
    }
   ],
   "execution_count": 8
  },
  {
   "metadata": {
    "ExecuteTime": {
     "end_time": "2025-08-03T16:42:10.113307Z",
     "start_time": "2025-08-03T16:42:09.906960Z"
    }
   },
   "cell_type": "code",
   "source": [
    "# 3. 인덱싱 속도 비교\n",
    "print(\"\\\\n3. 인덱싱 속도 비교:\")\n",
    "\n",
    "# Tuple 인덱싱 시간 측정 (100만번 랜덤 접근)\n",
    "import random\n",
    "indices = [random.randint(0, data_size-1) for _ in range(100000)]\n",
    "\n",
    "start_time = time.time()\n",
    "for i in indices:\n",
    "    value = tuple_data[i]\n",
    "tuple_index_time = time.time() - start_time\n",
    "\n",
    "# List 인덱싱 시간 측정 (같은 인덱스들로)\n",
    "start_time = time.time()\n",
    "for i in indices:\n",
    "    value = list_data[i]\n",
    "list_index_time = time.time() - start_time\n",
    "\n",
    "print(f\"Tuple 인덱싱 시간: {tuple_index_time:.4f}초\")\n",
    "print(f\"List 인덱싱 시간:  {list_index_time:.4f}초\")\n",
    "if tuple_index_time < list_index_time:\n",
    "    print(f\"Tuple이 {(list_index_time/tuple_index_time-1)*100:.1f}% 빠름\")\n",
    "else:\n",
    "    print(f\"List가 {(tuple_index_time/list_index_time-1)*100:.1f}% 빠름\")"
   ],
   "outputs": [
    {
     "name": "stdout",
     "output_type": "stream",
     "text": [
      "\\n3. 인덱싱 속도 비교:\n",
      "Tuple 인덱싱 시간: 0.0268초\n",
      "List 인덱싱 시간:  0.0343초\n",
      "Tuple이 27.7% 빠름\n"
     ]
    }
   ],
   "execution_count": 9
  },
  {
   "metadata": {
    "ExecuteTime": {
     "end_time": "2025-08-03T16:43:02.823673Z",
     "start_time": "2025-08-03T16:43:02.816118Z"
    }
   },
   "cell_type": "code",
   "source": [
    "# 4. 결론\n",
    "print(\"\\\\n=== 결론 ===\")\n",
    "print(\"✅ Tuple의 장점:\")\n",
    "print(\"   - 접근 작업이 빠름\")\n",
    "print(\"   - 불변이므로 안전하고 예측 가능\")\n",
    "print(\"   - 딕셔너리 키로 사용 가능\")\n",
    "print()\n",
    "print(\"✅ List의 장점:\")\n",
    "print(\"   - 내용 변경 가능 (append, remove 등)\")\n",
    "print(\"   - 동적 크기 조절 가능\")\n",
    "print(\"   - 다양한 메서드 제공\")\n",
    "print(\"   - 순회 작업이 빠름\")\n",
    "print()\n",
    "print(\"💡 사용 권장:\")\n",
    "print(\"   - 변경하지 않을 데이터 → Tuple\")\n",
    "print(\"   - 변경해야 하는 데이터 → List\")"
   ],
   "outputs": [
    {
     "name": "stdout",
     "output_type": "stream",
     "text": [
      "\\n=== 결론 ===\n",
      "✅ Tuple의 장점:\n",
      "   - 접근 작업이 빠름\n",
      "   - 불변이므로 안전하고 예측 가능\n",
      "   - 딕셔너리 키로 사용 가능\n",
      "\n",
      "✅ List의 장점:\n",
      "   - 내용 변경 가능 (append, remove 등)\n",
      "   - 동적 크기 조절 가능\n",
      "   - 다양한 메서드 제공\n",
      "\n",
      "💡 사용 권장:\n",
      "   - 변경하지 않을 데이터 → Tuple\n",
      "   - 변경해야 하는 데이터 → List\n"
     ]
    }
   ],
   "execution_count": 11
  },
  {
   "cell_type": "markdown",
   "source": "### 1.5. Tuple vs List 성능 비교\n\nTuple이 불변이라는 특성 때문에 List와 비교했을 때 메모리 사용량과 처리 속도에서 차이가 난다. 실제로 얼마나 차이가 나는지 100만 건의 데이터로 비교해보자.",
   "metadata": {}
  },
  {
   "cell_type": "markdown",
   "metadata": {},
   "source": [
    "## 2. While문\n",
    "\n",
    "While문은 조건이 참인 동안 계속 반복하는 반복문이다. if문과 비슷하지만, 조건이 거짓이 될 때까지 코드를 계속 실행한다.\n",
    "\n",
    "While문을 잘못 사용하면 **무한루프**에 빠질 수 있으므로 주의해야 한다. 반드시 언젠가는 조건이 거짓이 되도록 만들어야 한다.\n",
    "\n",
    "구체적인 내용은 다음 세 가지이다:\n",
    "\n",
    "1. While문 기본 문법\n",
    "2. break와 continue 제어\n",
    "3. 무한루프 방지하기"
   ]
  },
  {
   "cell_type": "markdown",
   "metadata": {},
   "source": [
    "### 2.1. While문 기본 문법\n",
    "\n",
    "While문의 기본 구조는 `while 조건:` 다음에 실행할 코드를 들여쓰기로 작성하는 것이다."
   ]
  },
  {
   "cell_type": "code",
   "execution_count": null,
   "metadata": {},
   "outputs": [],
   "source": [
    "# 기본 while문 - 1부터 5까지 출력\n",
    "count = 1\n",
    "while count <= 5:\n",
    "    print(f\"숫자: {count}\")\n",
    "    count = count + 1  # count += 1 과 같음\n",
    "\n",
    "print(\"반복 끝!\")"
   ]
  },
  {
   "cell_type": "code",
   "execution_count": null,
   "metadata": {},
   "outputs": [],
   "source": [
    "# 사용자 입력 받기 - 'exit' 입력할 때까지 반복\n",
    "user_input = \"\"\n",
    "while user_input != 'exit':\n",
    "    user_input = input(\"명령을 입력하세요 ('exit'로 종료): \")\n",
    "    print(f\"입력받은 명령: {user_input}\")\n",
    "\n",
    "print(\"프로그램 종료!\")"
   ]
  },
  {
   "cell_type": "code",
   "execution_count": null,
   "metadata": {},
   "outputs": [],
   "source": [
    "# 조건을 만족하는 동안 계속 실행\n",
    "password = \"\"\n",
    "attempts = 0\n",
    "while password != \"1234\" and attempts < 3:\n",
    "    password = input(\"비밀번호를 입력하세요: \")\n",
    "    attempts += 1\n",
    "    \n",
    "    if password == \"1234\":\n",
    "        print(\"로그인 성공!\")\n",
    "    else:\n",
    "        print(f\"틀렸습니다. 남은 기회: {3 - attempts}번\")\n",
    "\n",
    "if attempts >= 3 and password != \"1234\":\n",
    "    print(\"계정이 잠겼습니다.\")"
   ]
  },
  {
   "cell_type": "markdown",
   "metadata": {},
   "source": [
    "### 2.2. break와 continue 제어\n",
    "\n",
    "- `break`: 반복문을 즉시 종료하고 빠져나간다\n",
    "- `continue`: 현재 반복을 건너뛰고 다음 반복으로 넘어간다"
   ]
  },
  {
   "cell_type": "code",
   "execution_count": null,
   "metadata": {},
   "outputs": [],
   "source": [
    "# break 사용 예시\n",
    "count = 1\n",
    "while True:  # 무한루프처럼 보이지만...\n",
    "    print(f\"카운트: {count}\")\n",
    "    count += 1\n",
    "    \n",
    "    if count > 5:\n",
    "        print(\"5를 넘었으므로 종료!\")\n",
    "        break  # 여기서 반복문 종료\n",
    "\n",
    "print(\"반복문 밖으로 나왔습니다.\")"
   ]
  },
  {
   "cell_type": "code",
   "execution_count": null,
   "metadata": {},
   "outputs": [],
   "source": [
    "# continue 사용 예시 - 짝수만 출력\n",
    "count = 0\n",
    "while count < 10:\n",
    "    count += 1\n",
    "    \n",
    "    if count % 2 == 1:  # 홀수면\n",
    "        continue  # 아래 코드 건너뛰고 다음 반복으로\n",
    "    \n",
    "    print(f\"짝수: {count}\")\n",
    "\n",
    "print(\"완료!\")"
   ]
  },
  {
   "cell_type": "code",
   "execution_count": null,
   "metadata": {},
   "outputs": [],
   "source": [
    "# 실용적인 예시 - 메뉴 시스템\n",
    "while True:\n",
    "    print(\"\\n=== 메뉴 ===\")\n",
    "    print(\"1. 인사하기\")\n",
    "    print(\"2. 시간 확인\")\n",
    "    print(\"3. 종료\")\n",
    "    \n",
    "    choice = input(\"선택하세요 (1-3): \")\n",
    "    \n",
    "    if choice == '1':\n",
    "        print(\"안녕하세요!\")\n",
    "    elif choice == '2':\n",
    "        print(\"지금은 수업 시간입니다.\")\n",
    "    elif choice == '3':\n",
    "        print(\"프로그램을 종료합니다.\")\n",
    "        break\n",
    "    else:\n",
    "        print(\"잘못된 선택입니다.\")\n",
    "        continue  # 메뉴를 다시 보여줌"
   ]
  },
  {
   "cell_type": "markdown",
   "metadata": {},
   "source": [
    "### 2.3. 무한루프 방지하기\n",
    "\n",
    "While문에서 가장 조심해야 할 것은 **무한루프**다. 조건이 절대 거짓이 되지 않으면 프로그램이 영원히 실행된다."
   ]
  },
  {
   "cell_type": "code",
   "execution_count": null,
   "metadata": {},
   "outputs": [],
   "source": [
    "# 무한루프 예시 (실행하지 마세요!)\n",
    "# count = 1\n",
    "# while count <= 5:\n",
    "#     print(f\"숫자: {count}\")\n",
    "#     # count += 1  # 이 줄을 빼먹으면 count가 계속 1이므로 무한루프!\n",
    "\n",
    "# 올바른 방법\n",
    "count = 1\n",
    "while count <= 5:\n",
    "    print(f\"숫자: {count}\")\n",
    "    count += 1  # 반드시 조건을 변경하는 코드 포함!\n",
    "\n",
    "print(\"정상 종료\")"
   ]
  },
  {
   "cell_type": "code",
   "execution_count": null,
   "metadata": {},
   "outputs": [],
   "source": [
    "# 안전한 while문 작성 패턴들\n",
    "\n",
    "# 패턴 1: 카운터 사용\n",
    "counter = 0\n",
    "while counter < 3:\n",
    "    print(f\"반복 {counter + 1}\")\n",
    "    counter += 1  # 카운터 증가 필수!\n",
    "\n",
    "# 패턴 2: 조건 변수 사용\n",
    "game_running = True\n",
    "turn = 1\n",
    "while game_running:\n",
    "    print(f\"턴 {turn}\")\n",
    "    turn += 1\n",
    "    \n",
    "    if turn > 3:\n",
    "        game_running = False  # 조건 변경으로 종료\n",
    "\n",
    "# 패턴 3: break를 활용한 무한루프\n",
    "safety_count = 0\n",
    "while True:\n",
    "    print(\"작업 중...\")\n",
    "    safety_count += 1\n",
    "    \n",
    "    # 안전장치: 너무 많이 반복되면 강제 종료\n",
    "    if safety_count > 10:\n",
    "        print(\"안전장치 작동!\")\n",
    "        break"
   ]
  },
  {
   "cell_type": "markdown",
   "metadata": {},
   "source": [
    "## 3. While + Tuple 실용 예제들\n",
    "\n",
    "이제 tuple과 while문을 조합해서 재미있고 실용적인 프로그램들을 만들어보자. 좌표계를 활용한 게임이나 시뮬레이션을 만들 수 있다.\n",
    "\n",
    "구체적인 예제들:\n",
    "\n",
    "1. 캐릭터 이동 시뮬레이션\n",
    "2. 미로 탈출 게임\n",
    "3. RPG 캐릭터 관리\n",
    "4. 간단한 물리 시뮬레이션"
   ]
  },
  {
   "cell_type": "markdown",
   "metadata": {},
   "source": [
    "### 3.1. 캐릭터 이동 시뮬레이션\n",
    "\n",
    "좌표를 tuple로 저장하고, 사용자 입력에 따라 캐릭터를 이동시키는 간단한 게임을 만들어보자."
   ]
  },
  {
   "cell_type": "code",
   "execution_count": null,
   "metadata": {},
   "outputs": [],
   "source": []
  },
  {
   "cell_type": "markdown",
   "metadata": {},
   "source": [
    "### 3.2. 미로 탈출 게임\n",
    "\n",
    "시작점에서 목표점까지 이동하는 미로 탈출 게임을 만들어보자. 경계선도 설정해서 더 현실적으로 만들어보자."
   ]
  },
  {
   "cell_type": "code",
   "execution_count": null,
   "metadata": {},
   "outputs": [],
   "source": []
  },
  {
   "cell_type": "markdown",
   "metadata": {},
   "source": [
    "### 3.3. RPG 캐릭터 관리\n",
    "\n",
    "캐릭터의 상태(체력, 마나, 레벨)를 tuple로 관리하고, 전투나 회복 시스템을 만들어보자."
   ]
  },
  {
   "cell_type": "code",
   "execution_count": null,
   "metadata": {},
   "outputs": [],
   "source": []
  },
  {
   "cell_type": "markdown",
   "metadata": {},
   "source": [
    "### 3.4. 간단한 물리 시뮬레이션\n",
    "\n",
    "공이 튀기는 모습을 시뮬레이션해보자. 위치와 속도를 tuple로 관리하고, 경계에 부딪히면 반사되도록 만들어보자."
   ]
  },
  {
   "cell_type": "code",
   "execution_count": null,
   "metadata": {},
   "outputs": [],
   "source": []
  },
  {
   "cell_type": "markdown",
   "metadata": {},
   "source": [
    "## 4. 실용적인 응용 프로그램들\n",
    "\n",
    "마지막으로 while문과 tuple을 활용해서 실제로 유용한 프로그램들을 만들어보자. 메뉴 시스템, 데이터 수집, 간단한 계산기 등을 만들 수 있다.\n",
    "\n",
    "구체적인 예제들:\n",
    "\n",
    "1. 고급 메뉴 시스템\n",
    "2. 성적 관리 프로그램\n",
    "3. 좌표 기반 거리 계산기\n",
    "4. 간단한 통계 프로그램"
   ]
  },
  {
   "cell_type": "markdown",
   "metadata": {},
   "source": [
    "### 4.1. 고급 메뉴 시스템\n",
    "\n",
    "여러 기능을 가진 프로그램의 메뉴 시스템을 만들어보자. 각 기능에서 tuple을 활용해보자."
   ]
  },
  {
   "cell_type": "code",
   "execution_count": null,
   "metadata": {},
   "outputs": [],
   "source": ""
  },
  {
   "cell_type": "markdown",
   "metadata": {},
   "source": [
    "### 4.2. 성적 관리 프로그램\n",
    "\n",
    "학생들의 성적을 tuple로 관리하고, 통계를 계산하는 프로그램을 만들어보자."
   ]
  },
  {
   "cell_type": "code",
   "execution_count": null,
   "metadata": {},
   "outputs": [],
   "source": []
  },
  {
   "cell_type": "markdown",
   "metadata": {},
   "source": [
    "### 4.3. 간단한 통계 프로그램\n",
    "\n",
    "숫자 데이터를 입력받아서 기본적인 통계를 계산하는 프로그램을 만들어보자."
   ]
  },
  {
   "cell_type": "code",
   "execution_count": null,
   "metadata": {},
   "outputs": [],
   "source": []
  }
 ],
 "metadata": {
  "kernelspec": {
   "display_name": "Python 3",
   "language": "python",
   "name": "python3"
  },
  "language_info": {
   "codemirror_mode": {
    "name": "ipython",
    "version": 3
   },
   "file_extension": ".py",
   "mimetype": "text/x-python",
   "name": "python",
   "nbconvert_exporter": "python",
   "pygments_lexer": "ipython3",
   "version": "3.8.5"
  }
 },
 "nbformat": 4,
 "nbformat_minor": 4
}
