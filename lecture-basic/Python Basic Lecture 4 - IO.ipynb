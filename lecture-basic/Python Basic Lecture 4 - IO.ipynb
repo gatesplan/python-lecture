{
 "cells": [
  {
   "metadata": {},
   "cell_type": "markdown",
   "source": [
    "# 복습 키워드\n",
    "\n",
    "1. `print()` 출력함수\n",
    "2. `print(sep: str, end: str)` 출력함수의 키워드 파라메터\n",
    "3. `f-string` 문법\n",
    "4. `\"str\".builtin()` 기본적인 문자열 빌트인 함수들\n",
    "    - `\"str\".upper()` 대문자로 변환\n",
    "    - `\"str\".lower()` 소문자로 변환\n",
    "    - `\"str\".capitalize()` 첫 글자만 대문자로 변환\n",
    "    - `\"str\".replace(old:str, new:str)` 특정 문자열 교체\n",
    "    - `\"str\".strip()` 양쪽 공백 제거\n",
    "    - `\"str\".lstrip()` 왼쪽 공백 제거\n",
    "    - `\"str\".rstrip()` 오른쪽 공백 제거\n",
    "5. list 자료형 선언과 사용법\n",
    "    - `list = [1, 2, 3]` 리스트 선언\n",
    "    - `print(list)` 리스트 출력\n",
    "    - `list(\"str\")` 문자열을 리스트로 변환\n",
    "    - `\"str\".split(sep: str)` 문자열을 리스트로 변환\n",
    "    - `list[a:b]` 리스트 슬라이싱\n",
    "6. `*list` 언패킹\n",
    "7. `[].builtin()` 리스트 빌트인 함수들\n",
    "    - `[].append(any)` 리스트에 요소 추가\n",
    "    - `[].insert(index:int, any)` 리스트 특정 위치에 요소 추가\n",
    "    - `[].extend(list)` 리스트에 다른 리스트 요소 추가\n",
    "    - `[].remove(any)` 리스트에서 요소 제거\n",
    "    - `[].pop()` 리스트 마지막 요소 제거\n",
    "    - `[].clear()` 리스트 비우기\n",
    "    - `[].index(any)` 리스트에서 요소의 인덱스 찾기\n",
    "    - `[].count(any)` 리스트에서 요소의 개수 세기\n",
    "    - `[].sort()` 리스트 정렬\n",
    "    - `[].reverse()` 리스트 역순 정렬\n",
    "    - `[].copy()` 리스트 복사"
   ],
   "id": "49e46f2220e57191"
  },
  {
   "metadata": {
    "ExecuteTime": {
     "end_time": "2025-07-25T04:12:31.728094Z",
     "start_time": "2025-07-25T04:12:31.715046Z"
    }
   },
   "cell_type": "code",
   "source": [
    "a = [1, 3, 2, 8, 4]\n",
    "a_copy = a.copy()\n",
    "a_copy.sort()\n",
    "\n",
    "a"
   ],
   "id": "5568fd85f862c51d",
   "outputs": [
    {
     "data": {
      "text/plain": [
       "[1, 3, 2, 8, 4]"
      ]
     },
     "execution_count": 7,
     "metadata": {},
     "output_type": "execute_result"
    }
   ],
   "execution_count": 7
  },
  {
   "metadata": {},
   "cell_type": "markdown",
   "source": [
    "# Python Basic Lecture 4: I/O\n",
    "\n",
    "이번 단원에서는 앞서 배운 기능을 활용하여 기본적인 입출력 기능을 써 본다.\n",
    "\n",
    "주요 내용은 `input()` 함수를 사용하여 입력을 받고, 이전에 배운 다양한 수단을 활용해 원하는 출력을 만들어내는 것이다.\n",
    "\n",
    "1. `input()` 함수로 입력 받기\n",
    "2. `type()` 함수로 자료형 확인하기\n",
    "3. 입력받은 값 자료형 변환하기 (캐스팅)"
   ],
   "id": "101927e3d4a5263e"
  },
  {
   "metadata": {
    "ExecuteTime": {
     "end_time": "2025-07-25T04:14:52.814578Z",
     "start_time": "2025-07-25T04:14:40.424837Z"
    }
   },
   "cell_type": "code",
   "source": [
    "# 입력 받아 변수에 저장\n",
    "a = input()\n",
    "type(a), a"
   ],
   "id": "e3d79e8df09e695a",
   "outputs": [
    {
     "data": {
      "text/plain": [
       "(str, '1')"
      ]
     },
     "execution_count": 10,
     "metadata": {},
     "output_type": "execute_result"
    }
   ],
   "execution_count": 10
  },
  {
   "metadata": {
    "ExecuteTime": {
     "end_time": "2025-07-25T04:16:40.975525Z",
     "start_time": "2025-07-25T04:16:39.075560Z"
    }
   },
   "cell_type": "code",
   "source": [
    "b = input(\"값을 입력하세요: \")\n",
    "b"
   ],
   "id": "11b2f4cb2935a680",
   "outputs": [
    {
     "data": {
      "text/plain": [
       "'d'"
      ]
     },
     "execution_count": 16,
     "metadata": {},
     "output_type": "execute_result"
    }
   ],
   "execution_count": 16
  },
  {
   "metadata": {},
   "cell_type": "markdown",
   "source": [
    "`input()` 함수는 사용자가 입력한 값을 항상 문자열로 반환한다. 필요시 자료형을 변형해야 한다.\n",
    "\n",
    "다음은 파이썬에서 사용하는 자료형들이다."
   ],
   "id": "367224d23df8307f"
  },
  {
   "metadata": {},
   "cell_type": "code",
   "source": [
    "# 여러가지 자료형\n",
    "print(type(1), 1)\n",
    "print(type(1.0), 1.0)\n",
    "print(type('1'), '1')\n",
    "print(type([1, 2, 3]), [1, 2, 3])\n",
    "print(type((1, 2, 3)), (1, 2, 3))  # 순서쌍\n",
    "print(type({1, 2, 3}), {1, 2, 3})\n",
    "print(type({'a': 1, 'b': 2}), {'a': 1, 'b': 2})\n",
    "print(type(False), False)\n",
    "print(type(None), None)"
   ],
   "id": "7d84e31d1b19fda6",
   "outputs": [],
   "execution_count": null
  },
  {
   "metadata": {},
   "cell_type": "markdown",
   "source": [
    "겁먹지 마세요. 위에서 당장은 `int`, `float`, `str`, `list`만 알면 된다.\n",
    "\n",
    "이제부터 각 자료형 사이에서 데이터를 변환하는 방법을 배운다."
   ],
   "id": "ea169521d9ab76ac"
  },
  {
   "metadata": {
    "ExecuteTime": {
     "end_time": "2025-07-25T04:23:27.494048Z",
     "start_time": "2025-07-25T04:23:27.486125Z"
    }
   },
   "cell_type": "code",
   "source": [
    "# 자료형 변환 (정수형 -> 문자열) 캐스팅\n",
    "a = 1\n",
    "print(type(a), a, end=' ---> ')\n",
    "b = str(a)\n",
    "print(type(b), b)"
   ],
   "id": "ea513c00438a5ad9",
   "outputs": [
    {
     "name": "stdout",
     "output_type": "stream",
     "text": [
      "<class 'int'> 1 ---> <class 'str'> 1\n"
     ]
    }
   ],
   "execution_count": 21
  },
  {
   "metadata": {
    "ExecuteTime": {
     "end_time": "2025-07-25T04:24:11.148346Z",
     "start_time": "2025-07-25T04:24:11.141989Z"
    }
   },
   "cell_type": "code",
   "source": [
    "# 자료형 변환 (문자열 -> 정수형)\n",
    "a = '1'\n",
    "print(type(a), a, end=' ---> ')\n",
    "b = int(a)\n",
    "print(type(b), b)"
   ],
   "id": "b5cd890e89e19188",
   "outputs": [
    {
     "name": "stdout",
     "output_type": "stream",
     "text": [
      "<class 'str'> 1 ---> <class 'int'> 1\n"
     ]
    }
   ],
   "execution_count": 22
  },
  {
   "metadata": {
    "ExecuteTime": {
     "end_time": "2025-07-25T04:25:41.291277Z",
     "start_time": "2025-07-25T04:25:41.286070Z"
    }
   },
   "cell_type": "code",
   "source": [
    "# 자료형 변환 (리스트 -> 문자열)\n",
    "a = [1, 123.523]\n",
    "print(type(a), a, end=' ---> ')\n",
    "b = str(a)\n",
    "print(type(b), b)"
   ],
   "id": "9d369dff58a9f0af",
   "outputs": [
    {
     "name": "stdout",
     "output_type": "stream",
     "text": [
      "<class 'list'> [1, 123.523] ---> <class 'str'> [1, 123.523]\n"
     ]
    }
   ],
   "execution_count": 25
  },
  {
   "metadata": {
    "ExecuteTime": {
     "end_time": "2025-07-25T04:25:45.748105Z",
     "start_time": "2025-07-25T04:25:45.739333Z"
    }
   },
   "cell_type": "code",
   "source": [
    "# 자료형 변환 (문자열 -> 리스트)\n",
    "a = 'a12'\n",
    "print(type(a), a, end=' ---> ')\n",
    "b = list(a)\n",
    "print(type(b), b)"
   ],
   "id": "5c4a9728369d3396",
   "outputs": [
    {
     "name": "stdout",
     "output_type": "stream",
     "text": [
      "<class 'str'> a12 ---> <class 'list'> ['a', '1', '2']\n"
     ]
    }
   ],
   "execution_count": 26
  },
  {
   "metadata": {
    "ExecuteTime": {
     "end_time": "2025-07-25T04:26:22.924460Z",
     "start_time": "2025-07-25T04:26:22.919750Z"
    }
   },
   "cell_type": "code",
   "source": [
    "# 자료형 변환 (문자열 -> 실수)\n",
    "a = '23.123'\n",
    "print(type(a), a, end=' ---> ')\n",
    "b = float(a)\n",
    "print(type(b), b)"
   ],
   "id": "2e2cd3204c7d299e",
   "outputs": [
    {
     "name": "stdout",
     "output_type": "stream",
     "text": [
      "<class 'str'> 23.123 ---> <class 'float'> 23.123\n"
     ]
    }
   ],
   "execution_count": 27
  },
  {
   "metadata": {
    "ExecuteTime": {
     "end_time": "2025-07-25T04:26:31.932719Z",
     "start_time": "2025-07-25T04:26:31.927562Z"
    }
   },
   "cell_type": "code",
   "source": [
    "# 자료형 변환 (실수 -> 문자열)\n",
    "a = 23.123\n",
    "print(type(a), a, end=' ---> ')\n",
    "b = str(a)\n",
    "print(type(b), b)"
   ],
   "id": "8c19821677a736cb",
   "outputs": [
    {
     "name": "stdout",
     "output_type": "stream",
     "text": [
      "<class 'float'> 23.123 ---> <class 'str'> 23.123\n"
     ]
    }
   ],
   "execution_count": 28
  },
  {
   "metadata": {},
   "cell_type": "markdown",
   "source": "자료형 변환은 말이 되는 변환만 가능하다.",
   "id": "b275d47522f49d63"
  },
  {
   "metadata": {
    "ExecuteTime": {
     "end_time": "2025-07-25T04:26:54.766709Z",
     "start_time": "2025-07-25T04:26:54.738886Z"
    }
   },
   "cell_type": "code",
   "source": [
    "# 불가능한 시도\n",
    "a = '23.123'\n",
    "b = int(a)\n",
    "print(type(b), b)  # ValueError"
   ],
   "id": "648f8abca5f9fadc",
   "outputs": [
    {
     "ename": "ValueError",
     "evalue": "invalid literal for int() with base 10: '23.123'",
     "output_type": "error",
     "traceback": [
      "\u001B[1;31m---------------------------------------------------------------------------\u001B[0m",
      "\u001B[1;31mValueError\u001B[0m                                Traceback (most recent call last)",
      "Cell \u001B[1;32mIn[29], line 3\u001B[0m\n\u001B[0;32m      1\u001B[0m \u001B[38;5;66;03m# 불가능한 시도\u001B[39;00m\n\u001B[0;32m      2\u001B[0m a \u001B[38;5;241m=\u001B[39m \u001B[38;5;124m'\u001B[39m\u001B[38;5;124m23.123\u001B[39m\u001B[38;5;124m'\u001B[39m\n\u001B[1;32m----> 3\u001B[0m b \u001B[38;5;241m=\u001B[39m \u001B[38;5;28mint\u001B[39m(a)\n\u001B[0;32m      4\u001B[0m \u001B[38;5;28mprint\u001B[39m(\u001B[38;5;28mtype\u001B[39m(b), b)\n",
      "\u001B[1;31mValueError\u001B[0m: invalid literal for int() with base 10: '23.123'"
     ]
    }
   ],
   "execution_count": 29
  },
  {
   "metadata": {},
   "cell_type": "markdown",
   "source": "특수한 허용이 되는 경우들이 있다.",
   "id": "284690cec4bffc81"
  },
  {
   "metadata": {
    "ExecuteTime": {
     "end_time": "2025-07-25T04:28:07.179813Z",
     "start_time": "2025-07-25T04:28:07.170097Z"
    }
   },
   "cell_type": "code",
   "source": [
    "a = 23.123\n",
    "print(type(a), a, end=' ---> ')\n",
    "b = int(a)\n",
    "print(type(b), b)  # 소수점 이하를 버림, 내림 연산의 대용으로 자주 쓴다"
   ],
   "id": "f312e532e1f41852",
   "outputs": [
    {
     "name": "stdout",
     "output_type": "stream",
     "text": [
      "<class 'float'> 23.123 ---> <class 'int'> 23\n"
     ]
    }
   ],
   "execution_count": 32
  },
  {
   "metadata": {},
   "cell_type": "markdown",
   "source": "### Example 1. 여러 값 입력받고 정수로 캐스팅",
   "id": "8c854e528357b9e1"
  },
  {
   "metadata": {
    "ExecuteTime": {
     "end_time": "2025-07-25T04:28:36.373620Z",
     "start_time": "2025-07-25T04:28:33.848038Z"
    }
   },
   "cell_type": "code",
   "source": [
    "a = input(\"정수 3개를 공백문자로 구분하여 입력:\")\n",
    "alist = a.split()"
   ],
   "id": "95f1cb5851dc00ff",
   "outputs": [],
   "execution_count": 36
  },
  {
   "metadata": {
    "ExecuteTime": {
     "end_time": "2025-07-25T04:28:48.022085Z",
     "start_time": "2025-07-25T04:28:48.015265Z"
    }
   },
   "cell_type": "code",
   "source": "alist",
   "id": "ee9c353dd3271e31",
   "outputs": [
    {
     "data": {
      "text/plain": [
       "['4', '6', '7']"
      ]
     },
     "execution_count": 38,
     "metadata": {},
     "output_type": "execute_result"
    }
   ],
   "execution_count": 38
  },
  {
   "metadata": {
    "ExecuteTime": {
     "end_time": "2025-07-25T04:29:18.249148Z",
     "start_time": "2025-07-25T04:29:18.239434Z"
    }
   },
   "cell_type": "code",
   "source": [
    "x, y, z = alist\n",
    "x = int(x)\n",
    "y = int(y)\n",
    "z = int(z)\n",
    "print(type(x), x)\n",
    "print(type(y), y)\n",
    "print(type(z), z)"
   ],
   "id": "e10f2b9428ae9ac7",
   "outputs": [
    {
     "name": "stdout",
     "output_type": "stream",
     "text": [
      "<class 'int'> 4\n",
      "<class 'int'> 6\n",
      "<class 'int'> 7\n"
     ]
    }
   ],
   "execution_count": 39
  },
  {
   "metadata": {
    "ExecuteTime": {
     "end_time": "2025-07-25T04:32:30.501726Z",
     "start_time": "2025-07-25T04:32:29.134609Z"
    }
   },
   "cell_type": "code",
   "source": [
    "# Example 2. 여러 값 입력받고 실수로 캐스팅\n",
    "a = input(\"실수 2개를 공백문자로 구분하여 입력:\")"
   ],
   "id": "b7cc695c696a334",
   "outputs": [],
   "execution_count": 44
  },
  {
   "metadata": {
    "ExecuteTime": {
     "end_time": "2025-07-25T04:32:35.393171Z",
     "start_time": "2025-07-25T04:32:35.388479Z"
    }
   },
   "cell_type": "code",
   "source": "a",
   "id": "7ca4245a6a9500f4",
   "outputs": [
    {
     "data": {
      "text/plain": [
       "'sfasd'"
      ]
     },
     "execution_count": 45,
     "metadata": {},
     "output_type": "execute_result"
    }
   ],
   "execution_count": 45
  },
  {
   "metadata": {
    "ExecuteTime": {
     "end_time": "2025-07-25T04:30:01.114970Z",
     "start_time": "2025-07-25T04:30:01.102339Z"
    }
   },
   "cell_type": "code",
   "source": [
    "alist = a.split()\n",
    "alist"
   ],
   "id": "6c6bc4da4a140da6",
   "outputs": [
    {
     "data": {
      "text/plain": [
       "['2.31', '-83.21']"
      ]
     },
     "execution_count": 42,
     "metadata": {},
     "output_type": "execute_result"
    }
   ],
   "execution_count": 42
  },
  {
   "metadata": {
    "ExecuteTime": {
     "end_time": "2025-07-25T04:30:35.189237Z",
     "start_time": "2025-07-25T04:30:35.181508Z"
    }
   },
   "cell_type": "code",
   "source": [
    "x, y = alist\n",
    "x = float(x)\n",
    "y = float(y)\n",
    "\n",
    "alist[0] = x\n",
    "alist[1] = y\n",
    "\n",
    "print(alist)"
   ],
   "id": "dc3698cd494ae303",
   "outputs": [
    {
     "name": "stdout",
     "output_type": "stream",
     "text": [
      "[2.31, -83.21]\n"
     ]
    }
   ],
   "execution_count": 43
  },
  {
   "metadata": {
    "ExecuteTime": {
     "end_time": "2025-07-25T04:46:07.838376Z",
     "start_time": "2025-07-25T04:46:07.831149Z"
    }
   },
   "cell_type": "code",
   "source": [
    "a = ['1', '2', '3']\n",
    "list(map(int, a))"
   ],
   "id": "665f4f42330d8fb2",
   "outputs": [
    {
     "data": {
      "text/plain": [
       "[1, 2, 3]"
      ]
     },
     "execution_count": 48,
     "metadata": {},
     "output_type": "execute_result"
    }
   ],
   "execution_count": 48
  },
  {
   "metadata": {
    "ExecuteTime": {
     "end_time": "2025-07-25T05:11:29.960544Z",
     "start_time": "2025-07-25T05:11:29.949047Z"
    }
   },
   "cell_type": "code",
   "source": "print(1, 2, 3, sep='-')",
   "id": "eb9fa5a24ed0e0e0",
   "outputs": [
    {
     "name": "stdout",
     "output_type": "stream",
     "text": [
      "1-2-3\n"
     ]
    }
   ],
   "execution_count": 49
  },
  {
   "metadata": {
    "ExecuteTime": {
     "end_time": "2025-07-25T05:11:43.025632Z",
     "start_time": "2025-07-25T05:11:43.013237Z"
    }
   },
   "cell_type": "code",
   "source": "'-'.join(['1', 'a', '32'])",
   "id": "5cb3314792f44b4d",
   "outputs": [
    {
     "data": {
      "text/plain": [
       "'1-a-32'"
      ]
     },
     "execution_count": 50,
     "metadata": {},
     "output_type": "execute_result"
    }
   ],
   "execution_count": 50
  },
  {
   "metadata": {},
   "cell_type": "code",
   "outputs": [],
   "execution_count": null,
   "source": "",
   "id": "163ddb9278e6c3d"
  }
 ],
 "metadata": {
  "kernelspec": {
   "display_name": "Python 3",
   "language": "python",
   "name": "python3"
  },
  "language_info": {
   "codemirror_mode": {
    "name": "ipython",
    "version": 2
   },
   "file_extension": ".py",
   "mimetype": "text/x-python",
   "name": "python",
   "nbconvert_exporter": "python",
   "pygments_lexer": "ipython2",
   "version": "2.7.6"
  }
 },
 "nbformat": 4,
 "nbformat_minor": 5
}
