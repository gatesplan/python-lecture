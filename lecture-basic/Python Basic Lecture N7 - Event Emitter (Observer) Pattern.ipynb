{
 "cells": [
  {
   "metadata": {},
   "cell_type": "markdown",
   "source": [
    "# 이벤트 패턴, 옵저버 패턴, 노티파이어 패턴\n",
    "\n",
    "event -> listener(or subscriber) -> event handle"
   ],
   "id": "e8a25432e783abc9"
  },
  {
   "metadata": {
    "ExecuteTime": {
     "end_time": "2025-08-13T06:27:00.580659Z",
     "start_time": "2025-08-13T06:27:00.572989Z"
    }
   },
   "cell_type": "code",
   "source": [
    "class Event:\n",
    "    pass\n",
    "\n",
    "class EventEmitter:\n",
    "    def __init__(self):\n",
    "        self.listeners = []\n",
    "\n",
    "    def add_listener(self, listener):\n",
    "        self.listeners.append(listener)\n",
    "\n",
    "    def remove_listener(self, listener):\n",
    "        if listener in self.listeners:\n",
    "            self.listeners.remove(listener)\n",
    "            return\n",
    "\n",
    "    def emit_event(self, event):\n",
    "        for listener in self.listeners:\n",
    "            listener.handle_event(event)\n",
    "\n",
    "\n",
    "class EventListener:\n",
    "    def handle_event(self, event):\n",
    "        if event.type == 'character_die':\n",
    "            print(\"your died\")\n",
    "\n",
    "        elif event.type == 'character_attaced':\n",
    "            print(\"you being attacked\")\n",
    "\n",
    "        return\n"
   ],
   "id": "170e73e9b9997945",
   "outputs": [],
   "execution_count": 2
  },
  {
   "metadata": {
    "ExecuteTime": {
     "end_time": "2025-08-13T06:33:58.137236Z",
     "start_time": "2025-08-13T06:33:58.125278Z"
    }
   },
   "cell_type": "code",
   "source": [
    "# 캐릭터가 죽으면 인벤토리를 비우고, 세이브로드를 비워버리는 이벤트 기반 시스템\n",
    "\n",
    "class Inventory:\n",
    "    def clear(self):\n",
    "        print(\"Inventory cleared.\")\n",
    "    def listen(self, event:str):\n",
    "        if event == 'character_died':\n",
    "            self.clear()\n",
    "        elif event == 'item_get':\n",
    "            self.add_item()\n",
    "    def add_item(self):\n",
    "        print(\"item added.\")\n",
    "\n",
    "class SaveDataManager:\n",
    "    def clear(self):\n",
    "        # doto..\n",
    "        print(\"Save data cleared.\")\n",
    "    def listen(self, event:str):\n",
    "        if event == 'character_died':\n",
    "            self.clear()\n",
    "\n",
    "class Character:\n",
    "    def __init__(self):\n",
    "        self.listeners = []\n",
    "    def add_listener(self, listener):\n",
    "        self.listeners.append(listener)\n",
    "    def remove_listener(self, listener):\n",
    "        if listener in self.listeners:\n",
    "            self.listeners.remove(listener)\n",
    "            return\n",
    "    def emit_event(self, event:str):\n",
    "        for listener in self.listeners:\n",
    "            listener.listen(event)\n",
    "    def die(self):\n",
    "        self.emit_event('character_died')\n",
    "    def get_item(self):\n",
    "        self.emit_event('item_get')\n",
    "\n",
    "inven = Inventory()\n",
    "slmng = SaveDataManager()\n",
    "\n",
    "cha = Character()\n",
    "cha.add_listener(inven)\n",
    "cha.add_listener(slmng)"
   ],
   "id": "db91138de4541e04",
   "outputs": [],
   "execution_count": 4
  },
  {
   "metadata": {
    "ExecuteTime": {
     "end_time": "2025-08-13T06:34:03.567152Z",
     "start_time": "2025-08-13T06:34:03.563330Z"
    }
   },
   "cell_type": "code",
   "source": "cha.get_item()",
   "id": "a8a07bafcbcc75a7",
   "outputs": [
    {
     "name": "stdout",
     "output_type": "stream",
     "text": [
      "item added.\n"
     ]
    }
   ],
   "execution_count": 5
  },
  {
   "metadata": {
    "ExecuteTime": {
     "end_time": "2025-08-13T06:34:08.688456Z",
     "start_time": "2025-08-13T06:34:08.683064Z"
    }
   },
   "cell_type": "code",
   "source": "cha.die()",
   "id": "810f320e95549c79",
   "outputs": [
    {
     "name": "stdout",
     "output_type": "stream",
     "text": [
      "Inventory cleared.\n",
      "Save data cleared.\n"
     ]
    }
   ],
   "execution_count": 6
  },
  {
   "metadata": {
    "ExecuteTime": {
     "end_time": "2025-08-13T06:49:01.140329Z",
     "start_time": "2025-08-13T06:48:59.375241Z"
    }
   },
   "cell_type": "code",
   "source": [
    "import matplotlib.pyplot as plt\n",
    "\n",
    "plt.imshow([[1, 2], [3, 4]], cmap='gray')"
   ],
   "id": "99e3d27f6224a867",
   "outputs": [
    {
     "data": {
      "text/plain": [
       "<matplotlib.image.AxesImage at 0x217a8f1acf0>"
      ]
     },
     "execution_count": 7,
     "metadata": {},
     "output_type": "execute_result"
    },
    {
     "data": {
      "text/plain": [
       "<Figure size 640x480 with 1 Axes>"
      ],
      "image/png": "[encoded data removed]"
     },
     "metadata": {},
     "output_type": "display_data"
    }
   ],
   "execution_count": 7
  },
  {
   "metadata": {},
   "cell_type": "code",
   "outputs": [],
   "execution_count": null,
   "source": "",
   "id": "2da88a977f152f88"
  }
 ],
 "metadata": {
  "kernelspec": {
   "display_name": "Python 3",
   "language": "python",
   "name": "python3"
  },
  "language_info": {
   "codemirror_mode": {
    "name": "ipython",
    "version": 2
   },
   "file_extension": ".py",
   "mimetype": "text/x-python",
   "name": "python",
   "nbconvert_exporter": "python",
   "pygments_lexer": "ipython2",
   "version": "2.7.6"
  }
 },
 "nbformat": 4,
 "nbformat_minor": 5
}
