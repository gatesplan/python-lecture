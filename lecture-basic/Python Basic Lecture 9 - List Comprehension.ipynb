{
 "cells": [
  {
   "cell_type": "markdown",
   "metadata": {},
   "source": [
    "# 복습 키워드\n",
    "\n",
    "1~6강 요약:\n",
    "1. `print()` 출력함수와 `f-string` 문법\n",
    "2. 문자열 빌트인 함수들 (`upper()`, `lower()`, `replace()`, `split()` 등)\n",
    "3. 리스트 자료형과 빌트인 메서드들 (`append()`, `extend()`, `remove()`, `sort()` 등)\n",
    "4. `input()` 입력함수와 자료형 변환\n",
    "5. 조건문 (`if`, `elif`, `else`)과 비교/논리 연산자\n",
    "6. Dictionary 자료형과 for문, `range()`, `enumerate()`, `zip()` 함수\n",
    "\n",
    "7강 (Tuple) 상세:\n",
    "- `tuple = (1, 2, 3)` 튜플 선언\n",
    "- `x, y = tuple` 튜플 언패킹\n",
    "- `tuple.count(any)` 튜플에서 요소의 개수 세기\n",
    "- `tuple.index(any)` 튜플에서 요소의 인덱스 찾기\n",
    "- `len()`, `max()`, `min()`, `sum()` 빌트인 함수들\n",
    "\n",
    "8강 (While) 상세:\n",
    "- `while 조건:` 기본 구조\n",
    "- `break`로 반복문 종료\n",
    "- `continue`로 다음 반복으로 건너뛰기\n",
    "- 안전장치 (무한루프 방지)"
   ]
  },
  {
   "cell_type": "markdown",
   "metadata": {},
   "source": [
    "# Python Basic Lecture 9: 리스트 컴프리헨션 (List Comprehension)\n",
    "\n",
    "이번 단원에서는 파이썬의 강력한 기능 중 하나인 리스트 컴프리헨션을 배운다.\n",
    "\n",
    "리스트 컴프리헨션은 기존의 for문을 더 간결하고 파이썬다운 방식으로 작성할 수 있게 해주는 기능이다.\n",
    "\n",
    "구체적인 내용은 다음 세 가지이다:\n",
    "\n",
    "1. 리스트 컴프리헨션 기초\n",
    "2. 조건부 리스트 컴프리헨션\n",
    "3. 고급 활용"
   ]
  },
  {
   "cell_type": "markdown",
   "metadata": {},
   "source": [
    "## 1. 리스트 컴프리헨션 기초\n",
    "\n",
    "리스트 컴프리헨션의 기본 문법은 `[표현식 for 항목 in 반복가능객체]`이다. 기존의 for문과 append()를 사용하는 방식을 한 줄로 간결하게 표현할 수 있다."
   ]
  },
  {
   "cell_type": "code",
   "metadata": {
    "ExecuteTime": {
     "end_time": "2025-08-06T04:01:31.551876Z",
     "start_time": "2025-08-06T04:01:31.544380Z"
    }
   },
   "source": [
    "# 기존 for문 방식 - 1부터 5까지 제곱 리스트 만들기\n",
    "# squares = []\n",
    "# for i in range(1, 6):\n",
    "#     squares.append(i ** 2)\n",
    "\n",
    "squares = [i ** 2 for i in range(1, 6)]\n",
    "squares"
   ],
   "outputs": [
    {
     "data": {
      "text/plain": [
       "[1, 4, 9, 16, 25]"
      ]
     },
     "execution_count": 9,
     "metadata": {},
     "output_type": "execute_result"
    }
   ],
   "execution_count": 9
  },
  {
   "cell_type": "code",
   "metadata": {
    "ExecuteTime": {
     "end_time": "2025-08-06T04:03:46.473216Z",
     "start_time": "2025-08-06T04:03:46.461994Z"
    }
   },
   "source": [
    "# 문자열 리스트를 대문자로 변환\n",
    "fruits = ['apple', 'banana', 'orange']\n",
    "\n",
    "# 기존 방식 (for)\n",
    "\n",
    "# 컴프리헨션 방식\n",
    "upper_fruits = [f.upper() for f in fruits]\n",
    "upper_fruits"
   ],
   "outputs": [
    {
     "data": {
      "text/plain": [
       "['APPLE', 'BANANA', 'ORANGE']"
      ]
     },
     "execution_count": 12,
     "metadata": {},
     "output_type": "execute_result"
    }
   ],
   "execution_count": 12
  },
  {
   "cell_type": "code",
   "metadata": {
    "ExecuteTime": {
     "end_time": "2025-08-06T04:05:40.051214Z",
     "start_time": "2025-08-06T04:05:40.046247Z"
    }
   },
   "source": [
    "# 문자열에서 각 문자 중 모음만 제거\n",
    "word = \"hello\"\n",
    "\n",
    "# 컴프리헨션 방식\n",
    "safes = [c for c in word if c not in 'aeiou']\n",
    "safes"
   ],
   "outputs": [
    {
     "data": {
      "text/plain": [
       "['h', 'l', 'l']"
      ]
     },
     "execution_count": 15,
     "metadata": {},
     "output_type": "execute_result"
    }
   ],
   "execution_count": 15
  },
  {
   "cell_type": "markdown",
   "metadata": {},
   "source": [
    "## 2. 조건부 리스트 컴프리헨션\n",
    "\n",
    "if 조건을 추가하여 특정 조건을 만족하는 요소들만 포함할 수 있다. 문법은 `[표현식 for 항목 in 반복가능객체 if 조건]`이다."
   ]
  },
  {
   "cell_type": "code",
   "metadata": {
    "ExecuteTime": {
     "end_time": "2025-08-06T04:08:55.261085Z",
     "start_time": "2025-08-06T04:08:55.250555Z"
    }
   },
   "source": [
    "# 1부터 10까지 중 짝수만 제곱해서 리스트 만들기\n",
    "\n",
    "# 기존 방식 (for)\n",
    "evens = []\n",
    "for i in range(2, 11, 2):\n",
    "    evens.append(i ** 2)\n",
    "evens\n",
    "\n",
    "# 컴프리헨션 방식\n",
    "evens = [i ** 2 for i in range(1, 11) if i %2 == 0]\n",
    "evens\n",
    "\n",
    "odds = [i**2 for i in range(1, 11) if i % 2 == 1]\n",
    "odds\n",
    "\n",
    "weird = [i**2 if i % 2 == 0 else i**3 for i in range( 1, 11)]\n",
    "weird"
   ],
   "outputs": [
    {
     "data": {
      "text/plain": [
       "[1, 4, 27, 16, 125, 36, 343, 64, 729, 100]"
      ]
     },
     "execution_count": 22,
     "metadata": {},
     "output_type": "execute_result"
    }
   ],
   "execution_count": 22
  },
  {
   "cell_type": "code",
   "metadata": {
    "ExecuteTime": {
     "end_time": "2025-08-06T04:11:45.595734Z",
     "start_time": "2025-08-06T04:11:45.588136Z"
    }
   },
   "source": [
    "# 점수 리스트에서 60점 이상만 필터링\n",
    "scores = [85, 42, 97, 55, 78, 91, 33]\n",
    "\n",
    "# 기존 방식\n",
    "over_60 = []\n",
    "for score in scores:\n",
    "    if score >= 60:\n",
    "        over_60.append(score)\n",
    "\n",
    "over_60\n",
    "\n",
    "# 컴프리헨션 방식\n",
    "over_60_comp = [score for score in scores if score >= 60]\n",
    "over_60_comp"
   ],
   "outputs": [
    {
     "data": {
      "text/plain": [
       "[85, 97, 78, 91]"
      ]
     },
     "execution_count": 25,
     "metadata": {},
     "output_type": "execute_result"
    }
   ],
   "execution_count": 25
  },
  {
   "cell_type": "code",
   "metadata": {
    "ExecuteTime": {
     "end_time": "2025-08-06T04:13:05.113652Z",
     "start_time": "2025-08-06T04:13:05.106202Z"
    }
   },
   "source": [
    "# 문자열 리스트에서 길이가 5 이상인 것만 대문자로 변환\n",
    "words = ['cat', 'elephant', 'dog', 'butterfly', 'ant']\n",
    "\n",
    "# 기존 방식\n",
    "long_words = []\n",
    "for word in words:\n",
    "    if len(word) >= 5:\n",
    "        long_words.append(word.upper())\n",
    "long_words\n",
    "\n",
    "# 컴프리헨션 방식\n",
    "long_words_comp = [word.upper() for word in words if len(word) >= 5]\n",
    "long_words_comp"
   ],
   "outputs": [
    {
     "data": {
      "text/plain": [
       "['ELEPHANT', 'BUTTERFLY']"
      ]
     },
     "execution_count": 29,
     "metadata": {},
     "output_type": "execute_result"
    }
   ],
   "execution_count": 29
  },
  {
   "cell_type": "markdown",
   "metadata": {},
   "source": [
    "## 3. 고급 활용\n",
    "\n",
    "중첩된 리스트 처리와 딕셔너리/셋 컴프리헨션까지 알아본다.\n",
    "\n",
    "추천하는 방식은 아니다. (코드 가독성 하락이 너무 큼)\n",
    "\n",
    "하지만 학교에서 알려주길래 일단 함."
   ]
  },
  {
   "cell_type": "code",
   "metadata": {
    "ExecuteTime": {
     "end_time": "2025-08-06T04:18:29.397096Z",
     "start_time": "2025-08-06T04:18:29.390030Z"
    }
   },
   "source": [
    "# 중첩 리스트에서 모든 숫자를 하나의 리스트로 합치기\n",
    "matrix = [[1, 2, 3],\n",
    "          [4, 5, 6],\n",
    "          [7, 8, 9]]\n",
    "\n",
    "# 기존 방식\n",
    "flattened = []\n",
    "for row in matrix:\n",
    "    for num in row:\n",
    "        flattened.append(num)\n",
    "        \n",
    "print(\"기존 방식:\", flattened)\n",
    "\n",
    "# 컴프리헨션 방식\n",
    "flattened_comp = [num for row in matrix for num in row]\n",
    "print(\"컴프리헨션:\", flattened_comp)"
   ],
   "outputs": [
    {
     "name": "stdout",
     "output_type": "stream",
     "text": [
      "기존 방식: [1, 2, 3, 4, 5, 6, 7, 8, 9]\n",
      "컴프리헨션: [1, 2, 3, 4, 5, 6, 7, 8, 9]\n"
     ]
    }
   ],
   "execution_count": 34
  },
  {
   "cell_type": "code",
   "metadata": {
    "ExecuteTime": {
     "end_time": "2025-08-06T04:22:13.217442Z",
     "start_time": "2025-08-06T04:22:13.209318Z"
    }
   },
   "source": [
    "# 조건부 표현식과 함께 사용\n",
    "numbers = [1, 2, 3, -4, 5, -6, 7, 0, 9, 10]\n",
    "\n",
    "# 홀수는 제곱, 짝수는 그대로\n",
    "[n**2 if n % 2 == 1 else n for n in numbers]\n",
    "\n",
    "# 양수는 'positive', 0은 'zero', 음수는 'negative'\n",
    "['positive' if n > 0 else 'negative' if n < 0 else 'zero' for n in numbers]\n"
   ],
   "outputs": [
    {
     "data": {
      "text/plain": [
       "['positive',\n",
       " 'positive',\n",
       " 'positive',\n",
       " 'negative',\n",
       " 'positive',\n",
       " 'negative',\n",
       " 'positive',\n",
       " 'zero',\n",
       " 'positive',\n",
       " 'positive']"
      ]
     },
     "execution_count": 37,
     "metadata": {},
     "output_type": "execute_result"
    }
   ],
   "execution_count": 37
  },
  {
   "cell_type": "code",
   "metadata": {
    "ExecuteTime": {
     "end_time": "2025-08-06T04:27:02.485081Z",
     "start_time": "2025-08-06T04:27:02.477450Z"
    }
   },
   "source": [
    "# 딕셔너리 컴프리헨션\n",
    "\n",
    "# 단어: 길이를 매핑하는 딕셔너리\n",
    "words = ['apple', 'banana', 'cherry']\n",
    "len_words = {\n",
    "    word: len(word) for word in words\n",
    "}\n",
    "len_words\n",
    "\n",
    "# 홀수 제곱을 x: x**2 딕셔너리로 매핑\n",
    "squares = {\n",
    "    i: i**2 for i in range(1, 11) if i % 2 == 1\n",
    "}\n",
    "squares\n",
    "\n",
    "# 홀수: 홀수 제곱, 짝수: -짝수제곱을 매핑\n",
    "square2 = {\n",
    "    i: i**2 if i % 2 == 1 else -i**2 for  i in range( 1, 11)\n",
    "}\n",
    "square2"
   ],
   "outputs": [
    {
     "data": {
      "text/plain": [
       "{1: 1, 2: -4, 3: 9, 4: -16, 5: 25, 6: -36, 7: 49, 8: -64, 9: 81, 10: -100}"
      ]
     },
     "execution_count": 41,
     "metadata": {},
     "output_type": "execute_result"
    }
   ],
   "execution_count": 41
  },
  {
   "cell_type": "code",
   "metadata": {
    "ExecuteTime": {
     "end_time": "2025-08-06T04:28:52.557113Z",
     "start_time": "2025-08-06T04:28:52.550970Z"
    }
   },
   "source": [
    "# 셋 컴프리헨션\n",
    "\n",
    "# 문자열에서 유니크한 문자들의 집합 (공백 제외)\n",
    "text = \"hello world\"\n",
    "unique_chars = {c for c in text if c != ' '}\n",
    "print(sorted(unique_chars))\n",
    "# 리스트에서 중복 제거하면서 제곱\n",
    "numbers = [1, 2, 2, 3, 3, 3, 4, 4, 5]"
   ],
   "outputs": [
    {
     "name": "stdout",
     "output_type": "stream",
     "text": [
      "['d', 'e', 'h', 'l', 'o', 'r', 'w']\n"
     ]
    }
   ],
   "execution_count": 45
  }
 ],
 "metadata": {
  "kernelspec": {
   "display_name": "Python 3",
   "language": "python",
   "name": "python3"
  },
  "language_info": {
   "codemirror_mode": {
    "name": "ipython",
    "version": 3
   },
   "file_extension": ".py",
   "mimetype": "text/x-python",
   "name": "python",
   "nbconvert_exporter": "python",
   "pygments_lexer": "ipython3",
   "version": "3.8.5"
  }
 },
 "nbformat": 4,
 "nbformat_minor": 4
}
