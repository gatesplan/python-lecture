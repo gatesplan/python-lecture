{
 "cells": [
  {
   "cell_type": "markdown",
   "metadata": {},
   "source": [
    "# 복습 키워드\n",
    "\n",
    "1~6강 요약:\n",
    "1. `print()` 출력함수와 `f-string` 문법\n",
    "2. 문자열 빌트인 함수들 (`upper()`, `lower()`, `replace()`, `split()` 등)\n",
    "3. 리스트 자료형과 빌트인 메서드들 (`append()`, `extend()`, `remove()`, `sort()` 등)\n",
    "4. `input()` 입력함수와 자료형 변환\n",
    "5. 조건문 (`if`, `elif`, `else`)과 비교/논리 연산자\n",
    "6. Dictionary 자료형과 for문, `range()`, `enumerate()`, `zip()` 함수\n",
    "\n",
    "7강 (Tuple) 상세:\n",
    "- `tuple = (1, 2, 3)` 튜플 선언\n",
    "- `x, y = tuple` 튜플 언패킹\n",
    "- `tuple.count(any)` 튜플에서 요소의 개수 세기\n",
    "- `tuple.index(any)` 튜플에서 요소의 인덱스 찾기\n",
    "- `len()`, `max()`, `min()`, `sum()` 빌트인 함수들\n",
    "\n",
    "8강 (While) 상세:\n",
    "- `while 조건:` 기본 구조\n",
    "- `break`로 반복문 종료\n",
    "- `continue`로 다음 반복으로 건너뛰기\n",
    "- 안전장치 (무한루프 방지)"
   ]
  },
  {
   "metadata": {
    "ExecuteTime": {
     "end_time": "2025-10-11T02:52:46.819935Z",
     "start_time": "2025-10-11T02:52:22.503494Z"
    }
   },
   "cell_type": "code",
   "source": [
    "while True:\n",
    "    print(\"메뉴를 입력하세요\")\n",
    "    print(\"1. 덧셈\")\n",
    "    print(\"2. 뺄셈\")\n",
    "    print(\"3. 종료\")\n",
    "\n",
    "    choice = int(input(\"메뉴 선택: \"))\n",
    "\n",
    "    if choice == 1:\n",
    "        nums = input(\"덧셈할 숫자들을 공백으로 구분하여 입력: \").split()  # ['3', '5']\n",
    "        nums = [int(n) for n in nums]\n",
    "        print(sum(nums))\n",
    "\n",
    "    elif choice == 2:\n",
    "        print(\"미구현\")\n",
    "\n",
    "    elif choice == 3:\n",
    "        print(\"프로그램 종료\")\n",
    "        break\n",
    "\n",
    "    else:\n",
    "        print(\"잘못된 입력입니다. {}\".format(choice))\n"
   ],
   "outputs": [
    {
     "name": "stdout",
     "output_type": "stream",
     "text": [
      "메뉴를 입력하세요\n",
      "1. 덧셈\n",
      "2. 뺄셈\n",
      "3. 종료\n",
      "미구현\n",
      "메뉴를 입력하세요\n",
      "1. 덧셈\n",
      "2. 뺄셈\n",
      "3. 종료\n",
      "프로그램 종료\n"
     ]
    }
   ],
   "execution_count": 33
  },
  {
   "metadata": {
    "ExecuteTime": {
     "end_time": "2025-10-11T02:49:58.653160Z",
     "start_time": "2025-10-11T02:49:55.523254Z"
    }
   },
   "cell_type": "code",
   "source": [
    "nums = input().split()\n",
    "intnums = []\n",
    "for n in nums:\n",
    "    intnums.append(int(n))\n",
    "intnums\n",
    "\n"
   ],
   "outputs": [
    {
     "data": {
      "text/plain": [
       "[3, 6, 7]"
      ]
     },
     "execution_count": 32,
     "metadata": {},
     "output_type": "execute_result"
    }
   ],
   "execution_count": 32
  },
  {
   "cell_type": "markdown",
   "metadata": {},
   "source": [
    "# Python Basic Lecture 9: 리스트 컴프리헨션 (List Comprehension)\n",
    "\n",
    "이번 단원에서는 파이썬의 강력한 기능 중 하나인 리스트 컴프리헨션을 배운다.\n",
    "\n",
    "리스트 컴프리헨션은 기존의 for문을 더 간결하고 파이썬다운 방식으로 작성할 수 있게 해주는 기능이다.\n",
    "\n",
    "구체적인 내용은 다음 세 가지이다:\n",
    "\n",
    "1. 리스트 컴프리헨션 기초\n",
    "2. 조건부 리스트 컴프리헨션\n",
    "3. 고급 활용"
   ]
  },
  {
   "cell_type": "markdown",
   "metadata": {},
   "source": [
    "## 1. 리스트 컴프리헨션 기초\n",
    "\n",
    "리스트 컴프리헨션의 기본 문법은 `[표현식 for 항목 in 반복가능객체]`이다. 기존의 for문과 append()를 사용하는 방식을 한 줄로 간결하게 표현할 수 있다."
   ]
  },
  {
   "cell_type": "code",
   "metadata": {
    "ExecuteTime": {
     "end_time": "2025-10-11T02:55:32.510740Z",
     "start_time": "2025-10-11T02:55:32.500490Z"
    }
   },
   "source": [
    "# 기존 for문 방식 - 1부터 5까지 제곱 리스트 만들기\n",
    "# squares = []\n",
    "# for i in range(1, 6):\n",
    "#     squares.append(i ** 2)\n",
    "nums = list(range(1, 6))\n",
    "nums = [n**2 for n in nums]\n",
    "nums\n",
    "\n",
    "nums = list(range(1, 11))\n",
    "nums = [n**3 for n in nums]\n",
    "nums"
   ],
   "outputs": [
    {
     "data": {
      "text/plain": [
       "[1, 8, 27, 64, 125, 216, 343, 512, 729, 1000]"
      ]
     },
     "execution_count": 38,
     "metadata": {},
     "output_type": "execute_result"
    }
   ],
   "execution_count": 38
  },
  {
   "cell_type": "code",
   "metadata": {
    "ExecuteTime": {
     "end_time": "2025-10-11T02:57:28.545993Z",
     "start_time": "2025-10-11T02:57:28.531401Z"
    }
   },
   "source": [
    "# 문자열 리스트를 대문자로 변환\n",
    "fruits = ['apple', 'banana', 'orange']\n",
    "flist = []\n",
    "# 기존 방식 (for)\n",
    "for f in fruits:\n",
    "    flist.append(f.upper())\n",
    "\n",
    "print(flist)\n",
    "\n",
    "flist = [f.upper() for f in fruits]\n",
    "flist\n",
    "\n",
    "# 첫 글자만 대문자로?\n",
    "flist = [f.capitalize() for f in fruits]\n",
    "flist"
   ],
   "outputs": [
    {
     "name": "stdout",
     "output_type": "stream",
     "text": [
      "['APPLE', 'BANANA', 'ORANGE']\n"
     ]
    },
    {
     "data": {
      "text/plain": [
       "['Apple', 'Banana', 'Orange']"
      ]
     },
     "execution_count": 42,
     "metadata": {},
     "output_type": "execute_result"
    }
   ],
   "execution_count": 42
  },
  {
   "metadata": {
    "ExecuteTime": {
     "end_time": "2025-10-11T02:58:52.246457Z",
     "start_time": "2025-10-11T02:58:52.239112Z"
    }
   },
   "cell_type": "code",
   "source": [
    "# 1~10까지 짝수만 제곱해서 리스트에 남기기\n",
    "[i**2 for i in range(1, 11) if i % 2 == 0]"
   ],
   "outputs": [
    {
     "data": {
      "text/plain": [
       "[4, 16, 36, 64, 100]"
      ]
     },
     "execution_count": 43,
     "metadata": {},
     "output_type": "execute_result"
    }
   ],
   "execution_count": 43
  },
  {
   "metadata": {
    "ExecuteTime": {
     "end_time": "2025-10-11T03:00:11.042891Z",
     "start_time": "2025-10-11T03:00:11.036003Z"
    }
   },
   "cell_type": "code",
   "source": [
    "# 문자들 중에서 a만 제거\n",
    "word = 'banana'\n",
    "[c for c in word if c != 'a']"
   ],
   "outputs": [
    {
     "data": {
      "text/plain": [
       "['b', 'a', 'a', 'a']"
      ]
     },
     "execution_count": 46,
     "metadata": {},
     "output_type": "execute_result"
    }
   ],
   "execution_count": 46
  },
  {
   "cell_type": "code",
   "metadata": {
    "ExecuteTime": {
     "end_time": "2025-10-11T03:00:40.155914Z",
     "start_time": "2025-10-11T03:00:40.150246Z"
    }
   },
   "source": [
    "# 문자열에서 각 문자 중 모음만 제거\n",
    "word = \"hello\"\n",
    "\n",
    "# 컴프리헨션 방식\n",
    "[c for c in word if c not in 'aeiou']"
   ],
   "outputs": [
    {
     "data": {
      "text/plain": [
       "False"
      ]
     },
     "execution_count": 48,
     "metadata": {},
     "output_type": "execute_result"
    }
   ],
   "execution_count": 48
  },
  {
   "cell_type": "markdown",
   "metadata": {},
   "source": [
    "## 2. 조건부 리스트 컴프리헨션\n",
    "\n",
    "if 조건을 추가하여 특정 조건을 만족하는 요소들만 포함할 수 있다. 문법은 `[표현식 for 항목 in 반복가능객체 if 조건]`이다."
   ]
  },
  {
   "cell_type": "code",
   "metadata": {
    "ExecuteTime": {
     "end_time": "2025-08-06T04:08:55.261085Z",
     "start_time": "2025-08-06T04:08:55.250555Z"
    }
   },
   "source": [
    "# 1부터 10까지 중 짝수만 제곱해서 리스트 만들기\n",
    "\n",
    "# 기존 방식 (for)\n",
    "evens = []\n",
    "for i in range(2, 11, 2):\n",
    "    evens.append(i ** 2)\n",
    "\n",
    "\n",
    "# 컴프리헨션 방식\n",
    "evens = [i ** 2 for i in range(1, 11) if i %2 == 0]\n",
    "evens\n",
    "\n",
    "odds = [i**2 for i in range(1, 11) if i % 2 == 1]\n",
    "odds\n",
    "\n",
    "weird = [i**2 if i % 2 == 0 else i**3 for i in range( 1, 11)]\n",
    "weird"
   ],
   "outputs": [
    {
     "data": {
      "text/plain": [
       "[1, 4, 27, 16, 125, 36, 343, 64, 729, 100]"
      ]
     },
     "execution_count": 22,
     "metadata": {},
     "output_type": "execute_result"
    }
   ],
   "execution_count": 22
  },
  {
   "cell_type": "code",
   "metadata": {
    "ExecuteTime": {
     "end_time": "2025-10-11T03:03:12.052838Z",
     "start_time": "2025-10-11T03:03:12.046336Z"
    }
   },
   "source": [
    "# 점수 리스트에서 60점 이상만 필터링\n",
    "scores = [85, 42, 97, 55, 78, 91, 33]\n",
    "\n",
    "# 기존 방식\n",
    "over_60 = []\n",
    "for s in scores:\n",
    "    if s >= 60:\n",
    "        over_60.append(s)\n",
    "print(over_60)\n",
    "\n",
    "# 컴프리헨션 방식\n",
    "over_60_comp = [s for s in scores if s >= 60]\n",
    "print(over_60_comp)"
   ],
   "outputs": [
    {
     "name": "stdout",
     "output_type": "stream",
     "text": [
      "[85, 97, 78, 91]\n",
      "[85, 97, 78, 91]\n"
     ]
    }
   ],
   "execution_count": 50
  },
  {
   "cell_type": "code",
   "metadata": {
    "ExecuteTime": {
     "end_time": "2025-10-11T03:05:37.015350Z",
     "start_time": "2025-10-11T03:05:37.006600Z"
    }
   },
   "source": [
    "# 문자열 리스트에서 길이가 5 이상인 것만 대문자로 변환\n",
    "words = ['cat', 'elephant', 'dog', 'butterfly', 'ant']\n",
    "\n",
    "# 기존 방식\n",
    "long = []\n",
    "for w in words:\n",
    "    if len(w) >= 5:\n",
    "        long.append(w.upper())\n",
    "print(long)\n",
    "\n",
    "# 컴프리헨션 방식\n",
    "long_comp = [w.upper() for w in words if len(w) >= 5]\n",
    "long_comp"
   ],
   "outputs": [
    {
     "name": "stdout",
     "output_type": "stream",
     "text": [
      "['ELEPHANT', 'BUTTERFLY']\n"
     ]
    },
    {
     "data": {
      "text/plain": [
       "['ELEPHANT', 'BUTTERFLY']"
      ]
     },
     "execution_count": 57,
     "metadata": {},
     "output_type": "execute_result"
    }
   ],
   "execution_count": 57
  },
  {
   "cell_type": "markdown",
   "metadata": {},
   "source": [
    "## 3. 고급 활용\n",
    "\n",
    "중첩된 리스트 처리와 딕셔너리/셋 컴프리헨션까지 알아본다.\n",
    "\n",
    "추천하는 방식은 아니다. (코드 가독성 하락이 너무 큼)\n",
    "\n",
    "하지만 학교에서 알려주길래 일단 함."
   ]
  },
  {
   "cell_type": "code",
   "metadata": {
    "ExecuteTime": {
     "end_time": "2025-10-11T03:09:08.888589Z",
     "start_time": "2025-10-11T03:09:08.879669Z"
    }
   },
   "source": [
    "# 중첩 리스트에서 모든 숫자를 하나의 리스트로 합치기\n",
    "matrix = [[1, 2, 3],\n",
    "          [4, 5, 6],\n",
    "          [7, 8, 9]]\n",
    "\n",
    "# 기존 방식\n",
    "flattened = []\n",
    "for row in matrix:\n",
    "    for val in row:\n",
    "        flattened.append(val)\n",
    "print(flattened)\n",
    "\n",
    "# list comprehension 방식\n",
    "flat_comp = [val for row in matrix for val in row]\n",
    "flat_comp"
   ],
   "outputs": [
    {
     "name": "stdout",
     "output_type": "stream",
     "text": [
      "[1, 2, 3, 4, 5, 6, 7, 8, 9]\n"
     ]
    },
    {
     "data": {
      "text/plain": [
       "[1, 2, 3, 4, 5, 6, 7, 8, 9]"
      ]
     },
     "execution_count": 61,
     "metadata": {},
     "output_type": "execute_result"
    }
   ],
   "execution_count": 61
  },
  {
   "cell_type": "code",
   "metadata": {
    "ExecuteTime": {
     "end_time": "2025-10-11T03:11:19.593870Z",
     "start_time": "2025-10-11T03:11:19.583198Z"
    }
   },
   "source": [
    "# 조건부 표현식과 함께 사용\n",
    "numbers = [1, 2, 3, -4, 5, -6, 7, 0, 9, 10]\n",
    "\n",
    "# 홀수는 제곱, 짝수는 그대로\n",
    "[n**2 if n % 2 == 1 else n for n in numbers]\n",
    "\n",
    "# 양수는 'positive', 0은 'zero', 음수는 'negative'\n",
    "['positive' if n>0 else 'zero' if n==0 else 'negative' for n in numbers]"
   ],
   "outputs": [
    {
     "data": {
      "text/plain": [
       "['positive',\n",
       " 'positive',\n",
       " 'positive',\n",
       " 'negative',\n",
       " 'positive',\n",
       " 'negative',\n",
       " 'positive',\n",
       " 'zero',\n",
       " 'positive',\n",
       " 'positive']"
      ]
     },
     "execution_count": 63,
     "metadata": {},
     "output_type": "execute_result"
    }
   ],
   "execution_count": 63
  },
  {
   "metadata": {
    "ExecuteTime": {
     "end_time": "2025-10-11T03:14:20.172607Z",
     "start_time": "2025-10-11T03:14:20.166224Z"
    }
   },
   "cell_type": "code",
   "source": [
    "# 딕셔너리\n",
    "vals = {\n",
    "    'name': '홍길동',\n",
    "    'age': 35\n",
    "}\n",
    "\n",
    "vals.get('city', '서울')"
   ],
   "outputs": [
    {
     "data": {
      "text/plain": [
       "'서울'"
      ]
     },
     "execution_count": 69,
     "metadata": {},
     "output_type": "execute_result"
    }
   ],
   "execution_count": 69
  },
  {
   "cell_type": "code",
   "metadata": {
    "ExecuteTime": {
     "end_time": "2025-10-11T03:15:50.184545Z",
     "start_time": "2025-10-11T03:15:50.176944Z"
    }
   },
   "source": [
    "# 딕셔너리 컴프리헨션\n",
    "\n",
    "# 단어: 길이를 매핑하는 딕셔너리\n",
    "words = ['apple', 'banana', 'cherry']\n",
    "word_len = { w: len(w) for w in words }\n",
    "word_len"
   ],
   "outputs": [
    {
     "data": {
      "text/plain": [
       "{'apple': 5, 'banana': 6, 'cherry': 6}"
      ]
     },
     "execution_count": 70,
     "metadata": {},
     "output_type": "execute_result"
    }
   ],
   "execution_count": 70
  },
  {
   "cell_type": "code",
   "metadata": {
    "ExecuteTime": {
     "end_time": "2025-08-06T04:28:52.557113Z",
     "start_time": "2025-08-06T04:28:52.550970Z"
    }
   },
   "source": [
    "# 셋 컴프리헨션\n",
    "\n",
    "# 문자열에서 유니크한 문자들의 집합 (공백 제외)\n",
    "text = \"hello world\"\n",
    "unique_chars = {c for c in text if c != ' '}\n",
    "print(sorted(unique_chars))\n",
    "# 리스트에서 중복 제거하면서 제곱\n",
    "numbers = [1, 2, 2, 3, 3, 3, 4, 4, 5]"
   ],
   "outputs": [
    {
     "name": "stdout",
     "output_type": "stream",
     "text": [
      "['d', 'e', 'h', 'l', 'o', 'r', 'w']\n"
     ]
    }
   ],
   "execution_count": 45
  }
 ],
 "metadata": {
  "kernelspec": {
   "display_name": "Python 3",
   "language": "python",
   "name": "python3"
  },
  "language_info": {
   "codemirror_mode": {
    "name": "ipython",
    "version": 3
   },
   "file_extension": ".py",
   "mimetype": "text/x-python",
   "name": "python",
   "nbconvert_exporter": "python",
   "pygments_lexer": "ipython3",
   "version": "3.8.5"
  }
 },
 "nbformat": 4,
 "nbformat_minor": 4
}
