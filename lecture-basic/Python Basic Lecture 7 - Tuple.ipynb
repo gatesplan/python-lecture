{
 "cells": [
  {
   "cell_type": "markdown",
   "metadata": {},
   "source": [
    "# 복습 키워드\n",
    "\n",
    "1. `print()` 출력함수\n",
    "2. `print(sep: str, end: str)` 출력함수의 키워드 파라메터\n",
    "3. `f-string` 문법\n",
    "4. `\"str\".builtin()` 기본적인 문자열 빌트인 함수들\n",
    "    - `\"str\".upper()` 대문자로 변환\n",
    "    - `\"str\".lower()` 소문자로 변환\n",
    "    - `\"str\".capitalize()` 첫 글자만 대문자로 변환\n",
    "    - `\"str\".replace(old:str, new:str)` 특정 문자열 교체\n",
    "    - `\"str\".strip()` 양쪽 공백 제거\n",
    "    - `\"str\".lstrip()` 왼쪽 공백 제거\n",
    "    - `\"str\".rstrip()` 오른쪽 공백 제거\n",
    "5. list 자료형 선언과 사용법\n",
    "    - `list = [1, 2, 3]` 리스트 선언\n",
    "    - `print(list)` 리스트 출력\n",
    "    - `list(\"str\")` 문자열을 리스트로 변환\n",
    "    - `\"str\".split(sep: str)` 문자열을 리스트로 변환\n",
    "    - `list[a:b]` 리스트 슬라이싱\n",
    "6. `*list` 언패킹\n",
    "7. `[].builtin()` 리스트 빌트인 함수들\n",
    "    - `[].append(any)` 리스트에 요소 추가\n",
    "    - `[].insert(index:int, any)` 리스트 특정 위치에 요소 추가\n",
    "    - `[].extend(list)` 리스트에 다른 리스트 요소 추가\n",
    "    - `[].remove(any)` 리스트에서 요소 제거\n",
    "    - `[].pop()` 리스트 마지막 요소 제거\n",
    "    - `[].clear()` 리스트 비우기\n",
    "    - `[].index(any)` 리스트에서 요소의 인덱스 찾기\n",
    "    - `[].count(any)` 리스트에서 요소의 개수 세기\n",
    "    - `[].sort()` 리스트 정렬\n",
    "    - `[].reverse()` 리스트 역순 정렬\n",
    "    - `[].copy()` 리스트 복사\n",
    "8. `input()` 입력 함수\n",
    "9. `type()` 자료형 확인 함수\n",
    "10. 자료형 변환 (캐스팅)\n",
    "    - `int()` 정수로 변환\n",
    "    - `float()` 실수로 변환\n",
    "    - `str()` 문자열로 변환\n",
    "    - `list()` 리스트로 변환\n",
    "11. 비교 연산자와 조건문\n",
    "    - `==, !=, >, <, >=, <=` 비교 연산자\n",
    "    - `if, elif, else` 조건문\n",
    "    - `and, or, not` 논리 연산자\n",
    "    - `in` 포함 연산자"
   ]
  },
  {
   "metadata": {},
   "cell_type": "code",
   "source": "a = input()",
   "outputs": [],
   "execution_count": null
  },
  {
   "metadata": {},
   "cell_type": "code",
   "source": [
    "alist = 'x y z'.split()\n",
    "blist = 'a b c d'.split()\n",
    "\n",
    "for i, v in enumerate(zip(alist, blist)):\n",
    "    a, b = v\n",
    "    print(v, \"->\", a, b)"
   ],
   "outputs": [],
   "execution_count": null
  },
  {
   "cell_type": "markdown",
   "metadata": {},
   "source": [
    "# Python Basic Lecture 7: Tuple 자료형\n",
    "\n",
    "이번 단원에서는 새로운 자료형인 tuple을 배운다.\n",
    "\n",
    "Tuple은 좌표, 상태 정보 등을 저장할 때 유용하다."
   ]
  },
  {
   "cell_type": "markdown",
   "metadata": {},
   "source": "## 1. Tuple 자료형\n\n이번 시간에는 새로운 자료형인 tuple을 배운다. 지금까지 배운 자료형은 문자열`string`, 정수`int`, 실수`float`, 리스트`list`이다.\n\nTuple은 리스트와 비슷하지만 중요한 차이점이 있다. 한 번 만들면 변경할 수 없다는 점이다. 이런 특성을 **불변(immutable)**이라고 한다.\n\n구체적인 내용은 다음 네 가지이다:\n\n1. Tuple 선언하기\n2. Tuple 언패킹하기\n3. Tuple 빌트인 함수들\n4. Tuple 이해하기"
  },
  {
   "cell_type": "markdown",
   "metadata": {},
   "source": [
    "### 1.1. Tuple 선언하기\n",
    "\n",
    "Tuple은 소괄호 `()`를 사용해서 선언한다. 리스트가 대괄호 `[]`를 쓰는 것과 대비된다."
   ]
  },
  {
   "metadata": {},
   "cell_type": "code",
   "source": [
    "alist = [1,]\n",
    "atuple = (1,2)"
   ],
   "outputs": [],
   "execution_count": null
  },
  {
   "cell_type": "code",
   "metadata": {},
   "source": [
    "# 기본 tuple 선언\n",
    "point = (10, 20)  # 좌표 (x, y)\n",
    "color = (255, 128, 0)  # RGB 색상\n",
    "student = ('김철수', 20, 'A')  # 이름, 나이, 등급\n",
    "\n",
    "print(\"좌표:\", point)\n",
    "print(\"색상:\", color)\n",
    "print(\"학생 정보:\", student)"
   ],
   "outputs": [],
   "execution_count": null
  },
  {
   "cell_type": "code",
   "metadata": {},
   "source": [
    "# 빈 tuple과 요소 하나인 tuple\n",
    "empty_tuple = ()  # 빈 tuple\n",
    "single_tuple = (42,)  # 요소 하나 - 콤마가 중요!\n",
    "\n",
    "print(\"빈 tuple:\", empty_tuple)\n",
    "print(\"하나 tuple:\", single_tuple)\n",
    "\n",
    "# 콤마 없으면 그냥 괄호로 인식됨\n",
    "not_tuple = (42)  # 이건 그냥 숫자 42\n",
    "print(\"이건 tuple이 아님:\", type(not_tuple))"
   ],
   "outputs": [],
   "execution_count": null
  },
  {
   "cell_type": "code",
   "metadata": {},
   "source": [
    "# 괄호 없이도 tuple 만들 수 있음\n",
    "coordinates = 100, 200  # 이것도 tuple\n",
    "print(\"좌표:\", coordinates)\n",
    "print(\"타입:\", type(coordinates))\n",
    "\n",
    "# 리스트를 tuple로 변환\n",
    "my_list = [1, 2, 3, 4, 5]\n",
    "my_tuple = tuple(my_list)\n",
    "print(\"원본 리스트:\", my_list)\n",
    "print(\"변환된 tuple:\", my_tuple)"
   ],
   "outputs": [],
   "execution_count": null
  },
  {
   "metadata": {},
   "cell_type": "code",
   "source": [
    "xx = tuple(list(tuple('홍길동 남자 문어'.split())))\n",
    "xx"
   ],
   "outputs": [],
   "execution_count": null
  },
  {
   "cell_type": "markdown",
   "metadata": {},
   "source": [
    "### 1.2. Tuple 언패킹하기\n",
    "\n",
    "Tuple의 각 요소를 개별 변수에 할당하는 것을 언패킹이라고 한다. 리스트 언패킹과 똑같은 방법이다."
   ]
  },
  {
   "cell_type": "code",
   "metadata": {},
   "source": [
    "# 기본 언패킹\n",
    "point = (10, 20)\n",
    "x, y = point\n",
    "print(f\"x 좌표: {x}\")\n",
    "print(f\"y 좌표: {y}\")\n",
    "\n",
    "# 학생 정보 언패킹\n",
    "student_info = ('이영희', 19, 'B+')\n",
    "name, age, grade = student_info\n",
    "print(f\"이름: {name}, 나이: {age}, 성적: {grade}\")"
   ],
   "outputs": [],
   "execution_count": null
  },
  {
   "cell_type": "code",
   "metadata": {},
   "source": [
    "# * 사용한 언패킹\n",
    "rgb_color = (255, 128, 64, 32, 16)  # RGB + 추가 정보\n",
    "red, green, blue, *others = rgb_color\n",
    "print(f\"빨강: {red}, 초록: {green}, 파랑: {blue}\")\n",
    "print(f\"기타: {others}\")\n",
    "\n",
    "# 함수에서 여러 값 반환할 때 자주 사용됨\n",
    "def get_name_age():\n",
    "    return '박민수', 25  # 자동으로 tuple이 됨\n",
    "\n",
    "student_name, student_age = get_name_age()\n",
    "print(f\"학생: {student_name}, 나이: {student_age}\")"
   ],
   "outputs": [],
   "execution_count": null
  },
  {
   "metadata": {},
   "cell_type": "markdown",
   "source": [
    "### 1.3. 빌트인 함수들과 `tuple` 조합\n",
    "\n",
    "Tuple은 불변이므로 List처럼 많은 메서드를 제공하지 않지만, 몇 가지 유용한 빌트인 함수들을 사용할 수 있다."
   ]
  },
  {
   "metadata": {},
   "cell_type": "code",
   "source": [
    "# 기본 빌트인 함수들\n",
    "numbers = (3, 1, 4, 1, 5, 9, 2, 6)\n",
    "colors = ('red', 'green', 'blue', 'red', 'yellow')\n",
    "\n",
    "# 길이 구하기\n",
    "print(\"숫자 tuple 길이:\", len(numbers))\n",
    "print(\"색상 tuple 길이:\", len(colors))\n",
    "\n",
    "# 최대값, 최소값\n",
    "print(\"최대값:\", max(numbers))\n",
    "print(\"최소값:\", min(numbers))\n",
    "\n",
    "# 합계 (숫자 tuple만 가능)\n",
    "print(\"합계:\", sum(numbers))\n",
    "\n",
    "# 정렬된 리스트 반환 (원본은 변경되지 않음)\n",
    "print(\"원본:\", numbers)\n",
    "print(\"정렬된 리스트:\", sorted(numbers))\n",
    "print(\"내림차순 정렬:\", sorted(numbers, reverse=True))"
   ],
   "outputs": [],
   "execution_count": null
  },
  {
   "cell_type": "code",
   "source": "# Tuple 전용 메서드들\nnumbers = (1, 2, 3, 2, 4, 2, 5)\nfruits = ('apple', 'banana', 'apple', 'orange', 'apple')\n\n# count() - 특정 요소의 개수 세기\nprint(\"2의 개수:\", numbers.count(2))\nprint(\"apple의 개수:\", fruits.count('apple'))\nprint(\"grape의 개수:\", fruits.count('grape'))  # 없으면 0\n\n# index() - 특정 요소의 첫 번째 인덱스 찾기\nprint(\"2의 첫 번째 위치:\", numbers.index(2))\nprint(\"apple의 첫 번째 위치:\", fruits.index('apple'))\n\n# index() 범위 지정 (시작, 끝)\nprint(\"두 번째 2의 위치:\", numbers.index(2, 2))  # 인덱스 2부터 찾기\n\n# 없는 요소 찾으면 오류 발생\n# print(numbers.index(10))  # ValueError 발생!",
   "metadata": {},
   "outputs": [],
   "execution_count": null
  },
  {
   "cell_type": "code",
   "source": "# in 연산자와 기타 유용한 연산들\ncoordinates = (10, 20, 30)\ncolors = ('red', 'green', 'blue')\n\n# in 연산자 - 포함 여부 확인\nprint(\"20이 좌표에 있나?\", 20 in coordinates)\nprint(\"50이 좌표에 있나?\", 50 in coordinates)\nprint(\"red가 색상에 있나?\", 'red' in colors)\n\n# not in 연산자\nprint(\"purple이 색상에 없나?\", 'purple' not in colors)\n\n# tuple() 함수 - 다른 자료형을 tuple로 변환\nstring = \"hello\"\nlist_data = [1, 2, 3, 4, 5]\nrange_data = range(1, 6)\n\nprint(\"문자열을 tuple로:\", tuple(string))\nprint(\"리스트를 tuple로:\", tuple(list_data))\nprint(\"range를 tuple로:\", tuple(range_data))\n\n# enumerate() - 인덱스와 값을 함께 얻기\nfor index, value in enumerate(colors):\n    print(f\"{index}: {value}\")",
   "metadata": {},
   "outputs": [],
   "execution_count": null
  },
  {
   "cell_type": "markdown",
   "metadata": {},
   "source": "### 1.4. Tuple 이해하기\n\nTuple을 깊이 이해하기 위해 List와의 차이점, 사용 시기, 성능 특성을 알아보자.\n\n#### 1.4.1. List와 Tuple의 차이점\n\n가장 중요한 차이점은 tuple은 **불변(immutable)**이라는 것이다. 한 번 만들면 내용을 바꿀 수 없다."
  },
  {
   "cell_type": "code",
   "metadata": {},
   "source": [
    "# 리스트는 변경 가능\n",
    "my_list = [1, 2, 3]\n",
    "print(\"원본 리스트:\", my_list)\n",
    "\n",
    "my_list[0] = 100  # 첫 번째 요소 변경 가능\n",
    "my_list.append(4)  # 새 요소 추가 가능\n",
    "print(\"변경된 리스트:\", my_list)\n",
    "\n",
    "# Tuple은 변경 불가능\n",
    "my_tuple = (1, 2, 3)\n",
    "print(\"원본 tuple:\", my_tuple)\n",
    "\n",
    "# my_tuple[0] = 100  # 오류! tuple은 변경 불가\n",
    "# my_tuple.append(4)  # 오류! append 메서드도 없음"
   ],
   "outputs": [],
   "execution_count": null
  },
  {
   "cell_type": "code",
   "metadata": {},
   "source": [
    "# 하지만 읽기는 가능\n",
    "point = (100, 200)\n",
    "print(\"x 좌표:\", point[0])\n",
    "print(\"y 좌표:\", point[1])\n",
    "\n",
    "# 슬라이싱도 가능\n",
    "numbers = (1, 2, 3, 4, 5)\n",
    "print(\"앞의 3개:\", numbers[:3])\n",
    "print(\"뒤의 2개:\", numbers[-2:])\n",
    "\n",
    "# len(), in 연산자도 사용 가능\n",
    "print(\"길이:\", len(numbers))\n",
    "print(\"3이 있나?\", 3 in numbers)"
   ],
   "outputs": [],
   "execution_count": null
  },
  {
   "cell_type": "markdown",
   "metadata": {},
   "source": "#### 1.4.2. Tuple을 언제 사용하는가\n\nTuple은 **변경되지 않아야 하는 데이터**를 저장할 때 사용한다. 다음과 같은 경우에 유용하다:\n\n1. **좌표**: (x, y), (x, y, z)\n2. **RGB 색상**: (red, green, blue)\n3. **날짜**: (년, 월, 일)\n4. **고정된 설정값**: (가로, 세로, 깊이)\n5. **함수에서 여러 값 반환**할 때"
  },
  {
   "cell_type": "code",
   "metadata": {
    "ExecuteTime": {
     "end_time": "2025-08-30T03:23:37.816664Z",
     "start_time": "2025-08-30T03:23:37.799755Z"
    }
   },
   "source": [
    "# 실제 사용 예시들\n",
    "# 1. 좌표 저장\n",
    "player_position = (50, 100)\n",
    "enemy_position = (200, 300)\n",
    "\n",
    "# 2. 색상 정의\n",
    "RED = (255, 0, 0)\n",
    "GREEN = (0, 255, 0)\n",
    "BLUE = (0, 0, 255)\n",
    "\n",
    "# 3. 게임 캐릭터 상태 (변경되지 않는 기본 정보)\n",
    "character_stats = (100, 50, 25)  # 체력, 마나, 공격력\n",
    "hp, mp, attack = character_stats\n",
    "\n",
    "print(f\"캐릭터 상태 - 체력: {hp}, 마나: {mp}, 공격력: {attack}\")\n",
    "\n",
    "# 4. 설정 정보\n",
    "SCREEN_SIZE = (800, 600)\n",
    "width, height = SCREEN_SIZE\n",
    "print(f\"화면 크기: {width}x{height}\")"
   ],
   "outputs": [
    {
     "name": "stdout",
     "output_type": "stream",
     "text": [
      "캐릭터 상태 - 체력: 100, 마나: 50, 공격력: 25\n",
      "화면 크기: 800x600\n"
     ]
    }
   ],
   "execution_count": 1
  },
  {
   "cell_type": "code",
   "source": [
    "# 100만건 데이터로 메모리 사용량 비교\n",
    "import sys\n",
    "import time\n",
    "import random\n",
    "\n",
    "# 100만개의 랜덤 실수 데이터 생성\n",
    "data_size = 10000000\n",
    "print(f\"=== {data_size:,}건 랜덤 실수 데이터 비교 ===\")\n",
    "\n",
    "# 랜덤 실수 데이터 생성 (0.0 ~ 1000.0 범위)\n",
    "random_floats = [random.uniform(0.0, 1000.0) for _ in range(data_size)]\n",
    "\n",
    "# 랜덤 튜플 데이터 생성\n",
    "random_tuples = tuple(zip(\n",
    "    [random.uniform(0.0, 1000.0) for _ in range(data_size)],))\n"
   ],
   "metadata": {
    "jupyter": {
     "is_executing": true
    },
    "ExecuteTime": {
     "start_time": "2025-08-30T03:24:51.171123Z"
    }
   },
   "outputs": [
    {
     "name": "stdout",
     "output_type": "stream",
     "text": [
      "=== 10,000,000건 랜덤 실수 데이터 비교 ===\n"
     ]
    }
   ],
   "execution_count": null
  },
  {
   "metadata": {
    "ExecuteTime": {
     "end_time": "2025-08-30T03:24:49.220707Z",
     "start_time": "2025-08-30T03:24:47.061256Z"
    }
   },
   "cell_type": "code",
   "source": [
    "# 2. 읽기 속도 비교 (순회)\n",
    "print(\"\\\\n2. 순회 속도 비교:\")\n",
    "\n",
    "# Tuple 순회 시간 측정\n",
    "start_time = time.time()\n",
    "total = 0\n",
    "for item in random_tuples:\n",
    "    total += 1\n",
    "tuple_time = time.time() - start_time\n",
    "\n",
    "# List 순회 시간 측정\n",
    "start_time = time.time()\n",
    "total = 0\n",
    "for item in random_floats:\n",
    "    total += 1\n",
    "list_time = time.time() - start_time\n",
    "\n",
    "print(f\"Tuple 순회 시간: {tuple_time:.4f}초\")\n",
    "print(f\"List 순회 시간:  {list_time:.4f}초\")\n",
    "if tuple_time < list_time:\n",
    "    print(f\"Tuple이 {(list_time/tuple_time-1)*100:.1f}% 빠름\")\n",
    "else:\n",
    "    print(f\"List가 {(tuple_time/list_time-1)*100:.1f}% 빠름\")"
   ],
   "outputs": [
    {
     "name": "stdout",
     "output_type": "stream",
     "text": [
      "\\n2. 순회 속도 비교:\n",
      "Tuple 순회 시간: 1.0847초\n",
      "List 순회 시간:  1.0667초\n",
      "List가 1.7% 빠름\n"
     ]
    }
   ],
   "execution_count": 10
  },
  {
   "metadata": {
    "ExecuteTime": {
     "end_time": "2025-08-30T03:24:40.283839Z",
     "start_time": "2025-08-30T03:24:20.187542Z"
    }
   },
   "cell_type": "code",
   "source": [
    "# 3. 인덱싱 속도 비교\n",
    "print(\"\\\\n3. 인덱싱 속도 비교:\")\n",
    "\n",
    "# Tuple 인덱싱 시간 측정 (100만번 랜덤 접근)\n",
    "import random\n",
    "indices = [random.randint(0, data_size-1) for _ in range(data_size)]\n",
    "\n",
    "start_time = time.time()\n",
    "for i in indices:\n",
    "    value = random_tuples[i]\n",
    "tuple_index_time = time.time() - start_time\n",
    "\n",
    "# List 인덱싱 시간 측정 (같은 인덱스들로)\n",
    "start_time = time.time()\n",
    "for i in indices:\n",
    "    value = random_floats[i]\n",
    "list_index_time = time.time() - start_time\n",
    "\n",
    "print(f\"Tuple 인덱싱 시간: {tuple_index_time:.4f}초\")\n",
    "print(f\"List 인덱싱 시간:  {list_index_time:.4f}초\")\n",
    "if tuple_index_time < list_index_time:\n",
    "    print(f\"Tuple이 {(list_index_time/tuple_index_time-1)*100:.1f}% 빠름\")\n",
    "else:\n",
    "    print(f\"List가 {(tuple_index_time/list_index_time-1)*100:.1f}% 빠름\")"
   ],
   "outputs": [
    {
     "name": "stdout",
     "output_type": "stream",
     "text": [
      "\\n3. 인덱싱 속도 비교:\n",
      "Tuple 인덱싱 시간: 5.4438초\n",
      "List 인덱싱 시간:  4.9186초\n",
      "List가 10.7% 빠름\n"
     ]
    }
   ],
   "execution_count": 8
  },
  {
   "metadata": {},
   "cell_type": "code",
   "source": [
    "# 4. 결론\n",
    "print(\"\\\\n=== 결론 ===\")\n",
    "print(\"✅ Tuple의 장점:\")\n",
    "print(\"   - 캐싱 가능해서 재사용시 빨라짐 - 처음엔 느림\")\n",
    "print(\"   - 불변이므로 안전하고 예측 가능\")\n",
    "print(\"   - 딕셔너리 키로 사용 가능\")\n",
    "print()\n",
    "print(\"✅ List의 장점:\")\n",
    "print(\"   - 내용 변경 가능 (append, remove 등)\")\n",
    "print(\"   - 동적 크기 조절 가능\")\n",
    "print(\"   - 다양한 메서드 제공\")\n",
    "print(\"   - 순회 작업이 빠름\")\n",
    "print()\n",
    "print(\"💡 사용 권장:\")\n",
    "print(\"   - 변경하지 않을 데이터 → Tuple\")\n",
    "print(\"   - 변경해야 하는 데이터 → List\")"
   ],
   "outputs": [],
   "execution_count": null
  },
  {
   "metadata": {},
   "cell_type": "code",
   "source": "'바나나' in ('망고', '바나나')",
   "outputs": [],
   "execution_count": null
  },
  {
   "metadata": {},
   "cell_type": "code",
   "source": "",
   "outputs": [],
   "execution_count": null
  }
 ],
 "metadata": {
  "kernelspec": {
   "display_name": "Python 3",
   "language": "python",
   "name": "python3"
  },
  "language_info": {
   "codemirror_mode": {
    "name": "ipython",
    "version": 3
   },
   "file_extension": ".py",
   "mimetype": "text/x-python",
   "name": "python",
   "nbconvert_exporter": "python",
   "pygments_lexer": "ipython3",
   "version": "3.8.5"
  }
 },
 "nbformat": 4,
 "nbformat_minor": 4
}
