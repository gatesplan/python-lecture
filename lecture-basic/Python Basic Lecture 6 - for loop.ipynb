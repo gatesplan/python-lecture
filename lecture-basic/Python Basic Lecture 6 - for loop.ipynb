{
 "cells": [
  {
   "cell_type": "markdown",
   "metadata": {},
   "source": [
    "# 복습 키워드\n",
    "\n",
    "1. `print()` 출력함수\n",
    "2. `print(sep: str, end: str)` 출력함수의 키워드 파라메터\n",
    "3. `f-string` 문법\n",
    "4. `\"str\".builtin()` 기본적인 문자열 빌트인 함수들\n",
    "    - `\"str\".upper()` 대문자로 변환\n",
    "    - `\"str\".lower()` 소문자로 변환\n",
    "    - `\"str\".capitalize()` 첫 글자만 대문자로 변환\n",
    "    - `\"str\".replace(old:str, new:str)` 특정 문자열 교체\n",
    "    - `\"str\".strip()` 양쪽 공백 제거\n",
    "    - `\"str\".lstrip()` 왼쪽 공백 제거\n",
    "    - `\"str\".rstrip()` 오른쪽 공백 제거\n",
    "5. list 자료형 선언과 사용법\n",
    "    - `list = [1, 2, 3]` 리스트 선언\n",
    "    - `print(list)` 리스트 출력\n",
    "    - `list(\"str\")` 문자열을 리스트로 변환\n",
    "    - `\"str\".split(sep: str)` 문자열을 리스트로 변환\n",
    "    - `list[a:b]` 리스트 슬라이싱\n",
    "6. `*list` 언패킹\n",
    "7. `[].builtin()` 리스트 빌트인 함수들\n",
    "    - `[].append(any)` 리스트에 요소 추가\n",
    "    - `[].insert(index:int, any)` 리스트 특정 위치에 요소 추가\n",
    "    - `[].extend(list)` 리스트에 다른 리스트 요소 추가\n",
    "    - `[].remove(any)` 리스트에서 요소 제거\n",
    "    - `[].pop()` 리스트 마지막 요소 제거\n",
    "    - `[].clear()` 리스트 비우기\n",
    "    - `[].index(any)` 리스트에서 요소의 인덱스 찾기\n",
    "    - `[].count(any)` 리스트에서 요소의 개수 세기\n",
    "    - `[].sort()` 리스트 정렬\n",
    "    - `[].reverse()` 리스트 역순 정렬\n",
    "    - `[].copy()` 리스트 복사\n",
    "8. `input()` 입력 함수\n",
    "9. `type()` 자료형 확인 함수\n",
    "10. 자료형 변환 (캐스팅)\n",
    "    - `int()` 정수로 변환\n",
    "    - `float()` 실수로 변환\n",
    "    - `str()` 문자열로 변환\n",
    "    - `list()` 리스트로 변환\n",
    "11. 조건문 (if문)\n",
    "    - `if` 문\n",
    "    - `if-else` 문\n",
    "    - `if-elif-else` 문\n",
    "    - 비교연산자: `==`, `!=`, `>`, `<`, `>=`, `<=`\n",
    "    - 논리연산자: `and`, `or`, `not`\n",
    "    - `in` 연산자"
   ]
  },
  {
   "cell_type": "markdown",
   "metadata": {},
   "source": [
    "# Python Basic Lecture 6: for문 (for loop)\n",
    "\n",
    "이번 단원에서는 프로그램의 흐름을 제어하는 핵심적인 방법인 반복문 중 **for문**을 배운다.\n",
    "\n",
    "for문을 사용하면 같은 작업을 여러 번 반복할 수 있고, 리스트나 문자열의 각 요소를 하나씩 처리할 수 있다.\n",
    "\n",
    "1. 기본 for문 (리스트, 문자열 순회)\n",
    "2. `range()` 함수와 for문\n",
    "3. `enumerate()` 함수 활용\n",
    "4. `zip()` 함수 활용\n",
    "5. `enumerate(zip())` 조합 활용"
   ]
  },
  {
   "cell_type": "markdown",
   "metadata": {},
   "source": [
    "## 1. 기본 for문\n",
    "\n",
    "for문의 가장 기본적인 사용법은 리스트나 문자열의 각 요소를 하나씩 가져와서 처리하는 것이다."
   ]
  },
  {
   "cell_type": "code",
   "execution_count": null,
   "metadata": {},
   "outputs": [],
   "source": [
    "# 리스트의 각 요소 출력\n",
    "fruits = ['사과', '바나나', '오렌지']\n",
    "for fruit in fruits:\n",
    "    print(fruit)"
   ]
  },
  {
   "cell_type": "code",
   "execution_count": null,
   "metadata": {},
   "outputs": [],
   "source": [
    "# 문자열의 각 글자 출력\n",
    "word = \"HELLO\"\n",
    "for char in word:\n",
    "    print(char)"
   ]
  },
  {
   "cell_type": "code",
   "execution_count": null,
   "metadata": {},
   "outputs": [],
   "source": [
    "# 숫자 리스트 처리\n",
    "numbers = [1, 2, 3, 4, 5]\n",
    "total = 0\n",
    "for number in numbers:\n",
    "    total = total + number\n",
    "print(f\"합계: {total}\")"
   ]
  },
  {
   "cell_type": "code",
   "execution_count": null,
   "metadata": {},
   "outputs": [],
   "source": [
    "# for문에 조건문 활용\n",
    "numbers = [1, 2, 3, 4, 5, 6]\n",
    "for number in numbers:\n",
    "    if number % 2 == 0:\n",
    "        print(f\"{number}는 짝수\")\n",
    "    else:\n",
    "        print(f\"{number}는 홀수\")"
   ]
  },
  {
   "cell_type": "markdown",
   "metadata": {},
   "source": [
    "### 연습문제 - 기본 for문"
   ]
  },
  {
   "cell_type": "code",
   "execution_count": null,
   "metadata": {},
   "outputs": [],
   "source": [
    "# 1. 색깔 리스트의 모든 요소를 출력하세요\n",
    "colors = ['빨강', '파랑', '노랑', '초록']\n",
    "# 여기에 코드 작성"
   ]
  },
  {
   "cell_type": "code",
   "execution_count": null,
   "metadata": {},
   "outputs": [],
   "source": [
    "# 2. 문자열 \"PYTHON\"의 각 글자를 한 줄씩 출력하세요\n",
    "# 여기에 코드 작성"
   ]
  },
  {
   "cell_type": "code",
   "execution_count": null,
   "metadata": {},
   "outputs": [],
   "source": [
    "# 3. 숫자 리스트 [10, 20, 30, 40, 50]의 평균을 구하세요\n",
    "numbers = [10, 20, 30, 40, 50]\n",
    "# 여기에 코드 작성"
   ]
  },
  {
   "cell_type": "markdown",
   "metadata": {},
   "source": [
    "## 2. range() 함수와 for문\n",
    "\n",
    "`range()` 함수는 연속된 숫자를 생성하는 함수로, for문과 함께 매우 자주 사용된다.\n",
    "\n",
    "- `range(n)`: 0부터 n-1까지\n",
    "- `range(start, stop)`: start부터 stop-1까지\n",
    "- `range(start, stop, step)`: start부터 stop-1까지 step씩 증가"
   ]
  },
  {
   "cell_type": "code",
   "execution_count": null,
   "metadata": {},
   "outputs": [],
   "source": [
    "# range(n) - 0부터 n-1까지\n",
    "for i in range(5):\n",
    "    print(i)"
   ]
  },
  {
   "cell_type": "code",
   "execution_count": null,
   "metadata": {},
   "outputs": [],
   "source": [
    "# range(start, stop) - start부터 stop-1까지\n",
    "for i in range(1, 6):\n",
    "    print(f\"{i}번째\")"
   ]
  },
  {
   "cell_type": "code",
   "execution_count": null,
   "metadata": {},
   "outputs": [],
   "source": [
    "# range(start, stop, step) - step씩 증가\n",
    "for i in range(0, 10, 2):\n",
    "    print(f\"짝수: {i}\")"
   ]
  },
  {
   "cell_type": "code",
   "execution_count": null,
   "metadata": {},
   "outputs": [],
   "source": [
    "# 거꾸로 세기 (음수 step)\n",
    "for i in range(5, 0, -1):\n",
    "    print(f\"카운트다운: {i}\")\n",
    "print(\"발사!\")"
   ]
  },
  {
   "cell_type": "code",
   "execution_count": null,
   "metadata": {},
   "outputs": [],
   "source": [
    "# 구구단 만들기\n",
    "dan = 3\n",
    "for i in range(1, 10):\n",
    "    print(f\"{dan} x {i} = {dan * i}\")"
   ]
  },
  {
   "cell_type": "code",
   "execution_count": null,
   "metadata": {},
   "outputs": [],
   "source": [
    "# 별표 패턴 만들기\n",
    "for i in range(1, 6):\n",
    "    print(\"*\" * i)"
   ]
  },
  {
   "cell_type": "markdown",
   "metadata": {},
   "source": [
    "### 연습문제 - range() 함수"
   ]
  },
  {
   "cell_type": "code",
   "execution_count": null,
   "metadata": {},
   "outputs": [],
   "source": [
    "# 1. 1부터 10까지 출력하세요\n",
    "# 여기에 코드 작성"
   ]
  },
  {
   "cell_type": "code",
   "execution_count": null,
   "metadata": {},
   "outputs": [],
   "source": [
    "# 2. 1부터 100까지의 합을 구하세요\n",
    "# 여기에 코드 작성"
   ]
  },
  {
   "cell_type": "code",
   "execution_count": null,
   "metadata": {},
   "outputs": [],
   "source": [
    "# 3. 5의 배수를 5부터 50까지 출력하세요\n",
    "# 여기에 코드 작성"
   ]
  },
  {
   "cell_type": "markdown",
   "metadata": {},
   "source": [
    "## 3. enumerate() 함수 활용\n",
    "\n",
    "`enumerate()` 함수는 리스트의 요소와 함께 그 인덱스(위치)도 함께 가져올 수 있게 해준다.\n",
    "\n",
    "순위를 매기거나 번호를 붙일 때 매우 유용하다."
   ]
  },
  {
   "cell_type": "code",
   "execution_count": null,
   "metadata": {},
   "outputs": [],
   "source": [
    "# 기본 enumerate 사용법\n",
    "fruits = ['사과', '바나나', '오렌지']\n",
    "for i, fruit in enumerate(fruits):\n",
    "    print(f\"{i}: {fruit}\")"
   ]
  },
  {
   "cell_type": "code",
   "execution_count": null,
   "metadata": {},
   "outputs": [],
   "source": [
    "# 순위 매기기 (인덱스에 1을 더함)\n",
    "students = ['김철수', '이영희', '박민수']\n",
    "for i, student in enumerate(students):\n",
    "    print(f\"{i+1}등: {student}\")"
   ]
  },
  {
   "cell_type": "code",
   "execution_count": null,
   "metadata": {},
   "outputs": [],
   "source": [
    "# 문자열에서 enumerate 사용\n",
    "word = \"HELLO\"\n",
    "for i, char in enumerate(word):\n",
    "    print(f\"{i+1}번째 글자: {char}\")"
   ]
  },
  {
   "cell_type": "code",
   "execution_count": null,
   "metadata": {},
   "outputs": [],
   "source": [
    "# 조건에 맞는 인덱스 찾기\n",
    "numbers = [10, 25, 30, 15, 40]\n",
    "for i, number in enumerate(numbers):\n",
    "    if number > 20:\n",
    "        print(f\"인덱스 {i}에서 {number} 발견\")"
   ]
  },
  {
   "cell_type": "markdown",
   "metadata": {},
   "source": [
    "### 연습문제 - enumerate() 함수"
   ]
  },
  {
   "cell_type": "code",
   "execution_count": null,
   "metadata": {},
   "outputs": [],
   "source": [
    "# 1. 과일 리스트에 번호를 매겨 출력하세요 (1번: 사과 형식)\n",
    "fruits = ['사과', '바나나', '오렌지', '포도']\n",
    "# 여기에 코드 작성"
   ]
  },
  {
   "cell_type": "code",
   "execution_count": null,
   "metadata": {},
   "outputs": [],
   "source": [
    "# 2. 짝수 인덱스에 있는 요소만 출력하세요\n",
    "colors = ['빨강', '파랑', '노랑', '초록', '보라']\n",
    "# 여기에 코드 작성"
   ]
  },
  {
   "cell_type": "code",
   "execution_count": null,
   "metadata": {},
   "outputs": [],
   "source": [
    "# 3. 리스트에서 특정 값의 위치를 모두 찾아 출력하세요\n",
    "numbers = [1, 3, 2, 3, 4, 3, 5]\n",
    "target = 3\n",
    "# 여기에 코드 작성"
   ]
  },
  {
   "cell_type": "markdown",
   "metadata": {},
   "source": [
    "## 4. zip() 함수 활용\n",
    "\n",
    "`zip()` 함수는 여러 개의 리스트를 동시에 순회할 수 있게 해준다.\n",
    "\n",
    "이름과 점수, 과목과 성적 등 대응되는 데이터를 함께 처리할 때 유용하다."
   ]
  },
  {
   "cell_type": "code",
   "execution_count": null,
   "metadata": {},
   "outputs": [],
   "source": [
    "# 기본 zip 사용법\n",
    "names = ['김철수', '이영희', '박민수']\n",
    "scores = [85, 92, 78]\n",
    "\n",
    "for name, score in zip(names, scores):\n",
    "    print(f\"{name}: {score}점\")"
   ]
  },
  {
   "cell_type": "code",
   "execution_count": null,
   "metadata": {},
   "outputs": [],
   "source": [
    "# 세 개 이상의 리스트도 가능\n",
    "subjects = ['수학', '영어', '과학']\n",
    "scores = [85, 92, 78]\n",
    "grades = ['B', 'A', 'C']\n",
    "\n",
    "for subject, score, grade in zip(subjects, scores, grades):\n",
    "    print(f\"{subject}: {score}점 ({grade}등급)\")"
   ]
  },
  {
   "cell_type": "code",
   "execution_count": null,
   "metadata": {},
   "outputs": [],
   "source": [
    "# 두 리스트의 요소 연산\n",
    "list1 = [1, 2, 3, 4, 5]\n",
    "list2 = [10, 20, 30, 40, 50]\n",
    "\n",
    "for a, b in zip(list1, list2):\n",
    "    print(f\"{a} + {b} = {a + b}\")"
   ]
  },
  {
   "cell_type": "code",
   "execution_count": null,
   "metadata": {},
   "outputs": [],
   "source": [
    "# 실용적 예제: 상품과 가격\n",
    "products = ['노트북', '마우스', '키보드']\n",
    "prices = [1000000, 30000, 80000]\n",
    "\n",
    "total_price = 0\n",
    "for product, price in zip(products, prices):\n",
    "    print(f\"{product}: {price:,}원\")\n",
    "    total_price += price\n",
    "    \n",
    "print(f\"총 가격: {total_price:,}원\")"
   ]
  },
  {
   "cell_type": "markdown",
   "metadata": {},
   "source": [
    "### 연습문제 - zip() 함수"
   ]
  },
  {
   "cell_type": "code",
   "execution_count": null,
   "metadata": {},
   "outputs": [],
   "source": [
    "# 1. 도시와 온도를 함께 출력하세요\n",
    "cities = ['서울', '부산', '대구', '광주']\n",
    "temperatures = [15, 18, 12, 16]\n",
    "# 여기에 코드 작성"
   ]
  },
  {
   "cell_type": "code",
   "execution_count": null,
   "metadata": {},
   "outputs": [],
   "source": [
    "# 2. 두 시험 점수를 비교해서 향상/하락 여부를 출력하세요\n",
    "first_exam = [80, 75, 90, 85]\n",
    "second_exam = [85, 70, 95, 85]\n",
    "# 여기에 코드 작성"
   ]
  },
  {
   "cell_type": "code",
   "execution_count": null,
   "metadata": {},
   "outputs": [],
   "source": [
    "# 3. 영어 단어와 한국어 뜻을 매칭해서 출력하세요\n",
    "english = ['apple', 'banana', 'orange', 'grape']\n",
    "korean = ['사과', '바나나', '오렌지', '포도']\n",
    "# 여기에 코드 작성"
   ]
  },
  {
   "cell_type": "markdown",
   "metadata": {},
   "source": [
    "## 5. enumerate(zip()) 조합 활용\n",
    "\n",
    "`enumerate()`와 `zip()`을 함께 사용하면 순번과 여러 리스트의 대응 요소를 모두 가져올 수 있다.\n",
    "\n",
    "복잡한 데이터를 체계적으로 처리할 때 매우 유용하다."
   ]
  },
  {
   "cell_type": "code",
   "execution_count": null,
   "metadata": {},
   "outputs": [],
   "source": [
    "# 기본 enumerate(zip()) 사용법\n",
    "names = ['김철수', '이영희', '박민수']\n",
    "scores = [85, 92, 78]\n",
    "\n",
    "for i, (name, score) in enumerate(zip(names, scores)):\n",
    "    print(f\"{i+1}등: {name} - {score}점\")"
   ]
  },
  {
   "cell_type": "code",
   "execution_count": null,
   "metadata": {},
   "outputs": [],
   "source": [
    "# 세 개 리스트와 순번 함께 처리\n",
    "students = ['홍길동', '김영수', '이민정']\n",
    "korean = [90, 85, 95]\n",
    "math = [80, 95, 85]\n",
    "\n",
    "for i, (student, kor, mat) in enumerate(zip(students, korean, math)):\n",
    "    average = (kor + mat) / 2\n",
    "    print(f\"{i+1}번 {student}: 국어 {kor}, 수학 {mat}, 평균 {average:.1f}\")"
   ]
  },
  {
   "cell_type": "code",
   "execution_count": null,
   "metadata": {},
   "outputs": [],
   "source": [
    "# 조건에 따른 처리\n",
    "products = ['노트북', '마우스', '키보드', '모니터']\n",
    "prices = [1000000, 30000, 80000, 300000]\n",
    "\n",
    "for i, (product, price) in enumerate(zip(products, prices)):\n",
    "    if price >= 100000:\n",
    "        category = \"고가품\"\n",
    "    else:\n",
    "        category = \"일반품\"\n",
    "    print(f\"{i+1}. {product}: {price:,}원 ({category})\")"
   ]
  },
  {
   "cell_type": "code",
   "execution_count": null,
   "metadata": {},
   "outputs": [],
   "source": [
    "# 월별 데이터 분석\n",
    "months = ['1월', '2월', '3월', '4월']\n",
    "income = [300, 350, 280, 400]\n",
    "expense = [250, 300, 290, 320]\n",
    "\n",
    "for i, (month, inc, exp) in enumerate(zip(months, income, expense)):\n",
    "    profit = inc - exp\n",
    "    status = \"흑자\" if profit > 0 else \"적자\"\n",
    "    print(f\"{i+1}분기 {month}: 수입 {inc}, 지출 {exp}, {status} {abs(profit)}\")"
   ]
  },
  {
   "cell_type": "markdown",
   "metadata": {},
   "source": [
    "### 연습문제 - enumerate(zip()) 조합"
   ]
  },
  {
   "cell_type": "code",
   "execution_count": null,
   "metadata": {},
   "outputs": [],
   "source": [
    "# 1. 과목과 점수를 순위와 함께 출력하세요\n",
    "subjects = ['수학', '영어', '과학', '사회']\n",
    "scores = [85, 92, 78, 88]\n",
    "# 여기에 코드 작성"
   ]
  },
  {
   "cell_type": "code",
   "execution_count": null,
   "metadata": {},
   "outputs": [],
   "source": [
    "# 2. 색깔과 개수를 인덱스와 함께 출력하되, 짝수 인덱스만 처리하세요\n",
    "colors = ['빨강', '파랑', '노랑', '초록', '보라', '검정']\n",
    "counts = [5, 3, 8, 2, 6, 4]\n",
    "# 여기에 코드 작성"
   ]
  },
  {
   "cell_type": "code",
   "execution_count": null,
   "metadata": {},
   "outputs": [],
   "source": [
    "# 3. 학생, 국어점수, 영어점수를 받아서 평균이 90점 이상인 학생만 출력하세요\n",
    "students = ['김철수', '이영희', '박민수', '최유진']\n",
    "korean_scores = [85, 95, 80, 92]\n",
    "english_scores = [90, 88, 75, 96]\n",
    "# 여기에 코드 작성"
   ]
  },
  {
   "cell_type": "markdown",
   "metadata": {},
   "source": [
    "## 실용적인 종합 예제들"
   ]
  },
  {
   "cell_type": "code",
   "execution_count": null,
   "metadata": {},
   "outputs": [],
   "source": [
    "# 학급 성적 관리 시스템\n",
    "students = ['김철수', '이영희', '박민수', '최유진', '정태호']\n",
    "korean = [85, 90, 78, 88, 92]\n",
    "english = [80, 85, 82, 90, 87]\n",
    "math = [90, 88, 85, 85, 95]\n",
    "\n",
    "print(\"=== 학급 성적표 ===\")\n",
    "print(\"순위\\t이름\\t\\t국어\\t영어\\t수학\\t평균\")\n",
    "print(\"-\" * 50)\n",
    "\n",
    "for i, (name, kor, eng, mat) in enumerate(zip(students, korean, english, math)):\n",
    "    avg = (kor + eng + mat) / 3\n",
    "    print(f\"{i+1}\\t{name}\\t\\t{kor}\\t{eng}\\t{mat}\\t{avg:.1f}\")"
   ]
  },
  {
   "cell_type": "code",
   "execution_count": null,
   "metadata": {},
   "outputs": [],
   "source": [
    "# 온라인 쇼핑몰 주문 처리\n",
    "products = ['노트북', '마우스', '키보드', '모니터', '스피커']\n",
    "prices = [1200000, 35000, 90000, 280000, 150000]\n",
    "quantities = [1, 2, 1, 1, 2]\n",
    "\n",
    "print(\"=== 주문 내역 ===\")\n",
    "total_amount = 0\n",
    "\n",
    "for i, (product, price, qty) in enumerate(zip(products, prices, quantities)):\n",
    "    subtotal = price * qty\n",
    "    total_amount += subtotal\n",
    "    print(f\"{i+1}. {product}: {price:,}원 x {qty}개 = {subtotal:,}원\")\n",
    "\n",
    "print(\"-\" * 40)\n",
    "print(f\"총 주문금액: {total_amount:,}원\")"
   ]
  },
  {
   "cell_type": "code",
   "execution_count": null,
   "metadata": {},
   "outputs": [],
   "source": [
    "# 날씨 데이터 분석\n",
    "cities = ['서울', '부산', '대구', '인천', '광주', '대전', '울산']\n",
    "temperatures = [15, 18, 12, 14, 16, 13, 17]\n",
    "humidity = [60, 70, 55, 65, 68, 58, 72]\n",
    "\n",
    "print(\"=== 전국 날씨 현황 ===\")\n",
    "\n",
    "hot_cities = []\n",
    "humid_cities = []\n",
    "\n",
    "for i, (city, temp, hum) in enumerate(zip(cities, temperatures, humidity)):\n",
    "    print(f\"{i+1}. {city}: {temp}°C, 습도 {hum}%\")\n",
    "    \n",
    "    if temp >= 16:\n",
    "        hot_cities.append(city)\n",
    "    if hum >= 65:\n",
    "        humid_cities.append(city)\n",
    "\n",
    "print(f\"\\n더운 지역 (16도 이상): {', '.join(hot_cities)}\")\n",
    "print(f\"습한 지역 (습도 65% 이상): {', '.join(humid_cities)}\")"
   ]
  },
  {
   "cell_type": "markdown",
   "metadata": {},
   "source": [
    "## 최종 종합 연습문제\n",
    "\n",
    "지금까지 배운 모든 for문 기법을 활용해서 다음 문제들을 해결해보자."
   ]
  },
  {
   "cell_type": "code",
   "execution_count": null,
   "metadata": {},
   "outputs": [],
   "source": [
    "# 문제 1: 구구단 전체 출력하기\n",
    "# 2단부터 9단까지 모든 구구단을 출력하세요\n",
    "# 힌트: range()를 중첩해서 사용하세요"
   ]
  },
  {
   "cell_type": "code",
   "execution_count": null,
   "metadata": {},
   "outputs": [],
   "source": [
    "# 문제 2: 학생별 총점과 평균 계산\n",
    "students = ['김철수', '이영희', '박민수']\n",
    "korean = [85, 90, 78]\n",
    "english = [80, 85, 82]\n",
    "math = [90, 88, 85]\n",
    "science = [88, 92, 80]\n",
    "\n",
    "# 각 학생의 총점과 평균을 계산해서 출력하세요\n",
    "# 출력 예: \"1등 김철수: 총점 343점, 평균 85.8점\""
   ]
  },
  {
   "cell_type": "code",
   "execution_count": null,
   "metadata": {},
   "outputs": [],
   "source": [
    "# 문제 3: 단어 빈도수 계산\n",
    "sentence = \"python is great python is fun python is useful\"\n",
    "words = sentence.split()\n",
    "\n",
    "# 각 단어가 몇 번 나타나는지 세어서 출력하세요\n",
    "# 힌트: 빈 리스트를 만들고 이미 처리한 단어는 건너뛰세요"
   ]
  },
  {
   "cell_type": "code",
   "execution_count": null,
   "metadata": {},
   "outputs": [],
   "source": [
    "# 문제 4: 가장 긴 단어 찾기\n",
    "words = ['apple', 'banana', 'orange', 'grape', 'watermelon', 'kiwi']\n",
    "\n",
    "# 가장 긴 단어와 그 길이를 찾아서 출력하세요\n",
    "# enumerate()를 사용해서 위치도 함께 출력하세요"
   ]
  },
  {
   "cell_type": "code",
   "execution_count": null,
   "metadata": {},
   "outputs": [],
   "source": [
    "# 문제 5: 패턴 만들기\n",
    "# 다음과 같은 패턴을 출력하세요:\n",
    "# 1\n",
    "# 12\n",
    "# 123\n",
    "# 1234\n",
    "# 12345\n",
    "# range()와 문자열 연결을 활용하세요"
   ]
  }
 ],
 "metadata": {
  "kernelspec": {
   "display_name": "Python 3",
   "language": "python",
   "name": "python3"
  },
  "language_info": {
   "codemirror_mode": {
    "name": "ipython",
    "version": 3
   },
   "file_extension": ".py",
   "mimetype": "text/x-python",
   "name": "python",
   "nbconvert_exporter": "python",
   "pygments_lexer": "ipython3",
   "version": "3.8.0"
  }
 },
 "nbformat": 4,
 "nbformat_minor": 4
}