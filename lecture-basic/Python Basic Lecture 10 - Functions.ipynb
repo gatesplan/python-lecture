{
 "cells": [
  {
   "cell_type": "markdown",
   "metadata": {},
   "source": [
    "# 복습 키워드\n",
    "\n",
    "1~8강 요약:\n",
    "1. `print()` 출력함수와 `f-string` 문법\n",
    "2. 문자열 빌트인 함수들 (`upper()`, `lower()`, `replace()`, `split()` 등)\n",
    "3. 리스트 자료형과 빌트인 메서드들 (`append()`, `extend()`, `remove()`, `sort()` 등)\n",
    "4. `input()` 입력함수와 자료형 변환\n",
    "5. 조건문 (`if`, `elif`, `else`)과 비교/논리 연산자\n",
    "6. Dictionary 자료형과 for문, `range()`, `enumerate()`, `zip()` 함수\n",
    "7. Tuple 자료형과 언패킹, `len()`, `max()`, `min()`, `sum()` 빌트인 함수들\n",
    "8. While문과 `break`, `continue`, 안전장치 (무한루프 방지)\n",
    "\n",
    "9강 (리스트 컴프리헨션) 상세:\n",
    "- `[표현식 for 항목 in 반복가능객체]` 기본 문법\n",
    "- `[표현식 for 항목 in 반복가능객체 if 조건]` 조건부 컴프리헨션\n",
    "- `[표현식1 if 조건 else 표현식2 for 항목 in 반복가능객체]` 삼항 연산자 활용\n",
    "- 딕셔너리 컴프리헨션 `{key: value for 항목 in 반복가능객체}`\n",
    "- 셋 컴프리헨션 `{표현식 for 항목 in 반복가능객체}`"
   ]
  },
  {
   "cell_type": "markdown",
   "metadata": {},
   "source": [
    "# Python Basic Lecture 10: 사용자 정의 함수 (Functions)\n",
    "\n",
    "이번 단원에서는 코드를 재사용하고 모듈화할 수 있는 사용자 정의 함수를 배운다.\n",
    "\n",
    "함수는 특정 작업을 수행하는 코드 블록으로, 코드의 중복을 줄이고 프로그램을 더 체계적으로 만들 수 있게 해준다.\n",
    "\n",
    "구체적인 내용은 다음 다섯 가지이다:\n",
    "\n",
    "1. 함수 정의와 호출\n",
    "2. 매개변수와 인자\n",
    "3. 매개변수의 기본값\n",
    "4. 함수의 타입 힌트\n",
    "5. 가변 매개변수"
   ]
  },
  {
   "cell_type": "markdown",
   "metadata": {},
   "source": [
    "## 1. 함수 정의와 호출\n",
    "\n",
    "함수는 `def` 키워드를 사용해서 정의하고, 함수명을 사용해서 호출한다. `return` 문으로 값을 반환할 수 있다."
   ]
  },
  {
   "metadata": {},
   "cell_type": "code",
   "outputs": [],
   "execution_count": null,
   "source": [
    "# 가장 간단한 함수 정의\n",
    "def greet():\n",
    "    print(\"안녕하세요!\")\n",
    "\n",
    "# 함수 호출\n",
    "greet()"
   ]
  },
  {
   "metadata": {
    "ExecuteTime": {
     "end_time": "2025-08-06T05:09:42.940419Z",
     "start_time": "2025-08-06T05:09:42.934945Z"
    }
   },
   "cell_type": "code",
   "source": [
    "# return을 사용한 함수\n",
    "def get_greeting():\n",
    "    return list(\"안녕하슈!!!!\")  # 반환\n",
    "\n",
    "# 반환값을 변수에 저장\n",
    "sayhello = get_greeting()\n",
    "\n",
    "# 직접 출력도 가능\n",
    "print(get_greeting())"
   ],
   "outputs": [
    {
     "name": "stdout",
     "output_type": "stream",
     "text": [
      "['안', '녕', '하', '슈', '!', '!', '!', '!']\n"
     ]
    }
   ],
   "execution_count": 9
  },
  {
   "metadata": {
    "ExecuteTime": {
     "end_time": "2025-08-06T05:10:27.381136Z",
     "start_time": "2025-08-06T05:10:27.374594Z"
    }
   },
   "cell_type": "code",
   "source": [
    "# 계산을 수행하는 함수\n",
    "def calculate_area():\n",
    "    # 가로, 세로 주어진 직사각형 넓이\n",
    "    return 5 * 3\n",
    "\n",
    "# 함수 호출해서 결과 출력\n",
    "calculate_area()"
   ],
   "outputs": [
    {
     "data": {
      "text/plain": [
       "15"
      ]
     },
     "execution_count": 11,
     "metadata": {},
     "output_type": "execute_result"
    }
   ],
   "execution_count": 11
  },
  {
   "metadata": {},
   "cell_type": "markdown",
   "source": [
    "## 2. 매개변수와 인자\n",
    "\n",
    "함수에 값을 전달하여 더 유연하게 사용할 수 있다. 매개변수(parameter)는 함수 정의에서 사용하고, 인자(argument)는 함수 호출 시 전달하는 실제 값이다."
   ]
  },
  {
   "metadata": {
    "ExecuteTime": {
     "end_time": "2025-08-06T05:12:48.204666Z",
     "start_time": "2025-08-06T05:12:48.197940Z"
    }
   },
   "cell_type": "code",
   "source": [
    "# 매개변수가 있는 함수\n",
    "outername = '1'\n",
    "def greet_person(name, added_name):\n",
    "    print(f\"안녕하세요, {name}님!\", f\"추가 이름: {added_name}\")\n",
    "\n",
    "# 인자를 전달해서 호출\n",
    "greet_person('홍길동', outername)"
   ],
   "outputs": [
    {
     "name": "stdout",
     "output_type": "stream",
     "text": [
      "안녕하세요, 홍길동님! 추가 이름: 1\n"
     ]
    }
   ],
   "execution_count": 14
  },
  {
   "metadata": {
    "ExecuteTime": {
     "end_time": "2025-08-06T05:16:18.813135Z",
     "start_time": "2025-08-06T05:16:18.806500Z"
    }
   },
   "cell_type": "code",
   "source": [
    "# 여러 매개변수가 있는 함수\n",
    "def calc_box_area(width, height):\n",
    "    return width * height\n",
    "\n",
    "# 두 개의 인자를 전달\n",
    "print(calc_box_area(5, 10))"
   ],
   "outputs": [
    {
     "name": "stdout",
     "output_type": "stream",
     "text": [
      "50\n"
     ]
    }
   ],
   "execution_count": 18
  },
  {
   "metadata": {
    "ExecuteTime": {
     "end_time": "2025-08-06T05:20:18.221165Z",
     "start_time": "2025-08-06T05:20:18.213231Z"
    }
   },
   "cell_type": "code",
   "source": [
    "# 키워드 인자 사용\n",
    "def introduce_person(name, age, city):\n",
    "    return f\"{name}은 {age}세이고 {city}에 살고 있습니다.\"\n",
    "\n",
    "# 위치 인자로 호출\n",
    "print(introduce_person(\"김철수\", 25, \"서울\"))\n",
    "print(introduce_person(25, '김철수', '서울'))\n",
    "\n",
    "# 키워드 인자로 호출 (순서 바뀌어도 OK)\n",
    "print(introduce_person(age=25, city='김철수', name='서울'))\n",
    "\n",
    "# 순서!\n",
    "print(introduce_person('김찰스', city='부산', age=30))\n",
    "print(introduce_person('김찰스', age=30, city='부산'))"
   ],
   "outputs": [
    {
     "name": "stdout",
     "output_type": "stream",
     "text": [
      "김철수은 25세이고 서울에 살고 있습니다.\n",
      "25은 김철수세이고 서울에 살고 있습니다.\n",
      "서울은 25세이고 김철수에 살고 있습니다.\n",
      "김찰스은 30세이고 부산에 살고 있습니다.\n",
      "김찰스은 30세이고 부산에 살고 있습니다.\n"
     ]
    }
   ],
   "execution_count": 24
  },
  {
   "metadata": {},
   "cell_type": "markdown",
   "source": [
    "## 3. 매개변수의 기본값\n",
    "\n",
    "매개변수에 기본값을 지정하면 인자를 전달하지 않았을 때 기본값이 사용된다. 기본값이 있는 매개변수는 기본값이 없는 매개변수 뒤에 와야 한다."
   ]
  },
  {
   "metadata": {
    "ExecuteTime": {
     "end_time": "2025-08-06T05:23:20.137154Z",
     "start_time": "2025-08-06T05:23:20.130544Z"
    }
   },
   "cell_type": "code",
   "source": [
    "# 기본값이 있는 매개변수\n",
    "def greet_with_title(name, title=\"님\"):\n",
    "    v = f\"안녕하세요, {name}{title}!\"\n",
    "    print(v)\n",
    "\n",
    "# 기본값 사용\n",
    "greet_with_title('홍길동')\n",
    "\n",
    "# 기본값 대신 다른 값 사용\n",
    "greet_with_title('홍길동', '씨')"
   ],
   "outputs": [
    {
     "name": "stdout",
     "output_type": "stream",
     "text": [
      "안녕하세요, 홍길동님!\n",
      "안녕하세요, 홍길동씨!\n"
     ]
    }
   ],
   "execution_count": 32
  },
  {
   "metadata": {
    "ExecuteTime": {
     "end_time": "2025-08-06T05:25:52.898701Z",
     "start_time": "2025-08-06T05:25:52.893072Z"
    }
   },
   "cell_type": "code",
   "source": [
    "# 여러 기본값 매개변수\n",
    "def create_user_profile(name, age=0, city=\"미정\", job=\"무직\"):\n",
    "    print(name, age, city, job)\n",
    "\n",
    "# 다양한 방식으로 호출\n",
    "create_user_profile('김철수', job='개발자')\n"
   ],
   "outputs": [
    {
     "name": "stdout",
     "output_type": "stream",
     "text": [
      "김철수 0 미정 개발자\n"
     ]
    }
   ],
   "execution_count": 4
  },
  {
   "metadata": {
    "ExecuteTime": {
     "end_time": "2025-08-06T05:30:04.549923Z",
     "start_time": "2025-08-06T05:30:04.542290Z"
    }
   },
   "cell_type": "code",
   "source": [
    "# 주의: 기본값으로 mutable 객체 사용 시 문제점\n",
    "def add_item_bad(item, items=[]):  # 잘못된 예시\n",
    "    items.append(item)\n",
    "    return items\n",
    "\n",
    "# 올바른 방법\n",
    "def add_item_good(item, items=None):\n",
    "    if items is None:\n",
    "        items = []\n",
    "    items.append(item)\n",
    "    return items\n",
    "\n",
    "# 차이점 확인\n",
    "add_item_good('사과')\n",
    "add_item_good('바나나')\n",
    "add_item_good('김치')\n",
    "add_item_good('소세지')"
   ],
   "outputs": [
    {
     "data": {
      "text/plain": [
       "['소세지']"
      ]
     },
     "execution_count": 11,
     "metadata": {},
     "output_type": "execute_result"
    }
   ],
   "execution_count": 11
  },
  {
   "metadata": {},
   "cell_type": "markdown",
   "source": [
    "## 4. 함수의 타입 힌트\n",
    "\n",
    "타입 힌트를 사용하면 함수의 매개변수와 반환값의 타입을 명시할 수 있어 코드의 가독성과 안정성이 향상된다."
   ]
  },
  {
   "metadata": {
    "ExecuteTime": {
     "end_time": "2025-08-06T05:34:30.215595Z",
     "start_time": "2025-08-06T05:34:30.209382Z"
    }
   },
   "cell_type": "code",
   "source": [
    "# 기본 타입 힌트\n",
    "def add_numbers(a: int, b: int) -> float:\n",
    "    return a + b\n",
    "\n",
    "add_numbers(1, 3.5)"
   ],
   "outputs": [
    {
     "data": {
      "text/plain": [
       "4.5"
      ]
     },
     "execution_count": 16,
     "metadata": {},
     "output_type": "execute_result"
    }
   ],
   "execution_count": 16
  },
  {
   "metadata": {
    "ExecuteTime": {
     "end_time": "2025-08-06T05:36:34.823408Z",
     "start_time": "2025-08-06T05:36:34.814829Z"
    }
   },
   "cell_type": "code",
   "source": [
    "# 리스트, 딕셔너리 타입 힌트\n",
    "def get_mean(target: list) -> float:\n",
    "    # 평균 계산 함수 구현\n",
    "    return sum(target) / len(target)\n",
    "\n",
    "print(get_mean([1, 2, 3]))\n",
    "\n",
    "\n",
    "def create_student_info(name: str, age: int) -> dict:\n",
    "    # 학생 정보 딕셔너리 생성\n",
    "    return {\n",
    "        \"이름\": name,\n",
    "        \"나이\": age\n",
    "    }\n",
    "\n",
    "create_student_info('홍길동', 1512)\n"
   ],
   "outputs": [
    {
     "name": "stdout",
     "output_type": "stream",
     "text": [
      "2.0\n"
     ]
    },
    {
     "data": {
      "text/plain": [
       "{'이름': '홍길동', '나이': 1512}"
      ]
     },
     "execution_count": 18,
     "metadata": {},
     "output_type": "execute_result"
    }
   ],
   "execution_count": 18
  },
  {
   "metadata": {
    "ExecuteTime": {
     "end_time": "2025-08-06T05:39:58.154882Z",
     "start_time": "2025-08-06T05:39:58.145907Z"
    }
   },
   "cell_type": "code",
   "source": [
    "# 다양한 기본 타입들\n",
    "def format_price(price: float, currency: str = \"원\") -> str:\n",
    "    # 가격을 문자열로 포맷팅\n",
    "    if currency == \"원\":\n",
    "        return f\"{price}원\"\n",
    "    else:\n",
    "        return f\"{currency}{price}\"\n",
    "\n",
    "print(format_price(1231, '$'))\n",
    "\n",
    "def is_adult(age: int) -> bool:\n",
    "    # 성인 여부 확인\n",
    "    return age >= 20\n",
    "\n",
    "is_adult(20)"
   ],
   "outputs": [
    {
     "name": "stdout",
     "output_type": "stream",
     "text": [
      "$1231\n"
     ]
    },
    {
     "data": {
      "text/plain": [
       "True"
      ]
     },
     "execution_count": 26,
     "metadata": {},
     "output_type": "execute_result"
    }
   ],
   "execution_count": 26
  },
  {
   "metadata": {},
   "cell_type": "markdown",
   "source": [
    "## 5. 가변 매개변수\n",
    "\n",
    "`*args`와 `**kwargs`를 사용해서 가변 개수의 인자를 받을 수 있다. 이를 통해 더 유연한 함수를 만들 수 있다."
   ]
  },
  {
   "metadata": {},
   "cell_type": "code",
   "source": [
    "# *args - 가변 위치 인자\n",
    "def sum_all_numbers(*numbers):\n",
    "    print(type(numbers), numbers)\n",
    "    total = 0\n",
    "    for num in numbers:\n",
    "        total += num\n",
    "\n",
    "    return total\n",
    "\n",
    "# 여러 개의 인자 전달 가능\n",
    "sum_all_numbers(1, 2, 3, 5, 11, 1312, 11, 12)"
   ],
   "outputs": [
    {
     "name": "stdout",
     "output_type": "stream",
     "text": [
      "<class 'list'> (1, 2, 3, 5, 11, 1312, 11, 12, -31231)\n"
     ]
    },
    {
     "data": {
      "text/plain": [
       "-29874"
      ]
     },
     "execution_count": 29,
     "metadata": {},
     "output_type": "execute_result"
    }
   ],
   "execution_count": 29
  },
  {
   "metadata": {
    "ExecuteTime": {
     "end_time": "2025-08-06T05:44:39.785003Z",
     "start_time": "2025-08-06T05:44:39.777019Z"
    }
   },
   "cell_type": "code",
   "source": [
    "# **kwargs - 가변 키워드 인자\n",
    "def create_profile(**info):\n",
    "    profile = \"=== 프로필 ===\"\n",
    "    for key, value in info.items():\n",
    "        profile += f\"{key}: {value}\"\n",
    "    return profile\n",
    "\n",
    "# 키워드 인자들을 딕셔너리로 받음\n",
    "create_profile(name='홍길동', job='무직', is_bold=True)"
   ],
   "outputs": [
    {
     "data": {
      "text/plain": [
       "'=== 프로필 ===name: 홍길동job: 무직is_bold: True'"
      ]
     },
     "execution_count": 35,
     "metadata": {},
     "output_type": "execute_result"
    }
   ],
   "execution_count": 35
  },
  {
   "metadata": {},
   "cell_type": "code",
   "source": [
    "# 일반 매개변수, *args, **kwargs 조합\n",
    "def complex_function(required_param, *args, default_param=\"기본값\", **kwargs):\n",
    "    print(f\"필수 매개변수: {required_param}\")\n",
    "    print(f\"기본값 매개변수: {default_param}\")\n",
    "    print(f\"추가 위치 인자들: {args}\")\n",
    "    print(f\"추가 키워드 인자들: {kwargs}\")\n",
    "\n",
    "# 다양한 방식으로 호출\n",
    "complex_function('필수값', 1, 1, 32, 2, 2, 3, default_param='새로운 기본값', key1='value1', key2='value2')\n"
   ],
   "outputs": [
    {
     "name": "stdout",
     "output_type": "stream",
     "text": [
      "필수 매개변수: 필수값\n",
      "기본값 매개변수: 새로운 기본값\n",
      "추가 위치 인자들: (1, 1, 32, 2, 2, 3)\n",
      "추가 키워드 인자들: {'key1': 'value1', 'key2': 'value2'}\n"
     ]
    }
   ],
   "execution_count": 1
  },
  {
   "metadata": {},
   "cell_type": "code",
   "outputs": [],
   "execution_count": null,
   "source": [
    "# 실용적인 예제: 로그 함수\n",
    "def log_message(level: str, message: str, *details, **metadata):\n",
    "    # 로그 메시지 출력 함수 구현\n",
    "    pass\n",
    "\n",
    "# 다양한 방식으로 로그 출력\n"
   ]
  },
  {
   "metadata": {},
   "cell_type": "code",
   "outputs": [],
   "execution_count": null,
   "source": [
    "# 함수에서 여러 값 반환 (튜플 언패킹 활용)\n",
    "def get_user_info(user_id: int) -> tuple:\n",
    "    name = \"김철수\"\n",
    "    age = 25\n",
    "    city = \"서울\"\n",
    "    return name, age, city  # 튜플로 반환\n",
    "\n",
    "# 튜플로 받기\n",
    "\n",
    "# 언패킹해서 받기\n"
   ]
  }
 ],
 "metadata": {
  "kernelspec": {
   "display_name": "Python 3",
   "language": "python",
   "name": "python3"
  },
  "language_info": {
   "codemirror_mode": {
    "name": "ipython",
    "version": 3
   },
   "file_extension": ".py",
   "mimetype": "text/x-python",
   "name": "python",
   "nbconvert_exporter": "python",
   "pygments_lexer": "ipython3",
   "version": "3.8.5"
  }
 },
 "nbformat": 4,
 "nbformat_minor": 4
}
