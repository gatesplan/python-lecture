{
 "cells": [
  {
   "cell_type": "code",
   "id": "initial_id",
   "metadata": {
    "collapsed": true,
    "ExecuteTime": {
     "end_time": "2025-08-13T05:58:45.462816Z",
     "start_time": "2025-08-13T05:58:45.451142Z"
    }
   },
   "source": [
    "class Character:\n",
    "    def __init__(self, health: int = 100, armor_strategy = None):\n",
    "        self.health = health\n",
    "        self.armor_strtg = armor_strategy\n",
    "\n",
    "    def take_damage(self, damage):\n",
    "        damage = self.armor_strtg.calculate_damage(damage)\n",
    "        self.health -= damage\n",
    "        if self.health <= 0:\n",
    "            self.health = 0\n",
    "            print(\"Character is dead.\")\n",
    "\n",
    "        else:\n",
    "            print(f\"Character took {damage} damage, remaining health: {self.health}\")\n",
    "\n",
    "    def set_armor_strategy(self, armor_strategy):\n",
    "        self.armor_strtg = armor_strategy\n",
    "\n",
    "\n",
    "\n",
    "class LightArmorStrategy:\n",
    "    def calculate_damage(self, damage):\n",
    "        return damage * 0.9  # 10% damage reduction\n",
    "\n",
    "class HeavyArmorStrategy:\n",
    "    def calculate_damage(self, damage):\n",
    "        return damage * 0.5  # 50% damage reduction\n",
    "\n",
    "class MasterLeeArmorStrategy:\n",
    "    def calculate_damage(self, damage):\n",
    "        return damage * 2  # 90% damage reduction\n",
    "\n",
    "class FishArmorStrategy:\n",
    "    def calculate_damage(self, damage):\n",
    "        import random\n",
    "        return random.randint(0, damage)\n",
    "\n",
    "class NoArmorStrategy:\n",
    "    def calculate_damage(self, damage):\n",
    "        return damage  # No damage reduction\n",
    "\n",
    "char = Character(health=100, armor_strategy=HeavyArmorStrategy())\n",
    "char.take_damage(10)\n",
    "\n",
    "char.set_armor_strategy(MasterLeeArmorStrategy())\n",
    "char.take_damage(10)"
   ],
   "outputs": [
    {
     "name": "stdout",
     "output_type": "stream",
     "text": [
      "Character took 5.0 damage, remaining health: 95.0\n",
      "Character took 20 damage, remaining health: 75.0\n"
     ]
    }
   ],
   "execution_count": 15
  },
  {
   "metadata": {
    "ExecuteTime": {
     "end_time": "2025-08-13T06:00:44.946156Z",
     "start_time": "2025-08-13T06:00:44.942535Z"
    }
   },
   "cell_type": "code",
   "source": [
    "# 오리만들기\n",
    "# 생오리, 고무오리, 붉은오리\n",
    "# 생오리는 quack() -> '꽥꽥'\n",
    "# 고무오리는 quack() -> '삑삑'\n",
    "# 붉은오리는 quack() -> '빨개져라 얍'"
   ],
   "id": "585a74d246365323",
   "outputs": [],
   "execution_count": 16
  },
  {
   "metadata": {
    "ExecuteTime": {
     "end_time": "2025-08-13T06:08:30.444424Z",
     "start_time": "2025-08-13T06:08:30.435170Z"
    }
   },
   "cell_type": "code",
   "source": [
    "class LiveduckQuackStrategy:\n",
    "    def quack(self):\n",
    "        print(\"꽥꽥\")\n",
    "\n",
    "class RubberDuckQuackStrategy:\n",
    "    def quack(self):\n",
    "        print(\"삑삑\")\n",
    "\n",
    "class RedDuckQuackStrategy:\n",
    "    def quack(self):\n",
    "        print(\"빨개져라 얍\")\n",
    "\n",
    "class SpyDuckQuackStrategy:\n",
    "    def quack(self):\n",
    "        print(\"조용히 하라우\")\n",
    "\n",
    "class Duck:\n",
    "    def __init__(self, quack_strtg):\n",
    "        self.quack_strtg = quack_strtg\n",
    "\n",
    "    def quack(self):\n",
    "        self.quack_strtg.quack()\n",
    "\n",
    "liveduck = Duck(LiveduckQuackStrategy())\n",
    "rubberduck = Duck(RubberDuckQuackStrategy())\n",
    "redduck = Duck(RedDuckQuackStrategy())\n",
    "spyduck = Duck(SpyDuckQuackStrategy())\n",
    "\n",
    "liveduck.quack()  # '꽥꽥'\n",
    "rubberduck.quack()  # '삑삑'\n",
    "redduck.quack()  # '빨개져라 얍'\n",
    "spyduck.quack()"
   ],
   "id": "8351d986441d175",
   "outputs": [
    {
     "name": "stdout",
     "output_type": "stream",
     "text": [
      "꽥꽥\n",
      "삑삑\n",
      "빨개져라 얍\n",
      "조용히 하라우\n"
     ]
    }
   ],
   "execution_count": 19
  },
  {
   "metadata": {},
   "cell_type": "code",
   "outputs": [],
   "execution_count": null,
   "source": "",
   "id": "a9873f56900610e0"
  }
 ],
 "metadata": {
  "kernelspec": {
   "display_name": "Python 3",
   "language": "python",
   "name": "python3"
  },
  "language_info": {
   "codemirror_mode": {
    "name": "ipython",
    "version": 2
   },
   "file_extension": ".py",
   "mimetype": "text/x-python",
   "name": "python",
   "nbconvert_exporter": "python",
   "pygments_lexer": "ipython2",
   "version": "2.7.6"
  }
 },
 "nbformat": 4,
 "nbformat_minor": 5
}
