{
 "cells": [
  {
   "metadata": {},
   "cell_type": "markdown",
   "source": [
    "# 복습 키워드\n",
    "\n",
    "1. `print()` 출력함수\n",
    "2. `print(sep: str, end: str)` 출력함수의 키워드 파라메터\n",
    "3. `f-string` 문법\n",
    "4. `\"str\".builtin()` 기본적인 문자열 빌트인 함수들\n",
    "    - `\"str\".upper()` 대문자로 변환\n",
    "    - `\"str\".lower()` 소문자로 변환\n",
    "    - `\"str\".capitalize()` 첫 글자만 대문자로 변환\n",
    "    - `\"str\".replace(old:str, new:str)` 특정 문자열 교체\n",
    "    - `\"str\".strip()` 양쪽 공백 제거\n",
    "    - `\"str\".lstrip()` 왼쪽 공백 제거\n",
    "    - `\"str\".rstrip()` 오른쪽 공백 제거\n",
    "5. list 자료형 선언과 사용법\n",
    "    - `list = [1, 2, 3]` 리스트 선언\n",
    "    - `print(list)` 리스트 출력\n",
    "    - `list(\"str\")` 문자열을 리스트로 변환\n",
    "    - `\"str\".split(sep: str)` 문자열을 리스트로 변환\n",
    "    - `list[a:b]` 리스트 슬라이싱\n",
    "6. `*list` 언패킹\n",
    "7. `[].builtin()` 리스트 빌트인 함수들\n",
    "    - `[].append(any)` 리스트에 요소 추가\n",
    "    - `[].insert(index:int, any)` 리스트 특정 위치에 요소 추가\n",
    "    - `[].extend(list)` 리스트에 다른 리스트 요소 추가\n",
    "    - `[].remove(any)` 리스트에서 요소 제거\n",
    "    - `[].pop()` 리스트 마지막 요소 제거\n",
    "    - `[].clear()` 리스트 비우기\n",
    "    - `[].index(any)` 리스트에서 요소의 인덱스 찾기\n",
    "    - `[].count(any)` 리스트에서 요소의 개수 세기\n",
    "    - `[].sort()` 리스트 정렬\n",
    "    - `[].reverse()` 리스트 역순 정렬\n",
    "    - `[].copy()` 리스트 복사\n",
    "8. `input()` 입력 함수\n",
    "9. `type()` 자료형 확인 함수\n",
    "10. 자료형 변환 (캐스팅)\n",
    "    - `int()` 정수로 변환\n",
    "    - `float()` 실수로 변환\n",
    "    - `str()` 문자열로 변환\n",
    "    - `list()` 리스트로 변환"
   ],
   "id": "49e46f2220e57191"
  },
  {
   "metadata": {},
   "cell_type": "markdown",
   "source": [
    "# Python Basic Lecture 5: 조건문 (Conditional Statements)\n",
    "\n",
    "이번 단원에서는 프로그램의 흐름을 제어하는 가장 기본적인 방법인 조건문을 배운다.\n",
    "\n",
    "조건에 따라 다른 코드를 실행하는 방법을 배우면, 진짜 프로그램다운 프로그램을 만들 수 있다.\n",
    "\n",
    "1. 비교 연산자\n",
    "2. `if` 문\n",
    "3. `if-else` 문\n",
    "4. `if-elif-else` 문\n",
    "5. 논리 연산자\n",
    "6. 중첩 조건문"
   ],
   "id": "101927e3d4a5263e"
  },
  {
   "metadata": {},
   "cell_type": "markdown",
   "source": [
    "## 1. 비교 연산자\n",
    "\n",
    "조건문을 사용하기 전에, 먼저 비교 연산자를 알아야 한다. 비교 연산자는 두 값을 비교해서 True 또는 False를 반환한다."
   ],
   "id": "1bb28d08e823947"
  },
  {
   "metadata": {},
   "cell_type": "code",
   "source": "",
   "id": "306e3b9b6883e2de",
   "outputs": [],
   "execution_count": null
  },
  {
   "metadata": {},
   "cell_type": "code",
   "source": [
    "# 같지 않다 (!=)\n",
    "print(5 != 3)    # True\n",
    "print(5 != 5)    # False\n",
    "print('apple' != 'banana')  # True"
   ],
   "id": "7d84e31d1b19fda6",
   "outputs": [],
   "execution_count": null
  },
  {
   "metadata": {},
   "cell_type": "code",
   "source": [
    "# 크다/작다 (>, <)\n",
    "print(10 > 5)    # True\n",
    "print(3 > 7)     # False\n",
    "print(2 < 8)     # True\n",
    "print(9 < 4)     # False"
   ],
   "id": "ea513c00438a5ad9",
   "outputs": [],
   "execution_count": null
  },
  {
   "metadata": {},
   "cell_type": "code",
   "source": [
    "# 크거나 같다/작거나 같다 (>=, <=)\n",
    "print(10 >= 10)  # True\n",
    "print(10 >= 5)   # True\n",
    "print(3 >= 7)    # False\n",
    "print(5 <= 5)    # True\n",
    "print(3 <= 8)    # True"
   ],
   "id": "b5cd890e89e19188",
   "outputs": [],
   "execution_count": null
  },
  {
   "metadata": {},
   "cell_type": "code",
   "source": [
    "# 문자열도 비교 가능 (사전 순서)\n",
    "print('apple' < 'banana')   # True\n",
    "print('zebra' > 'apple')    # True"
   ],
   "id": "9d369dff58a9f0af",
   "outputs": [],
   "execution_count": null
  },
  {
   "metadata": {},
   "cell_type": "markdown",
   "source": [
    "## 2. if 문\n",
    "\n",
    "조건이 참(True)일 때만 코드를 실행한다."
   ],
   "id": "367224d23df8307f"
  },
  {
   "metadata": {},
   "cell_type": "code",
   "source": [
    "# 기본 if 문\n",
    "age = 20\n",
    "if age >= 18:\n",
    "    print(\"성인입니다.\")"
   ],
   "id": "5c4a9728369d3396",
   "outputs": [],
   "execution_count": null
  },
  {
   "metadata": {},
   "cell_type": "code",
   "source": [
    "# 입력과 함께 사용\n",
    "score = int(float(input(\"점수를 입력하세요: \")))\n",
    "if score >= 60:\n",
    "    print(\"합격입니다.\")\n"
   ],
   "id": "e3d79e8df09e695a",
   "outputs": [],
   "execution_count": null
  },
  {
   "metadata": {},
   "cell_type": "markdown",
   "source": [
    "**중요!** if 문 다음 줄은 반드시 들여쓰기(indentation)를 해야 한다. 파이썬은 들여쓰기로 코드 블록을 구분한다."
   ],
   "id": "ea169521d9ab76ac"
  },
  {
   "metadata": {},
   "cell_type": "markdown",
   "source": [
    "## 3. if-else 문\n",
    "\n",
    "조건이 참일 때와 거짓일 때 각각 다른 코드를 실행한다."
   ],
   "id": "4f5d6a2628a618be"
  },
  {
   "metadata": {},
   "cell_type": "code",
   "source": [
    "# if-else 기본\n",
    "age = input(\"나이를 입력하세요 (정수로): \")\n",
    "\n",
    "if age.isnumeric():\n",
    "    age = int(float(age))\n",
    "    if age >= 18:\n",
    "        print(\"성인입니다.\")\n",
    "    else:\n",
    "        print(\"성인이 아닙니다.\")\n",
    "\n",
    "else:\n",
    "    print(\"올바른 나이를 입력하세요.\")"
   ],
   "id": "2e2cd3204c7d299e",
   "outputs": [],
   "execution_count": null
  },
  {
   "metadata": {},
   "cell_type": "code",
   "source": [
    "# 홀수/짝수 판별\n",
    "number = int(input(\"숫자를 입력하세요: \"))\n",
    "if number % 2 == 0:\n",
    "    print(f\"{number}는 짝수입니다.\")\n",
    "else:\n",
    "    print(f\"{number}는 홀수입니다.\")\n",
    "\n",
    "\n",
    "evenodd = None\n",
    "if number % 2 == 0:\n",
    "    evenodd = \"짝수\"\n",
    "else:\n",
    "    evenodd = \"홀수\"\n",
    "\n",
    "print(f\"{number}는 {evenodd}입니다.\")"
   ],
   "id": "8c19821677a736cb",
   "outputs": [],
   "execution_count": null
  },
  {
   "metadata": {},
   "cell_type": "markdown",
   "source": [
    "## 4. if-elif-else 문\n",
    "\n",
    "여러 조건을 순서대로 검사하고 싶을 때 사용한다."
   ],
   "id": "451702cd943693f7"
  },
  {
   "metadata": {},
   "cell_type": "code",
   "source": [
    "# 성적 등급 판별\n",
    "score = int(input(\"점수를 입력하세요: \"))\n",
    "\n",
    "if score >= 90:\n",
    "    print(\"A등급\")\n",
    "elif score >= 80:\n",
    "    print(\"B등급\")\n",
    "elif score >= 70:\n",
    "    print(\"C등급\")\n",
    "elif score >= 60:\n",
    "    print(\"D등급\")\n",
    "else:\n",
    "    print(\"F등급\")"
   ],
   "id": "d2278bc3bc98cfcb",
   "outputs": [],
   "execution_count": null
  },
  {
   "metadata": {},
   "cell_type": "code",
   "source": [
    "# 온도에 따른 메시지\n",
    "temp = int(input(\"현재 온도를 입력하세요: \"))\n",
    "\n",
    "if temp >= 30:\n",
    "    print(\"너무 더워요! 에어컨을 켜세요.\")\n",
    "elif temp >= 20:\n",
    "    print(\"날씨가 좋네요!\")\n",
    "elif temp >= 10:\n",
    "    print(\"선선한 날씨입니다.\")\n",
    "elif temp >= 0:\n",
    "    print(\"추워요. 따뜻하게 입으세요.\")\n",
    "else:\n",
    "    print(\"영하입니다! 매우 춥습니다.\")"
   ],
   "id": "1306a59a8aa5a08a",
   "outputs": [],
   "execution_count": null
  },
  {
   "metadata": {},
   "cell_type": "markdown",
   "source": [
    "## 5. 논리 연산자\n",
    "\n",
    "여러 조건을 조합할 때 사용한다."
   ],
   "id": "8653664d5d995f4a"
  },
  {
   "metadata": {},
   "cell_type": "code",
   "source": [
    "a = True\n",
    "b = False\n",
    "\n",
    "a is True"
   ],
   "id": "e57ce6f1625b8d9",
   "outputs": [],
   "execution_count": null
  },
  {
   "metadata": {},
   "cell_type": "code",
   "source": [
    "# and: 둘 다 참이어야 True\n",
    "age = 25\n",
    "has_license = True\n",
    "\n",
    "if age >= 18 and has_license:\n",
    "    print(\"운전할 수 있습니다.\")\n",
    "else:\n",
    "    print(\"운전할 수 없습니다.\")"
   ],
   "id": "a191a7b38812064b",
   "outputs": [],
   "execution_count": null
  },
  {
   "metadata": {},
   "cell_type": "code",
   "source": [
    "# or: 하나라도 참이면 True\n",
    "weekend = input(\"주말인가요? (yes/no): \")\n",
    "holiday = input(\"공휴일인가요? (yes/no): \")\n",
    "\n",
    "if weekend == 'yes' or holiday == 'yes':\n",
    "    print(\"오늘은 쉬는 날입니다!\")\n",
    "else:\n",
    "    print(\"오늘은 일하는 날입니다.\")"
   ],
   "id": "dab67acc5c8cc87b",
   "outputs": [],
   "execution_count": null
  },
  {
   "metadata": {},
   "cell_type": "code",
   "source": [
    "# not: 참을 거짓으로, 거짓을 참으로\n",
    "raining = input(\"비가 오나요? (yes/no): \")\n",
    "\n",
    "if not raining == 'yes':\n",
    "    print(\"산책하기 좋은 날씨네요!\")\n",
    "else:\n",
    "    print(\"우산을 챙기세요!\")"
   ],
   "id": "8ae1facb64b9dc3b",
   "outputs": [],
   "execution_count": null
  },
  {
   "metadata": {},
   "cell_type": "markdown",
   "source": [
    "## 6. 중첩 조건문\n",
    "\n",
    "조건문 안에 또 다른 조건문을 넣을 수 있다."
   ],
   "id": "9bca7e8571d22bd0"
  },
  {
   "metadata": {},
   "cell_type": "code",
   "source": [
    "# 중첩 if 문\n",
    "age = int(input(\"나이를 입력하세요: \"))\n",
    "\n",
    "if age >= 18:\n",
    "    print(\"성인입니다.\")\n",
    "    \n",
    "    # 성인 중에서도 세부 분류\n",
    "    if age >= 65:\n",
    "        print(\"경로 우대를 받을 수 있습니다.\")\n",
    "    elif age >= 20:\n",
    "        print(\"모든 성인 권리를 가집니다.\")\n",
    "    else:\n",
    "        print(\"일부 제한이 있을 수 있습니다.\")\n",
    "else:\n",
    "    print(\"미성년자입니다.\")\n",
    "    \n",
    "    # 미성년자 중에서도 세부 분류\n",
    "    if age >= 14:\n",
    "        print(\"청소년입니다.\")\n",
    "    else:\n",
    "        print(\"어린이입니다.\")"
   ],
   "id": "571ff18dfece985d",
   "outputs": [],
   "execution_count": null
  },
  {
   "metadata": {},
   "cell_type": "markdown",
   "source": [
    "## 실용적인 예제들"
   ],
   "id": "b275d47522f49d63"
  },
  {
   "metadata": {},
   "cell_type": "code",
   "source": [
    "# 계산기 프로그램\n",
    "num1 = float(input(\"첫 번째 숫자: \"))\n",
    "op = input(\"연산자 (+, -, *, /): \")\n",
    "num2 = float(input(\"두 번째 숫자: \"))\n",
    "\n",
    "if op == '+':\n",
    "    result = num1 + num2\n",
    "    print(f\"{num1} + {num2} = {result}\")\n",
    "elif op == '-':\n",
    "    result = num1 - num2\n",
    "    print(f\"{num1} - {num2} = {result}\")\n",
    "elif op == '*':\n",
    "    result = num1 * num2\n",
    "    print(f\"{num1} * {num2} = {result}\")\n",
    "elif op == '/':\n",
    "    if num2 != 0:\n",
    "        result = num1 / num2\n",
    "        print(f\"{num1} / {num2} = {result}\")\n",
    "    else:\n",
    "        print(\"오류: 0으로 나눌 수 없습니다!\")\n"
   ],
   "id": "648f8abca5f9fadc",
   "outputs": [],
   "execution_count": null
  },
  {
   "metadata": {},
   "cell_type": "code",
   "source": [
    "# 1번\n",
    "a = input()"
   ],
   "id": "fce3978a43bb008c",
   "outputs": [],
   "execution_count": null
  },
  {
   "metadata": {},
   "cell_type": "code",
   "source": [
    "# 가위바위보 게임\n",
    "user = input(\"가위, 바위, 보 중 하나를 선택하세요: \")\n",
    "computer = \"바위\"  # 컴퓨터는 항상 바위\n",
    "\n",
    "print(f\"당신: {user}\")\n",
    "print(f\"컴퓨터: {computer}\")\n",
    "\n",
    "if user == computer:\n",
    "    print(\"비겼습니다!\")\n",
    "elif user == \"가위\":\n",
    "    print(\"졌습니다...\")\n",
    "elif user == \"보\":\n",
    "    print(\"이겼습니다!\")\n",
    "else:\n",
    "    print(\"올바른 입력이 아닙니다.\")"
   ],
   "id": "284690cec4bffc81",
   "outputs": [],
   "execution_count": null
  },
  {
   "metadata": {},
   "cell_type": "code",
   "source": [
    "# BMI 계산 및 판정\n",
    "weight = float(input(\"체중(kg)을 입력하세요: \"))\n",
    "height = float(input(\"키(m)를 입력하세요: \"))\n",
    "\n",
    "bmi = weight / (height ** 2)\n",
    "print(f\"당신의 BMI는 {bmi:.1f}입니다.\")\n",
    "\n",
    "if bmi < 18.5:\n",
    "    print(\"저체중입니다.\")\n",
    "elif bmi < 23:\n",
    "    print(\"정상 체중입니다.\")\n",
    "elif bmi < 25:\n",
    "    print(\"과체중입니다.\")\n",
    "else:\n",
    "    print(\"비만입니다.\")"
   ],
   "id": "f312e532e1f41852",
   "outputs": [],
   "execution_count": null
  },
  {
   "metadata": {},
   "cell_type": "markdown",
   "source": [
    "## in 연산자와 함께 사용하기\n",
    "\n",
    "리스트나 문자열에 특정 요소가 있는지 확인할 때 유용하다."
   ],
   "id": "11b2f4cb2935a680"
  },
  {
   "metadata": {},
   "cell_type": "code",
   "source": [
    "# 리스트에서 찾기\n",
    "fruits = ['사과', '바나나', '오렌지', '포도']\n",
    "user_fruit = input(\"과일 이름을 입력하세요: \")\n",
    "\n",
    "if user_fruit in fruits:\n",
    "    print(f\"{user_fruit}는 과일 목록에 있습니다!\")\n",
    "else:\n",
    "    print(f\"{user_fruit}는 과일 목록에 없습니다.\")"
   ],
   "id": "6472f58e5f0adf35",
   "outputs": [],
   "execution_count": null
  },
  {
   "metadata": {},
   "cell_type": "code",
   "source": [
    "# 문자열에서 찾기\n",
    "sentence = \"Python은 재미있는 프로그래밍 언어입니다.\"\n",
    "word = input(\"찾을 단어를 입력하세요: \")\n",
    "\n",
    "if word in sentence:\n",
    "    print(f\"'{word}'가 문장에 포함되어 있습니다.\")\n",
    "else:\n",
    "    print(f\"'{word}'가 문장에 없습니다.\")"
   ],
   "id": "4c74499e6c605bb2",
   "outputs": [],
   "execution_count": null
  },
  {
   "metadata": {},
   "cell_type": "code",
   "source": [
    "\"\".isalpha()\n",
    "\n",
    "isinstance('a', str)"
   ],
   "id": "23f0c74fe3788c74",
   "outputs": [],
   "execution_count": null
  },
  {
   "metadata": {},
   "cell_type": "code",
   "source": [
    "a = \"test\"\n",
    "a[0].upper() == a[0]"
   ],
   "id": "3e41ec96ad6aa577",
   "outputs": [],
   "execution_count": null
  },
  {
   "metadata": {},
   "cell_type": "code",
   "source": "",
   "id": "2f451aff67bcc3c5",
   "outputs": [],
   "execution_count": null
  }
 ],
 "metadata": {
  "kernelspec": {
   "display_name": "Python 3",
   "language": "python",
   "name": "python3"
  },
  "language_info": {
   "codemirror_mode": {
    "name": "ipython",
    "version": 2
   },
   "file_extension": ".py",
   "mimetype": "text/x-python",
   "name": "python",
   "nbconvert_exporter": "python",
   "pygments_lexer": "ipython2",
   "version": "2.7.6"
  }
 },
 "nbformat": 4,
 "nbformat_minor": 5
}
