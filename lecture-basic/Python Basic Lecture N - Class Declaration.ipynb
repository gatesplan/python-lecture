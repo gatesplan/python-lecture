{
 "cells": [
  {
   "metadata": {},
   "cell_type": "markdown",
   "source": [
    "# 클래스 선언과 기본 사용법\n",
    "\n",
    "이 절에서 여러분은 클래스 선언과 기본 사용법에 대해 배운다.\n",
    "\n",
    "클래스를 비유하면 '설계도', '도면' 정도이고,\n",
    "\n",
    "클래스의 설계대로 만들어낸 값을 `객체Object` 또는 `인스턴스Instance`라 한다.\n",
    "\n",
    "클래스는 객체를 만들기 위한 설계도이므로, 모든 객체는 클래스를 설계도면으로 삼아 만든 복제품들이다."
   ],
   "id": "1f19e78ad093a353"
  },
  {
   "metadata": {},
   "cell_type": "markdown",
   "source": [
    "## 1. 클래스 선언과 객체 생성\n",
    "\n",
    "클래스는 설계도, 객체(=인스턴스)는 설계도를 바탕으로 만들어진 제품이다.\n",
    "\n",
    "여러분은 여기서 다음 두 가지를 배운다.\n",
    "\n",
    "- 클래스 선언 (설계도 만들기)\n",
    "- 객체 생성 (설계도로 제품 만들기)"
   ],
   "id": "70718fef11111450"
  },
  {
   "metadata": {
    "ExecuteTime": {
     "end_time": "2025-08-11T04:09:23.130704Z",
     "start_time": "2025-08-11T04:09:23.124864Z"
    }
   },
   "cell_type": "code",
   "source": [
    "from sklearn.neighbors import KNeighborsClassifier\n",
    "\n",
    "\n",
    "class MyClassName:\n",
    "    # 설계\n",
    "    pass\n",
    "\n",
    "cls1 = MyClassName()\n",
    "cls2 = MyClassName()\n",
    "cls3 = MyClassName()\n",
    "cls4 = MyClassName()\n",
    "cls5 = MyClassName()\n",
    "cls1, cls2, cls3, cls4, cls5"
   ],
   "id": "72df5192b9146ea4",
   "outputs": [
    {
     "data": {
      "text/plain": [
       "(<__main__.MyClassName at 0x209450b82f0>,\n",
       " <__main__.MyClassName at 0x2094527ad50>,\n",
       " <__main__.MyClassName at 0x2094527b610>,\n",
       " <__main__.MyClassName at 0x209453cfa80>,\n",
       " <__main__.MyClassName at 0x209453cf820>)"
      ]
     },
     "execution_count": 5,
     "metadata": {},
     "output_type": "execute_result"
    }
   ],
   "execution_count": 5
  },
  {
   "metadata": {
    "ExecuteTime": {
     "end_time": "2025-08-10T04:17:14.714631Z",
     "start_time": "2025-08-10T04:17:14.701551Z"
    }
   },
   "cell_type": "code",
   "source": [
    "# Toy 클래스를 만들고, 여러 toy 객체를 만들어보자.\n",
    "class Toy:\n",
    "    pass\n",
    "\n",
    "toy1 = Toy()\n",
    "toy2 = Toy()\n",
    "toy3 = Toy()\n",
    "\n",
    "print(toy1, toy2, toy3, sep='\\n')"
   ],
   "id": "85c748108fa2d06b",
   "outputs": [
    {
     "name": "stdout",
     "output_type": "stream",
     "text": [
      "<__main__.Toy object at 0x000001957CAF86E0>\n",
      "<__main__.Toy object at 0x000001957CCAEAD0>\n",
      "<__main__.Toy object at 0x000001957C8FE5D0>\n"
     ]
    }
   ],
   "execution_count": 4
  },
  {
   "metadata": {},
   "cell_type": "markdown",
   "source": [
    "<__main__.Toy object at 0x000001957CAF86E0>\n",
    "\n",
    "__main__ 은 현재 실행 중인 모듈의 이름이다.\n",
    "\n",
    "Toy 는 클래스의 이름이다.\n",
    "\n",
    "object는 이것이 클래스(설계도)로 만든 객체(제품)임을 나타낸다.\n",
    "\n",
    "at 0x000001957CAF86E0 는 이 객체가 메모리의 어느 위치에 저장되어 있는지를 나타낸다.\n",
    "\n",
    "우리는 이 메모리 주소가 다름을 보고 각 객체가 서로 다른 인스턴스임을 알 수 있다."
   ],
   "id": "d66faf27787086a7"
  },
  {
   "metadata": {},
   "cell_type": "markdown",
   "source": [
    "# 2. 클래스의 속성과 메서드\n",
    "\n",
    "이 절에서는 클래스에게 속성과 메서드를 추가하는 방법을 배운다.\n",
    "\n",
    "속성은 클래스가(설계도가) 가지게 될 값들의 목록이다.\n",
    "\n",
    "메서드는 클래스로 만들 객체가(제품이) 가지게 될 함수의(기능의) 목록이다.\n",
    "\n",
    "클래스는 속성과 메서드를 가짐으로서 만들어낸 객체가(제품이) 어떤 값을 가지며 어떤 기능을 가질지 정의한다.\n",
    "\n",
    "이제부터 우리는 능동적으로 클래스를 설계하고 (제품을 기획하고)\n",
    "\n",
    "속성과 메서드를 정의해서 (제품의 모양과 기능을 정해서)\n",
    "\n",
    "객체를 만들어낼 수 있다. (출시해야 한다)"
   ],
   "id": "90a8cbf3b87122cd"
  },
  {
   "metadata": {},
   "cell_type": "markdown",
   "source": [
    "## 2.1 Toy 설계도\n",
    "\n",
    "`Toy` 클래스는 어떤 속성과 기능을 가질까?\n",
    "\n",
    "- 속성: 이름, 가격, 색상\n",
    "- 기능: 장난감이 자기 소개하기\n",
    "\n",
    "이렇게 설계해보도록 하자."
   ],
   "id": "d478ad3720f00f05"
  },
  {
   "metadata": {
    "ExecuteTime": {
     "end_time": "2025-08-11T04:17:38.853525Z",
     "start_time": "2025-08-11T04:17:38.845948Z"
    }
   },
   "cell_type": "code",
   "source": [
    "class Toy:\n",
    "    name: str\n",
    "    price: float\n",
    "    color: str\n",
    "\n",
    "    def introduce(self):\n",
    "        text = f\"저는 {self.name}입니다. 가격은 {self.price}원이고, {self.color}색입니다.\"\n",
    "        print(text)\n",
    "\n",
    "toy1 = Toy()\n",
    "toy1.name = \"로봇\"\n",
    "toy1.price = 10000.0\n",
    "toy1.color = \"빨강\"\n",
    "\n",
    "toy2 = Toy()\n",
    "toy2.name = \"인형\"\n",
    "toy2.price = 15000.0\n",
    "toy2.color = \"파랑\"\n",
    "\n",
    "toy1.introduce()\n",
    "toy2.introduce()"
   ],
   "id": "7c1687cd13683776",
   "outputs": [
    {
     "name": "stdout",
     "output_type": "stream",
     "text": [
      "저는 로봇입니다. 가격은 10000.0원이고, 빨강색입니다.\n",
      "저는 인형입니다. 가격은 15000.0원이고, 파랑색입니다.\n"
     ]
    }
   ],
   "execution_count": 10
  },
  {
   "metadata": {
    "ExecuteTime": {
     "end_time": "2025-08-10T04:25:51.750943Z",
     "start_time": "2025-08-10T04:25:51.744440Z"
    }
   },
   "cell_type": "code",
   "source": [
    "# 제품 생산하기\n",
    "\n",
    "# 객체 생성\n",
    "toy1 = Toy()\n",
    "toy1.name = \"로봇\"\n",
    "toy1.price = 10000.0\n",
    "toy1.color = \"빨강\"\n",
    "\n",
    "toy2 = Toy()\n",
    "toy2.name = \"인형\"\n",
    "toy2.price = 15000.0\n",
    "toy2.color = \"파랑\"\n",
    "\n",
    "# 동작 확인\n",
    "print(toy1.introduce())\n",
    "print(toy2.introduce())"
   ],
   "id": "3a85f8acf889d9c1",
   "outputs": [
    {
     "name": "stdout",
     "output_type": "stream",
     "text": [
      "저는 로봇입니다. 가격은 10000.0원이고, 색상은 빨강입니다.\n",
      "저는 인형입니다. 가격은 15000.0원이고, 색상은 파랑입니다.\n"
     ]
    }
   ],
   "execution_count": 9
  },
  {
   "metadata": {},
   "cell_type": "markdown",
   "source": [
    "# 3. 클래스의 생성자(Constructor, `__init__` 메서드)\n",
    "\n",
    "초심자들이 클래스에서 매우 혼란스러워 하는 내용이다.\n",
    "\n",
    "앞서 본 Toy는 객체를 만들 때마다 속성을 일일이 지정해줘야 했다. 하지만 원한다면 Toy 클래스를 만들 때 값을 지정해 줄 수 있다.\n",
    "\n",
    "모든 클래스는 (설계도는) 객체를 선언하는 순간 (제품을 만드는 순간) 클래스의 내부에서 `__init__` 메서드를 찾아서 실행한다. `__init__` 메서드의 동작에 의해 객체가 만들어지는 순간 어떤 동작을 할 수도 있고, 속성을 지정해주거나 미리 약속해 둔 값으로 정할 수 있다. 이 과정을 통틀어서 `초기화Initialization`라 한다.\n",
    "\n",
    "많이 헷갈리는 표현인데, 객체를 `초기화`한다는 표현은 무언가를 처음 상태로 되돌린다는 뜻이 아니라 객체를 새로 만든다는 뜻이다.\n",
    "\n",
    "## 3.1 `self` 변수\n",
    "\n",
    "자기자신(self)이란, 클래스의 객체(제품)가 만들어진 이후 자기 자신을 가리키는 self로 약속된 변수이다.\n",
    "\n",
    "따라서 self.name은 객체의 name 속성을 의미한다.\n",
    "\n",
    "__init__ 메서드가 실행되기 전에, 이미 객체는 생성(메모리 안에 자신의 공간을 확보함) 되어 있다.\n",
    "\n",
    "그 다음 __init__ 메서드가 실행되면서 자신의 (객체의) 설계도에 따라 name, price, color 등에 값을 저장하는 것이다.\n"
   ],
   "id": "470d1c16e84ec0d8"
  },
  {
   "metadata": {
    "ExecuteTime": {
     "end_time": "2025-08-11T04:24:48.749924Z",
     "start_time": "2025-08-11T04:24:48.742348Z"
    }
   },
   "cell_type": "code",
   "source": [
    "# Toy 객체를 만들 때 속성을 지정해주는 방법\n",
    "class Toy:\n",
    "    name: str\n",
    "    price: float\n",
    "    color: str\n",
    "\n",
    "    def __init__(self, name, price, color = \"노랑\"):\n",
    "        self.name = name\n",
    "        self.price = price\n",
    "        self.color = color\n",
    "\n",
    "    def introduce(self):\n",
    "        text = f\"저는 {self.name}입니다. 가격은 {self.price}원이고, {self.color}색입니다.\"\n",
    "        print(text)\n",
    "\n",
    "toy1 = Toy(name=\"로봇\", price=10000.0, color=\"빨강\")\n",
    "toy2 = Toy(\"인형\", 15000.0, \"파랑\")\n",
    "toy3 = Toy(\"이이이인형\", 150000.0)\n",
    "\n",
    "toy3.introduce()"
   ],
   "id": "9d18ee3dfecdf9d6",
   "outputs": [
    {
     "name": "stdout",
     "output_type": "stream",
     "text": [
      "저는 이이이인형입니다. 가격은 150000.0원이고, 노랑색입니다.\n"
     ]
    }
   ],
   "execution_count": 17
  },
  {
   "metadata": {},
   "cell_type": "markdown",
   "source": [
    "## 3.2 결과적으로는 같지만 혼란스러운 다른 방법들\n",
    "\n",
    "클래스 문법은 생각보다 자유도가 높고 복잡하다. 여러분이 알아야 할 것은 클래스가 설계도이고, 객체는 설계를 바탕으로 찍어낸 제품에 불과하다는 사실이다. 설계도를 어떻게 그리는지의 문법도 위에서 배운 것만 있는게 아니지만, 위 방법이 표준이다."
   ],
   "id": "14258b8055ff722c"
  },
  {
   "metadata": {
    "ExecuteTime": {
     "end_time": "2025-08-11T04:27:10.160886Z",
     "start_time": "2025-08-11T04:27:10.154250Z"
    }
   },
   "cell_type": "code",
   "source": [
    "class Toyy:\n",
    "    def __init__(self, name, price, color):\n",
    "        self.name = name\n",
    "        self.price = price\n",
    "        self.color = color\n",
    "\n",
    "    def introduce(self):\n",
    "        return f\"저는 {self.name}입니다. 가격은 {self.price}원이고, 색상은 {self.color}입니다.\"\n",
    "\n",
    "toy = Toy(name=\"로봇\", price=10000.0, color=\"빨강\")"
   ],
   "id": "aef38cc7b96a6e42",
   "outputs": [],
   "execution_count": 18
  },
  {
   "metadata": {},
   "cell_type": "markdown",
   "source": [
    "이전에 만든 Toy 클래스와 이 Toyy 클래스는 완전히 동일한 기능을 가진다. 차이점은 name, price, color 속성을 클래스 설계도에 포함시켜두지 않았다가, `__init__` 메서드가 실행되면서 비로소 객체의 속성으로 지정해준 것이다.\n",
    "\n",
    "동작은 다르지 않다."
   ],
   "id": "96842713e73f4262"
  },
  {
   "metadata": {},
   "cell_type": "markdown",
   "source": [
    "# Practice 1 - Make Class - Basic\n",
    "\n",
    "연습문제를 풀어보자. 몇 개의 속성과, 생성자(`__init__` 메서드), 메서드 하나를 가지는 클래스를 설계하고 서로 다른 두 객체를 초기화하여 서로 다르게 동작하는 것을 확인하는 연습문제들이다."
   ],
   "id": "ec6a3bce5b1684fb"
  },
  {
   "metadata": {},
   "cell_type": "code",
   "outputs": [],
   "execution_count": null,
   "source": "",
   "id": "ee8ef26dfbd89f8e"
  }
 ],
 "metadata": {
  "kernelspec": {
   "display_name": "Python 3",
   "language": "python",
   "name": "python3"
  },
  "language_info": {
   "codemirror_mode": {
    "name": "ipython",
    "version": 2
   },
   "file_extension": ".py",
   "mimetype": "text/x-python",
   "name": "python",
   "nbconvert_exporter": "python",
   "pygments_lexer": "ipython2",
   "version": "2.7.6"
  }
 },
 "nbformat": 4,
 "nbformat_minor": 5
}
