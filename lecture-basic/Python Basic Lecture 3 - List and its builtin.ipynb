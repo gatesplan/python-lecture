{
 "nbformat": 4,
 "nbformat_minor": 0,
 "metadata": {
  "colab": {
   "provenance": [],
   "toc_visible": true
  },
  "kernelspec": {
   "name": "python3",
   "display_name": "Python 3"
  },
  "language_info": {
   "name": "python"
  }
 },
 "cells": [
  {
   "cell_type": "markdown",
   "source": [
    "# 복습 키워드\n",
    "\n",
    "1. `print()` 출력함수\n",
    "2. `print(sep: str, end: str)` 출력함수의 키워드 파라메터\n",
    "3. `f-string` 문법\n",
    "4. `\"str\".builtin()` 기본적인 문자열 빌트인 함수들\n",
    "    - `\"str\".upper()` 대문자로 변환\n",
    "    - `\"str\".lower()` 소문자로 변환\n",
    "    - `\"str\".capitalize()` 첫 글자만 대문자로 변환\n",
    "    - `\"str\".replace(old:str, new:str)` 특정 문자열 교체\n",
    "    - `\"str\".strip()` 양쪽 공백 제거\n",
    "    - `\"str\".lstrip()` 왼쪽 공백 제거\n",
    "    - `\"str\".rstrip()` 오른쪽 공백 제거"
   ],
   "metadata": {
    "id": "vi0_l7Fwa53T"
   }
  },
  {
   "metadata": {},
   "cell_type": "code",
   "source": [
    "a = ['25', 12, 'hello']\n",
    "type(a)\n",
    "print(a)"
   ],
   "outputs": [],
   "execution_count": null
  },
  {
   "cell_type": "markdown",
   "source": [
    "# 1. list 자료형\n",
    "\n",
    "이번 시간에는 자료형을 하나 더 배운다. 이미 배운 자료형은 문자열`string` 타입 하나 뿐이다.\n",
    "\n",
    "간접적으로 정수형`int`을 한두번 써보긴 했다.\n",
    "\n",
    "```\n",
    "김철수_나이 = 25    # 정수\n",
    "강한얼_나이 = \"25\"  # 문자열\n",
    "```\n",
    "\n",
    "오늘 배울 것은 구체적으로 `list` 자료형, * 그 빌트인 메서드 중 반드시 알아야 하는 것들이다.\n",
    "\n",
    "1. list\n",
    "2. *list 언패킹\n",
    "3. list.append(), list.insert(), list.extend()\n",
    "4. list.remove(), list.pop(), list.clear()\n",
    "5. list.index(), list.count()\n",
    "6. list.sort(), list.reverse(), list.copy()"
   ],
   "metadata": {
    "id": "JTA4bL8Nb0lG"
   }
  },
  {
   "cell_type": "markdown",
   "source": [
    "## 1.1. list 변수 선언과 사용\n",
    "\n",
    "리스트 변수를 선언하고 사용하는 방법을 다룬다. 구체적은 내용은 다음 세 가지이다.\n",
    "\n",
    "1. 선언\n",
    "2. 출력\n",
    "3. 문자열 -> 리스트로 변환하는 중요한 방법들\n",
    "4. 슬라이싱"
   ],
   "metadata": {
    "id": "qReqgLVveBWm"
   }
  },
  {
   "cell_type": "code",
   "source": [
    "# 선언 ... 대괄호를 쓴다\n",
    "alist = [1,2,3]\n",
    "blist = ['x', 'y', 'z']\n",
    "clist = [1, 'x', 2, 'y', 3, 'z',\n",
    "         'asdfas', ' sdfs  dfsd ',\n",
    "         'sdfsdf ']\n",
    "\n",
    "alist, blist, clist"
   ],
   "metadata": {
    "colab": {
     "base_uri": "https://localhost:8080/"
    },
    "id": "ApWVkcsuby8N",
    "outputId": "930b6156-05a4-497b-edec-437eff191fc5"
   },
   "outputs": [],
   "execution_count": null
  },
  {
   "cell_type": "code",
   "source": [
    "# 출력 ... print()로 출력 가능\n",
    "print(\"alist:\", alist)\n",
    "print(f\"blist: {blist}\")\n",
    "print(\"clist: {}\".format(clist))"
   ],
   "metadata": {
    "colab": {
     "base_uri": "https://localhost:8080/"
    },
    "id": "O5y5Kbz8c__m",
    "outputId": "3654b078-6961-4125-954a-9ea0043132e3"
   },
   "outputs": [],
   "execution_count": null
  },
  {
   "metadata": {},
   "cell_type": "code",
   "source": [
    "# 문자열 -> 리스트 변환\n",
    "a = \"hello world\"\n",
    "a_list = list(a)\n",
    "print(a)\n",
    "print(a_list)"
   ],
   "outputs": [],
   "execution_count": null
  },
  {
   "metadata": {},
   "cell_type": "code",
   "source": [
    "# 문자열 -> 특정 글자 기준 리스트로 쪼개기\n",
    "b = \"apple banana orange\"\n",
    "b_list = b.split()  # 공백 기준으로 쪼갬\n",
    "print(b)\n",
    "print(b_list)"
   ],
   "outputs": [],
   "execution_count": null
  },
  {
   "metadata": {},
   "cell_type": "code",
   "source": [
    "# 문자열 -> 특정 글자 기준 리스트로 쪼개기\n",
    "c = \"apple, banana, orange, mange\"\n",
    "c_list = c.split(', ')  # 콤마 기준으로 쪼갬\n",
    "print(c)\n",
    "print(c_list)"
   ],
   "outputs": [],
   "execution_count": null
  },
  {
   "cell_type": "code",
   "source": [
    "# 슬라이싱 ... 문자열처럼 [:] 문법으로 일부분만 읽을 수 있음\n",
    "print(alist[2:3])\n",
    "print(blist[1:100])\n",
    "print(clist[-100:3])"
   ],
   "metadata": {
    "colab": {
     "base_uri": "https://localhost:8080/"
    },
    "id": "w4Ik4O2geyw6",
    "outputId": "3ece3212-fe12-4662-f267-c889c2b57325"
   },
   "outputs": [],
   "execution_count": null
  },
  {
   "cell_type": "markdown",
   "source": [
    "## 1.2. list 언패킹 (*unpacking)\n",
    "\n",
    "리스트의 요소들을 개별 변수에 한 번에 할당하는 방법이다. 매우 편리한 기능이다.\n"
   ],
   "metadata": {
    "colab": {
     "base_uri": "https://localhost:8080/"
    },
    "id": "tyMBgmb2fU0Q",
    "outputId": "39c42675-d100-4230-f9a7-7bb84a4e0b23"
   }
  },
  {
   "metadata": {},
   "cell_type": "code",
   "source": [
    "a = [1, 2, 3]\n",
    "b, c, d = a\n",
    "print(d)"
   ],
   "outputs": [],
   "execution_count": null
  },
  {
   "cell_type": "code",
   "source": [
    "# 기본 언패킹\n",
    "fruits = ['사과', '바나나', '오렌지']\n",
    "fruit1, fruit2, fruit3 = fruits\n",
    "print(fruit1, fruit2, fruit3)\n",
    "\n",
    "# 길이가 맞지 않으면 에러\n",
    "numbers = [1, 2, 3, 4, 5]\n",
    "# a, b = numbers  # 에러! 변수 2개, 요소 5개\n",
    "a, b, c, d, e = numbers\n",
    "print(a, b, c, d, e)\n"
   ],
   "metadata": {
    "id": "86QKEqeoftR4"
   },
   "outputs": [],
   "execution_count": null
  },
  {
   "metadata": {},
   "cell_type": "code",
   "source": [
    "# * 사용한 언패킹 (나머지 모두 가져오기)\n",
    "colors = ['빨강', '파랑', '노랑', '초록', '보라']\n",
    "\n",
    "# 중간에 *도 가능\n",
    "first, *middle, last = colors\n",
    "print(\"첫 번째:\", first)\n",
    "print(\"중간:\", middle)\n",
    "print(\"마지막:\", last)"
   ],
   "outputs": [],
   "execution_count": null
  },
  {
   "metadata": {},
   "cell_type": "markdown",
   "source": "b### 연습문제 - list 언패킹\n"
  },
  {
   "metadata": {
    "ExecuteTime": {
     "end_time": "2025-07-23T05:46:54.504153Z",
     "start_time": "2025-07-23T05:46:54.498655Z"
    }
   },
   "cell_type": "code",
   "source": [
    "# 1번\n",
    "names = \"김철수 이영희 박민수\".split()\n",
    "name1, name2, name3 = names\n",
    "print( name1, name2, name3 )"
   ],
   "outputs": [
    {
     "name": "stdout",
     "output_type": "stream",
     "text": [
      "김철수 이영희 박민수\n"
     ]
    }
   ],
   "execution_count": 43
  },
  {
   "metadata": {
    "ExecuteTime": {
     "end_time": "2025-07-23T05:47:31.378345Z",
     "start_time": "2025-07-23T05:47:31.372966Z"
    }
   },
   "cell_type": "code",
   "source": [
    "# 2번\n",
    "animals = '고양이 강아지 토끼 햄스터 앵무새'.split()\n",
    "first, *others = animals\n",
    "first, others"
   ],
   "outputs": [
    {
     "data": {
      "text/plain": [
       "('고양이', ['강아지', '토끼', '햄스터', '앵무새'])"
      ]
     },
     "execution_count": 46,
     "metadata": {},
     "output_type": "execute_result"
    }
   ],
   "execution_count": 46
  },
  {
   "metadata": {
    "ExecuteTime": {
     "end_time": "2025-07-23T05:48:03.810744Z",
     "start_time": "2025-07-23T05:48:03.803873Z"
    }
   },
   "cell_type": "code",
   "source": [
    "# 3번\n",
    "grades = [95, 87, 92, 78, 85, 90]\n",
    "first, *middle, last = grades\n",
    "first, middle, last"
   ],
   "outputs": [
    {
     "data": {
      "text/plain": [
       "(95, [87, 92, 78, 85], 90)"
      ]
     },
     "execution_count": 47,
     "metadata": {},
     "output_type": "execute_result"
    }
   ],
   "execution_count": 47
  },
  {
   "metadata": {
    "ExecuteTime": {
     "end_time": "2025-07-23T05:48:49.876700Z",
     "start_time": "2025-07-23T05:48:49.863353Z"
    }
   },
   "cell_type": "code",
   "source": [
    "# 4번\n",
    "point = [10, 20]\n",
    "x, y = point\n",
    "print(f\"x좌표: {x}, y좌표: {y}\")\n",
    "print(\"x좌표: {}, y좌표: {}\".format(x, y))"
   ],
   "outputs": [
    {
     "name": "stdout",
     "output_type": "stream",
     "text": [
      "x좌표: 10, y좌표: 20\n",
      "x좌표: 10, y좌표: 20\n"
     ]
    }
   ],
   "execution_count": 48
  },
  {
   "metadata": {
    "ExecuteTime": {
     "end_time": "2025-07-23T05:50:30.377432Z",
     "start_time": "2025-07-23T05:50:30.371314Z"
    }
   },
   "cell_type": "code",
   "source": [
    "# 6번\n",
    "colors = 'red blue green'.split()\n",
    "c1, c2, c3 = colors\n",
    "print(c1.upper(), c2.upper(), c3.upper())\n",
    "print(\"{} {} {}\".format(c1, c2, c3).upper())"
   ],
   "outputs": [
    {
     "name": "stdout",
     "output_type": "stream",
     "text": [
      "RED BLUE GREEN\n",
      "RED BLUE GREEN\n"
     ]
    }
   ],
   "execution_count": 49
  },
  {
   "metadata": {
    "ExecuteTime": {
     "end_time": "2025-07-23T05:52:37.116162Z",
     "start_time": "2025-07-23T05:52:37.110613Z"
    }
   },
   "cell_type": "code",
   "source": [
    "# 7번\n",
    "stdinfo = 'hong gil dong, 독서, 영화감상, 운동'.split(', ')\n",
    "name, *hobbies = stdinfo\n",
    "print(\"이름: {}, 취미: {},{},{}\".format(name, *hobbies))"
   ],
   "outputs": [
    {
     "name": "stdout",
     "output_type": "stream",
     "text": [
      "이름: hong gil dong, 취미: 독서,영화감상,운동\n"
     ]
    }
   ],
   "execution_count": 51
  },
  {
   "metadata": {
    "ExecuteTime": {
     "end_time": "2025-07-23T05:58:16.924135Z",
     "start_time": "2025-07-23T05:58:16.917986Z"
    }
   },
   "cell_type": "code",
   "source": [
    "# 8번\n",
    "words = \"PYTHON JAVA JAVASCRIPT HTML\".split()\n",
    "w1, *rest = words\n",
    "print(w1, \"{} {} {}\".format(*rest).lower())"
   ],
   "outputs": [
    {
     "name": "stdout",
     "output_type": "stream",
     "text": [
      "PYTHON java javascript html\n"
     ]
    }
   ],
   "execution_count": 68
  },
  {
   "metadata": {
    "ExecuteTime": {
     "end_time": "2025-07-23T05:55:31.203742Z",
     "start_time": "2025-07-23T05:55:31.196586Z"
    }
   },
   "cell_type": "code",
   "source": [
    "# 9번\n",
    "files = 'photo.jpg docuemnt.pdf music.mp3'.split()\n",
    "f1, f2, f3 = files\n",
    "x, y = f1.split('.')\n",
    "print(\"{}.{}\".format(x, y.upper()), end=' ')\n",
    "x, y = f2.split('.')\n",
    "print(\"{}.{}\".format(x, y.upper()), end=' ')\n",
    "x, y = f3.split('.')\n",
    "print(\"{}.{}\".format(x, y.upper()))"
   ],
   "outputs": [
    {
     "name": "stdout",
     "output_type": "stream",
     "text": [
      "photo.JPG docuemnt.PDF music.MP3\n"
     ]
    }
   ],
   "execution_count": 58
  },
  {
   "metadata": {
    "ExecuteTime": {
     "end_time": "2025-07-23T05:56:41.658169Z",
     "start_time": "2025-07-23T05:56:41.653940Z"
    }
   },
   "cell_type": "code",
   "source": [
    "# 10번\n",
    "sentences = [\n",
    "    'hello world',\n",
    "    'python programming',\n",
    "    'list unpacking'\n",
    "]\n",
    "first, *others = sentences\n",
    "print(first.replace(' ', ''))"
   ],
   "outputs": [
    {
     "name": "stdout",
     "output_type": "stream",
     "text": [
      "helloworld\n"
     ]
    }
   ],
   "execution_count": 63
  },
  {
   "metadata": {},
   "cell_type": "code",
   "source": [
    "# 1. 다음 리스트를 언패킹해서 각각 name1, name2, name3 변수에 할당하고 출력하기\n",
    "names = ['김철수', '이영희', '박민수']\n",
    "\n",
    "# 2. 다음 리스트에서 첫 번째 요소는 first에, 나머지는 others에 할당하기\n",
    "animals = ['고양이', '강아지', '토끼', '햄스터', '앵무새']\n",
    "\n",
    "# 3. 다음 리스트에서 첫 번째와 마지막 요소만 가져오고, 중간은 middle에 할당하기\n",
    "grades = [95, 87, 92, 78, 85, 90]\n",
    "\n",
    "# 4. 좌표 리스트를 x, y 변수로 언패킹하고 \"x좌표: ?, y좌표: ?\" 형태로 출력하기\n",
    "point = [10, 20]\n",
    "\n",
    "# 5. 다음 과목 리스트에서 주요과목 2개는 개별 변수로, 나머지는 sub_subjects로 언패킹하기\n",
    "subjects = ['수학', '국어', '영어', '과학', '사회', '음악', '미술']\n",
    "\n",
    "# 6. 월별 매출 리스트에서 1분기(첫 3개월)는 각각 변수로, 나머지는 rest_months로 언패킹하기\n",
    "monthly_sales = [100, 120, 110, 95, 105, 115, 125, 130, 140, 135, 145, 150]\n",
    "\n",
    "# 7. 음식 리스트에서 메인요리와 후식을 제외한 나머지를 side_dishes로 언패킹하기\n",
    "menu = ['샐러드', '스테이크', '파스타', '수프', '아이스크림']\n",
    "        # 출력: 메인요리: 스테이크, 후식: 아이스크림, 사이드: ['샐러드', '파스타', '수프']\n",
    "\n",
    "# 8. 학생 정보 리스트에서 이름과 나이는 개별변수로, 취미들은 hobbies로 언패킹하기\n",
    "student_info = ['홍길동', 25, '독서', '영화감상', '운동', '요리']\n",
    "\n",
    "# 9. 요일 리스트에서 주말(토, 일)을 제외한 평일들을 weekdays 변수로 언패킹하기\n",
    "days = ['월', '화', '수', '목', '금', '토', '일']\n",
    "\n",
    "# 10. RGB 색상값 리스트를 r, g, b 변수로 언패킹하고 \"색상: RGB(?, ?, ?)\" 형태로 출력하기\n",
    "color_rgb = [255, 128, 64]\n"
   ],
   "outputs": [],
   "execution_count": null
  },
  {
   "metadata": {},
   "cell_type": "markdown",
   "source": [
    "## 1.3. list 요소 추가하기\n",
    "\n",
    "리스트에 새로운 요소를 추가하는 세 가지 주요 메서드를 배운다.\n",
    "\n",
    "1. `append()` - 맨 뒤에 요소 하나 추가\n",
    "2. `insert()` - 특정 위치에 요소 추가  \n",
    "3. `extend()` - 다른 리스트의 모든 요소들을 추가\n"
   ]
  },
  {
   "metadata": {
    "ExecuteTime": {
     "end_time": "2025-07-23T06:02:40.475029Z",
     "start_time": "2025-07-23T06:02:40.467154Z"
    }
   },
   "cell_type": "code",
   "source": [
    "# append() - 맨 뒤에 하나씩 추가\n",
    "fruits = ['사과', '바나나']\n",
    "print(\"원본:\", fruits)\n",
    "\n",
    "fruits.append('오렌지')\n",
    "print(\"오렌지 추가:\", fruits)\n",
    "\n",
    "fruits.append('포도')\n",
    "print(\"포도 추가:\", fruits)\n",
    "\n",
    "x = []\n",
    "y = ['a', 'd']\n",
    "x.append('d')\n",
    "x.append('x')\n",
    "x.append(y)\n",
    "x"
   ],
   "outputs": [
    {
     "name": "stdout",
     "output_type": "stream",
     "text": [
      "원본: ['사과', '바나나']\n",
      "오렌지 추가: ['사과', '바나나', '오렌지']\n",
      "포도 추가: ['사과', '바나나', '오렌지', '포도']\n"
     ]
    },
    {
     "data": {
      "text/plain": [
       "['d', 'x', ['a', 'd']]"
      ]
     },
     "execution_count": 79,
     "metadata": {},
     "output_type": "execute_result"
    }
   ],
   "execution_count": 79
  },
  {
   "metadata": {
    "ExecuteTime": {
     "end_time": "2025-07-23T06:07:28.223426Z",
     "start_time": "2025-07-23T06:07:28.215233Z"
    }
   },
   "cell_type": "code",
   "source": [
    "# insert() - 특정 위치에 추가 (위치, 값)\n",
    "colors = ['빨강', '파랑', '노랑']\n",
    "print(\"원본:\", colors)\n",
    "\n",
    "colors.insert(1, '초록')  # 1번 위치에 '초록' 추가\n",
    "print(\"1번에 초록 추가:\", colors)\n",
    "\n",
    "colors.insert(0, '검정')  # 맨 앞에 '검정' 추가\n",
    "print(\"맨 앞에 검정 추가:\", colors)"
   ],
   "outputs": [
    {
     "name": "stdout",
     "output_type": "stream",
     "text": [
      "원본: ['빨강', '파랑', '노랑']\n",
      "1번에 초록 추가: ['빨강', '초록', '파랑', '노랑']\n",
      "맨 앞에 검정 추가: ['검정', '빨강', '초록', '파랑', '노랑']\n",
      "['검정', '빨강', '초록', '파랑', '노랑', '블랙']\n",
      "['검정', '빨강', '초록', '화이트', '파랑', '노랑', '블랙']\n",
      "['파랑', '노랑']\n"
     ]
    }
   ],
   "execution_count": 87
  },
  {
   "metadata": {
    "ExecuteTime": {
     "end_time": "2025-07-23T06:11:54.281415Z",
     "start_time": "2025-07-23T06:11:54.271403Z"
    }
   },
   "cell_type": "code",
   "source": [
    "# merge(), concat(), extend() - 다른 리스트의 모든 요소 추가\n",
    "animals = ['고양이', '강아지']\n",
    "new_animals = ['토끼', '햄스터', '앵무새']\n",
    "print(\"animals:\", animals)\n",
    "print(\"new_animals:\", new_animals)\n",
    "\n",
    "animals.extend(new_animals)\n",
    "print(\"extend 후:\", animals)\n",
    "\n",
    "# append vs extend 차이\n",
    "test1 = [1, 2, 3]\n",
    "test2 = [1, 2, 3]\n",
    "\n",
    "test1.append([4, 5])    # 리스트 자체를 요소로 추가\n",
    "test2.extend([4, 5])    # 리스트의 요소들을 각각 추가\n",
    "\n",
    "print(\"append 결과:\", test1)\n",
    "print(\"extend 결과:\", test2)\n"
   ],
   "outputs": [
    {
     "name": "stdout",
     "output_type": "stream",
     "text": [
      "animals: ['고양이', '강아지']\n",
      "new_animals: ['토끼', '햄스터', '앵무새']\n",
      "extend 후: ['고양이', '강아지', '토끼', '햄스터', '앵무새']\n",
      "append 결과: [1, 2, 3, [4, 5]]\n",
      "extend 결과: [1, 2, 3, 4, 5]\n"
     ]
    }
   ],
   "execution_count": 96
  },
  {
   "metadata": {},
   "cell_type": "markdown",
   "source": "### 연습문제 - list 요소 추가하기\n"
  },
  {
   "metadata": {},
   "cell_type": "code",
   "source": [
    "# 1. 빈 리스트를 만들고 append()로 숫자 1, 2, 3을 차례로 추가하기\n",
    "numbers = []\n",
    "\n",
    "# 2. ['월', '화', '수'] 리스트에 append()로 '목'을 추가하고 출력하기\n",
    "weekdays = ['월', '화', '수']\n",
    "\n",
    "# 3. ['사과', '바나나', '오렌지'] 리스트의 1번 위치에 insert()로 '포도' 추가하기\n",
    "fruits = ['사과', '바나나', '오렌지']\n",
    "\n",
    "# 4. ['빨강', '파랑'] 리스트의 맨 앞에 insert()로 '검정' 추가하기\n",
    "colors = ['빨강', '파랑']\n",
    "\n",
    "# 5. ['고양이', '강아지'] 리스트에 extend()로 ['토끼', '햄스터'] 추가하기\n",
    "pets = ['고양이', '강아지']\n",
    "new_pets = ['토끼', '햄스터']\n",
    "\n",
    "# 6. 학생 이름 리스트에 새로운 전학생 3명을 한 번에 추가하기\n",
    "students = ['김철수', '이영희']\n",
    "new_students = ['박민수', '최유진', '정태호']\n",
    "\n",
    "# 7. 빈 점수 리스트를 만들고 append()로 95, 87, 92를 차례로 추가한 후 평균 구하기\n",
    "scores = []\n",
    "        # 출력: 평균: 91.33\n",
    "\n",
    "# 8. ['1월', '2월'] 리스트의 2번 위치에 '윤달'을 insert()로 추가하기\n",
    "months = ['1월', '2월']\n",
    "\n",
    "# 9. 두 개의 리스트를 합쳐서 전체 메뉴 만들기\n",
    "main_menu = ['스테이크', '파스타']\n",
    "dessert_menu = ['아이스크림', '케이크', '푸딩']\n",
    "\n",
    "# 10. append와 extend의 차이를 보여주는 예제 만들기\n",
    "list1 = [1, 2, 3]\n",
    "list2 = [1, 2, 3]\n",
    "add_list = [4, 5, 6]\n",
    "        # list1에는 append, list2에는 extend 사용하고 결과 비교 출력\n"
   ],
   "outputs": [],
   "execution_count": null
  },
  {
   "metadata": {},
   "cell_type": "markdown",
   "source": [
    "## 1.4. list 요소 제거하기\n",
    "\n",
    "리스트에서 요소를 제거하는 세 가지 주요 메서드를 배운다.\n",
    "\n",
    "1. `remove()` - 특정 값을 찾아서 제거 (첫 번째 것만)\n",
    "2. `pop()` - 특정 위치의 요소를 제거하고 반환\n",
    "3. `clear()` - 모든 요소 제거\n"
   ]
  },
  {
   "metadata": {
    "ExecuteTime": {
     "end_time": "2025-07-23T06:15:41.070079Z",
     "start_time": "2025-07-23T06:15:41.063622Z"
    }
   },
   "cell_type": "code",
   "source": [
    "# remove() - 값으로 제거 (첫 번째 것만)\n",
    "fruits = ['사과', '바나나', '사과', '오렌지']\n",
    "print(\"원본:\", fruits)\n",
    "\n",
    "fruits.remove('사과')  # 첫 번째 '사과'만 제거\n",
    "print(\"사과 제거:\", fruits)\n",
    "\n",
    "# fruits.remove('포도')  # 없는 값 제거하면 에러!\n"
   ],
   "outputs": [
    {
     "name": "stdout",
     "output_type": "stream",
     "text": [
      "원본: ['사과', '바나나', '사과', '오렌지']\n",
      "사과 제거: ['바나나', '사과', '오렌지']\n"
     ]
    }
   ],
   "execution_count": 107
  },
  {
   "metadata": {
    "ExecuteTime": {
     "end_time": "2025-07-23T06:18:06.744073Z",
     "start_time": "2025-07-23T06:18:06.734588Z"
    }
   },
   "cell_type": "code",
   "source": [
    "# pop() - 위치로 제거하고 값 반환\n",
    "numbers = [10, 20, 30, 40, 50]\n",
    "print(\"원본:\", numbers)\n",
    "\n",
    "removed = numbers.pop()  # 마지막 요소 제거하고 반환\n",
    "print(\"제거된 값:\", removed)\n",
    "print(\"pop() 후:\", numbers)\n",
    "\n",
    "removed2 = numbers.pop(1)  # 1번 위치 요소 제거하고 반환\n",
    "print(\"1번 위치 제거된 값:\", removed2)\n",
    "print(\"pop(1) 후:\", numbers)\n"
   ],
   "outputs": [
    {
     "name": "stdout",
     "output_type": "stream",
     "text": [
      "원본: [10, 20, 30, 40, 50]\n",
      "제거된 값: 50\n",
      "pop() 후: [10, 20, 30, 40]\n",
      "1번 위치 제거된 값: 20\n",
      "pop(1) 후: [10, 30, 40]\n"
     ]
    }
   ],
   "execution_count": 110
  },
  {
   "metadata": {
    "ExecuteTime": {
     "end_time": "2025-07-23T06:18:24.072299Z",
     "start_time": "2025-07-23T06:18:24.063877Z"
    }
   },
   "cell_type": "code",
   "source": [
    "# clear() - 모든 요소 제거\n",
    "colors = ['빨강', '파랑', '노랑', '초록']\n",
    "print(\"원본:\", colors)\n",
    "\n",
    "colors.clear()\n",
    "print(\"clear() 후:\", colors)\n"
   ],
   "outputs": [
    {
     "name": "stdout",
     "output_type": "stream",
     "text": [
      "원본: ['빨강', '파랑', '노랑', '초록']\n",
      "clear() 후: []\n"
     ]
    }
   ],
   "execution_count": 111
  },
  {
   "metadata": {},
   "cell_type": "markdown",
   "source": "### 연습문제 - list 요소 제거하기\n"
  },
  {
   "metadata": {},
   "cell_type": "code",
   "source": [
    "# 1. ['사과', '바나나', '오렌지', '포도'] 리스트에서 remove()로 '바나나' 제거하기\n",
    "fruits = ['사과', '바나나', '오렌지', '포도']\n",
    "\n",
    "# 2. [1, 2, 3, 4, 5] 리스트에서 pop()로 마지막 요소 제거하고 출력하기\n",
    "numbers = [1, 2, 3, 4, 5]\n",
    "\n",
    "# 3. ['빨강', '파랑', '노랑'] 리스트에서 pop(0)로 첫 번째 요소 제거하기\n",
    "colors = ['빨강', '파랑', '노랑']\n",
    "\n",
    "# 4. ['고양이', '강아지', '토끼', '햄스터'] 리스트를 clear()로 모두 제거하기\n",
    "animals = ['고양이', '강아지', '토끼', '햄스터']\n",
    "\n",
    "# 5. [10, 20, 10, 30, 10] 리스트에서 remove()로 10을 한 번 제거하고 결과 확인하기\n",
    "numbers = [10, 20, 10, 30, 10]\n",
    "\n",
    "# 6. 학생 명단에서 전학간 학생 제거하고 \"?이가 전학갔습니다\" 출력하기\n",
    "students = ['김철수', '이영희', '박민수', '최유진']\n",
    "        # 박민수가 전학간다고 가정\n",
    "\n",
    "# 7. 점수 리스트에서 가장 낮은 점수를 찾아서 제거하기\n",
    "scores = [95, 67, 89, 72, 91]\n",
    "        # 출력: 가장 낮은 점수 67을 제거했습니다\n",
    "\n",
    "# 8. 쇼핑 리스트에서 구매한 물건들을 pop()으로 하나씩 제거하며 \"?을 구매했습니다\" 출력\n",
    "shopping_list = ['우유', '빵', '계란', '사과']\n",
    "\n",
    "# 9. 대기 줄에서 pop(0)을 사용해 맨 앞 사람부터 순서대로 처리하기\n",
    "waiting_queue = ['A고객', 'B고객', 'C고객', 'D고객']\n",
    "        # 출력: A고객 처리 완료, B고객 처리 완료...\n",
    "\n",
    "# 10. 할 일 목록을 모두 완료했다고 가정하고 clear()로 모두 제거한 후 \"모든 할 일 완료!\" 출력\n",
    "todo_list = ['과제하기', '청소하기', '운동하기', '독서하기']\n"
   ],
   "outputs": [],
   "execution_count": null
  },
  {
   "metadata": {},
   "cell_type": "markdown",
   "source": [
    "## 1.5. list 검색하기\n",
    "\n",
    "리스트에서 특정 값을 찾거나 개수를 세는 두 가지 메서드를 배운다.\n",
    "\n",
    "1. `index()` - 특정 값의 위치(인덱스) 찾기\n",
    "2. `count()` - 특정 값의 개수 세기\n"
   ]
  },
  {
   "metadata": {
    "ExecuteTime": {
     "end_time": "2025-07-23T06:29:32.735868Z",
     "start_time": "2025-07-23T06:29:32.729753Z"
    }
   },
   "cell_type": "code",
   "source": [
    "# index() - 값의 위치 찾기\n",
    "fruits = ['사과', '바나나', '오렌지', '바나나', '포도']\n",
    "print(\"리스트:\", fruits)\n",
    "\n",
    "banana_index = fruits.index('바나나')\n",
    "print(\"바나나의 위치:\", banana_index)  # 첫 번째 바나나 위치만\n",
    "\n",
    "grape_index = fruits.index('포도')\n",
    "print(\"포도의 위치:\", grape_index)\n"
   ],
   "outputs": [
    {
     "name": "stdout",
     "output_type": "stream",
     "text": [
      "리스트: ['사과', '바나나', '오렌지', '바나나', '포도']\n",
      "바나나의 위치: 1\n",
      "포도의 위치: 4\n"
     ]
    }
   ],
   "execution_count": 124
  },
  {
   "metadata": {
    "ExecuteTime": {
     "end_time": "2025-07-23T06:30:41.519115Z",
     "start_time": "2025-07-23T06:30:41.511905Z"
    }
   },
   "cell_type": "code",
   "source": [
    "# count() - 값의 개수 세기\n",
    "numbers = [1, 2, 3, 2, 4, 2, 5]\n",
    "print(\"리스트:\", numbers)\n",
    "\n",
    "count_2 = numbers.count(2)\n",
    "print(\"숫자 2의 개수:\", count_2)\n",
    "\n",
    "count_6 = numbers.count(6)\n",
    "print(\"숫자 6의 개수:\", count_6)  # 없으면 0\n"
   ],
   "outputs": [
    {
     "name": "stdout",
     "output_type": "stream",
     "text": [
      "리스트: [1, 2, 3, 2, 4, 2, 5]\n",
      "숫자 2의 개수: 3\n",
      "숫자 6의 개수: 0\n"
     ]
    }
   ],
   "execution_count": 125
  },
  {
   "metadata": {},
   "cell_type": "code",
   "source": [
    "# 실용적 활용 예시\n",
    "students = ['김철수', '이영희', '김철수', '박민수', '이영희', '김철수']\n",
    "\n",
    "# 특정 학생이 몇 번 나타나는지\n",
    "kim_count = students.count('김철수')\n",
    "print(f\"김철수가 {kim_count}번 나타남\")\n",
    "\n",
    "# 특정 학생이 처음 나타나는 위치\n",
    "lee_index = students.index('이영희')\n",
    "print(f\"이영희가 처음 나타나는 위치: {lee_index}\")\n"
   ],
   "outputs": [],
   "execution_count": null
  },
  {
   "metadata": {},
   "cell_type": "markdown",
   "source": "### 연습문제 - list 검색하기\n"
  },
  {
   "metadata": {},
   "cell_type": "code",
   "source": [
    "# 1. ['사과', '바나나', '오렌지'] 리스트에서 '바나나'의 위치 찾기\n",
    "fruits = ['사과', '바나나', '오렌지']\n",
    "\n",
    "# 2. [1, 3, 5, 7, 9] 리스트에서 5의 위치 찾고 \"5는 ?번째 위치에 있습니다\" 출력\n",
    "numbers = [1, 3, 5, 7, 9]\n",
    "\n",
    "# 3. ['빨강', '파랑', '빨강', '노랑', '빨강'] 리스트에서 '빨강'의 개수 세기\n",
    "colors = ['빨강', '파랑', '빨강', '노랑', '빨강']\n",
    "\n",
    "# 4. [2, 4, 2, 6, 2, 8, 2] 리스트에서 2의 개수와 첫 번째 위치 모두 출력하기\n",
    "numbers = [2, 4, 2, 6, 2, 8, 2]\n",
    "\n",
    "# 5. 학생 출석부에서 특정 학생의 출석 횟수와 첫 출석일 찾기\n",
    "attendance = ['김철수', '이영희', '박민수', '김철수', '최유진', '김철수', '이영희']\n",
    "        # 김철수의 출석 횟수와 첫 출석 위치 출력\n",
    "\n",
    "# 6. 점수 리스트에서 만점(100점)의 개수와 첫 번째 만점 위치 찾기\n",
    "scores = [85, 92, 100, 78, 100, 95, 100, 88]\n",
    "\n",
    "# 7. 단어 리스트에서 가장 많이 나타나는 단어와 그 개수 찾기\n",
    "words = ['apple', 'banana', 'apple', 'cherry', 'banana', 'apple']\n",
    "        # 출력: 가장 많은 단어: apple (3번)\n",
    "\n",
    "# 8. 로또 번호에서 특정 번호가 몇 번째에 있는지 찾기\n",
    "lotto_numbers = [7, 15, 23, 31, 42, 45]\n",
    "target_number = 23\n",
    "\n",
    "# 9. 영화 장르 리스트에서 'Action'의 개수와 모든 위치 찾기 (반복문 없이)\n",
    "movie_genres = ['Comedy', 'Action', 'Drama', 'Action', 'Horror', 'Action']\n",
    "        # 출력: Action이 3번 나타남, 첫 번째 위치: 1\n",
    "\n",
    "# 10. 요일 리스트에서 주말('토', '일')이 각각 몇 개씩 있는지 확인하기\n",
    "week_schedule = ['월', '화', '수', '목', '금', '토', '일', '토', '일']\n",
    "        # 출력: 토요일: 2개, 일요일: 2개\n"
   ],
   "outputs": [],
   "execution_count": null
  },
  {
   "metadata": {},
   "cell_type": "markdown",
   "source": [
    "## 1.6. list 정렬과 기타 유용한 메서드\n",
    "\n",
    "리스트를 정렬하거나 순서를 바꾸고, 복사하는 메서드들을 배운다.\n",
    "\n",
    "1. `sort()` - 리스트를 정렬 (원본 변경)\n",
    "2. `reverse()` - 리스트 순서를 뒤집기 (원본 변경)\n",
    "3. `copy()` - 리스트 복사본 만들기\n"
   ]
  },
  {
   "metadata": {
    "ExecuteTime": {
     "end_time": "2025-07-23T06:35:59.736333Z",
     "start_time": "2025-07-23T06:35:59.729565Z"
    }
   },
   "cell_type": "code",
   "source": [
    "# sort() - 오름차순 정렬\n",
    "numbers = [3, 1, 4, 1, 5, 9, 2, 6]\n",
    "print(\"원본:\", numbers)\n",
    "\n",
    "numbers.sort()\n",
    "print(\"정렬 후:\", numbers)\n",
    "\n",
    "# 내림차순 정렬\n",
    "numbers.sort(reverse=True)\n",
    "print(\"내림차순:\", numbers)\n"
   ],
   "outputs": [
    {
     "name": "stdout",
     "output_type": "stream",
     "text": [
      "원본: [3, 1, 4, 1, 5, 9, 2, 6]\n",
      "정렬 후: [1, 1, 2, 3, 4, 5, 6, 9]\n",
      "내림차순: [1, 1, 2, 3, 4, 5, 6, 9]\n"
     ]
    }
   ],
   "execution_count": 135
  },
  {
   "metadata": {
    "ExecuteTime": {
     "end_time": "2025-07-23T06:40:58.748333Z",
     "start_time": "2025-07-23T06:40:58.742913Z"
    }
   },
   "cell_type": "code",
   "source": [
    "# 문자열 정렬\n",
    "fruits = ['바나나', '사과', '오렌지', '1포도1', '포도2', '1a']\n",
    "print(\"원본:\", fruits)\n",
    "\n",
    "fruits.sort()\n",
    "print(\"가나다순:\", fruits)\n",
    "\n",
    "fruits.sort(reverse=True)\n",
    "print(\"역순:\", fruits)\n"
   ],
   "outputs": [
    {
     "name": "stdout",
     "output_type": "stream",
     "text": [
      "원본: ['바나나', '사과', '오렌지', '1포도1', '포도2', '1a']\n",
      "가나다순: ['1a', '1포도1', '바나나', '사과', '오렌지', '포도2']\n",
      "역순: ['포도2', '오렌지', '사과', '바나나', '1포도1', '1a']\n"
     ]
    }
   ],
   "execution_count": 140
  },
  {
   "metadata": {
    "ExecuteTime": {
     "end_time": "2025-07-23T06:41:45.505960Z",
     "start_time": "2025-07-23T06:41:45.499637Z"
    }
   },
   "cell_type": "code",
   "source": [
    "# reverse() - 순서 뒤집기\n",
    "colors = ['빨강', '파랑', '노랑', '초록']\n",
    "print(\"원본:\", colors)\n",
    "\n",
    "colors.reverse()\n",
    "print(\"뒤집기:\", colors)\n"
   ],
   "outputs": [
    {
     "name": "stdout",
     "output_type": "stream",
     "text": [
      "원본: ['빨강', '파랑', '노랑', '초록']\n",
      "뒤집기: ['초록', '노랑', '파랑', '빨강']\n"
     ]
    }
   ],
   "execution_count": 141
  },
  {
   "metadata": {},
   "cell_type": "code",
   "source": [
    "# copy() - 복사본 만들기\n",
    "original = [1, 2, 3, 4, 5]\n",
    "copied = original.copy()\n",
    "\n",
    "print(\"원본:\", original)\n",
    "print(\"복사본:\", copied)\n",
    "\n",
    "# 복사본 수정해도 원본은 안 바뀜\n",
    "copied.append(6)\n",
    "print(\"복사본 수정 후:\")\n",
    "print(\"원본:\", original)\n",
    "print(\"복사본:\", copied)\n",
    "\n",
    "# 주의: = 으로 할당하면 같은 리스트를 가리킴\n",
    "same_list = original\n",
    "same_list.append(7)\n",
    "print(\"= 할당 후:\")\n",
    "print(\"원본:\", original)  # 원본도 바뀜!\n",
    "print(\"same_list:\", same_list)\n"
   ],
   "outputs": [],
   "execution_count": null
  },
  {
   "metadata": {
    "ExecuteTime": {
     "end_time": "2025-07-23T06:47:23.755541Z",
     "start_time": "2025-07-23T06:47:23.748195Z"
    }
   },
   "cell_type": "code",
   "source": [
    "# deep copy\n",
    "import copy\n",
    "\n",
    "b = [3]\n",
    "c = [2, b, 5]\n",
    "d = copy.copy(c)\n",
    "b.append(5)\n",
    "d"
   ],
   "outputs": [
    {
     "data": {
      "text/plain": [
       "[2, [3, 5], 5]"
      ]
     },
     "execution_count": 155,
     "metadata": {},
     "output_type": "execute_result"
    }
   ],
   "execution_count": 155
  },
  {
   "metadata": {},
   "cell_type": "markdown",
   "source": "### 연습문제 - list 정렬과 기타 유용한 메서드\n"
  },
  {
   "metadata": {},
   "cell_type": "code",
   "source": [
    "# 1. [5, 2, 8, 1, 9] 리스트를 오름차순으로 정렬하기\n",
    "numbers = [5, 2, 8, 1, 9]\n",
    "\n",
    "# 2. ['홍길동', '김철수', '이영희', '박민수'] 리스트를 가나다순으로 정렬하기\n",
    "names = ['홍길동', '김철수', '이영희', '박민수']\n",
    "\n",
    "# 3. [95, 87, 92, 78, 85] 점수 리스트를 내림차순으로 정렬하기\n",
    "scores = [95, 87, 92, 78, 85]\n",
    "\n",
    "# 4. ['월', '화', '수', '목', '금'] 리스트를 reverse()로 순서 뒤집기\n",
    "weekdays = ['월', '화', '수', '목', '금']\n",
    "\n",
    "# 5. [1, 2, 3, 4, 5] 리스트의 복사본을 만들고 원본과 복사본 각각 다르게 수정하기\n",
    "original_list = [1, 2, 3, 4, 5]\n",
    "\n",
    "# 6. 학생 성적을 높은 순서대로 정렬하고 1등부터 3등까지 출력하기\n",
    "student_scores = [('김철수', 95), ('이영희', 87), ('박민수', 92), ('최유진', 98)]\n",
    "        # 힌트: 이건 좀 어려우니 일단 점수만 있는 리스트로 연습\n",
    "\n",
    "# 7. 로또 번호를 오름차순으로 정렬하기\n",
    "lotto = [42, 7, 15, 31, 23, 45]\n",
    "\n",
    "# 8. 영화 평점 리스트를 복사해서 원본은 그대로 두고 복사본만 정렬하기\n",
    "movie_ratings = [4.5, 3.2, 4.8, 2.1, 4.0, 3.7]\n",
    "\n",
    "# 9. 알파벳 리스트를 역순으로 만들기\n",
    "alphabet = ['a', 'b', 'c', 'd', 'e']\n",
    "        # 출력: ['e', 'd', 'c', 'b', 'a']\n",
    "\n",
    "# 10. = 할당과 copy()의 차이점을 보여주는 예제 만들기\n",
    "test_list = [1, 2, 3]\n",
    "        # 두 가지 방법으로 복사하고 각각 수정해서 차이점 확인\n"
   ],
   "outputs": [],
   "execution_count": null
  },
  {
   "metadata": {},
   "cell_type": "markdown",
   "source": [
    "# 종합 연습문제\n",
    "\n",
    "앞서 배운 모든 내용을 종합해서 연습해보자. 각 문제는 여러 메서드를 조합해서 사용한다.\n"
   ]
  },
  {
   "metadata": {},
   "cell_type": "code",
   "source": [
    "# 1. 학생 명단 관리 시스템 만들기\n",
    "students = []\n",
    "# append로 5명 추가 → 가나다순 정렬 → 3번째 학생 제거 → 전체 출력\n",
    "\n",
    "# 2. 쇼핑 카트 시뮬레이션\n",
    "cart = ['우유', '빵']\n",
    "items_to_add = ['계란', '사과', '바나나']\n",
    "# extend로 추가 → '빵' 제거 → 총 몇 개 품목인지 출력\n",
    "\n",
    "# 3. 게임 점수 순위 만들기\n",
    "scores = [750, 1200, 890, 650, 1050]\n",
    "# 복사본 만들기 → 내림차순 정렬 → 1,2,3등 점수 출력\n",
    "\n",
    "# 4. 단어 빈도 분석기\n",
    "text_words = ['apple', 'banana', 'apple', 'cherry', 'banana', 'apple']\n",
    "# 'apple' 개수 → 'apple' 첫 위치 → 'apple' 모두 제거 → 결과 출력\n",
    "\n",
    "# 5. 대기열 관리 시스템\n",
    "queue = ['A', 'B', 'C', 'D']\n",
    "# 맨 앞 고객 처리(pop) → 새 고객 'E' 추가 → 현재 대기 인원수 출력\n",
    "\n",
    "# 6. 로또 번호 생성기\n",
    "my_numbers = [7, 15, 23]\n",
    "bonus_numbers = [31, 42, 45]\n",
    "# 합치기 → 정렬 → 역순으로 뒤집기 → 결과 출력\n",
    "\n",
    "# 7. 재고 관리 시스템\n",
    "inventory = ['사과', '바나나', '오렌지', '바나나', '사과']\n",
    "# '바나나' 개수 확인 → '바나나' 하나 제거 → 다시 개수 확인 → 차이 출력\n",
    "\n",
    "# 8. 성적 관리 프로그램\n",
    "grades = [95, 87, 92, 78, 85]\n",
    "# 복사본 만들기 → 60점 미만 제거(78 제거) → 평균 계산 → 최고점 찾기\n",
    "\n",
    "# 9. 플레이리스트 관리\n",
    "playlist = ['노래1', '노래2', '노래3']\n",
    "# 새 노래 2개 추가 → 1번 위치에 '노래0' 삽입 → 마지막 노래 제거 → 전체 출력\n",
    "\n",
    "# 10. 메뉴 추천 시스템\n",
    "menu = ['파스타', '피자', '햄버거', '샐러드']\n",
    "# 순서 섞기(reverse) → 처음 2개 추천 → 나머지는 backup_menu에 할당\n",
    "\n",
    "# 11. 출석부 분석\n",
    "attendance = ['김철수', '이영희', '김철수', '박민수', '이영희', '김철수']\n",
    "# 각 학생별 출석 횟수 출력 → 가장 많이 출석한 학생 찾기\n",
    "\n",
    "# 12. 색상 팔레트 관리\n",
    "colors = ['빨강', '파랑', '노랑']\n",
    "extra_colors = ['초록', '보라', '주황']\n",
    "# 합치기 → 가나다순 정렬 → 첫 번째와 마지막 색상으로 새 리스트 만들기\n",
    "\n",
    "# 13. 도서관 대출 시스템\n",
    "books = ['소설1', '소설2', '과학책', '소설1', '역사책']\n",
    "# '소설1' 대출 처리(첫 번째만 제거) → 새 책 3권 추가 → 총 장서 수 출력\n",
    "\n",
    "# 14. 운동 기록 관리\n",
    "exercise_minutes = [30, 45, 60, 20, 50]\n",
    "# 복사본 만들기 → 20분 미만 제거 → 내림차순 정렬 → 평균 운동시간 계산\n",
    "\n",
    "# 15. 연락처 관리\n",
    "contacts = ['엄마', '아빠', '친구1', '친구2']\n",
    "# 중간에 '형/누나' 추가 → 가족만 따로 추출 → 친구들 개수 확인\n",
    "\n",
    "# 16. 영화 평점 시스템\n",
    "ratings = [4.5, 3.2, 4.8, 2.1, 4.0]\n",
    "# 2점대 평점 제거 → 4점 이상만 남기기 → 높은 순으로 정렬 → 베스트3 출력\n",
    "\n",
    "# 17. 카페 주문 관리\n",
    "orders = ['아메리카노', '라떼', '아메리카노', '카푸치노']\n",
    "# 아메리카노 주문 개수 → 첫 번째 아메리카노 위치 → 신메뉴 추가 → 전체 주문 출력\n",
    "\n",
    "# 18. 여행 일정 플래너\n",
    "destinations = ['서울', '부산', '제주']\n",
    "# 중간 경유지 추가 → 일정 순서 변경(reverse) → 마지막 목적지 확인\n",
    "\n",
    "# 19. 게임 아이템 인벤토리\n",
    "items = ['검', '방패', '포션', '포션', '마법서']\n",
    "# 포션 사용(하나 제거) → 새 아이템 획득 → 전체 아이템 정렬 → 유니크 아이템 개수\n",
    "\n",
    "# 20. 시험 문제 은행 관리\n",
    "questions = ['1번문제', '2번문제', '3번문제', '4번문제', '5번문제']\n",
    "# 복사본 만들기 → 랜덤하게 섞기(reverse로 대체) → 앞의 3문제로 시험지 구성\n",
    "        # 출력: 시험지: ['5번문제', '4번문제', '3번문제']\n"
   ],
   "outputs": [],
   "execution_count": null
  }
 ]
}
