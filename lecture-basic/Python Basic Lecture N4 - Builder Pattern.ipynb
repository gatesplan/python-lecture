{
 "cells": [
  {
   "metadata": {},
   "cell_type": "markdown",
   "source": [
    "# 뷜더 패런\n",
    "\n",
    "builder pattern is a design pattern that provides a way to construct complex objects step by step. It allows for the creation of different representations of an object using the same construction process."
   ],
   "id": "7de6eabd505b0102"
  },
  {
   "metadata": {
    "ExecuteTime": {
     "end_time": "2025-08-13T04:13:23.407014Z",
     "start_time": "2025-08-13T04:13:23.400291Z"
    }
   },
   "cell_type": "code",
   "source": [
    "# 빌더 패턴 - 객체 자체가 복잡해서...\n",
    "\n",
    "class Character:\n",
    "    def __init__(self, leg, aram, body):\n",
    "        pass\n",
    "\n",
    "class Head:\n",
    "    def __init__(self, hair, face):\n",
    "        pass\n",
    "\n",
    "class Leg:\n",
    "    def __init__(self, foot, knee):\n",
    "        pass\n",
    "\n",
    "class Arm:\n",
    "    def __init__(self, hand, elbow):\n",
    "        pass\n",
    "\n"
   ],
   "id": "e6ea585e7dcd0b4d",
   "outputs": [],
   "execution_count": 2
  },
  {
   "metadata": {
    "ExecuteTime": {
     "end_time": "2025-08-13T04:19:04.501907Z",
     "start_time": "2025-08-13T04:19:04.490929Z"
    }
   },
   "cell_type": "code",
   "source": [
    "# 빌더 패턴\n",
    "class Something:\n",
    "    def some_method(self):\n",
    "        print(\"some_method called\")\n",
    "        return self\n",
    "\n",
    "    def other_method(self):\n",
    "        print(\"other_method called\")\n",
    "        return self\n",
    "\n",
    "class NNBuilder:\n",
    "    def __init__(self):\n",
    "        self.sequence = []\n",
    "\n",
    "    def lin(self, in_features=0, out_features=0):\n",
    "        self.sequence.append(('linear', in_features, out_features))\n",
    "        return self\n",
    "\n",
    "    def relu(self):\n",
    "        self.sequence.append(('relu',))\n",
    "        return self\n",
    "\n",
    "    def build(self):\n",
    "        print(\"Building the sequence:\")\n",
    "        for item in self.sequence:\n",
    "            print(item)\n",
    "        return self\n",
    "\n",
    "nnbuilder = NNBuilder()\n",
    "\n",
    "nnbuilder.lin(3, 5).relu().lin(5, 10).relu().build()"
   ],
   "id": "b604c539c318a329",
   "outputs": [
    {
     "name": "stdout",
     "output_type": "stream",
     "text": [
      "Building the sequence:\n",
      "('linear', 3, 5)\n",
      "('relu',)\n",
      "('linear', 5, 10)\n",
      "('relu',)\n"
     ]
    },
    {
     "data": {
      "text/plain": [
       "<__main__.NNBuilder at 0x202732d6660>"
      ]
     },
     "execution_count": 9,
     "metadata": {},
     "output_type": "execute_result"
    }
   ],
   "execution_count": 9
  },
  {
   "metadata": {
    "ExecuteTime": {
     "end_time": "2025-08-13T04:33:38.178447Z",
     "start_time": "2025-08-13T04:33:38.170179Z"
    }
   },
   "cell_type": "code",
   "source": [
    "# 빌더 패턴\n",
    "# 햄버거/피자 주문 시스템\n",
    "class Burger:\n",
    "    def __init__(self, burn, cheese, patty):\n",
    "        self.burn = burn\n",
    "        self.cheese = cheese\n",
    "        self.patty = patty\n",
    "\n",
    "class Pizza:\n",
    "    def __init__(self, size, cheese, topping):\n",
    "        self.size = size\n",
    "        self.cheese = cheese\n",
    "        self.topping = topping\n",
    "\n",
    "class BurgerBuilder:\n",
    "    def __init__(self):\n",
    "        self.burn = None\n",
    "        self.cheese = None\n",
    "        self.patty = None\n",
    "\n",
    "    def set_burn(self, burn):\n",
    "        self.burn = burn\n",
    "        return self\n",
    "\n",
    "    def set_cheese(self, cheese):\n",
    "        self.cheese = cheese\n",
    "        return self\n",
    "\n",
    "    def set_patty(self, patty):\n",
    "        self.patty = patty\n",
    "        return self\n",
    "\n",
    "    def build(self):\n",
    "        return Burger(self.burn, self.cheese, self.patty)\n",
    "\n",
    "class PizzaBuilder:\n",
    "    def __init__(self):\n",
    "        self.size = None\n",
    "        self.cheese = None\n",
    "        self.topping = None\n",
    "\n",
    "    def set_size(self, size):\n",
    "        self.size = size\n",
    "        return self\n",
    "\n",
    "    def set_cheese(self, cheese):\n",
    "        self.cheese = cheese\n",
    "        return self\n",
    "\n",
    "    def set_topping(self, topping):\n",
    "        self.topping = topping\n",
    "        return self\n",
    "\n",
    "    def build(self):\n",
    "        return Pizza(self.size, self.cheese, self.topping)\n",
    "\n",
    "class EdibleBuilderFactory:\n",
    "    @staticmethod\n",
    "    def create_burger_builder():\n",
    "        return BurgerBuilder()\n",
    "\n",
    "    @staticmethod\n",
    "    def create_pizza_builder():\n",
    "        return PizzaBuilder()\n",
    "\n",
    "efac = EdibleBuilderFactory\n",
    "pizza = (efac.create_pizza_builder()\n",
    "     .set_size(\"large\")\n",
    "     .set_cheese('mozzarella')\n",
    "     .set_topping('pepperoni').build())\n",
    "pizza.topping"
   ],
   "id": "f14fc3500c36cef6",
   "outputs": [
    {
     "data": {
      "text/plain": [
       "'pepperoni'"
      ]
     },
     "execution_count": 15,
     "metadata": {},
     "output_type": "execute_result"
    }
   ],
   "execution_count": 15
  },
  {
   "metadata": {
    "ExecuteTime": {
     "end_time": "2025-08-13T04:21:15.912559Z",
     "start_time": "2025-08-13T04:21:15.907037Z"
    }
   },
   "cell_type": "code",
   "source": [
    "class Computer:\n",
    "    def __init__(self, cpu, ram, storage, power):\n",
    "        self.cpu = cpu\n",
    "        self.ram = ram\n",
    "        self.storage = storage\n",
    "        self.power = power\n",
    "\n",
    "class ComputerBuilder:\n",
    "    def __init__(self):\n",
    "        self.cpu = None\n",
    "        self.ram = None\n",
    "        self.storage = None\n",
    "        self.power = None\n",
    "\n",
    "    def set_cpu(self, cpu):\n",
    "        self.cpu = cpu\n",
    "        return self\n",
    "\n",
    "    def set_ram(self, ram):\n",
    "        self.ram = ram\n",
    "        return self\n",
    "\n",
    "    def set_storage(self, storage):\n",
    "        self.storage = storage\n",
    "        return self\n",
    "\n",
    "    def set_power(self, power):\n",
    "        self.power = power\n",
    "        return self\n",
    "\n",
    "    def build(self):\n",
    "        return Computer(self.cpu, self.ram, self.storage, self.power)\n"
   ],
   "id": "2c31a5bf6b7c4225",
   "outputs": [],
   "execution_count": 11
  },
  {
   "metadata": {},
   "cell_type": "code",
   "outputs": [],
   "execution_count": null,
   "source": "",
   "id": "aa6146b083d7e0dd"
  }
 ],
 "metadata": {
  "kernelspec": {
   "display_name": "Python 3",
   "language": "python",
   "name": "python3"
  },
  "language_info": {
   "codemirror_mode": {
    "name": "ipython",
    "version": 2
   },
   "file_extension": ".py",
   "mimetype": "text/x-python",
   "name": "python",
   "nbconvert_exporter": "python",
   "pygments_lexer": "ipython2",
   "version": "2.7.6"
  }
 },
 "nbformat": 4,
 "nbformat_minor": 5
}
