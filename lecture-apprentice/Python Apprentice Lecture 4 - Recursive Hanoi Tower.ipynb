{
 "cells": [
  {
   "metadata": {},
   "cell_type": "markdown",
   "source": [
    "# 재귀함수 설계\n",
    "\n",
    "이 노트에서 우리는 재귀함수를 어떻게 설계하는지 배우고, 이를 이용해 몇 가지 정렬 알고리즘을 구현한다."
   ],
   "id": "d98bbfac7527f97b"
  },
  {
   "metadata": {
    "ExecuteTime": {
     "end_time": "2025-10-10T09:38:40.479129Z",
     "start_time": "2025-10-10T09:38:40.437972Z"
    }
   },
   "cell_type": "code",
   "source": [
    "\"\"\"\n",
    "재귀 함수의 콜스택을 시각화하는 데코레이터\n",
    "\"\"\"\n",
    "import sys\n",
    "from io import StringIO\n",
    "from functools import wraps\n",
    "\n",
    "\n",
    "class CallStackVisualizer:\n",
    "    def __init__(self):\n",
    "        self.depth = 0\n",
    "        self.original_stdout = sys.stdout\n",
    "\n",
    "    def get_indent(self):\n",
    "        \"\"\"현재 깊이에 맞는 들여쓰기 문자열 반환\"\"\"\n",
    "        return \"|   \" * self.depth\n",
    "\n",
    "    def visualize(self, func):\n",
    "        \"\"\"재귀 함수를 시각화하는 데코레이터\"\"\"\n",
    "        @wraps(func)\n",
    "        def wrapper(*args, **kwargs):\n",
    "            # 함수 호출 시작\n",
    "            indent = self.get_indent()\n",
    "\n",
    "            # 함수명과 파라미터 출력\n",
    "            args_str = \", \".join(repr(arg) for arg in args)\n",
    "            if kwargs:\n",
    "                kwargs_str = \", \".join(f\"{k}={v!r}\" for k, v in kwargs.items())\n",
    "                params = f\"{args_str}, {kwargs_str}\" if args_str else kwargs_str\n",
    "            else:\n",
    "                params = args_str\n",
    "\n",
    "            print(f\"{indent}{func.__name__}({params})\", file=self.original_stdout)\n",
    "\n",
    "            # 깊이 증가\n",
    "            self.depth += 1\n",
    "\n",
    "            # stdout 리다이렉션 설정\n",
    "            original_stdout = sys.stdout\n",
    "            captured_output = StringIO()\n",
    "\n",
    "            class IndentedStdout:\n",
    "                def __init__(self, original, depth_getter):\n",
    "                    self.original = original\n",
    "                    self.depth_getter = depth_getter\n",
    "                    self.buffer = []  # 한 줄씩 모으기 위한 버퍼\n",
    "\n",
    "                def write(self, text):\n",
    "                    if not text:\n",
    "                        return\n",
    "\n",
    "                    # 개행 문자가 나올 때까지 버퍼에 모음\n",
    "                    if '\\n' in text:\n",
    "                        parts = text.split('\\n')\n",
    "                        # 마지막 부분 전까지 처리\n",
    "                        for i, part in enumerate(parts[:-1]):\n",
    "                            self.buffer.append(part)\n",
    "                            line = ''.join(self.buffer)\n",
    "                            if line:  # 빈 줄이 아닌 경우만\n",
    "                                indent = \"|   \" * self.depth_getter()\n",
    "                                self.original.write(f'{indent}\"{line}\"\\n')\n",
    "                            self.buffer = []\n",
    "                        # 마지막 부분은 버퍼에 보관\n",
    "                        if parts[-1]:\n",
    "                            self.buffer.append(parts[-1])\n",
    "                    else:\n",
    "                        self.buffer.append(text)\n",
    "\n",
    "                def flush(self):\n",
    "                    # 버퍼에 남아있는 내용 출력\n",
    "                    if self.buffer:\n",
    "                        line = ''.join(self.buffer)\n",
    "                        if line:\n",
    "                            indent = \"|   \" * self.depth_getter()\n",
    "                            self.original.write(f'{indent}\"{line}\"\\n')\n",
    "                        self.buffer = []\n",
    "                    self.original.flush()\n",
    "\n",
    "            sys.stdout = IndentedStdout(self.original_stdout, lambda: self.depth)\n",
    "\n",
    "            try:\n",
    "                # 원본 함수 실행\n",
    "                result = func(*args, **kwargs)\n",
    "            finally:\n",
    "                # stdout 복원\n",
    "                sys.stdout = original_stdout\n",
    "\n",
    "                # 깊이 감소\n",
    "                self.depth -= 1\n",
    "\n",
    "                # 반환값 출력 (None이 아닌 경우만)\n",
    "                if result is not None:\n",
    "                    indent = self.get_indent()\n",
    "                    print(f\"{indent}returned {result!r}\", file=self.original_stdout)\n",
    "\n",
    "            return result\n",
    "\n",
    "        return wrapper\n",
    "\n",
    "\n",
    "# 전역 visualizer 인스턴스\n",
    "_visualizer = CallStackVisualizer()\n",
    "\n",
    "def visualize_callstack(func):\n",
    "    \"\"\"\n",
    "    재귀 함수의 콜스택을 시각화하는 데코레이터\n",
    "\n",
    "    사용법:\n",
    "        @visualize_callstack\n",
    "        def f(n, s, t, w):\n",
    "            if n >= 1:\n",
    "                f(n-1, s, w, t)\n",
    "                print(n, s, t)\n",
    "                f(n-1, w, t, s)\n",
    "\n",
    "        f(3, 'A', 'C', 'B')\n",
    "    \"\"\"\n",
    "    return _visualizer.visualize(func)"
   ],
   "id": "1284cd31289c3e53",
   "outputs": [],
   "execution_count": 6
  },
  {
   "metadata": {},
   "cell_type": "markdown",
   "source": [
    "## 하노이 탑과 재귀함수 설계\n",
    "\n",
    "1. 반복되는 동작 찾기\n",
    "\n",
    "하노이 탑에서 반복되는 동작은 세 개의 기둥 A, B, C 사이에서 k개의 원판을 \"전부\" 옮기는 것이다.\n",
    "\n",
    "일반적으로는 이것만으로도 재귀함수를 작성하기 충분하다.\n",
    "\n",
    "그러나 하노이탑의 경우 n개를 (시작, 종료, 경유)로 옮겨야 할 때, 그 안에서 n-1개를 '시작'에서 '경유'로 옮기고, '종료'가 경유지로 변하는 교대 현상을 구현해야 하기 때문에, 파라메터가 중간에 적절하게 교체되어야 한다.\n",
    "\n",
    "- `f(n, 'A', 'C', 'B')`는 n개의 원판 전부를 A에서 C로 옮기는 함수이다. 이때 n-1개 전부는 A에서 B로 옮겨져야 한다.\n",
    "- `f(n-1, 'A', 'B', 'C')`는 n-1개의 원판 전부를 A에서 B로 옮기는 함수이다. 이때 n-2개 전부는 A에서 C로 옮겨져야 한다.\n",
    "- `f(n-2, 'A', 'C', 'B')`는 n-2개의 원판 전부를 A에서 C로 옮기는 함수이다. 이때 n-3개 전부는 A에서 B로 옮겨져야 한다.\n",
    "\n",
    "2. 기저 조건 찾기\n",
    "\n",
    "n=1일 때 == 시작지점 원판이 하나 남은 상태\n",
    "\n",
    "이때의 원판은 그냥 목표지점으로 옮기면 된다. (1, s, t, w)인 경우 print(1, s, t)를 출력.\n",
    "\n",
    "n<1일 때 == 아무 동작 하지 않음"
   ],
   "id": "ec4326adc4cf7c91"
  },
  {
   "metadata": {
    "ExecuteTime": {
     "end_time": "2025-10-10T09:16:26.160732Z",
     "start_time": "2025-10-10T09:16:26.142337Z"
    }
   },
   "cell_type": "code",
   "source": [
    "from callstack_visualizer import visualize_callstack\n",
    "\n",
    "@visualize_callstack\n",
    "def f(n, s, t, w):\n",
    "    if n > 1:\n",
    "        f(n-1, s, w, t)\n",
    "        print(n, s, t)\n",
    "        f(n-1, w, t, s)\n",
    "\n",
    "    else:\n",
    "        print(n, s, t)\n",
    "\n",
    "f(3, 'A', 'C', 'B')"
   ],
   "id": "605e0ef54f88d6db",
   "outputs": [
    {
     "name": "stdout",
     "output_type": "stream",
     "text": [
      "f(3, 'A', 'C', 'B')\n",
      "|   f(2, 'A', 'B', 'C')\n",
      "|   |   f(1, 'A', 'C', 'B')\n",
      "|   |   |   \"1 A C\"\n",
      "|   |   \"2 A B\"\n",
      "|   |   f(1, 'C', 'B', 'A')\n",
      "|   |   |   \"1 C B\"\n",
      "|   \"3 A C\"\n",
      "|   f(2, 'B', 'C', 'A')\n",
      "|   |   f(1, 'B', 'A', 'C')\n",
      "|   |   |   \"1 B A\"\n",
      "|   |   \"2 B C\"\n",
      "|   |   f(1, 'A', 'C', 'B')\n",
      "|   |   |   \"1 A C\"\n"
     ]
    }
   ],
   "execution_count": 1
  },
  {
   "cell_type": "markdown",
   "id": "93ypfk7bgf",
   "source": "## 퀵 정렬과 재귀함수 설계\n\n1. 반복되는 동작 찾기\n\n퀵 정렬에서 반복되는 동작은 배열을 피벗(pivot) 기준으로 분할하고, 분할된 부분을 각각 정렬하는 것이다.\n\n- 피벗보다 작은 값들 → 왼쪽 그룹\n- 피벗과 같은 값들 → 중간 그룹  \n- 피벗보다 큰 값들 → 오른쪽 그룹\n\n분할 후, 왼쪽과 오른쪽 그룹에 대해 같은 과정을 재귀적으로 반복한다.\n\n최종 결과는 `정렬된 왼쪽 + 중간 + 정렬된 오른쪽`을 합친 것이다.\n\n2. 기저 조건 찾기\n\n`len(arr) <= 1`일 때 == 배열의 원소가 0개 또는 1개\n\n이 경우는 이미 정렬되어 있으므로 그대로 반환한다.",
   "metadata": {}
  },
  {
   "metadata": {
    "ExecuteTime": {
     "end_time": "2025-10-10T09:16:26.186014Z",
     "start_time": "2025-10-10T09:16:26.177952Z"
    }
   },
   "cell_type": "code",
   "source": [
    "# 퀵 정렬 (Quick Sort)\n",
    "@visualize_callstack\n",
    "def quick_sort(arr):\n",
    "    if len(arr) <= 1:\n",
    "        return arr\n",
    "\n",
    "    pivot = arr[len(arr) // 2]\n",
    "    left = [x for x in arr if x < pivot]\n",
    "    middle = [x for x in arr if x == pivot]\n",
    "    right = [x for x in arr if x > pivot]\n",
    "\n",
    "    print(f\"left: {left}, middle: {middle}, right: {right}\")\n",
    "    return quick_sort(left) + middle + quick_sort(right)\n",
    "\n",
    "print(\"=== 퀵 정렬 ===\")\n",
    "result = quick_sort([3, 6, 8, 10, 1, 2, 1])\n",
    "print(f\"\\n정렬 결과: {result}\")"
   ],
   "id": "2d1256a302118e1a",
   "outputs": [
    {
     "name": "stdout",
     "output_type": "stream",
     "text": [
      "=== 퀵 정렬 ===\n",
      "quick_sort([3, 6, 8, 10, 1, 2, 1])\n",
      "|   \"left: [3, 6, 8, 1, 2, 1], middle: [10], right: []\"\n",
      "|   quick_sort([3, 6, 8, 1, 2, 1])\n",
      "|   |   \"left: [], middle: [1, 1], right: [3, 6, 8, 2]\"\n",
      "|   |   quick_sort([])\n",
      "|   |   returned []\n",
      "|   |   quick_sort([3, 6, 8, 2])\n",
      "|   |   |   \"left: [3, 6, 2], middle: [8], right: []\"\n",
      "|   |   |   quick_sort([3, 6, 2])\n",
      "|   |   |   |   \"left: [3, 2], middle: [6], right: []\"\n",
      "|   |   |   |   quick_sort([3, 2])\n",
      "|   |   |   |   |   \"left: [], middle: [2], right: [3]\"\n",
      "|   |   |   |   |   quick_sort([])\n",
      "|   |   |   |   |   returned []\n",
      "|   |   |   |   |   quick_sort([3])\n",
      "|   |   |   |   |   returned [3]\n",
      "|   |   |   |   returned [2, 3]\n",
      "|   |   |   |   quick_sort([])\n",
      "|   |   |   |   returned []\n",
      "|   |   |   returned [2, 3, 6]\n",
      "|   |   |   quick_sort([])\n",
      "|   |   |   returned []\n",
      "|   |   returned [2, 3, 6, 8]\n",
      "|   returned [1, 1, 2, 3, 6, 8]\n",
      "|   quick_sort([])\n",
      "|   returned []\n",
      "returned [1, 1, 2, 3, 6, 8, 10]\n",
      "\n",
      "정렬 결과: [1, 1, 2, 3, 6, 8, 10]\n"
     ]
    }
   ],
   "execution_count": 2
  },
  {
   "cell_type": "markdown",
   "id": "ysk620w998i",
   "source": "## 선택 정렬과 재귀함수 설계\n\n1. 반복되는 동작 찾기\n\n선택 정렬에서 반복되는 동작은 정렬되지 않은 부분에서 최솟값을 찾아 맨 앞으로 이동시키는 것이다.\n\n- `start` 위치부터 끝까지 중에서 최솟값을 찾는다\n- 최솟값을 `start` 위치와 교환한다\n- `start+1` 위치부터 같은 과정을 반복한다\n\n이 과정을 재귀적으로 반복하면, 앞에서부터 차례대로 정렬된다.\n\n2. 기저 조건 찾기\n\n`start >= len(arr) - 1`일 때 == 정렬할 원소가 1개 이하 남음\n\n이 경우 더 이상 정렬할 필요가 없으므로 배열을 그대로 반환한다.",
   "metadata": {}
  },
  {
   "metadata": {
    "ExecuteTime": {
     "end_time": "2025-10-10T09:16:26.244682Z",
     "start_time": "2025-10-10T09:16:26.230219Z"
    }
   },
   "cell_type": "code",
   "source": [
    "# 선택 정렬 (Selection Sort)\n",
    "@visualize_callstack\n",
    "def selection_sort(arr, start=0):\n",
    "    if start >= len(arr) - 1:\n",
    "        return arr\n",
    "\n",
    "    # 최솟값 찾기\n",
    "    min_idx = start\n",
    "    for i in range(start + 1, len(arr)):\n",
    "        if arr[i] < arr[min_idx]:\n",
    "            min_idx = i\n",
    "\n",
    "    # 교환\n",
    "    print(f\"교환 전: {arr}, start: {start}, min_idx: {min_idx}\")\n",
    "    arr[start], arr[min_idx] = arr[min_idx], arr[start]\n",
    "    print(f\"교환 후: {arr}\")\n",
    "\n",
    "    return selection_sort(arr, start + 1)\n",
    "\n",
    "print(\"=== 선택 정렬 ===\")\n",
    "result = selection_sort([64, 25, 12, 22, 11])\n",
    "print(f\"\\n정렬 결과: {result}\")"
   ],
   "id": "cd61d9c949f7c49c",
   "outputs": [
    {
     "name": "stdout",
     "output_type": "stream",
     "text": [
      "=== 선택 정렬 ===\n",
      "selection_sort([64, 25, 12, 22, 11])\n",
      "|   \"교환 전: [64, 25, 12, 22, 11], start: 0, min_idx: 4\"\n",
      "|   \"교환 후: [11, 25, 12, 22, 64]\"\n",
      "|   selection_sort([11, 25, 12, 22, 64], 1)\n",
      "|   |   \"교환 전: [11, 25, 12, 22, 64], start: 1, min_idx: 2\"\n",
      "|   |   \"교환 후: [11, 12, 25, 22, 64]\"\n",
      "|   |   selection_sort([11, 12, 25, 22, 64], 2)\n",
      "|   |   |   \"교환 전: [11, 12, 25, 22, 64], start: 2, min_idx: 3\"\n",
      "|   |   |   \"교환 후: [11, 12, 22, 25, 64]\"\n",
      "|   |   |   selection_sort([11, 12, 22, 25, 64], 3)\n",
      "|   |   |   |   \"교환 전: [11, 12, 22, 25, 64], start: 3, min_idx: 3\"\n",
      "|   |   |   |   \"교환 후: [11, 12, 22, 25, 64]\"\n",
      "|   |   |   |   selection_sort([11, 12, 22, 25, 64], 4)\n",
      "|   |   |   |   returned [11, 12, 22, 25, 64]\n",
      "|   |   |   returned [11, 12, 22, 25, 64]\n",
      "|   |   returned [11, 12, 22, 25, 64]\n",
      "|   returned [11, 12, 22, 25, 64]\n",
      "returned [11, 12, 22, 25, 64]\n",
      "\n",
      "정렬 결과: [11, 12, 22, 25, 64]\n"
     ]
    }
   ],
   "execution_count": 3
  },
  {
   "cell_type": "markdown",
   "id": "w9va4z51d4q",
   "source": "## 버블 정렬과 재귀함수 설계\n\n1. 반복되는 동작 찾기\n\n버블 정렬에서 반복되는 동작은 인접한 원소들을 비교하며 한 번의 패스(pass)를 수행하는 것이다.\n\n- 한 번의 패스에서 인접한 두 원소를 비교하여 큰 값을 뒤로 보낸다\n- 패스가 끝나면 가장 큰 값이 맨 뒤로 이동한다\n- 나머지 부분(맨 뒤 제외)에 대해 같은 과정을 반복한다\n\n매 재귀마다 정렬해야 할 범위(`n`)가 1씩 줄어든다.\n\n2. 기저 조건 찾기\n\n`n <= 1`일 때 == 정렬할 원소가 1개 이하\n\n이 경우 이미 정렬되어 있으므로 배열을 그대로 반환한다.",
   "metadata": {}
  },
  {
   "metadata": {
    "ExecuteTime": {
     "end_time": "2025-10-10T09:16:26.269876Z",
     "start_time": "2025-10-10T09:16:26.263027Z"
    }
   },
   "cell_type": "code",
   "source": [
    "# 버블 정렬 (Bubble Sort) - 재귀 버전\n",
    "@visualize_callstack\n",
    "def bubble_sort(arr, n=None):\n",
    "    if n is None:\n",
    "        n = len(arr)\n",
    "\n",
    "    # 기저 조건: 정렬할 원소가 1개 이하\n",
    "    if n <= 1:\n",
    "        return arr\n",
    "\n",
    "    # 한 번의 패스: 가장 큰 값을 맨 뒤로\n",
    "    for i in range(n - 1):\n",
    "        if arr[i] > arr[i + 1]:\n",
    "            arr[i], arr[i + 1] = arr[i + 1], arr[i]\n",
    "\n",
    "    print(f\"패스 완료: {arr}, 정렬된 부분: 마지막 {len(arr) - n + 1}개\")\n",
    "\n",
    "    # 나머지 부분 재귀 정렬\n",
    "    return bubble_sort(arr, n - 1)\n",
    "\n",
    "print(\"=== 버블 정렬 ===\")\n",
    "result = bubble_sort([64, 34, 25, 12, 22, 11, 90])\n",
    "print(f\"\\n정렬 결과: {result}\")"
   ],
   "id": "50fb740e79a793a8",
   "outputs": [
    {
     "name": "stdout",
     "output_type": "stream",
     "text": [
      "=== 버블 정렬 ===\n",
      "bubble_sort([64, 34, 25, 12, 22, 11, 90])\n",
      "|   \"패스 완료: [34, 25, 12, 22, 11, 64, 90], 정렬된 부분: 마지막 1개\"\n",
      "|   bubble_sort([34, 25, 12, 22, 11, 64, 90], 6)\n",
      "|   |   \"패스 완료: [25, 12, 22, 11, 34, 64, 90], 정렬된 부분: 마지막 2개\"\n",
      "|   |   bubble_sort([25, 12, 22, 11, 34, 64, 90], 5)\n",
      "|   |   |   \"패스 완료: [12, 22, 11, 25, 34, 64, 90], 정렬된 부분: 마지막 3개\"\n",
      "|   |   |   bubble_sort([12, 22, 11, 25, 34, 64, 90], 4)\n",
      "|   |   |   |   \"패스 완료: [12, 11, 22, 25, 34, 64, 90], 정렬된 부분: 마지막 4개\"\n",
      "|   |   |   |   bubble_sort([12, 11, 22, 25, 34, 64, 90], 3)\n",
      "|   |   |   |   |   \"패스 완료: [11, 12, 22, 25, 34, 64, 90], 정렬된 부분: 마지막 5개\"\n",
      "|   |   |   |   |   bubble_sort([11, 12, 22, 25, 34, 64, 90], 2)\n",
      "|   |   |   |   |   |   \"패스 완료: [11, 12, 22, 25, 34, 64, 90], 정렬된 부분: 마지막 6개\"\n",
      "|   |   |   |   |   |   bubble_sort([11, 12, 22, 25, 34, 64, 90], 1)\n",
      "|   |   |   |   |   |   returned [11, 12, 22, 25, 34, 64, 90]\n",
      "|   |   |   |   |   returned [11, 12, 22, 25, 34, 64, 90]\n",
      "|   |   |   |   returned [11, 12, 22, 25, 34, 64, 90]\n",
      "|   |   |   returned [11, 12, 22, 25, 34, 64, 90]\n",
      "|   |   returned [11, 12, 22, 25, 34, 64, 90]\n",
      "|   returned [11, 12, 22, 25, 34, 64, 90]\n",
      "returned [11, 12, 22, 25, 34, 64, 90]\n",
      "\n",
      "정렬 결과: [11, 12, 22, 25, 34, 64, 90]\n"
     ]
    }
   ],
   "execution_count": 4
  },
  {
   "cell_type": "markdown",
   "id": "wvtvedew4f9",
   "source": "## 삽입 정렬과 재귀함수 설계\n\n1. 반복되는 동작 찾기\n\n삽입 정렬에서 반복되는 동작은 배열의 앞부분을 정렬한 후, 다음 원소를 적절한 위치에 삽입하는 것이다.\n\n- 먼저 `n-1`개의 원소를 재귀적으로 정렬한다\n- `n`번째 원소(마지막 원소)를 정렬된 부분의 적절한 위치에 삽입한다\n- 삽입 위치는 앞에서부터 비교하며 찾는다\n\n이 과정은 \"작은 부분을 먼저 정렬하고, 새 원소를 추가\"하는 방식이다.\n\n2. 기저 조건 찾기\n\n`n <= 1`일 때 == 배열의 원소가 1개 이하\n\n원소가 1개 이하면 이미 정렬되어 있으므로 그대로 반환한다.",
   "metadata": {}
  },
  {
   "metadata": {
    "ExecuteTime": {
     "end_time": "2025-10-10T09:16:26.305362Z",
     "start_time": "2025-10-10T09:16:26.295255Z"
    }
   },
   "cell_type": "code",
   "source": [
    "# 삽입 정렬 (Insertion Sort) - 재귀 버전\n",
    "@visualize_callstack\n",
    "def insertion_sort(arr, n=None):\n",
    "    if n is None:\n",
    "        n = len(arr)\n",
    "\n",
    "    # 기저 조건: 원소가 1개면 이미 정렬됨\n",
    "    if n <= 1:\n",
    "        return arr\n",
    "\n",
    "    # 먼저 n-1개 정렬\n",
    "    insertion_sort(arr, n - 1)\n",
    "\n",
    "    # 마지막 원소를 적절한 위치에 삽입\n",
    "    last = arr[n - 1]\n",
    "    j = n - 2\n",
    "\n",
    "    print(f\"삽입 전: {arr}, 삽입할 값: {last}\")\n",
    "\n",
    "    # 삽입할 위치 찾기\n",
    "    while j >= 0 and arr[j] > last:\n",
    "        arr[j + 1] = arr[j]\n",
    "        j -= 1\n",
    "\n",
    "    arr[j + 1] = last\n",
    "    print(f\"삽입 후: {arr}\")\n",
    "\n",
    "    return arr\n",
    "\n",
    "print(\"=== 삽입 정렬 ===\")\n",
    "result = insertion_sort([12, 11, 13, 5, 6])\n",
    "print(f\"\\n정렬 결과: {result}\")"
   ],
   "id": "af976259c58cb5f9",
   "outputs": [
    {
     "name": "stdout",
     "output_type": "stream",
     "text": [
      "=== 삽입 정렬 ===\n",
      "insertion_sort([12, 11, 13, 5, 6])\n",
      "|   insertion_sort([12, 11, 13, 5, 6], 4)\n",
      "|   |   insertion_sort([12, 11, 13, 5, 6], 3)\n",
      "|   |   |   insertion_sort([12, 11, 13, 5, 6], 2)\n",
      "|   |   |   |   insertion_sort([12, 11, 13, 5, 6], 1)\n",
      "|   |   |   |   returned [12, 11, 13, 5, 6]\n",
      "|   |   |   |   \"삽입 전: [12, 11, 13, 5, 6], 삽입할 값: 11\"\n",
      "|   |   |   |   \"삽입 후: [11, 12, 13, 5, 6]\"\n",
      "|   |   |   returned [11, 12, 13, 5, 6]\n",
      "|   |   |   \"삽입 전: [11, 12, 13, 5, 6], 삽입할 값: 13\"\n",
      "|   |   |   \"삽입 후: [11, 12, 13, 5, 6]\"\n",
      "|   |   returned [11, 12, 13, 5, 6]\n",
      "|   |   \"삽입 전: [11, 12, 13, 5, 6], 삽입할 값: 5\"\n",
      "|   |   \"삽입 후: [5, 11, 12, 13, 6]\"\n",
      "|   returned [5, 11, 12, 13, 6]\n",
      "|   \"삽입 전: [5, 11, 12, 13, 6], 삽입할 값: 6\"\n",
      "|   \"삽입 후: [5, 6, 11, 12, 13]\"\n",
      "returned [5, 6, 11, 12, 13]\n",
      "\n",
      "정렬 결과: [5, 6, 11, 12, 13]\n"
     ]
    }
   ],
   "execution_count": 5
  },
  {
   "metadata": {
    "ExecuteTime": {
     "end_time": "2025-10-10T09:16:26.338572Z",
     "start_time": "2025-10-10T09:16:26.335872Z"
    }
   },
   "cell_type": "code",
   "source": "",
   "id": "6ba0da4f31af4776",
   "outputs": [],
   "execution_count": null
  }
 ],
 "metadata": {
  "kernelspec": {
   "display_name": "Python 3",
   "language": "python",
   "name": "python3"
  },
  "language_info": {
   "codemirror_mode": {
    "name": "ipython",
    "version": 2
   },
   "file_extension": ".py",
   "mimetype": "text/x-python",
   "name": "python",
   "nbconvert_exporter": "python",
   "pygments_lexer": "ipython2",
   "version": "2.7.6"
  }
 },
 "nbformat": 4,
 "nbformat_minor": 5
}
