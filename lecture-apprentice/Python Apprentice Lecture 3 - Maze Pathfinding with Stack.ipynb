{
 "cells": [
  {
   "cell_type": "markdown",
   "metadata": {},
   "source": "# Python Apprentice Lecture 3: 미로 탐색과 스택 (Maze Pathfinding with Stack)\n\n이번 단원에서는 **스택을 이용한 미로 탐색**을 배운다.\n\nLecture 2에서 배운 DFS(깊이 우선 탐색)를 실제 문제에 적용하여 미로에서 출구를 찾는 알고리즘을 구현한다.\n\n## 학습 목표\n1. 2D 배열로 미로를 표현하는 방법 이해\n2. 좌표 시스템과 방향 벡터 활용\n3. 스택을 이용한 DFS로 미로 탐색 구현\n4. 경로 추적과 시각화\n5. 미로 탐색의 특성과 한계 파악"
  },
  {
   "cell_type": "markdown",
   "metadata": {},
   "source": [
    "## 1. 미로 표현과 기본 개념\n",
    "\n",
    "### 미로의 2D 배열 표현\n",
    "\n",
    "미로를 2차원 배열로 표현하는 방법:\n",
    "\n",
    "- **0**: 길 (이동 가능)\n",
    "- **1**: 벽 (이동 불가)\n",
    "- **S** 또는 시작점: (0, 0)\n",
    "- **E** 또는 목표점: (rows-1, cols-1)\n",
    "\n",
    "```\n",
    "시각적 표현:     배열 표현:\n",
    "S . . . .       [[0, 0, 0, 0, 0],\n",
    "# # . # .        [1, 1, 0, 1, 0],\n",
    ". . . # .        [0, 0, 0, 1, 0],\n",
    "# # . . .        [1, 1, 0, 0, 0],\n",
    ". . . # E        [0, 0, 0, 1, 0]]\n",
    "```"
   ]
  },
  {
   "cell_type": "code",
   "metadata": {},
   "source": "maze = [\n    [0, 1, 0, 0, 0],\n    [0, 1, 0, 1, 0],\n    [0, 0, 0, 1, 0],\n    [1, 1, 0, 0, 0],\n    [0, 0, 0, 1, 0]\n]\n\ndef print_maze(maze, path=None, start=(0,0), end=None):\n    if end is None:\n        end = (len(maze)-1, len(maze[0])-1)\n    \n    path_set = set(path) if path else set()\n    \n    for i, row in enumerate(maze):\n        for j, cell in enumerate(row):\n            if (i, j) == start:\n                print('S', end=' ')\n            elif (i, j) == end:\n                print('E', end=' ')\n            elif (i, j) in path_set:\n                print('*', end=' ')\n            elif cell == 1:\n                print('#', end=' ')\n            else:\n                print('.', end=' ')\n        print()\n\nprint(\"기본 미로:\")\nprint_maze(maze)",
   "outputs": [],
   "execution_count": null
  },
  {
   "cell_type": "markdown",
   "metadata": {},
   "source": [
    "### 좌표 시스템과 방향 벡터\n",
    "\n",
    "미로에서 이동하려면 **4방향 이동**을 정의해야 한다:\n",
    "\n",
    "```\n",
    "    상 (0, -1)\n",
    "      ↑\n",
    "좌(-1,0) ← 현재 → 우(1, 0)\n",
    "      ↓\n",
    "    하 (0, 1)\n",
    "```\n",
    "\n",
    "**방향 벡터**: `[(행 변화량, 열 변화량), ...]`"
   ]
  },
  {
   "cell_type": "code",
   "metadata": {},
   "source": "directions = [(0, 1), (1, 0), (0, -1), (-1, 0)]\n\ndef get_neighbors(maze, row, col):\n    rows, cols = len(maze), len(maze[0])\n    valid_neighbors = []\n    \n    for dr, dc in directions:\n        new_row, new_col = row + dr, col + dc\n        if 0 <= new_row < rows and 0 <= new_col < cols:\n            if maze[new_row][new_col] == 0:\n                valid_neighbors.append((new_row, new_col))\n    \n    return valid_neighbors\n\nprint(\"(2, 2)에서 이동 가능한 위치:\")\nneighbors = get_neighbors(maze, 2, 2)\nprint(neighbors)",
   "outputs": [],
   "execution_count": null
  },
  {
   "cell_type": "markdown",
   "metadata": {},
   "source": [
    "### 경계 조건과 유효성 검사\n",
    "\n",
    "미로 탐색에서 꼭 확인해야 할 조건들:"
   ]
  },
  {
   "cell_type": "code",
   "metadata": {},
   "source": "def is_valid_move(maze, row, col):\n    rows, cols = len(maze), len(maze[0])\n    \n    if not (0 <= row < rows and 0 <= col < cols):\n        return False\n    \n    if maze[row][col] == 1:\n        return False\n    \n    return True\n\ntest_positions = [(0, 0), (0, 1), (2, 2), (-1, 0), (5, 5)]\n\nprint(\"위치 유효성 검사:\")\nfor pos in test_positions:\n    row, col = pos\n    valid = is_valid_move(maze, row, col)\n    print(f\"  {pos}: {'유효' if valid else '무효'}\")",
   "outputs": [],
   "execution_count": null
  },
  {
   "cell_type": "markdown",
   "metadata": {},
   "source": [
    "## 2. 단순 경로 찾기\n",
    "\n",
    "이제 스택을 이용한 DFS로 미로에서 출구를 찾아보자. \n",
    "\n",
    "### 알고리즘 개요\n",
    "\n",
    "1. **초기화**: 시작점을 스택에 추가, visited 배열 생성\n",
    "2. **반복**:\n",
    "   - 스택에서 현재 위치 pop\n",
    "   - 이미 방문했으면 skip\n",
    "   - 목표에 도달했으면 성공\n",
    "   - 현재 위치를 방문 처리\n",
    "   - 인접한 유효한 위치들을 스택에 추가\n",
    "3. **종료**: 스택이 비면 경로 없음\n",
    "\n",
    "Lecture 1의 Stack 클래스를 재사용하자:"
   ]
  },
  {
   "cell_type": "code",
   "source": "class Stack:\n    def __init__(self):\n        self.items = []\n    \n    def push(self, item):\n        self.items.append(item)\n    \n    def pop(self):\n        if self.is_empty():\n            raise IndexError(\"Stack is empty\")\n        return self.items.pop()\n    \n    def is_empty(self):\n        return len(self.items) == 0\n    \n    def __str__(self):\n        return f\"Stack: {self.items}\"",
   "metadata": {},
   "execution_count": null,
   "outputs": []
  },
  {
   "cell_type": "code",
   "source": "def has_path_to_exit(maze, start=(0, 0), end=None):\n    if end is None:\n        end = (len(maze)-1, len(maze[0])-1)\n    \n    rows, cols = len(maze), len(maze[0])\n    visited = [[False] * cols for _ in range(rows)]\n    stack = Stack()\n    \n    if maze[start[0]][start[1]] == 1:\n        return False\n    \n    stack.push(start)\n    \n    while not stack.is_empty():\n        current = stack.pop()\n        row, col = current\n        \n        if visited[row][col]:\n            continue\n        \n        visited[row][col] = True\n        \n        if current == end:\n            return True\n        \n        for dr, dc in directions:\n            new_row, new_col = row + dr, col + dc\n            \n            if (is_valid_move(maze, new_row, new_col) and \n                not visited[new_row][new_col]):\n                stack.push((new_row, new_col))\n    \n    return False\n\nresult = has_path_to_exit(maze)\nprint(f\"경로 존재: {result}\")",
   "metadata": {}
  },
  {
   "cell_type": "code",
   "source": "def maze_to_graph(maze):\n    rows, cols = len(maze), len(maze[0])\n    graph = {}\n    \n    for i in range(rows):\n        for j in range(cols):\n            if maze[i][j] == 0:\n                pos = (i, j)\n                graph[pos] = []\n                \n                for dr, dc in directions:\n                    new_row, new_col = i + dr, j + dc\n                    if is_valid_move(maze, new_row, new_col):\n                        graph[pos].append((new_row, new_col))\n    \n    return graph\n\ngraph = maze_to_graph(maze)\nprint(\"미로 그래프:\")\nfor pos, neighbors in graph.items():\n    print(f\"{pos}: {neighbors}\")",
   "metadata": {},
   "execution_count": null,
   "outputs": []
  }
 ],
 "metadata": {
  "kernelspec": {
   "display_name": "Python 3",
   "language": "python",
   "name": "python3"
  },
  "language_info": {
   "codemirror_mode": {
    "name": "ipython",
    "version": 3
   },
   "file_extension": ".py",
   "mimetype": "text/x-python",
   "name": "python",
   "nbconvert_exporter": "python",
   "pygments_lexer": "ipython3",
   "version": "3.8.5"
  }
 },
 "nbformat": 4,
 "nbformat_minor": 4
}