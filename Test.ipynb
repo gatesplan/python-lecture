{
 "cells": [
  {
   "metadata": {
    "ExecuteTime": {
     "end_time": "2025-08-31T03:00:57.255588Z",
     "start_time": "2025-08-31T03:00:57.231417Z"
    }
   },
   "cell_type": "code",
   "source": [
    "def subset_recursive(arr: list):\n",
    "    arr = list(set(arr))\n",
    "\n",
    "    if len(arr) == 0:\n",
    "        return [[]]\n",
    "\n",
    "    first = arr[0]\n",
    "    rest = arr[1:]\n",
    "\n",
    "    subsets_without_first = subset_recursive(rest)\n",
    "    subsets_with_first = [[first] + subset for subset in subsets_without_first]\n",
    "\n",
    "    return subsets_without_first + subsets_with_first\n",
    "\n",
    "subset_recursive([1, 2, 3])"
   ],
   "id": "bb04066fc415214a",
   "outputs": [
    {
     "data": {
      "text/plain": [
       "[[], [3], [2], [2, 3], [1], [1, 3], [1, 2], [1, 2, 3]]"
      ]
     },
     "execution_count": 12,
     "metadata": {},
     "output_type": "execute_result"
    }
   ],
   "execution_count": 12
  },
  {
   "metadata": {
    "ExecuteTime": {
     "end_time": "2025-10-10T06:36:18.656634Z",
     "start_time": "2025-10-10T06:36:18.652206Z"
    }
   },
   "cell_type": "code",
   "source": [
    "def f(n, s, t, w):\n",
    "    if n >= 1:\n",
    "        f(n-1, s, w, t)\n",
    "        print(n, s, t)\n",
    "        f(n-1, w, t, s)\n",
    "\n",
    "f(3, 'A', 'C', 'B')"
   ],
   "id": "3572f822633b1b1f",
   "outputs": [
    {
     "name": "stdout",
     "output_type": "stream",
     "text": [
      "1 A C\n",
      "2 A B\n",
      "1 C B\n",
      "3 A C\n",
      "1 B A\n",
      "2 B C\n",
      "1 A C\n"
     ]
    }
   ],
   "execution_count": 2
  },
  {
   "metadata": {
    "ExecuteTime": {
     "end_time": "2025-08-31T03:02:44.373028Z",
     "start_time": "2025-08-31T03:02:44.366521Z"
    }
   },
   "cell_type": "code",
   "source": "list(set([1, 1, 1]))",
   "id": "51f16c10893bcc75",
   "outputs": [
    {
     "data": {
      "text/plain": [
       "[1]"
      ]
     },
     "execution_count": 16,
     "metadata": {},
     "output_type": "execute_result"
    }
   ],
   "execution_count": 16
  },
  {
   "metadata": {
    "ExecuteTime": {
     "end_time": "2025-09-11T13:26:44.784283Z",
     "start_time": "2025-09-11T13:26:29.504411Z"
    }
   },
   "cell_type": "code",
   "source": [
    "M = [[] for _ in range(11)]\n",
    "visited = [0 for i in range(11)]\n",
    "ok = False\n",
    "\n",
    "V, E = map(int, input().split())\n",
    "for i in range(E):\n",
    "    u, v = map(int, input().split())\n",
    "    M[u].append(v)\n",
    "\n",
    "    if u == v:\n",
    "        continue\n",
    "\n",
    "    M[v].append(u)\n",
    "\n",
    "def f(x, y, z):\n",
    "    global V, visited, ok\n",
    "\n",
    "    if ok:\n",
    "        return\n",
    "\n",
    "    if y == V:\n",
    "        ok = True\n",
    "        for i in z:\n",
    "            print(i, end=' ')\n",
    "        return\n",
    "\n",
    "    visited[x] = True\n",
    "\n",
    "    for u in M[x]:\n",
    "        if not visited[u]:\n",
    "            z.append(u)\n",
    "            f(u, y+1, z)\n",
    "            z.pop()\n",
    "\n",
    "    visited[x] = False\n",
    "    return\n",
    "\n",
    "for v in range(0, V+1):\n",
    "    f(v, 0, [v])\n",
    "    if ok:\n",
    "        break\n"
   ],
   "id": "8e315a9ed309f1ee",
   "outputs": [],
   "execution_count": 3
  },
  {
   "metadata": {
    "ExecuteTime": {
     "end_time": "2025-09-11T13:26:21.073199Z",
     "start_time": "2025-09-11T13:26:21.068130Z"
    }
   },
   "cell_type": "code",
   "source": [
    "# 전역 변수 사용 버전 (의도 드러나는 이름)\n",
    "graph = []\n",
    "visited = []\n",
    "found = False\n",
    "V = 0  # 정점 수(0..V-1 가정)\n",
    "\n",
    "def dfs(cur, visited_count, path):\n",
    "    \"\"\"\n",
    "    cur: 현재 정점\n",
    "    visited_count: 현재까지 방문한 정점 수 (= len(path))\n",
    "    path: 방문 경로\n",
    "    \"\"\"\n",
    "    global graph, visited, found, V\n",
    "    if found:\n",
    "        return\n",
    "\n",
    "    if visited_count == V:   # 모든 정점 방문 완료(해밀토니안 경로)\n",
    "        found = True\n",
    "        print(*path)\n",
    "        return\n",
    "\n",
    "    visited[cur] = True\n",
    "    for nxt in graph[cur]:\n",
    "        if not visited[nxt]:\n",
    "            path.append(nxt)\n",
    "            dfs(nxt, visited_count + 1, path)\n",
    "            path.pop()\n",
    "    visited[cur] = False\n",
    "    return\n",
    "\n",
    "\n",
    "# -------- 입력 및 실행 --------\n",
    "V, E = map(int, input().split())\n",
    "graph = [[] for _ in range(V)]\n",
    "visited = [False] * V\n",
    "found = False\n",
    "\n",
    "for _ in range(E):\n",
    "    u, v = map(int, input().split())\n",
    "    if u == v:\n",
    "        continue\n",
    "    graph[u].append(v)\n",
    "    graph[v].append(u)\n",
    "\n",
    "for start in range(V):\n",
    "    dfs(start, 1, [start])   # 시작 정점 포함하여 길이 1에서 시작\n",
    "    if found:\n",
    "        break\n",
    "\n",
    "if not found:\n",
    "    print(\"경로 없음\")\n"
   ],
   "id": "7eec46b7795363bc",
   "outputs": [],
   "execution_count": 2
  },
  {
   "metadata": {},
   "cell_type": "code",
   "outputs": [],
   "execution_count": null,
   "source": [
    "def f(x, y, z):\n",
    "    global V, visited, ok\n",
    "    if ok: # (1) 이미 답을 찾은 경우 → 또 다른 탐색을 중단(즉, 첫번째 경로가 만들어지면 끝)\n",
    "        return\n",
    "\n",
    "    # (2) 현재까지 방문한 정점 수가 전체 정점 수와 같다면 (= 모든 정점을 방문한 경로)\n",
    "    if y == V:\n",
    "        ok = True # 해를 찾았음을 표시\n",
    "\n",
    "        for i in z: # 경로에 포함된 정점들을 출력\n",
    "            print(i, end=' ')\n",
    "            return # 탐색 종료\n",
    "\n",
    "    visited[x] = True # (3) 현재 정점 x를 방문 처리 (다시 못 오게 막음)\n",
    "\n",
    "    for u in M[x]: # (4) 현재 정점 x의 인접 정점 u들을 순회\n",
    "        if visited[u] == False: # (5) 아직 방문하지 않은 정점만 선택\n",
    "            z.append(u) # (6) 경로에 u 추가\n",
    "            f(u, y+1, z) # (7) 더 깊이 들어가서 탐색\n",
    "            z.pop() # (8) 돌아오면 u를 경로에서 제거 (백트래킹)\n",
    "\n",
    "    visited[x] = False # (9) 다른 분기를 위해 현재 정점 x 방문 해제\n",
    "    return"
   ],
   "id": "8d5af8ad9357085f"
  },
  {
   "metadata": {
    "ExecuteTime": {
     "end_time": "2025-09-12T05:59:33.346214Z",
     "start_time": "2025-09-12T05:59:33.339597Z"
    }
   },
   "cell_type": "code",
   "source": [
    "def f(n):\n",
    "    if n <= 1:\n",
    "        print('*')\n",
    "    else:\n",
    "        f(n-1)\n",
    "        print('*'*n)\n",
    "\n",
    "f(3)"
   ],
   "id": "1af3a2e4533cae4c",
   "outputs": [
    {
     "name": "stdout",
     "output_type": "stream",
     "text": [
      "*\n",
      "**\n",
      "***\n"
     ]
    }
   ],
   "execution_count": 5
  },
  {
   "metadata": {
    "ExecuteTime": {
     "end_time": "2025-09-14T01:47:55.192335Z",
     "start_time": "2025-09-14T01:47:28.697309Z"
    }
   },
   "cell_type": "code",
   "source": [
    "V, E = map(int, input().split())\n",
    "M = [[] for i in range(V)]\n",
    "visited = [0]*V\n",
    "ok = False\n",
    "\n",
    "for i in range(E):\n",
    "    u, v = map(int, input().split())\n",
    "    M[u].append(v)\n",
    "    M[v].append(u)\n",
    "\n",
    "def f(x, y, z):\n",
    "    global V, visited, ok, M\n",
    "\n",
    "    if ok: return\n",
    "\n",
    "    if y == V:\n",
    "        ok = True\n",
    "        for i in z:\n",
    "            print(i, end=' ')\n",
    "        return\n",
    "\n",
    "    visited[x] = True\n",
    "\n",
    "    for u in M[x]:\n",
    "        if not visited[u]:\n",
    "            z.append(u)\n",
    "            f(u, y+1, z)\n",
    "            z.pop()\n",
    "\n",
    "    visited[x] = False\n",
    "    return\n",
    "\n",
    "# 1. 16번라인 if _______: 조건식 비우고, 22번라인 visited[x] = ________ 비우고, 27번라인 f(__, ___, ___) 파라메터 비워두고 채우라고 요구하기.\n",
    "\n",
    "# 2. 각 파라메터 x, y, z의 역할에 대해 설명 서술하기\n",
    "\n",
    "# 3. 입력예시 주고 출력 경로 구하기\n",
    "# 7 11\n",
    "# 0 1\n",
    "# 0 2\n",
    "# 0 3\n",
    "# 0 6\n",
    "# 1 2\n",
    "# 2 6\n",
    "# 3 4\n",
    "# 3 5\n",
    "# 3 6\n",
    "# 4 5\n",
    "# 5 6\n",
    "# 실행은 f(3, 1, [3]) -> 출력시 3 0 1 2 6 5 4 출력됨\n",
    "\n"
   ],
   "id": "804ffeffaa3d1c5c",
   "outputs": [],
   "execution_count": 2
  },
  {
   "metadata": {
    "ExecuteTime": {
     "end_time": "2025-09-14T01:52:18.305526Z",
     "start_time": "2025-09-14T01:52:18.299748Z"
    }
   },
   "cell_type": "code",
   "source": [
    "visited = [0]*V\n",
    "ok = False\n",
    "f(3, 1, [3])"
   ],
   "id": "eba8d091ef88a845",
   "outputs": [
    {
     "name": "stdout",
     "output_type": "stream",
     "text": [
      "3 0 1 2 6 5 4 "
     ]
    }
   ],
   "execution_count": 24
  },
  {
   "metadata": {
    "ExecuteTime": {
     "end_time": "2025-09-14T01:49:54.319789Z",
     "start_time": "2025-09-14T01:49:54.315220Z"
    }
   },
   "cell_type": "code",
   "source": "",
   "id": "c8f11b90941b173f",
   "outputs": [],
   "execution_count": 10
  },
  {
   "metadata": {},
   "cell_type": "code",
   "outputs": [],
   "execution_count": null,
   "source": "",
   "id": "3806d7b98132451c"
  }
 ],
 "metadata": {
  "kernelspec": {
   "display_name": "Python 3",
   "language": "python",
   "name": "python3"
  },
  "language_info": {
   "codemirror_mode": {
    "name": "ipython",
    "version": 2
   },
   "file_extension": ".py",
   "mimetype": "text/x-python",
   "name": "python",
   "nbconvert_exporter": "python",
   "pygments_lexer": "ipython2",
   "version": "2.7.6"
  }
 },
 "nbformat": 4,
 "nbformat_minor": 5
}
