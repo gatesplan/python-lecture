{
 "cells": [
  {
   "metadata": {
    "ExecuteTime": {
     "end_time": "2025-08-31T03:00:57.255588Z",
     "start_time": "2025-08-31T03:00:57.231417Z"
    }
   },
   "cell_type": "code",
   "source": [
    "def subset_recursive(arr: list):\n",
    "    arr = list(set(arr))\n",
    "\n",
    "    if len(arr) == 0:\n",
    "        return [[]]\n",
    "\n",
    "    first = arr[0]\n",
    "    rest = arr[1:]\n",
    "\n",
    "    subsets_without_first = subset_recursive(rest)\n",
    "    subsets_with_first = [[first] + subset for subset in subsets_without_first]\n",
    "\n",
    "    return subsets_without_first + subsets_with_first\n",
    "\n",
    "subset_recursive([1, 2, 3])"
   ],
   "id": "bb04066fc415214a",
   "outputs": [
    {
     "data": {
      "text/plain": [
       "[[], [3], [2], [2, 3], [1], [1, 3], [1, 2], [1, 2, 3]]"
      ]
     },
     "execution_count": 12,
     "metadata": {},
     "output_type": "execute_result"
    }
   ],
   "execution_count": 12
  },
  {
   "metadata": {
    "ExecuteTime": {
     "end_time": "2025-08-31T03:02:44.373028Z",
     "start_time": "2025-08-31T03:02:44.366521Z"
    }
   },
   "cell_type": "code",
   "source": "list(set([1, 1, 1]))",
   "id": "51f16c10893bcc75",
   "outputs": [
    {
     "data": {
      "text/plain": [
       "[1]"
      ]
     },
     "execution_count": 16,
     "metadata": {},
     "output_type": "execute_result"
    }
   ],
   "execution_count": 16
  },
  {
   "metadata": {},
   "cell_type": "code",
   "outputs": [],
   "execution_count": null,
   "source": "",
   "id": "8e315a9ed309f1ee"
  }
 ],
 "metadata": {
  "kernelspec": {
   "display_name": "Python 3",
   "language": "python",
   "name": "python3"
  },
  "language_info": {
   "codemirror_mode": {
    "name": "ipython",
    "version": 2
   },
   "file_extension": ".py",
   "mimetype": "text/x-python",
   "name": "python",
   "nbconvert_exporter": "python",
   "pygments_lexer": "ipython2",
   "version": "2.7.6"
  }
 },
 "nbformat": 4,
 "nbformat_minor": 5
}
