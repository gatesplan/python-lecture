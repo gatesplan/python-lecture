{
 "cells": [
  {
   "metadata": {},
   "cell_type": "markdown",
   "source": [
    "# 선형회귀 (Linear Regression)\n",
    "\n",
    " 이 장에서 여러분은 미리 만들어진 데이터셋을 사용해 선형회귀를 배운다. 구체적인 내용은 다음 세 가지이다.\n",
    "\n",
    "1. 데이터 로딩과 정리\n",
    "2. 선형회귀 모델 훈련과 사용, 평가\n",
    "3. 시각화\n",
    "\n"
   ],
   "id": "4710fd5bf27d9601"
  },
  {
   "metadata": {},
   "cell_type": "markdown",
   "source": [
    "## 1. 데이터 로딩과 정리\n",
    "\n",
    "이미 만들어진 데이터를 사용한다. 이 단계는 원래 전처리`preprocessing`라는 단계의 일부지만 아직 이걸 배우기에는 너무 노잼이고 현학적이다. 재밌는걸 먼저 해야 맛 없는 부분을 참고 먹는 법."
   ],
   "id": "63cf48ed6dc04ba5"
  },
  {
   "metadata": {},
   "cell_type": "markdown",
   "source": [
    "\n",
    "### 1.1. 데이터셋 로딩\n",
    "\n",
    "`seaborn` 라이브러리에서 연습용으로 제공하는 데이터셋을 로딩해본다."
   ],
   "id": "7fd42117add1a558"
  },
  {
   "metadata": {},
   "cell_type": "code",
   "source": [
    "import seaborn as sns\n",
    "\n",
    "# 데이터 로드\n",
    "sns.load_dataset('tips')  # DataFrame"
   ],
   "id": "6160d2915001d840",
   "outputs": [],
   "execution_count": null
  },
  {
   "metadata": {},
   "cell_type": "markdown",
   "source": [
    "#### Practice1. 여러 데이터셋 로드해보고 어떤 값 있는지 확인\n",
    "`diamonds`, `iris`, `flights`, `penguines`, `planets`를 로드해보고 어떤 속성`features`을 가졌는지 살펴보기"
   ],
   "id": "4c74499e6c605bb2"
  },
  {
   "metadata": {},
   "cell_type": "markdown",
   "source": [
    "### 1.2. 데이터셋 정리\n",
    "\n",
    "전체 데이터셋 중 사용할 데이터를 고르고, 학습 데이터`train set`와 테스트 데이터`test set`으로 나눈다. 구체적인 내용은 다음 두 가지이다.\n",
    "\n",
    "1. 데이터셋에서 X와 Y를 추출하기\n",
    "2. 추출한 X, Y를 학습용, 테스트용으로 분리하기\n"
   ],
   "id": "c06b33d789be8a31"
  },
  {
   "metadata": {},
   "cell_type": "code",
   "source": [
    "tips = sns.load_dataset('tips')\n",
    "tips"
   ],
   "id": "557e0fe40b7e832d",
   "outputs": [],
   "execution_count": null
  },
  {
   "metadata": {},
   "cell_type": "code",
   "source": [
    "# x 추출. 원하는 열 이름을 여러개 선택해서 쓴다. 이것저것 골라서 바꿔가면서 연습해보자.\n",
    "# 지금은 숫자로 주어진 것만 x값으로 사용할 것이다.\n",
    "x = tips[['total_bill', 'size']]  # pandas.DataFrame\n",
    "x"
   ],
   "id": "306fd0de4e5b2c6f",
   "outputs": [],
   "execution_count": null
  },
  {
   "metadata": {},
   "cell_type": "code",
   "source": [
    "# y 추출. tip 열이 목표값이다.\n",
    "y = tips['tip']  # pandas.Series\n",
    "y"
   ],
   "id": "7635e87753249bd9",
   "outputs": [],
   "execution_count": null
  },
  {
   "metadata": {},
   "cell_type": "code",
   "source": [
    "# x, y값 추출\n",
    "x, y = tips[['total_bill']], tips['tip']"
   ],
   "id": "fe58610b76b45aaa",
   "outputs": [],
   "execution_count": null
  },
  {
   "metadata": {},
   "cell_type": "code",
   "source": [
    "from sklearn.model_selection import train_test_split\n",
    "\n",
    "x_train, x_test, y_train, y_test = train_test_split(x, y, test_size=0.2)\n",
    "len(x_train), len(x_test)"
   ],
   "id": "6364ac8a974c4917",
   "outputs": [],
   "execution_count": null
  },
  {
   "metadata": {},
   "cell_type": "markdown",
   "source": [
    "#### Practice2. 여러 데이터셋에서 X, Y 정하고 추출하고 분리하기 연습\n",
    "\n",
    "`diamonds`, `iris`, `flights` 데이터셋에서 각각 X, Y를 정하여 추출하고, 학습용과 테스트용으로 분리하는 연습하기"
   ],
   "id": "3b88103e83f015b6"
  },
  {
   "metadata": {},
   "cell_type": "code",
   "source": [
    "flights = sns.load_dataset('flights')\n",
    "x = flights[['year']]\n",
    "y = flights['passengers']\n",
    "x_train, x_test, y_train, y_test = train_test_split(x, y, test_size=0.2)\n"
   ],
   "id": "177844fee0a6d684",
   "outputs": [],
   "execution_count": null
  },
  {
   "metadata": {},
   "cell_type": "markdown",
   "source": [
    "## 2. 선형회귀 모델 훈련과 사용, 평가\n",
    "\n",
    "이제 선형회귀 모델을 훈련하고, 예측하고, 평가하는 방법을 배운다. 구체적인 내용은 다음 세 가지이다.\n",
    "\n",
    "1. 선형회귀 모델 생성과 훈련\n",
    "2. 선형회귀 모델로 예측값 생성\n",
    "3. 예측값 vs 실제값 비교하여 평가"
   ],
   "id": "8e82bba6937afc1e"
  },
  {
   "metadata": {},
   "cell_type": "markdown",
   "source": [
    "### 2.1. 선형회귀 모델 생성과 훈련\n",
    "\n",
    "비어있는 (훈련 전) 선형회귀 모델을 선언하고, 앞서 추출한 훈련용 X값을 제공하여 모델을 훈련한다."
   ],
   "id": "62cefc8ad0c1a1b"
  },
  {
   "metadata": {},
   "cell_type": "code",
   "source": [
    "from sklearn.linear_model import LinearRegression\n",
    "\n",
    "# 모델 선언\n",
    "model = LinearRegression()\n",
    "model.fit(x_train, y_train)\n",
    "model"
   ],
   "id": "9d18bc7016934966",
   "outputs": [],
   "execution_count": null
  },
  {
   "metadata": {},
   "cell_type": "markdown",
   "source": [
    "#### Practice3. 여러 데이터셋에서 선형회귀 모델을 선언하고 훈련하기\n",
    "\n",
    "`diamonds`, `flights` 데이터셋에서 적당한 X, Y를 정하여 선형회귀 모델을 선언하고 훈련 시켜보기\n",
    "\n",
    "*<주의>* x값은 숫자인 데이터만 사용해야 한다. 여러 열을 동시에 사용해도 된다."
   ],
   "id": "b03fa14fdc590a16"
  },
  {
   "metadata": {},
   "cell_type": "markdown",
   "source": [
    "### 2.2. 선형회귀 모델로 예측값 생성\n",
    "\n",
    "훈련을 마친 선형회귀 모델에 테스트용 X값을 제공해 예측Y값을 생성한다."
   ],
   "id": "1b6de9d6635b0ed2"
  },
  {
   "metadata": {},
   "cell_type": "code",
   "source": [
    "# tips 데이터셋에서 훈련까지 진행\n",
    "tips = sns.load_dataset('tips')\n",
    "x = tips[['total_bill']]\n",
    "y = tips['tip']\n",
    "x_train, x_test, y_train, y_test = train_test_split(x, y, test_size=0.2)\n",
    "model = LinearRegression()\n",
    "model.fit(x_train, y_train)\n",
    "\n",
    "# y 예측값 생성\n",
    "y_test_pred = model.predict(x_test)\n",
    "y_test_pred"
   ],
   "id": "7de25f52c78667e3",
   "outputs": [],
   "execution_count": null
  },
  {
   "metadata": {},
   "cell_type": "markdown",
   "source": [
    "#### Practice4. 여러 데이터셋에서 선형회귀 모델로 예측값 생성하기\n",
    "\n",
    "`diamonds` 데이터셋에서 적당한 X, Y를 정하여 선형회귀 모델을 선언하고 훈련 시킨 후, 테스트용 X값으로 예측값을 생성해보기\n",
    "\n",
    "*<주의>* x값은 숫자인 데이터만 사용해야 한다. 여러 열을 동시에 사용해도 된다."
   ],
   "id": "b5c022d008ff498b"
  },
  {
   "metadata": {},
   "cell_type": "markdown",
   "source": [
    "### 2.3. 예측값 vs 실제값 비교하여 평가\n",
    "\n",
    "예측값과 실제값을 비교하여 모델의 성능을 평가한다. 여러가지 평가 방법이 있다. 각 평가 방법의 특성을 기억하고 사용법을 아는 것이 목적이다. 자주 쓰이는 네 가지 평가 방법은 `RMSE`, `MAE`, `R2` 정도가 있다.\n",
    "\n",
    "\n",
    "#### RMSE(Root Mean Squared Error)\n",
    "\n",
    "1. 해석이 직관적이다. 평가 결과값을 평균적인 오차 값으로 해석해도 됨. 표준편차와 유사한 개념.\n",
    "2. 원본 데이터와 같은 단위를 가진다.\n",
    "3. 이상치에 민감하다. 이상치가 있으면 RMSE 값이 다른 검사에 비해 제법 크게 나온다.\n",
    "\n",
    "\n",
    "#### MAE(Mean Absolute Error)\n",
    "\n",
    "1. 이상치에 강건(덜 민감)하다. 이상치가 있어도 다소 무시할 수 있다.\n",
    "\n",
    "\n",
    "#### R2(R-squared; 결정계수)\n",
    "\n",
    "1. 해석이 직관적이다. 평가 결과값을 \"설명력\"으로 해석할 수 있다.\n",
    "2. 0에서 1 사이의 값을 가진다. 1에 가까울수록 모델이 데이터를 잘 설명한다.\n",
    "3. 여러 모델들 사이의 성능 비교를 할 때 기준으로 쓸 수 있다.\n",
    "4. 원본 데이터의 단위에 무관하다.\n"
   ],
   "id": "a754ad242c964120"
  },
  {
   "metadata": {},
   "cell_type": "code",
   "source": [
    "# RMSE, MAE, R2 모듈 임포트\n",
    "from sklearn.metrics import root_mean_squared_error, mean_squared_error, mean_absolute_error, r2_score\n",
    "\n",
    "# total_bill 열을 x로 사용한 tips 데이터셋에서 예측값 생성까지 진행\n",
    "tips = sns.load_dataset('tips')\n",
    "x = tips[['total_bill']]\n",
    "y = tips['tip']\n",
    "x_train, x_test, y_train, y_test = train_test_split(x, y, test_size=0.2)\n",
    "model = LinearRegression()\n",
    "model.fit(x_train, y_train)\n",
    "y_test_pred = model.predict(x_test)\n",
    "\n",
    "rmse = root_mean_squared_error(y_test, y_test_pred)  # RMSE\n",
    "mae = mean_absolute_error(y_test, y_test_pred)  # MAE\n",
    "r2 = r2_score(y_test, y_test_pred)  # R2\n",
    "\n",
    "print('RMSE:', rmse, '// MAE:', mae, '// R2:', r2)"
   ],
   "id": "7bfff1ee45bd4230",
   "outputs": [],
   "execution_count": null
  },
  {
   "metadata": {},
   "cell_type": "markdown",
   "source": [
    "## 시각화\n",
    "\n",
    "제일 중요하다. 그래프를 그릴 줄 알아야 한다. 이번에는 `matplotlib` 라이브러리를 사용해 점 그래프, 선 그래프를 그려본다. 구체적인 내용은 다음 두 가지이다.\n",
    "\n",
    "1. 그래프 크기 정하기\n",
    "2. 제목, 축 이름 정하기\n",
    "3. 점 찍기\n",
    "4. 선 그리기"
   ],
   "id": "25582a872717fc4e"
  },
  {
   "metadata": {},
   "cell_type": "code",
   "source": [
    "import matplotlib.pyplot as plt\n",
    "import koreanize_matplotlib\n",
    "\n",
    "# 그래프 크기 정하기\n",
    "plt.figure(figsize=(10, 6))  # 단위: 인치\n",
    "\n",
    "# 제목, 축 이름 정하기\n",
    "plt.title('총 금액 vs 팁', fontsize=16)\n",
    "\n",
    "# 점, 선 그리기\n",
    "plt.scatter(x, y, label='실제값')\n",
    "plt.scatter(x_test, y_test_pred, color='red', label='예측값')\n",
    "plt.plot(x_test, y_test_pred, color='red', label='예측선')\n",
    "\n",
    "# 범례 표시\n",
    "plt.legend()"
   ],
   "id": "deb5dd4c022a2cee",
   "outputs": [],
   "execution_count": null
  },
  {
   "metadata": {},
   "cell_type": "code",
   "source": "",
   "id": "23b0b9f8dc8456e5",
   "outputs": [],
   "execution_count": null
  }
 ],
 "metadata": {
  "kernelspec": {
   "display_name": "Python 3",
   "language": "python",
   "name": "python3"
  },
  "language_info": {
   "codemirror_mode": {
    "name": "ipython",
    "version": 2
   },
   "file_extension": ".py",
   "mimetype": "text/x-python",
   "name": "python",
   "nbconvert_exporter": "python",
   "pygments_lexer": "ipython2",
   "version": "2.7.6"
  }
 },
 "nbformat": 4,
 "nbformat_minor": 5
}
