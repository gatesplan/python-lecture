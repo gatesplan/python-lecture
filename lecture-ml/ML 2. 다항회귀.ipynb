{
 "cells": [
  {
   "metadata": {},
   "cell_type": "markdown",
   "source": [
    "# 다항회귀\n",
    "\n",
    "앞에서 선형회귀를 다루었다. 선형회귀를 응용하여 이번에는 다항회귀를 다룬다. 무엇이 더 적합한지는 검증 결과를 참고하여 스스로 판단해야 한다.\n",
    "\n",
    "다항회귀는 `ax^2 + bx + c` 형태의 다항식으로 표현되는 회귀 모델이다. 선형회귀는 `ax + b` 형태로 표현되므로, 다항회귀는 선형회귀의 확장이라고 볼 수 있다."
   ],
   "id": "a5fa3504bf5e91c9"
  },
  {
   "metadata": {},
   "cell_type": "markdown",
   "source": [
    "## 1. 다항회귀\n",
    "\n",
    "선형회귀에서는 x값이 (p, q, r)로 이루어져 있을 때, $y=ap +bq +cr + d$ 형태의 초평면을 구한다.\n",
    "\n",
    "다항회귀는 이를 이용해 $x=(p)$일 때, $x=(p^2, p)$로 변환하여 $y=ap^2 + bp + c$ 형태의 p에 대한 이차다항식을 구한다. 즉, 선형회귀를 다항식으로 확장한 것이다.\n",
    "\n",
    "이번에 여러분은 하나의 열을 여러 차수로 확장하여 다항회귀를 수행하는 방법을 배운다."
   ],
   "id": "43193418ab129888"
  },
  {
   "metadata": {},
   "cell_type": "code",
   "source": [
    "import seaborn as sns\n",
    "\n",
    "diamonds = sns.load_dataset('diamonds')\n",
    "diamonds"
   ],
   "id": "11fbfa26a34225cd",
   "outputs": [],
   "execution_count": null
  },
  {
   "metadata": {},
   "cell_type": "code",
   "source": [
    "# diamonds 데이터셋에서 `carat` 열을 이용해 평범한 선형회귀 수행 후 시각화\n",
    "import seaborn as sns\n",
    "import matplotlib.pyplot as plt\n",
    "import koreanize_matplotlib\n",
    "from sklearn.model_selection import train_test_split\n",
    "from sklearn.linear_model import LinearRegression\n",
    "from sklearn.metrics import root_mean_squared_error, mean_squared_error, r2_score\n",
    "\n",
    "diamonds = sns.load_dataset('diamonds')\n",
    "x = diamonds[['carat']]\n",
    "y = diamonds['price']\n",
    "\n",
    "x_train, x_test, y_train, y_test = train_test_split(x, y, test_size=0.2)\n",
    "model = LinearRegression()\n",
    "model.fit(x_train, y_train)\n",
    "y_test_pred = model.predict(x_test)\n",
    "\n",
    "# 각종 평가\n",
    "rmse = root_mean_squared_error(y_test, y_test_pred)  # RMSE\n",
    "mae = mean_squared_error(y_test, y_test_pred)  # MAE\n",
    "r2 = r2_score(y_test, y_test_pred)  # R2\n",
    "print('RMSE:', rmse, '// MAE:', mae, '// R2:', r2)\n",
    "\n",
    "# 시각화\n",
    "plt.figure(figsize=(10, 6))\n",
    "plt.title('다이아몬드 가격 예측')\n",
    "plt.scatter(x_test, y_test, label='실제값', color='blue')\n",
    "plt.scatter(x_test, y_test_pred, label='예측값', color='red')\n",
    "plt.plot(x_test, y_test_pred, color='red')\n",
    "plt.xlabel('carat')\n",
    "plt.ylabel('price')\n",
    "plt.legend()\n",
    "plt.show()"
   ],
   "id": "d4d4336a9f8e36f5",
   "outputs": [],
   "execution_count": null
  },
  {
   "metadata": {},
   "cell_type": "markdown",
   "source": [
    "이전과 동일한 작업을 다항회귀로 수행한다. 2차 다항식으로 변환하여 모델을 학습하고, 예측값을 시각화한다.\n",
    "\n",
    "`PolynomialFeatures` 클래스를 사용한다."
   ],
   "id": "412d67270f9b4202"
  },
  {
   "metadata": {},
   "cell_type": "code",
   "source": [
    "from sklearn.preprocessing import PolynomialFeatures\n",
    "\n",
    "# 다항회귀를 위한 데이터 변환\n",
    "poly = PolynomialFeatures(degree=2, include_bias=False)  # 2차 다항식\n",
    "x_poly = poly.fit_transform(x)\n",
    "x_poly"
   ],
   "id": "5edbe22d7c0968ec",
   "outputs": [],
   "execution_count": null
  },
  {
   "metadata": {},
   "cell_type": "code",
   "source": [
    "import seaborn as sns\n",
    "\n",
    "diamonds = sns.load_dataset('diamonds')\n",
    "x = diamonds[['carat']]\n",
    "y = diamonds['price']\n",
    "\n",
    "from sklearn.preprocessing import PolynomialFeatures\n",
    "poly = PolynomialFeatures(degree=1, include_bias=True)  # 2차 다항식\n",
    "x_poly = poly.fit_transform(x)\n",
    "x_poly\n",
    "\n",
    "from sklearn.model_selection import train_test_split\n",
    "x_train, x_test, y_train, y_test = train_test_split(x_poly, y, test_size=0.2)\n",
    "\n",
    "# 모델 선언\n",
    "from sklearn.linear_model import LinearRegression\n",
    "model = LinearRegression()\n",
    "\n",
    "# 모델 학습, 예측\n",
    "model.fit(x_train, y_train)\n",
    "y_test_pred = model.predict(x_test)\n",
    "\n",
    "# 각종 평가\n",
    "from sklearn.metrics import r2_score\n",
    "r2 = r2_score(y_test, y_test_pred)\n",
    "print('R2:', r2)"
   ],
   "id": "24a38bf3bbbd6480",
   "outputs": [],
   "execution_count": null
  },
  {
   "metadata": {},
   "cell_type": "markdown",
   "source": [
    "#### Practice1. 적합한 차수 찾기\n",
    "\n",
    "앞선 예시처럼 `diamonds`의 `carat` 열을 확장해 다항회귀를 수행하여, 몇 차 다항식이 가장 적합한지 찾아보자.\n",
    "\n",
    "자유롭게 시도해보고, 가장 높은 R2값을 찾을 것이다."
   ],
   "id": "8d2149e7dd006289"
  },
  {
   "metadata": {},
   "cell_type": "code",
   "source": "",
   "id": "36937282a99aa647",
   "outputs": [],
   "execution_count": null
  },
  {
   "metadata": {},
   "cell_type": "code",
   "source": "",
   "id": "8a100eebbd9c8ce0",
   "outputs": [],
   "execution_count": null
  }
 ],
 "metadata": {
  "kernelspec": {
   "display_name": "Python 3",
   "language": "python",
   "name": "python3"
  },
  "language_info": {
   "codemirror_mode": {
    "name": "ipython",
    "version": 3
   },
   "file_extension": ".py",
   "mimetype": "text/x-python",
   "name": "python",
   "nbconvert_exporter": "python",
   "pygments_lexer": "ipython3",
   "version": "3.8.5"
  }
 },
 "nbformat": 4,
 "nbformat_minor": 5
}
