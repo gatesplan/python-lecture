{
 "cells": [
  {
   "cell_type": "markdown",
   "id": "initial_id",
   "metadata": {
    "collapsed": true
   },
   "source": [
    "# 전처리와 KNN (K-Nearest Neighbors)\n",
    "\n",
    "지금까지는 깨끗한 데이터만 써왔는데, 실제로는 더러운 데이터가 대부분이다. 이제 진짜 전처리를 배워보자.\n",
    "\n",
    "이 장에서 여러분은 실제 데이터의 문제점을 파악하고 해결하는 전처리 과정과 KNN 알고리즘을 배운다. 구체적인 내용은 다음 세 가지이다.\n",
    "\n",
    "1. **전처리(Preprocessing)**: 결측치 처리와 데이터 정제\n",
    "2. **KNN 모델 훈련과 사용, 평가**: 거리 기반 분류 알고리즘\n",
    "3. **시각화**: PCA, tSNE 차원축소를 통한 분류 결과 시각화"
   ]
  },
  {
   "cell_type": "markdown",
   "id": "u2rh5as7vma",
   "source": "## 1. 전처리 (Preprocessing)\n\n실제 데이터는 대부분 더럽다. 결측치가 있고, 이상치가 있고, 형식이 맞지 않는다. 이런 문제를 해결하는 과정이 전처리다. \n\n전처리 과정은 다음과 같다:\n1. 데이터 탐색으로 문제점 파악하기\n2. 결측치 처리 전략 결정하기\n3. 범주형 데이터를 숫자로 변환하기",
   "metadata": {}
  },
  {
   "cell_type": "markdown",
   "id": "1dj5vhq4agu",
   "source": "### 1.1. 데이터 탐색과 문제점 파악\n\n실제 데이터셋을 로드해서 어떤 문제가 있는지 살펴보자. 결측치가 어느 열에 얼마나 있는지 파악하는 것이 첫 번째 단계다.",
   "metadata": {}
  },
  {
   "cell_type": "code",
   "id": "jlnlbx9aobe",
   "source": [
    "import seaborn as sns\n",
    "\n",
    "# 실제 더러운 데이터 로드\n",
    "titanic = sns.load_dataset('titanic')\n",
    "titanic"
   ],
   "metadata": {
    "ExecuteTime": {
     "end_time": "2025-08-10T01:19:36.394172Z",
     "start_time": "2025-08-10T01:19:36.370571Z"
    }
   },
   "outputs": [
    {
     "data": {
      "text/plain": [
       "     survived  pclass     sex   age  sibsp  parch     fare embarked   class  \\\n",
       "0           0       3    male  22.0      1      0   7.2500        S   Third   \n",
       "1           1       1  female  38.0      1      0  71.2833        C   First   \n",
       "2           1       3  female  26.0      0      0   7.9250        S   Third   \n",
       "3           1       1  female  35.0      1      0  53.1000        S   First   \n",
       "4           0       3    male  35.0      0      0   8.0500        S   Third   \n",
       "..        ...     ...     ...   ...    ...    ...      ...      ...     ...   \n",
       "886         0       2    male  27.0      0      0  13.0000        S  Second   \n",
       "887         1       1  female  19.0      0      0  30.0000        S   First   \n",
       "888         0       3  female   NaN      1      2  23.4500        S   Third   \n",
       "889         1       1    male  26.0      0      0  30.0000        C   First   \n",
       "890         0       3    male  32.0      0      0   7.7500        Q   Third   \n",
       "\n",
       "       who  adult_male deck  embark_town alive  alone  \n",
       "0      man        True  NaN  Southampton    no  False  \n",
       "1    woman       False    C    Cherbourg   yes  False  \n",
       "2    woman       False  NaN  Southampton   yes   True  \n",
       "3    woman       False    C  Southampton   yes  False  \n",
       "4      man        True  NaN  Southampton    no   True  \n",
       "..     ...         ...  ...          ...   ...    ...  \n",
       "886    man        True  NaN  Southampton    no   True  \n",
       "887  woman       False    B  Southampton   yes   True  \n",
       "888  woman       False  NaN  Southampton    no  False  \n",
       "889    man        True    C    Cherbourg   yes   True  \n",
       "890    man        True  NaN   Queenstown    no   True  \n",
       "\n",
       "[891 rows x 15 columns]"
      ],
      "text/html": [
       "<div>\n",
       "<style scoped>\n",
       "    .dataframe tbody tr th:only-of-type {\n",
       "        vertical-align: middle;\n",
       "    }\n",
       "\n",
       "    .dataframe tbody tr th {\n",
       "        vertical-align: top;\n",
       "    }\n",
       "\n",
       "    .dataframe thead th {\n",
       "        text-align: right;\n",
       "    }\n",
       "</style>\n",
       "<table border=\"1\" class=\"dataframe\">\n",
       "  <thead>\n",
       "    <tr style=\"text-align: right;\">\n",
       "      <th></th>\n",
       "      <th>survived</th>\n",
       "      <th>pclass</th>\n",
       "      <th>sex</th>\n",
       "      <th>age</th>\n",
       "      <th>sibsp</th>\n",
       "      <th>parch</th>\n",
       "      <th>fare</th>\n",
       "      <th>embarked</th>\n",
       "      <th>class</th>\n",
       "      <th>who</th>\n",
       "      <th>adult_male</th>\n",
       "      <th>deck</th>\n",
       "      <th>embark_town</th>\n",
       "      <th>alive</th>\n",
       "      <th>alone</th>\n",
       "    </tr>\n",
       "  </thead>\n",
       "  <tbody>\n",
       "    <tr>\n",
       "      <th>0</th>\n",
       "      <td>0</td>\n",
       "      <td>3</td>\n",
       "      <td>male</td>\n",
       "      <td>22.0</td>\n",
       "      <td>1</td>\n",
       "      <td>0</td>\n",
       "      <td>7.2500</td>\n",
       "      <td>S</td>\n",
       "      <td>Third</td>\n",
       "      <td>man</td>\n",
       "      <td>True</td>\n",
       "      <td>NaN</td>\n",
       "      <td>Southampton</td>\n",
       "      <td>no</td>\n",
       "      <td>False</td>\n",
       "    </tr>\n",
       "    <tr>\n",
       "      <th>1</th>\n",
       "      <td>1</td>\n",
       "      <td>1</td>\n",
       "      <td>female</td>\n",
       "      <td>38.0</td>\n",
       "      <td>1</td>\n",
       "      <td>0</td>\n",
       "      <td>71.2833</td>\n",
       "      <td>C</td>\n",
       "      <td>First</td>\n",
       "      <td>woman</td>\n",
       "      <td>False</td>\n",
       "      <td>C</td>\n",
       "      <td>Cherbourg</td>\n",
       "      <td>yes</td>\n",
       "      <td>False</td>\n",
       "    </tr>\n",
       "    <tr>\n",
       "      <th>2</th>\n",
       "      <td>1</td>\n",
       "      <td>3</td>\n",
       "      <td>female</td>\n",
       "      <td>26.0</td>\n",
       "      <td>0</td>\n",
       "      <td>0</td>\n",
       "      <td>7.9250</td>\n",
       "      <td>S</td>\n",
       "      <td>Third</td>\n",
       "      <td>woman</td>\n",
       "      <td>False</td>\n",
       "      <td>NaN</td>\n",
       "      <td>Southampton</td>\n",
       "      <td>yes</td>\n",
       "      <td>True</td>\n",
       "    </tr>\n",
       "    <tr>\n",
       "      <th>3</th>\n",
       "      <td>1</td>\n",
       "      <td>1</td>\n",
       "      <td>female</td>\n",
       "      <td>35.0</td>\n",
       "      <td>1</td>\n",
       "      <td>0</td>\n",
       "      <td>53.1000</td>\n",
       "      <td>S</td>\n",
       "      <td>First</td>\n",
       "      <td>woman</td>\n",
       "      <td>False</td>\n",
       "      <td>C</td>\n",
       "      <td>Southampton</td>\n",
       "      <td>yes</td>\n",
       "      <td>False</td>\n",
       "    </tr>\n",
       "    <tr>\n",
       "      <th>4</th>\n",
       "      <td>0</td>\n",
       "      <td>3</td>\n",
       "      <td>male</td>\n",
       "      <td>35.0</td>\n",
       "      <td>0</td>\n",
       "      <td>0</td>\n",
       "      <td>8.0500</td>\n",
       "      <td>S</td>\n",
       "      <td>Third</td>\n",
       "      <td>man</td>\n",
       "      <td>True</td>\n",
       "      <td>NaN</td>\n",
       "      <td>Southampton</td>\n",
       "      <td>no</td>\n",
       "      <td>True</td>\n",
       "    </tr>\n",
       "    <tr>\n",
       "      <th>...</th>\n",
       "      <td>...</td>\n",
       "      <td>...</td>\n",
       "      <td>...</td>\n",
       "      <td>...</td>\n",
       "      <td>...</td>\n",
       "      <td>...</td>\n",
       "      <td>...</td>\n",
       "      <td>...</td>\n",
       "      <td>...</td>\n",
       "      <td>...</td>\n",
       "      <td>...</td>\n",
       "      <td>...</td>\n",
       "      <td>...</td>\n",
       "      <td>...</td>\n",
       "      <td>...</td>\n",
       "    </tr>\n",
       "    <tr>\n",
       "      <th>886</th>\n",
       "      <td>0</td>\n",
       "      <td>2</td>\n",
       "      <td>male</td>\n",
       "      <td>27.0</td>\n",
       "      <td>0</td>\n",
       "      <td>0</td>\n",
       "      <td>13.0000</td>\n",
       "      <td>S</td>\n",
       "      <td>Second</td>\n",
       "      <td>man</td>\n",
       "      <td>True</td>\n",
       "      <td>NaN</td>\n",
       "      <td>Southampton</td>\n",
       "      <td>no</td>\n",
       "      <td>True</td>\n",
       "    </tr>\n",
       "    <tr>\n",
       "      <th>887</th>\n",
       "      <td>1</td>\n",
       "      <td>1</td>\n",
       "      <td>female</td>\n",
       "      <td>19.0</td>\n",
       "      <td>0</td>\n",
       "      <td>0</td>\n",
       "      <td>30.0000</td>\n",
       "      <td>S</td>\n",
       "      <td>First</td>\n",
       "      <td>woman</td>\n",
       "      <td>False</td>\n",
       "      <td>B</td>\n",
       "      <td>Southampton</td>\n",
       "      <td>yes</td>\n",
       "      <td>True</td>\n",
       "    </tr>\n",
       "    <tr>\n",
       "      <th>888</th>\n",
       "      <td>0</td>\n",
       "      <td>3</td>\n",
       "      <td>female</td>\n",
       "      <td>NaN</td>\n",
       "      <td>1</td>\n",
       "      <td>2</td>\n",
       "      <td>23.4500</td>\n",
       "      <td>S</td>\n",
       "      <td>Third</td>\n",
       "      <td>woman</td>\n",
       "      <td>False</td>\n",
       "      <td>NaN</td>\n",
       "      <td>Southampton</td>\n",
       "      <td>no</td>\n",
       "      <td>False</td>\n",
       "    </tr>\n",
       "    <tr>\n",
       "      <th>889</th>\n",
       "      <td>1</td>\n",
       "      <td>1</td>\n",
       "      <td>male</td>\n",
       "      <td>26.0</td>\n",
       "      <td>0</td>\n",
       "      <td>0</td>\n",
       "      <td>30.0000</td>\n",
       "      <td>C</td>\n",
       "      <td>First</td>\n",
       "      <td>man</td>\n",
       "      <td>True</td>\n",
       "      <td>C</td>\n",
       "      <td>Cherbourg</td>\n",
       "      <td>yes</td>\n",
       "      <td>True</td>\n",
       "    </tr>\n",
       "    <tr>\n",
       "      <th>890</th>\n",
       "      <td>0</td>\n",
       "      <td>3</td>\n",
       "      <td>male</td>\n",
       "      <td>32.0</td>\n",
       "      <td>0</td>\n",
       "      <td>0</td>\n",
       "      <td>7.7500</td>\n",
       "      <td>Q</td>\n",
       "      <td>Third</td>\n",
       "      <td>man</td>\n",
       "      <td>True</td>\n",
       "      <td>NaN</td>\n",
       "      <td>Queenstown</td>\n",
       "      <td>no</td>\n",
       "      <td>True</td>\n",
       "    </tr>\n",
       "  </tbody>\n",
       "</table>\n",
       "<p>891 rows × 15 columns</p>\n",
       "</div>"
      ]
     },
     "execution_count": 6,
     "metadata": {},
     "output_type": "execute_result"
    }
   ],
   "execution_count": 6
  },
  {
   "cell_type": "code",
   "id": "gogk5vtojnu",
   "source": [
    "# 데이터 길이와 유효값 개수를 열별로 확인\n",
    "titanic.info()"
   ],
   "metadata": {
    "ExecuteTime": {
     "end_time": "2025-08-10T01:18:26.125094Z",
     "start_time": "2025-08-10T01:18:26.108380Z"
    }
   },
   "outputs": [
    {
     "name": "stdout",
     "output_type": "stream",
     "text": [
      "<class 'pandas.core.frame.DataFrame'>\n",
      "RangeIndex: 891 entries, 0 to 890\n",
      "Data columns (total 15 columns):\n",
      " #   Column       Non-Null Count  Dtype   \n",
      "---  ------       --------------  -----   \n",
      " 0   survived     891 non-null    int64   \n",
      " 1   pclass       891 non-null    int64   \n",
      " 2   sex          891 non-null    object  \n",
      " 3   age          714 non-null    float64 \n",
      " 4   sibsp        891 non-null    int64   \n",
      " 5   parch        891 non-null    int64   \n",
      " 6   fare         891 non-null    float64 \n",
      " 7   embarked     889 non-null    object  \n",
      " 8   class        891 non-null    category\n",
      " 9   who          891 non-null    object  \n",
      " 10  adult_male   891 non-null    bool    \n",
      " 11  deck         203 non-null    category\n",
      " 12  embark_town  889 non-null    object  \n",
      " 13  alive        891 non-null    object  \n",
      " 14  alone        891 non-null    bool    \n",
      "dtypes: bool(2), category(2), float64(2), int64(4), object(5)\n",
      "memory usage: 80.7+ KB\n"
     ]
    }
   ],
   "execution_count": 4
  },
  {
   "cell_type": "code",
   "id": "788jbn4l3l",
   "source": [
    "# 열별 결측치 개수 확인\n",
    "titanic.isna().sum()"
   ],
   "metadata": {
    "ExecuteTime": {
     "end_time": "2025-08-10T01:20:11.626017Z",
     "start_time": "2025-08-10T01:20:11.616207Z"
    }
   },
   "outputs": [
    {
     "data": {
      "text/plain": [
       "survived         0\n",
       "pclass           0\n",
       "sex              0\n",
       "age            177\n",
       "sibsp            0\n",
       "parch            0\n",
       "fare             0\n",
       "embarked         2\n",
       "class            0\n",
       "who              0\n",
       "adult_male       0\n",
       "deck           688\n",
       "embark_town      2\n",
       "alive            0\n",
       "alone            0\n",
       "dtype: int64"
      ]
     },
     "execution_count": 7,
     "metadata": {},
     "output_type": "execute_result"
    }
   ],
   "execution_count": 7
  },
  {
   "cell_type": "code",
   "id": "dyyuv3sag3",
   "source": "# 결측치가 있는 열 찾기 - 뭘 반환하는지 살펴보기\ntitanic.isna().sum() > 0",
   "metadata": {
    "ExecuteTime": {
     "end_time": "2025-08-10T01:20:40.013100Z",
     "start_time": "2025-08-10T01:20:40.003600Z"
    }
   },
   "outputs": [
    {
     "data": {
      "text/plain": [
       "survived       False\n",
       "pclass         False\n",
       "sex            False\n",
       "age             True\n",
       "sibsp          False\n",
       "parch          False\n",
       "fare           False\n",
       "embarked        True\n",
       "class          False\n",
       "who            False\n",
       "adult_male     False\n",
       "deck            True\n",
       "embark_town     True\n",
       "alive          False\n",
       "alone          False\n",
       "dtype: bool"
      ]
     },
     "execution_count": 8,
     "metadata": {},
     "output_type": "execute_result"
    }
   ],
   "execution_count": 8
  },
  {
   "cell_type": "code",
   "id": "xd4sit9ge1p",
   "source": [
    "# 결측치가 있는 열만 추출\n",
    "titanic.isna().sum()[titanic.isna().sum() > 0]"
   ],
   "metadata": {
    "ExecuteTime": {
     "end_time": "2025-08-10T01:21:50.253614Z",
     "start_time": "2025-08-10T01:21:50.242741Z"
    }
   },
   "outputs": [
    {
     "data": {
      "text/plain": [
       "age            177\n",
       "embarked         2\n",
       "deck           688\n",
       "embark_town      2\n",
       "dtype: int64"
      ]
     },
     "execution_count": 13,
     "metadata": {},
     "output_type": "execute_result"
    }
   ],
   "execution_count": 13
  },
  {
   "metadata": {
    "ExecuteTime": {
     "end_time": "2025-08-10T01:49:11.648799Z",
     "start_time": "2025-08-10T01:49:11.624612Z"
    }
   },
   "cell_type": "code",
   "source": [
    "# deck 날려\n",
    "titanic = sns.load_dataset('titanic')\n",
    "clean_titanic = titanic.drop(columns=['deck', 'embarked'])\n",
    "\n",
    "# age 평균으로 채워\n",
    "age_mean = clean_titanic['age'].mean()\n",
    "clean_titanic['age'] = clean_titanic['age'].fillna(age_mean)\n",
    "\n",
    "# embark_town 최빈값으로 채워\n",
    "em_mod = clean_titanic['embark_town'].mode()[0]\n",
    "clean_titanic['embark_town'].fillna(em_mod, inplace=True)\n",
    "\n",
    "clean_titanic.isna().sum()[clean_titanic.isna().sum() > 0]"
   ],
   "id": "a3c85d708f9c18eb",
   "outputs": [
    {
     "name": "stderr",
     "output_type": "stream",
     "text": [
      "C:\\Users\\catac\\AppData\\Local\\Temp\\ipykernel_8704\\753356215.py:11: FutureWarning: A value is trying to be set on a copy of a DataFrame or Series through chained assignment using an inplace method.\n",
      "The behavior will change in pandas 3.0. This inplace method will never work because the intermediate object on which we are setting values always behaves as a copy.\n",
      "\n",
      "For example, when doing 'df[col].method(value, inplace=True)', try using 'df.method({col: value}, inplace=True)' or df[col] = df[col].method(value) instead, to perform the operation inplace on the original object.\n",
      "\n",
      "\n",
      "  clean_titanic['embark_town'].fillna(em_mod, inplace=True)\n"
     ]
    },
    {
     "data": {
      "text/plain": [
       "Series([], dtype: int64)"
      ]
     },
     "execution_count": 53,
     "metadata": {},
     "output_type": "execute_result"
    }
   ],
   "execution_count": 53
  },
  {
   "metadata": {},
   "cell_type": "code",
   "outputs": [],
   "execution_count": null,
   "source": "clean_titanic.to_csv('clean_titanic.csv')",
   "id": "8b559042e9ce899c"
  },
  {
   "metadata": {},
   "cell_type": "markdown",
   "source": [
    "#### Practice1. 다른 데이터셋도 탐색해보기\n",
    "\n",
    "1. `titanic` 데이터셋의 결측치가 어느 열에 얼마나 있는지 확인하기 (복습)\n",
    "2. `penguins` 데이터셋을 로드해서 결측치가 있는 열과 개수를 확인하기"
   ],
   "id": "82934b20f68e8948"
  },
  {
   "metadata": {
    "ExecuteTime": {
     "end_time": "2025-07-29T05:23:17.876743Z",
     "start_time": "2025-07-29T05:23:17.859545Z"
    }
   },
   "cell_type": "code",
   "source": [
    "# penguins 데이터셋 탐색\n",
    "penguins = sns.load_dataset('penguins')\n",
    "penguins.isna().sum()[penguins.isna().sum() > 0]"
   ],
   "id": "fbc7007824ec4380",
   "outputs": [
    {
     "data": {
      "text/plain": [
       "bill_length_mm        2\n",
       "bill_depth_mm         2\n",
       "flipper_length_mm     2\n",
       "body_mass_g           2\n",
       "sex                  11\n",
       "dtype: int64"
      ]
     },
     "execution_count": 7,
     "metadata": {},
     "output_type": "execute_result"
    }
   ],
   "execution_count": 7
  },
  {
   "metadata": {},
   "cell_type": "markdown",
   "source": [
    "### 1.2. 결측치 처리 전략\n",
    "\n",
    "앞서 본 titanic 데이터셋에서 결측치가 나오는 열을 기준으로 적당한 처리 전략을 결정해보자. 열을 드롭해버리거나, 평균값이나 최빈값으로 채우는 방법이 있다."
   ],
   "id": "fe8f2ed5273634f"
  },
  {
   "metadata": {
    "ExecuteTime": {
     "end_time": "2025-07-29T05:23:19.120774Z",
     "start_time": "2025-07-29T05:23:19.105960Z"
    }
   },
   "cell_type": "code",
   "source": "titanic = sns.load_dataset('titanic')",
   "id": "5700d68ab2c5ce79",
   "outputs": [],
   "execution_count": 8
  },
  {
   "metadata": {
    "ExecuteTime": {
     "end_time": "2025-07-29T05:23:34.566653Z",
     "start_time": "2025-07-29T05:23:34.557014Z"
    }
   },
   "cell_type": "code",
   "source": [
    "mean_age = titanic['age'].mean()\n",
    "titanic['age'] = titanic['age'].fillna(mean_age)"
   ],
   "id": "a1f3289d3dbd557f",
   "outputs": [],
   "execution_count": 11
  },
  {
   "metadata": {
    "ExecuteTime": {
     "end_time": "2025-07-29T05:23:42.519270Z",
     "start_time": "2025-07-29T05:23:42.499433Z"
    }
   },
   "cell_type": "code",
   "source": "titanic['embarked'].tail(), titanic['embark_town'].tail()",
   "id": "53748693f317044",
   "outputs": [
    {
     "data": {
      "text/plain": [
       "(886    S\n",
       " 887    S\n",
       " 888    S\n",
       " 889    C\n",
       " 890    Q\n",
       " Name: embarked, dtype: object,\n",
       " 886    Southampton\n",
       " 887    Southampton\n",
       " 888    Southampton\n",
       " 889      Cherbourg\n",
       " 890     Queenstown\n",
       " Name: embark_town, dtype: object)"
      ]
     },
     "execution_count": 12,
     "metadata": {},
     "output_type": "execute_result"
    }
   ],
   "execution_count": 12
  },
  {
   "metadata": {
    "ExecuteTime": {
     "end_time": "2025-07-29T05:23:42.707058Z",
     "start_time": "2025-07-29T05:23:42.701005Z"
    }
   },
   "cell_type": "code",
   "source": "titanic.drop(columns=['embarked'], inplace=True)",
   "id": "f144d93624c33daf",
   "outputs": [],
   "execution_count": 13
  },
  {
   "metadata": {
    "ExecuteTime": {
     "end_time": "2025-07-29T05:23:54.419736Z",
     "start_time": "2025-07-29T05:23:54.413539Z"
    }
   },
   "cell_type": "code",
   "source": [
    "freq = titanic['embark_town'].mode()[0]\n",
    "titanic['embark_town'] = titanic['embark_town'].fillna(freq)"
   ],
   "id": "70ed01bbd9ce088f",
   "outputs": [],
   "execution_count": 15
  },
  {
   "metadata": {
    "ExecuteTime": {
     "end_time": "2025-07-29T05:23:56.575789Z",
     "start_time": "2025-07-29T05:23:56.569082Z"
    }
   },
   "cell_type": "code",
   "source": "titanic.drop(columns=['deck'], inplace=True)",
   "id": "9a6b9b2ac8f19f64",
   "outputs": [],
   "execution_count": 16
  },
  {
   "metadata": {
    "ExecuteTime": {
     "end_time": "2025-07-29T05:23:59.479314Z",
     "start_time": "2025-07-29T05:23:59.463012Z"
    }
   },
   "cell_type": "code",
   "source": [
    "clean_titanic = titanic.copy()\n",
    "clean_titanic.info()"
   ],
   "id": "db077e4001d97a69",
   "outputs": [
    {
     "name": "stdout",
     "output_type": "stream",
     "text": [
      "<class 'pandas.core.frame.DataFrame'>\n",
      "RangeIndex: 891 entries, 0 to 890\n",
      "Data columns (total 13 columns):\n",
      " #   Column       Non-Null Count  Dtype   \n",
      "---  ------       --------------  -----   \n",
      " 0   survived     891 non-null    int64   \n",
      " 1   pclass       891 non-null    int64   \n",
      " 2   sex          891 non-null    object  \n",
      " 3   age          891 non-null    float64 \n",
      " 4   sibsp        891 non-null    int64   \n",
      " 5   parch        891 non-null    int64   \n",
      " 6   fare         891 non-null    float64 \n",
      " 7   class        891 non-null    category\n",
      " 8   who          891 non-null    object  \n",
      " 9   adult_male   891 non-null    bool    \n",
      " 10  embark_town  891 non-null    object  \n",
      " 11  alive        891 non-null    object  \n",
      " 12  alone        891 non-null    bool    \n",
      "dtypes: bool(2), category(1), float64(2), int64(4), object(4)\n",
      "memory usage: 72.5+ KB\n"
     ]
    }
   ],
   "execution_count": 17
  },
  {
   "metadata": {},
   "cell_type": "markdown",
   "source": [
    "#### Practice2. `penguins`에서도 결측치 처리하기\n",
    "\n",
    "`penguins` 데이터셋에서 결측치를 적절한 전략으로 처리해보자."
   ],
   "id": "38655f2a788daec"
  },
  {
   "metadata": {},
   "cell_type": "code",
   "source": [
    "# penguins 결측치 처리\n",
    "penguins = sns.load_dataset('penguins')\n",
    "penguins.info()\n",
    "\n",
    "penguins.dropna(inplace=True)\n",
    "\n",
    "penguins.isna().sum()[penguins.isna().sum() > 0]"
   ],
   "id": "8e7174a6553fa311",
   "outputs": [],
   "execution_count": null
  },
  {
   "metadata": {},
   "cell_type": "code",
   "source": [
    "clean_penguins = penguins.copy()\n",
    "clean_penguins.to_csv('clean_penguins.csv')"
   ],
   "id": "35b89620595cfa91",
   "outputs": [],
   "execution_count": null
  },
  {
   "metadata": {},
   "cell_type": "markdown",
   "source": [
    "### 1.3. 범주형 데이터 숫자 변환 (LabelEncoder 복습)\n",
    "\n",
    "5차시에서 배운 LabelEncoder를 사용해서 범주형 데이터를 숫자로 변환하자. 머신러닝 모델은 숫자만 이해할 수 있기 때문이다."
   ],
   "id": "942f27d4428fd8d1"
  },
  {
   "metadata": {
    "ExecuteTime": {
     "end_time": "2025-08-10T01:49:17.864810Z",
     "start_time": "2025-08-10T01:49:17.841115Z"
    }
   },
   "cell_type": "code",
   "source": [
    "from sklearn.preprocessing import LabelEncoder\n",
    "\n",
    "target_cols = 'sex class who adult_male embark_town alive alone'.split()\n",
    "encoders = {}\n",
    "\n",
    "for col in target_cols:\n",
    "    le = LabelEncoder()\n",
    "    le.fit(clean_titanic[col])\n",
    "    clean_titanic[col] = le.transform(clean_titanic[col])\n",
    "    encoders[col] = le\n",
    "\n",
    "clean_titanic"
   ],
   "id": "fd65a88a02c73103",
   "outputs": [
    {
     "data": {
      "text/plain": [
       "     survived  pclass  sex        age  sibsp  parch     fare  class  who  \\\n",
       "0           0       3    1  22.000000      1      0   7.2500      2    1   \n",
       "1           1       1    0  38.000000      1      0  71.2833      0    2   \n",
       "2           1       3    0  26.000000      0      0   7.9250      2    2   \n",
       "3           1       1    0  35.000000      1      0  53.1000      0    2   \n",
       "4           0       3    1  35.000000      0      0   8.0500      2    1   \n",
       "..        ...     ...  ...        ...    ...    ...      ...    ...  ...   \n",
       "886         0       2    1  27.000000      0      0  13.0000      1    1   \n",
       "887         1       1    0  19.000000      0      0  30.0000      0    2   \n",
       "888         0       3    0  29.699118      1      2  23.4500      2    2   \n",
       "889         1       1    1  26.000000      0      0  30.0000      0    1   \n",
       "890         0       3    1  32.000000      0      0   7.7500      2    1   \n",
       "\n",
       "     adult_male  embark_town  alive  alone  \n",
       "0             1            2      0      0  \n",
       "1             0            0      1      0  \n",
       "2             0            2      1      1  \n",
       "3             0            2      1      0  \n",
       "4             1            2      0      1  \n",
       "..          ...          ...    ...    ...  \n",
       "886           1            2      0      1  \n",
       "887           0            2      1      1  \n",
       "888           0            2      0      0  \n",
       "889           1            0      1      1  \n",
       "890           1            1      0      1  \n",
       "\n",
       "[891 rows x 13 columns]"
      ],
      "text/html": [
       "<div>\n",
       "<style scoped>\n",
       "    .dataframe tbody tr th:only-of-type {\n",
       "        vertical-align: middle;\n",
       "    }\n",
       "\n",
       "    .dataframe tbody tr th {\n",
       "        vertical-align: top;\n",
       "    }\n",
       "\n",
       "    .dataframe thead th {\n",
       "        text-align: right;\n",
       "    }\n",
       "</style>\n",
       "<table border=\"1\" class=\"dataframe\">\n",
       "  <thead>\n",
       "    <tr style=\"text-align: right;\">\n",
       "      <th></th>\n",
       "      <th>survived</th>\n",
       "      <th>pclass</th>\n",
       "      <th>sex</th>\n",
       "      <th>age</th>\n",
       "      <th>sibsp</th>\n",
       "      <th>parch</th>\n",
       "      <th>fare</th>\n",
       "      <th>class</th>\n",
       "      <th>who</th>\n",
       "      <th>adult_male</th>\n",
       "      <th>embark_town</th>\n",
       "      <th>alive</th>\n",
       "      <th>alone</th>\n",
       "    </tr>\n",
       "  </thead>\n",
       "  <tbody>\n",
       "    <tr>\n",
       "      <th>0</th>\n",
       "      <td>0</td>\n",
       "      <td>3</td>\n",
       "      <td>1</td>\n",
       "      <td>22.000000</td>\n",
       "      <td>1</td>\n",
       "      <td>0</td>\n",
       "      <td>7.2500</td>\n",
       "      <td>2</td>\n",
       "      <td>1</td>\n",
       "      <td>1</td>\n",
       "      <td>2</td>\n",
       "      <td>0</td>\n",
       "      <td>0</td>\n",
       "    </tr>\n",
       "    <tr>\n",
       "      <th>1</th>\n",
       "      <td>1</td>\n",
       "      <td>1</td>\n",
       "      <td>0</td>\n",
       "      <td>38.000000</td>\n",
       "      <td>1</td>\n",
       "      <td>0</td>\n",
       "      <td>71.2833</td>\n",
       "      <td>0</td>\n",
       "      <td>2</td>\n",
       "      <td>0</td>\n",
       "      <td>0</td>\n",
       "      <td>1</td>\n",
       "      <td>0</td>\n",
       "    </tr>\n",
       "    <tr>\n",
       "      <th>2</th>\n",
       "      <td>1</td>\n",
       "      <td>3</td>\n",
       "      <td>0</td>\n",
       "      <td>26.000000</td>\n",
       "      <td>0</td>\n",
       "      <td>0</td>\n",
       "      <td>7.9250</td>\n",
       "      <td>2</td>\n",
       "      <td>2</td>\n",
       "      <td>0</td>\n",
       "      <td>2</td>\n",
       "      <td>1</td>\n",
       "      <td>1</td>\n",
       "    </tr>\n",
       "    <tr>\n",
       "      <th>3</th>\n",
       "      <td>1</td>\n",
       "      <td>1</td>\n",
       "      <td>0</td>\n",
       "      <td>35.000000</td>\n",
       "      <td>1</td>\n",
       "      <td>0</td>\n",
       "      <td>53.1000</td>\n",
       "      <td>0</td>\n",
       "      <td>2</td>\n",
       "      <td>0</td>\n",
       "      <td>2</td>\n",
       "      <td>1</td>\n",
       "      <td>0</td>\n",
       "    </tr>\n",
       "    <tr>\n",
       "      <th>4</th>\n",
       "      <td>0</td>\n",
       "      <td>3</td>\n",
       "      <td>1</td>\n",
       "      <td>35.000000</td>\n",
       "      <td>0</td>\n",
       "      <td>0</td>\n",
       "      <td>8.0500</td>\n",
       "      <td>2</td>\n",
       "      <td>1</td>\n",
       "      <td>1</td>\n",
       "      <td>2</td>\n",
       "      <td>0</td>\n",
       "      <td>1</td>\n",
       "    </tr>\n",
       "    <tr>\n",
       "      <th>...</th>\n",
       "      <td>...</td>\n",
       "      <td>...</td>\n",
       "      <td>...</td>\n",
       "      <td>...</td>\n",
       "      <td>...</td>\n",
       "      <td>...</td>\n",
       "      <td>...</td>\n",
       "      <td>...</td>\n",
       "      <td>...</td>\n",
       "      <td>...</td>\n",
       "      <td>...</td>\n",
       "      <td>...</td>\n",
       "      <td>...</td>\n",
       "    </tr>\n",
       "    <tr>\n",
       "      <th>886</th>\n",
       "      <td>0</td>\n",
       "      <td>2</td>\n",
       "      <td>1</td>\n",
       "      <td>27.000000</td>\n",
       "      <td>0</td>\n",
       "      <td>0</td>\n",
       "      <td>13.0000</td>\n",
       "      <td>1</td>\n",
       "      <td>1</td>\n",
       "      <td>1</td>\n",
       "      <td>2</td>\n",
       "      <td>0</td>\n",
       "      <td>1</td>\n",
       "    </tr>\n",
       "    <tr>\n",
       "      <th>887</th>\n",
       "      <td>1</td>\n",
       "      <td>1</td>\n",
       "      <td>0</td>\n",
       "      <td>19.000000</td>\n",
       "      <td>0</td>\n",
       "      <td>0</td>\n",
       "      <td>30.0000</td>\n",
       "      <td>0</td>\n",
       "      <td>2</td>\n",
       "      <td>0</td>\n",
       "      <td>2</td>\n",
       "      <td>1</td>\n",
       "      <td>1</td>\n",
       "    </tr>\n",
       "    <tr>\n",
       "      <th>888</th>\n",
       "      <td>0</td>\n",
       "      <td>3</td>\n",
       "      <td>0</td>\n",
       "      <td>29.699118</td>\n",
       "      <td>1</td>\n",
       "      <td>2</td>\n",
       "      <td>23.4500</td>\n",
       "      <td>2</td>\n",
       "      <td>2</td>\n",
       "      <td>0</td>\n",
       "      <td>2</td>\n",
       "      <td>0</td>\n",
       "      <td>0</td>\n",
       "    </tr>\n",
       "    <tr>\n",
       "      <th>889</th>\n",
       "      <td>1</td>\n",
       "      <td>1</td>\n",
       "      <td>1</td>\n",
       "      <td>26.000000</td>\n",
       "      <td>0</td>\n",
       "      <td>0</td>\n",
       "      <td>30.0000</td>\n",
       "      <td>0</td>\n",
       "      <td>1</td>\n",
       "      <td>1</td>\n",
       "      <td>0</td>\n",
       "      <td>1</td>\n",
       "      <td>1</td>\n",
       "    </tr>\n",
       "    <tr>\n",
       "      <th>890</th>\n",
       "      <td>0</td>\n",
       "      <td>3</td>\n",
       "      <td>1</td>\n",
       "      <td>32.000000</td>\n",
       "      <td>0</td>\n",
       "      <td>0</td>\n",
       "      <td>7.7500</td>\n",
       "      <td>2</td>\n",
       "      <td>1</td>\n",
       "      <td>1</td>\n",
       "      <td>1</td>\n",
       "      <td>0</td>\n",
       "      <td>1</td>\n",
       "    </tr>\n",
       "  </tbody>\n",
       "</table>\n",
       "<p>891 rows × 13 columns</p>\n",
       "</div>"
      ]
     },
     "execution_count": 54,
     "metadata": {},
     "output_type": "execute_result"
    }
   ],
   "execution_count": 54
  },
  {
   "metadata": {
    "ExecuteTime": {
     "end_time": "2025-08-10T01:50:55.442646Z",
     "start_time": "2025-08-10T01:50:55.426359Z"
    }
   },
   "cell_type": "code",
   "source": [
    "prep_titanic = clean_titanic.copy()\n",
    "prep_titanic"
   ],
   "id": "10b3857a3c54e559",
   "outputs": [
    {
     "data": {
      "text/plain": [
       "     survived  pclass  sex        age  sibsp  parch     fare  class  who  \\\n",
       "0           0       3    1  22.000000      1      0   7.2500      2    1   \n",
       "1           1       1    0  38.000000      1      0  71.2833      0    2   \n",
       "2           1       3    0  26.000000      0      0   7.9250      2    2   \n",
       "3           1       1    0  35.000000      1      0  53.1000      0    2   \n",
       "4           0       3    1  35.000000      0      0   8.0500      2    1   \n",
       "..        ...     ...  ...        ...    ...    ...      ...    ...  ...   \n",
       "886         0       2    1  27.000000      0      0  13.0000      1    1   \n",
       "887         1       1    0  19.000000      0      0  30.0000      0    2   \n",
       "888         0       3    0  29.699118      1      2  23.4500      2    2   \n",
       "889         1       1    1  26.000000      0      0  30.0000      0    1   \n",
       "890         0       3    1  32.000000      0      0   7.7500      2    1   \n",
       "\n",
       "     adult_male  embark_town  alive  alone  \n",
       "0             1            2      0      0  \n",
       "1             0            0      1      0  \n",
       "2             0            2      1      1  \n",
       "3             0            2      1      0  \n",
       "4             1            2      0      1  \n",
       "..          ...          ...    ...    ...  \n",
       "886           1            2      0      1  \n",
       "887           0            2      1      1  \n",
       "888           0            2      0      0  \n",
       "889           1            0      1      1  \n",
       "890           1            1      0      1  \n",
       "\n",
       "[891 rows x 13 columns]"
      ],
      "text/html": [
       "<div>\n",
       "<style scoped>\n",
       "    .dataframe tbody tr th:only-of-type {\n",
       "        vertical-align: middle;\n",
       "    }\n",
       "\n",
       "    .dataframe tbody tr th {\n",
       "        vertical-align: top;\n",
       "    }\n",
       "\n",
       "    .dataframe thead th {\n",
       "        text-align: right;\n",
       "    }\n",
       "</style>\n",
       "<table border=\"1\" class=\"dataframe\">\n",
       "  <thead>\n",
       "    <tr style=\"text-align: right;\">\n",
       "      <th></th>\n",
       "      <th>survived</th>\n",
       "      <th>pclass</th>\n",
       "      <th>sex</th>\n",
       "      <th>age</th>\n",
       "      <th>sibsp</th>\n",
       "      <th>parch</th>\n",
       "      <th>fare</th>\n",
       "      <th>class</th>\n",
       "      <th>who</th>\n",
       "      <th>adult_male</th>\n",
       "      <th>embark_town</th>\n",
       "      <th>alive</th>\n",
       "      <th>alone</th>\n",
       "    </tr>\n",
       "  </thead>\n",
       "  <tbody>\n",
       "    <tr>\n",
       "      <th>0</th>\n",
       "      <td>0</td>\n",
       "      <td>3</td>\n",
       "      <td>1</td>\n",
       "      <td>22.000000</td>\n",
       "      <td>1</td>\n",
       "      <td>0</td>\n",
       "      <td>7.2500</td>\n",
       "      <td>2</td>\n",
       "      <td>1</td>\n",
       "      <td>1</td>\n",
       "      <td>2</td>\n",
       "      <td>0</td>\n",
       "      <td>0</td>\n",
       "    </tr>\n",
       "    <tr>\n",
       "      <th>1</th>\n",
       "      <td>1</td>\n",
       "      <td>1</td>\n",
       "      <td>0</td>\n",
       "      <td>38.000000</td>\n",
       "      <td>1</td>\n",
       "      <td>0</td>\n",
       "      <td>71.2833</td>\n",
       "      <td>0</td>\n",
       "      <td>2</td>\n",
       "      <td>0</td>\n",
       "      <td>0</td>\n",
       "      <td>1</td>\n",
       "      <td>0</td>\n",
       "    </tr>\n",
       "    <tr>\n",
       "      <th>2</th>\n",
       "      <td>1</td>\n",
       "      <td>3</td>\n",
       "      <td>0</td>\n",
       "      <td>26.000000</td>\n",
       "      <td>0</td>\n",
       "      <td>0</td>\n",
       "      <td>7.9250</td>\n",
       "      <td>2</td>\n",
       "      <td>2</td>\n",
       "      <td>0</td>\n",
       "      <td>2</td>\n",
       "      <td>1</td>\n",
       "      <td>1</td>\n",
       "    </tr>\n",
       "    <tr>\n",
       "      <th>3</th>\n",
       "      <td>1</td>\n",
       "      <td>1</td>\n",
       "      <td>0</td>\n",
       "      <td>35.000000</td>\n",
       "      <td>1</td>\n",
       "      <td>0</td>\n",
       "      <td>53.1000</td>\n",
       "      <td>0</td>\n",
       "      <td>2</td>\n",
       "      <td>0</td>\n",
       "      <td>2</td>\n",
       "      <td>1</td>\n",
       "      <td>0</td>\n",
       "    </tr>\n",
       "    <tr>\n",
       "      <th>4</th>\n",
       "      <td>0</td>\n",
       "      <td>3</td>\n",
       "      <td>1</td>\n",
       "      <td>35.000000</td>\n",
       "      <td>0</td>\n",
       "      <td>0</td>\n",
       "      <td>8.0500</td>\n",
       "      <td>2</td>\n",
       "      <td>1</td>\n",
       "      <td>1</td>\n",
       "      <td>2</td>\n",
       "      <td>0</td>\n",
       "      <td>1</td>\n",
       "    </tr>\n",
       "    <tr>\n",
       "      <th>...</th>\n",
       "      <td>...</td>\n",
       "      <td>...</td>\n",
       "      <td>...</td>\n",
       "      <td>...</td>\n",
       "      <td>...</td>\n",
       "      <td>...</td>\n",
       "      <td>...</td>\n",
       "      <td>...</td>\n",
       "      <td>...</td>\n",
       "      <td>...</td>\n",
       "      <td>...</td>\n",
       "      <td>...</td>\n",
       "      <td>...</td>\n",
       "    </tr>\n",
       "    <tr>\n",
       "      <th>886</th>\n",
       "      <td>0</td>\n",
       "      <td>2</td>\n",
       "      <td>1</td>\n",
       "      <td>27.000000</td>\n",
       "      <td>0</td>\n",
       "      <td>0</td>\n",
       "      <td>13.0000</td>\n",
       "      <td>1</td>\n",
       "      <td>1</td>\n",
       "      <td>1</td>\n",
       "      <td>2</td>\n",
       "      <td>0</td>\n",
       "      <td>1</td>\n",
       "    </tr>\n",
       "    <tr>\n",
       "      <th>887</th>\n",
       "      <td>1</td>\n",
       "      <td>1</td>\n",
       "      <td>0</td>\n",
       "      <td>19.000000</td>\n",
       "      <td>0</td>\n",
       "      <td>0</td>\n",
       "      <td>30.0000</td>\n",
       "      <td>0</td>\n",
       "      <td>2</td>\n",
       "      <td>0</td>\n",
       "      <td>2</td>\n",
       "      <td>1</td>\n",
       "      <td>1</td>\n",
       "    </tr>\n",
       "    <tr>\n",
       "      <th>888</th>\n",
       "      <td>0</td>\n",
       "      <td>3</td>\n",
       "      <td>0</td>\n",
       "      <td>29.699118</td>\n",
       "      <td>1</td>\n",
       "      <td>2</td>\n",
       "      <td>23.4500</td>\n",
       "      <td>2</td>\n",
       "      <td>2</td>\n",
       "      <td>0</td>\n",
       "      <td>2</td>\n",
       "      <td>0</td>\n",
       "      <td>0</td>\n",
       "    </tr>\n",
       "    <tr>\n",
       "      <th>889</th>\n",
       "      <td>1</td>\n",
       "      <td>1</td>\n",
       "      <td>1</td>\n",
       "      <td>26.000000</td>\n",
       "      <td>0</td>\n",
       "      <td>0</td>\n",
       "      <td>30.0000</td>\n",
       "      <td>0</td>\n",
       "      <td>1</td>\n",
       "      <td>1</td>\n",
       "      <td>0</td>\n",
       "      <td>1</td>\n",
       "      <td>1</td>\n",
       "    </tr>\n",
       "    <tr>\n",
       "      <th>890</th>\n",
       "      <td>0</td>\n",
       "      <td>3</td>\n",
       "      <td>1</td>\n",
       "      <td>32.000000</td>\n",
       "      <td>0</td>\n",
       "      <td>0</td>\n",
       "      <td>7.7500</td>\n",
       "      <td>2</td>\n",
       "      <td>1</td>\n",
       "      <td>1</td>\n",
       "      <td>1</td>\n",
       "      <td>0</td>\n",
       "      <td>1</td>\n",
       "    </tr>\n",
       "  </tbody>\n",
       "</table>\n",
       "<p>891 rows × 13 columns</p>\n",
       "</div>"
      ]
     },
     "execution_count": 57,
     "metadata": {},
     "output_type": "execute_result"
    }
   ],
   "execution_count": 57
  },
  {
   "cell_type": "markdown",
   "id": "8k19uflzaaa",
   "source": [
    "#### Practice3. `preprocessed_titanic`, `preprocessed_penguins` 생성하기\n",
    "\n",
    "전처리 완료된 깨끗한 데이터셋 두 개를 만들어서 나중에 KNN 실습에 사용하자."
   ],
   "metadata": {}
  },
  {
   "metadata": {},
   "cell_type": "code",
   "source": [
    "# 1. clean_titanic 생성 (이미 처리 완료)\n",
    "clean_titanic = titanic.copy()\n",
    "print(\"✅ clean_titanic 생성 완료\")\n",
    "print(f\"   크기: {clean_titanic.shape}\")\n",
    "print(f\"   결측치: {clean_titanic.isna().sum().sum()}개\")\n",
    "print()\n",
    "\n",
    "# 2. clean_penguins 생성\n",
    "clean_penguins = penguins_clean.copy()\n",
    "# penguins의 문자열 컬럼들도 변환\n",
    "penguin_text_cols = ['species', 'island', 'sex']\n",
    "for col in penguin_text_cols:\n",
    "    if col in clean_penguins.columns:\n",
    "        le = LabelEncoder()\n",
    "        clean_penguins[col] = le.fit_transform(clean_penguins[col])\n",
    "\n",
    "print(\"✅ clean_penguins 생성 완료\")\n",
    "print(f\"   크기: {clean_penguins.shape}\")\n",
    "print(f\"   결측치: {clean_penguins.isna().sum().sum()}개\")\n",
    "print()"
   ],
   "id": "173dcab251b8628b",
   "outputs": [],
   "execution_count": null
  },
  {
   "metadata": {},
   "cell_type": "code",
   "source": [
    "# 전처리 완료된 데이터 미리보기\n",
    "print(\"=== clean_titanic ===\")\n",
    "print(clean_titanic.head())\n",
    "print()\n",
    "\n",
    "print(\"=== clean_penguins ===\")\n",
    "print(clean_penguins.head())\n",
    "print()\n"
   ],
   "id": "dfbb92d94ad39d62",
   "outputs": [],
   "execution_count": null
  },
  {
   "cell_type": "markdown",
   "id": "yesugqusx6",
   "source": "## 2. KNN 모델 훈련과 사용, 평가\n\n이제 전처리가 완료된 깨끗한 데이터로 KNN(K-Nearest Neighbors) 알고리즘을 배워보자. KNN은 가장 직관적인 분류 알고리즘 중 하나다.",
   "metadata": {}
  },
  {
   "cell_type": "markdown",
   "id": "88ml4zq3lh9",
   "source": "### 2.1. KNN 기본 개념과 원리\n\nKNN은 \"가장 가까운 이웃들의 투표로 분류하는 직관적인 방법\"이다. \n\n**원리:**\n- 새로운 데이터가 들어오면, 가장 가까운 K개의 이웃을 찾는다\n- 그 K개 이웃들이 어떤 클래스인지 확인한다\n- 다수결로 새로운 데이터의 클래스를 결정한다\n\n**K값의 의미:**\n- K=1: 가장 가까운 1개만 보고 결정 (과적합 위험)\n- K=3: 가장 가까운 3개를 보고 다수결로 결정\n- K=5: 가장 가까운 5개를 보고 다수결로 결정\n- K가 클수록 안정적이지만, 너무 크면 경계가 뭉뚱그려짐\n- **홀수 추천**: 동점을 피하기 위해",
   "metadata": {}
  },
  {
   "cell_type": "markdown",
   "id": "e89hyu51gh",
   "source": "#### Practice1. K값 변화에 따른 영향 생각해보기\n\n만약 당신이 새로운 동네로 이사를 왔다고 생각해보자:\n- K=1: 바로 옆집 1명만 보고 이 동네 분위기를 판단\n- K=5: 가장 가까운 5집을 보고 판단  \n- K=50: 가장 가까운 50집을 보고 판단\n\n어떤 K값이 가장 정확할까? 왜 그럴까?",
   "metadata": {}
  },
  {
   "cell_type": "markdown",
   "id": "quv4soq45j",
   "source": "### 2.2. KNN 모델 선언과 학습\n\n이제 실제로 KNN 모델을 만들어보자. 원본 고차원 데이터로 모델을 학습시키는 것이 중요하다.",
   "metadata": {}
  },
  {
   "cell_type": "code",
   "id": "4waj59xirp4",
   "source": [
    "from sklearn.neighbors import KNeighborsClassifier\n",
    "from sklearn.model_selection import train_test_split\n",
    "\n",
    "xs = prep_titanic.iloc[:, 1:]\n",
    "ys = prep_titanic.iloc[:, 0]\n",
    "\n",
    "from sklearn.model_selection import train_test_split\n",
    "\n",
    "x_train, x_test, y_train, y_test = train_test_split(xs, ys)\n",
    "len(x_train), len(x_test)\n",
    "\n",
    "# KNN 모델 선언\n",
    "from sklearn.neighbors import KNeighborsClassifier\n",
    "\n",
    "knn = KNeighborsClassifier(n_neighbors=7)\n",
    "knn.fit(x_train, y_train)\n",
    "y_pred = knn.predict(x_test)\n",
    "\n"
   ],
   "metadata": {
    "ExecuteTime": {
     "end_time": "2025-08-10T02:12:42.794993Z",
     "start_time": "2025-08-10T02:12:42.766345Z"
    }
   },
   "outputs": [],
   "execution_count": 95
  },
  {
   "metadata": {
    "ExecuteTime": {
     "end_time": "2025-08-10T02:04:23.617716Z",
     "start_time": "2025-08-10T02:04:23.416914Z"
    }
   },
   "cell_type": "code",
   "source": [
    "# 차원 낮춤 - PCA\n",
    "from sklearn.decomposition import PCA\n",
    "pca = PCA(n_components=2)\n",
    "\n",
    "x_train_pca = pca.fit_transform(x_train)\n",
    "x_test_pca = pca.transform(x_test)\n",
    "\n",
    "# y값은 색상\n",
    "import matplotlib.pyplot as plt\n",
    "import koreanize_matplotlib\n",
    "\n",
    "plt.figure(figsize=(12, 8))\n",
    "plt.title('PCA 변환 후 KNN 학습')\n",
    "\n",
    "plt.scatter(\n",
    "    x_train_pca[:, 0], x_train_pca[:, 1],\n",
    "    c=y_train, label='훈련 데이터', alpha=.3, s=10, cmap='jet'\n",
    ")\n",
    "\n",
    "plt.scatter(\n",
    "    x_test_pca[:, 0], x_test_pca[:, 1],\n",
    "    c=y_pred, label='테스트 데이터', s=25, marker='x', cmap='jet'\n",
    ")\n",
    "\n",
    "plt.legend()\n",
    "plt.show()\n",
    "\n",
    "# 정확도(성능평가)\n",
    "from sklearn.metrics import accuracy_score\n",
    "\n",
    "acc = accuracy_score(y_test, y_pred)\n",
    "print(\"정확도\", acc)"
   ],
   "id": "b0912d5baf6cb298",
   "outputs": [
    {
     "data": {
      "text/plain": [
       "<Figure size 1200x800 with 1 Axes>"
      ],
      "image/png": "[encoded data removed]"
     },
     "metadata": {},
     "output_type": "display_data"
    },
    {
     "name": "stdout",
     "output_type": "stream",
     "text": [
      "정확도 0.7174887892376681\n"
     ]
    }
   ],
   "execution_count": 86
  },
  {
   "metadata": {
    "ExecuteTime": {
     "end_time": "2025-08-10T02:09:37.412698Z",
     "start_time": "2025-08-10T02:09:35.972879Z"
    }
   },
   "cell_type": "code",
   "source": [
    "x = clean_titanic.iloc[:, 1:]\n",
    "y = clean_titanic.iloc[:, 0]\n",
    "\n",
    "# tSNE 변환\n",
    "from sklearn.manifold import TSNE\n",
    "\n",
    "tsne = TSNE(n_components=2)\n",
    "tsne_results = tsne.fit_transform(x)\n",
    "\n",
    "x_train, x_test, y_train, y_test = train_test_split(tsne_results, y, test_size=.2)\n",
    "\n",
    "knn_tsne = KNeighborsClassifier(n_neighbors=5)\n",
    "knn_tsne.fit(x_train, y_train)\n",
    "y_pred = knn_tsne.predict(x_test)\n",
    "\n",
    "# 시각화\n",
    "plt.figure(figsize=(12, 8))\n",
    "plt.title('tSNE 변환 후 KNN 학습')\n",
    "plt.scatter(x_train[:, 0], x_train[:, 1], c=y_train,\n",
    "            label='훈련 데이터', s=10, alpha=.3, cmap='jet')\n",
    "\n",
    "plt.scatter(x_test[:, 0], x_test[:, 1], c=y_pred,\n",
    "            label='테스트 데이터', s=50, marker='x', cmap='jet')"
   ],
   "id": "fa251af7853e1428",
   "outputs": [
    {
     "data": {
      "text/plain": [
       "<matplotlib.collections.PathCollection at 0x1e246e71a90>"
      ]
     },
     "execution_count": 90,
     "metadata": {},
     "output_type": "execute_result"
    },
    {
     "data": {
      "text/plain": [
       "<Figure size 1200x800 with 1 Axes>"
      ],
      "image/png": "[encoded data removed]"
     },
     "metadata": {},
     "output_type": "display_data"
    }
   ],
   "execution_count": 90
  },
  {
   "metadata": {
    "ExecuteTime": {
     "end_time": "2025-08-10T02:09:59.352647Z",
     "start_time": "2025-08-10T02:09:59.343936Z"
    }
   },
   "cell_type": "code",
   "source": "accuracy_score(y_test, y_pred)",
   "id": "280aa95f2c9b15c7",
   "outputs": [
    {
     "data": {
      "text/plain": [
       "0.7374301675977654"
      ]
     },
     "execution_count": 92,
     "metadata": {},
     "output_type": "execute_result"
    }
   ],
   "execution_count": 92
  },
  {
   "cell_type": "markdown",
   "id": "qkq3mnuvt3j",
   "source": "#### Practice2. K값을 바꿔가며 성능 비교하기\n\nK=1, K=3, K=7, K=15로 바꿔가며 어떤 K값이 가장 좋은 성능을 보이는지 확인해보자.",
   "metadata": {}
  },
  {
   "cell_type": "code",
   "id": "cv0nhdp7uq8",
   "source": [
    "from sklearn.metrics import accuracy_score\n",
    "\n",
    "# 여러 K값으로 성능 비교\n",
    "k_values = list(range(3, 15, 2))\n",
    "accuracies = []\n",
    "\n",
    "for k in k_values:\n",
    "    knn = KNeighborsClassifier(n_neighbors=k)\n",
    "    knn.fit(x_train, y_train)\n",
    "    y_pred_k = knn.predict(x_test)\n",
    "    accuracy = accuracy_score(y_test, y_pred_k)\n",
    "    accuracies.append(accuracy)\n",
    "    print(f\"K={k}: 정확도 {accuracy:.3f}\")\n",
    "\n",
    "accuracies"
   ],
   "metadata": {
    "ExecuteTime": {
     "end_time": "2025-08-10T02:12:47.524697Z",
     "start_time": "2025-08-10T02:12:47.424498Z"
    }
   },
   "outputs": [
    {
     "name": "stdout",
     "output_type": "stream",
     "text": [
      "K=3: 정확도 0.803\n",
      "K=5: 정확도 0.776\n",
      "K=7: 정확도 0.753\n",
      "K=9: 정확도 0.717\n",
      "K=11: 정확도 0.731\n",
      "K=13: 정확도 0.726\n"
     ]
    },
    {
     "data": {
      "text/plain": [
       "[0.8026905829596412,\n",
       " 0.7757847533632287,\n",
       " 0.7533632286995515,\n",
       " 0.7174887892376681,\n",
       " 0.7309417040358744,\n",
       " 0.726457399103139]"
      ]
     },
     "execution_count": 96,
     "metadata": {},
     "output_type": "execute_result"
    }
   ],
   "execution_count": 96
  },
  {
   "cell_type": "markdown",
   "id": "5063mn8zk8p",
   "source": "### 2.3. KNN 모델 평가 (복습)\n\nML 4차시에서 배운 평가 방법들을 복습해보자. 코드와 결과만 간단히 확인하면 된다.",
   "metadata": {}
  },
  {
   "cell_type": "code",
   "id": "ojsljuqp1v",
   "source": "from sklearn.metrics import accuracy_score, classification_report, confusion_matrix\n\n# 최고 성능 K값으로 최종 모델 생성\nfinal_model = KNeighborsClassifier(n_neighbors=best_k)\nfinal_model.fit(X_train, y_train)\nfinal_pred = final_model.predict(X_test)\n\n# 1. accuracy_score\naccuracy = accuracy_score(y_test, final_pred)\nprint(f\"정확도: {accuracy:.3f}\")\nprint()\n\n# 2. classification_report\nprint(\"분류 리포트:\")\nprint(classification_report(y_test, final_pred))\nprint()\n\n# 3. confusion_matrix\nprint(\"혼동 행렬:\")\nprint(confusion_matrix(y_test, final_pred))",
   "metadata": {},
   "outputs": [],
   "execution_count": null
  },
  {
   "cell_type": "markdown",
   "id": "ywkvsykit4",
   "source": [
    "#### Practice3. clean_penguins, clean_diamonds로도 KNN 실습하기\n",
    "\n",
    "다른 데이터셋으로도 KNN을 실습해보자.\n",
    "- penguins: 종(species) 분류\n"
   ],
   "metadata": {}
  },
  {
   "metadata": {
    "ExecuteTime": {
     "end_time": "2025-08-10T02:14:39.844532Z",
     "start_time": "2025-08-10T02:14:39.753906Z"
    }
   },
   "cell_type": "code",
   "source": [
    "# penguins 로드\n",
    "penguins = sns.load_dataset('penguins')\n",
    "\n",
    "# penguins 전처리\n",
    "\n",
    "\n",
    "# 1. clean_penguins로 종 분류\n",
    "X_penguin = clean_penguins[['bill_length_mm', 'bill_depth_mm', 'flipper_length_mm', 'body_mass_g']]\n",
    "y_penguin = clean_penguins['species']\n",
    "\n",
    "X_train_p, X_test_p, y_train_p, y_test_p = train_test_split(X_penguin, y_penguin, test_size=0.2, random_state=42)\n",
    "\n",
    "knn_penguin = KNeighborsClassifier(n_neighbors=5)\n",
    "knn_penguin.fit(X_train_p, y_train_p)\n",
    "y_pred_p = knn_penguin.predict(X_test_p)\n",
    "\n",
    "print(\"🐧 Penguins 종 분류 결과:\")\n",
    "print(f\"정확도: {accuracy_score(y_test_p, y_pred_p):.3f}\")\n",
    "print()"
   ],
   "id": "80c6f4b7fcac1ff",
   "outputs": [
    {
     "ename": "NameError",
     "evalue": "name 'clean_penguins' is not defined",
     "output_type": "error",
     "traceback": [
      "\u001B[31m---------------------------------------------------------------------------\u001B[39m",
      "\u001B[31mNameError\u001B[39m                                 Traceback (most recent call last)",
      "\u001B[36mCell\u001B[39m\u001B[36m \u001B[39m\u001B[32mIn[97]\u001B[39m\u001B[32m, line 5\u001B[39m\n\u001B[32m      2\u001B[39m penguins = sns.load_dataset(\u001B[33m'\u001B[39m\u001B[33mpenguins\u001B[39m\u001B[33m'\u001B[39m)\n\u001B[32m      4\u001B[39m \u001B[38;5;66;03m# 1. clean_penguins로 종 분류\u001B[39;00m\n\u001B[32m----> \u001B[39m\u001B[32m5\u001B[39m X_penguin = \u001B[43mclean_penguins\u001B[49m[[\u001B[33m'\u001B[39m\u001B[33mbill_length_mm\u001B[39m\u001B[33m'\u001B[39m, \u001B[33m'\u001B[39m\u001B[33mbill_depth_mm\u001B[39m\u001B[33m'\u001B[39m, \u001B[33m'\u001B[39m\u001B[33mflipper_length_mm\u001B[39m\u001B[33m'\u001B[39m, \u001B[33m'\u001B[39m\u001B[33mbody_mass_g\u001B[39m\u001B[33m'\u001B[39m]]\n\u001B[32m      6\u001B[39m y_penguin = clean_penguins[\u001B[33m'\u001B[39m\u001B[33mspecies\u001B[39m\u001B[33m'\u001B[39m]\n\u001B[32m      8\u001B[39m X_train_p, X_test_p, y_train_p, y_test_p = train_test_split(X_penguin, y_penguin, test_size=\u001B[32m0.2\u001B[39m, random_state=\u001B[32m42\u001B[39m)\n",
      "\u001B[31mNameError\u001B[39m: name 'clean_penguins' is not defined"
     ]
    }
   ],
   "execution_count": 97
  },
  {
   "cell_type": "markdown",
   "id": "twgchw7dx7i",
   "source": "## 3. 시각화\n\n제일 중요하다. 그래프를 그릴 줄 알아야 한다. 이번에는 KNN 분류 결과를 시각화해보자.",
   "metadata": {}
  },
  {
   "cell_type": "markdown",
   "id": "xfaj6iq827",
   "source": "### 3.1. KNN 결과 시각화\n\nPCA 차원축소는 시각화 목적으로만 사용한다. 모델 학습은 원본 데이터로, 시각화만 2차원으로 축소해서 보여준다.",
   "metadata": {}
  },
  {
   "cell_type": "code",
   "id": "zsfc6cv03wg",
   "source": "import matplotlib.pyplot as plt\nimport koreanize_matplotlib\nfrom sklearn.decomposition import PCA\n\n# PCA로 2차원 축소 (시각화 목적으로만)\npca = PCA(n_components=2)\nX_test_pca = pca.fit_transform(X_test)\n\n# 분류 결과 시각화\nplt.figure(figsize=(12, 5))\n\n# 왼쪽: 실제값\nplt.subplot(1, 2, 1)\nplt.scatter(X_test_pca[:, 0], X_test_pca[:, 1], c=y_test, cmap='viridis', alpha=0.7)\nplt.title('실제 생존 여부')\nplt.xlabel(f'PC1 ({pca.explained_variance_ratio_[0]:.1%} 설명)')\nplt.ylabel(f'PC2 ({pca.explained_variance_ratio_[1]:.1%} 설명)')\nplt.colorbar(label='생존(1) vs 사망(0)')\n\n# 오른쪽: 예측값\nplt.subplot(1, 2, 2)\nplt.scatter(X_test_pca[:, 0], X_test_pca[:, 1], c=final_pred, cmap='viridis', alpha=0.7)\nplt.title(f'KNN 예측 결과 (K={best_k})')\nplt.xlabel(f'PC1 ({pca.explained_variance_ratio_[0]:.1%} 설명)')\nplt.ylabel(f'PC2 ({pca.explained_variance_ratio_[1]:.1%} 설명)')\nplt.colorbar(label='생존(1) vs 사망(0)')\n\nplt.tight_layout()\nplt.show()",
   "metadata": {},
   "outputs": [],
   "execution_count": null
  },
  {
   "cell_type": "code",
   "id": "dkke0wrhe3a",
   "source": "# K값에 따른 정확도 변화 그래프\nplt.figure(figsize=(10, 6))\nplt.plot(k_values, accuracies, 'bo-', linewidth=2, markersize=8)\nplt.title('K값에 따른 KNN 성능 변화')\nplt.xlabel('K값')\nplt.ylabel('정확도')\nplt.grid(True, alpha=0.3)\n\n# 최고 성능 K값 표시\nplt.axvline(best_k, color='red', linestyle='--', alpha=0.7, label=f'최고 성능 K={best_k}')\nplt.legend()\n\n# 각 점에 정확도 값 표시\nfor k, acc in zip(k_values, accuracies):\n    plt.annotate(f'{acc:.3f}', (k, acc), textcoords=\"offset points\", xytext=(0,10), ha='center')\n\nplt.show()",
   "metadata": {},
   "outputs": [],
   "execution_count": null
  },
  {
   "cell_type": "code",
   "id": "m71wi315wpc",
   "source": "# 혼동행렬 히트맵 시각화\nimport seaborn as sns\n\nplt.figure(figsize=(8, 6))\ncm = confusion_matrix(y_test, final_pred)\nsns.heatmap(cm, annot=True, fmt='d', cmap='Blues', \n            xticklabels=['사망', '생존'], yticklabels=['사망', '생존'])\nplt.title(f'혼동행렬 (K={best_k})')\nplt.xlabel('예측값')\nplt.ylabel('실제값')\nplt.show()\n\nprint(f\"정확도: {accuracy:.3f}\")\nprint(f\"총 {len(y_test)}명 중 {(final_pred == y_test).sum()}명 정확히 예측\")",
   "metadata": {},
   "outputs": [],
   "execution_count": null
  },
  {
   "cell_type": "markdown",
   "id": "xozdb7uov2e",
   "source": "#### Practice4. 세 데이터셋 모두 시각화하기\n\npenguins와 diamonds 데이터도 PCA로 차원축소해서 분류 결과를 시각화해보자.",
   "metadata": {}
  },
  {
   "cell_type": "code",
   "id": "4foad09jvhv",
   "source": "# 세 데이터셋 모두 시각화\nfig, axes = plt.subplots(2, 3, figsize=(15, 10))\n\n# 1. Titanic 시각화\npca_titanic = PCA(n_components=2)\nX_test_titanic_pca = pca_titanic.fit_transform(X_test)\n\naxes[0, 0].scatter(X_test_titanic_pca[:, 0], X_test_titanic_pca[:, 1], c=y_test, cmap='viridis', alpha=0.7)\naxes[0, 0].set_title('Titanic 실제값')\naxes[1, 0].scatter(X_test_titanic_pca[:, 0], X_test_titanic_pca[:, 1], c=final_pred, cmap='viridis', alpha=0.7)\naxes[1, 0].set_title(f'Titanic 예측값 (정확도: {accuracy:.3f})')\n\n# 2. Penguins 시각화\npca_penguin = PCA(n_components=2)\nX_test_penguin_pca = pca_penguin.fit_transform(X_test_p)\n\naxes[0, 1].scatter(X_test_penguin_pca[:, 0], X_test_penguin_pca[:, 1], c=y_test_p, cmap='viridis', alpha=0.7)\naxes[0, 1].set_title('Penguins 실제값')\naxes[1, 1].scatter(X_test_penguin_pca[:, 0], X_test_penguin_pca[:, 1], c=y_pred_p, cmap='viridis', alpha=0.7)\naxes[1, 1].set_title(f'Penguins 예측값 (정확도: {accuracy_score(y_test_p, y_pred_p):.3f})')\n\n# 3. Diamonds 시각화\npca_diamond = PCA(n_components=2)\nX_test_diamond_pca = pca_diamond.fit_transform(X_test_d)\n\naxes[0, 2].scatter(X_test_diamond_pca[:, 0], X_test_diamond_pca[:, 1], c=y_test_d, cmap='viridis', alpha=0.7)\naxes[0, 2].set_title('Diamonds 실제값')\naxes[1, 2].scatter(X_test_diamond_pca[:, 0], X_test_diamond_pca[:, 1], c=y_pred_d, cmap='viridis', alpha=0.7)\naxes[1, 2].set_title(f'Diamonds 예측값 (정확도: {accuracy_score(y_test_d, y_pred_d):.3f})')\n\nplt.tight_layout()\nplt.show()\n\nprint(\"🎉 ML 6. 전처리와 KNN 완료!\")\nprint(\"배운 내용:\")\nprint(\"1. 실제 데이터의 결측치 탐색과 처리\")\nprint(\"2. LabelEncoder로 문자열을 숫자로 변환\")\nprint(\"3. KNN 알고리즘으로 분류 수행\")\nprint(\"4. PCA 차원축소를 통한 시각화\")",
   "metadata": {},
   "outputs": [],
   "execution_count": null
  }
 ],
 "metadata": {
  "kernelspec": {
   "display_name": "Python 3",
   "language": "python",
   "name": "python3"
  },
  "language_info": {
   "codemirror_mode": {
    "name": "ipython",
    "version": 2
   },
   "file_extension": ".py",
   "mimetype": "text/x-python",
   "name": "python",
   "nbconvert_exporter": "python",
   "pygments_lexer": "ipython2",
   "version": "2.7.6"
  }
 },
 "nbformat": 4,
 "nbformat_minor": 5
}
