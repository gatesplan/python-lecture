{
 "cells": [
  {
   "metadata": {},
   "cell_type": "markdown",
   "source": [
    "# 뉴럴 네트워크?\n",
    "\n",
    "이번 강의에서 여러분은 현대 머신러닝의 시작지점인 뉴럴네트워크를 다루는 방법을 배운다."
   ],
   "id": "55a054a5ac875887"
  },
  {
   "metadata": {
    "ExecuteTime": {
     "end_time": "2025-08-07T04:34:33.168652Z",
     "start_time": "2025-08-07T04:34:31.887634Z"
    }
   },
   "cell_type": "code",
   "source": [
    "# 전처리된 타이타닉 데이터셋 로드\n",
    "import pandas as pd\n",
    "titanic = pd.read_csv('clean_titanic.csv', index_col=0)\n",
    "\n",
    "# 라벨 인코딩\n",
    "from sklearn.preprocessing import LabelEncoder\n",
    "encoders = {}\n",
    "for col in titanic.columns:\n",
    "    encoders[col] = LabelEncoder()\n",
    "    encoders[col].fit(titanic[col])\n",
    "    titanic[col] = encoders[col].transform(titanic[col])\n",
    "\n",
    "# xs, ys 분리\n",
    "xs, ys = titanic.drop(columns=['survived']), titanic['survived']\n",
    "\n",
    "# tts\n",
    "from sklearn.model_selection import train_test_split\n",
    "xs_train, xs_test, ys_train, ys_test = train_test_split(xs, ys, test_size=0.2)\n",
    "\n",
    "# 준비 끝!"
   ],
   "id": "cfb2b60fa2e6f1a5",
   "outputs": [],
   "execution_count": 2
  },
  {
   "metadata": {},
   "cell_type": "code",
   "source": "len(xs.columns)",
   "id": "c61702ce9f35f1d5",
   "outputs": [],
   "execution_count": null
  },
  {
   "metadata": {},
   "cell_type": "markdown",
   "source": [
    "## 쉬운 길\n",
    "\n",
    "장난감 만들기"
   ],
   "id": "7f9cdbafb8d47b2"
  },
  {
   "metadata": {
    "ExecuteTime": {
     "end_time": "2025-08-07T04:34:35.400058Z",
     "start_time": "2025-08-07T04:34:34.410179Z"
    }
   },
   "cell_type": "code",
   "source": [
    "from sklearn.neural_network import MLPClassifier\n",
    "\n",
    "## 11 -> 300 -> 300 -> 30 -> 1\n",
    "clf = MLPClassifier(\n",
    "    hidden_layer_sizes=(30, 30, 30),\n",
    "    max_iter=300,\n",
    "    activation='tanh',\n",
    "    solver='adam',\n",
    ")\n",
    "\n",
    "clf.fit(xs_train, ys_train)\n",
    "y_pred = clf.predict(xs_test)\n",
    "\n",
    "# accuracy\n",
    "from sklearn.metrics import accuracy_score\n",
    "accuracy = accuracy_score(ys_test, y_pred)\n",
    "print(f'Accuracy: {accuracy:.2f}')\n"
   ],
   "id": "80f178ba84903c11",
   "outputs": [
    {
     "name": "stdout",
     "output_type": "stream",
     "text": [
      "Accuracy: 0.87\n"
     ]
    },
    {
     "name": "stderr",
     "output_type": "stream",
     "text": [
      "C:\\Users\\catac\\AppData\\Roaming\\Python\\Python313\\site-packages\\sklearn\\neural_network\\_multilayer_perceptron.py:781: ConvergenceWarning: Stochastic Optimizer: Maximum iterations (300) reached and the optimization hasn't converged yet.\n",
      "  warnings.warn(\n"
     ]
    }
   ],
   "execution_count": 3
  },
  {
   "metadata": {},
   "cell_type": "markdown",
   "source": [
    "여러분은 이제부터 Tensor 객체를 다루는 방법을 먼저 배워야 한다.\n",
    "\n",
    "데이터를 Tensor(행렬)로 변환하고, 조작하고 등등의 기본 작업을 수행할 줄 알아야 한다."
   ],
   "id": "a97befc95a11ffce"
  },
  {
   "metadata": {},
   "cell_type": "markdown",
   "source": [
    "## Tensor 선언\n",
    "\n",
    "Tensor(행렬)은 PyTorch의 기본 데이터 구조이다.\n",
    "\n",
    "PyTorch는 Tensor를 사용하여 데이터를 표현하고, 연산을 수행한다.\n",
    "\n",
    "Tensor는 다차원 배열로, NumPy의 ndarray와 유사하며, 이것으로 수치 연산을 수행하고 딥러닝 모델을 구축한다.\n",
    "\n",
    "Tensor는 CPU와 GPU에서 모두 사용할 수 있으며, GPU를 사용하여 연산을 가속화할 수 있다.\n",
    "\n",
    "여기서 우리는 Tensor를 선언하는 기본적인 방법을 배우고, 기존 데이터를 Tensor로 변환할 것이다."
   ],
   "id": "7a79dbefb44e1f68"
  },
  {
   "metadata": {
    "ExecuteTime": {
     "end_time": "2025-08-07T04:38:33.115373Z",
     "start_time": "2025-08-07T04:38:33.109094Z"
    }
   },
   "cell_type": "code",
   "source": [
    "from torch import Tensor\n",
    "from torch import ones, randn, zeros\n",
    "\n",
    "print(Tensor([[2, 3, 3],\n",
    "              [4, 5, -1]]).shape)"
   ],
   "id": "2e76408875bc8553",
   "outputs": [
    {
     "name": "stdout",
     "output_type": "stream",
     "text": [
      "torch.Size([2, 3])\n"
     ]
    }
   ],
   "execution_count": 39
  },
  {
   "metadata": {
    "ExecuteTime": {
     "end_time": "2025-08-07T04:38:14.896299Z",
     "start_time": "2025-08-07T04:38:14.889143Z"
    }
   },
   "cell_type": "code",
   "source": [
    "print(Tensor([1]).shape)\n",
    "print(Tensor([[1]]).shape)\n",
    "print(Tensor([[[1]]]).shape)"
   ],
   "id": "114adecbbff49eaa",
   "outputs": [
    {
     "name": "stdout",
     "output_type": "stream",
     "text": [
      "torch.Size([1])\n",
      "torch.Size([1, 1])\n",
      "torch.Size([1, 1, 1])\n"
     ]
    }
   ],
   "execution_count": 37
  },
  {
   "metadata": {
    "ExecuteTime": {
     "end_time": "2025-08-07T04:39:16.925482Z",
     "start_time": "2025-08-07T04:39:16.909095Z"
    }
   },
   "cell_type": "code",
   "source": [
    "# 2x2 tensor 생성\n",
    "print(Tensor([[1, 2],\n",
    "              [3, 4]]))\n",
    "\n",
    "# 4x2 tensor 생성\n",
    "print(Tensor([[1, 2],\n",
    "              [3, 4],\n",
    "              [5, 6],\n",
    "              [7, 8]]))"
   ],
   "id": "cf3d05c8c8a31ea7",
   "outputs": [
    {
     "name": "stdout",
     "output_type": "stream",
     "text": [
      "tensor([[1., 2.],\n",
      "        [3., 4.]])\n",
      "tensor([[1., 2.],\n",
      "        [3., 4.],\n",
      "        [5., 6.],\n",
      "        [7., 8.]])\n"
     ]
    }
   ],
   "execution_count": 40
  },
  {
   "metadata": {},
   "cell_type": "markdown",
   "source": [
    "계속 이렇게 만들어야 하나요?\n",
    "\n",
    "**네**"
   ],
   "id": "a22602aa1d7a5382"
  },
  {
   "metadata": {
    "ExecuteTime": {
     "end_time": "2025-08-07T04:43:16.011413Z",
     "start_time": "2025-08-07T04:43:16.005869Z"
    }
   },
   "cell_type": "code",
   "source": [
    "# 빈 tensor 만들기\n",
    "from torch import zeros, ones, randn\n",
    "\n",
    "# 2x2 tensor zerofill\n",
    "print(zeros(2, 2))"
   ],
   "id": "9afc5c9e785ae58",
   "outputs": [
    {
     "name": "stdout",
     "output_type": "stream",
     "text": [
      "tensor([[0., 0.],\n",
      "        [0., 0.]])\n"
     ]
    }
   ],
   "execution_count": 50
  },
  {
   "metadata": {
    "ExecuteTime": {
     "end_time": "2025-08-07T04:43:19.692385Z",
     "start_time": "2025-08-07T04:43:19.677733Z"
    }
   },
   "cell_type": "code",
   "source": [
    "# 1로 채워진 tensor 만들기\n",
    "print(ones(2, 2))\n",
    "\n",
    "# 4x2x6 tensor 생성\n",
    "print(ones(4, 2, 6))"
   ],
   "id": "ef86c99c1be911b",
   "outputs": [
    {
     "name": "stdout",
     "output_type": "stream",
     "text": [
      "tensor([[1., 1.],\n",
      "        [1., 1.]])\n",
      "tensor([[[1., 1., 1., 1., 1., 1.],\n",
      "         [1., 1., 1., 1., 1., 1.]],\n",
      "\n",
      "        [[1., 1., 1., 1., 1., 1.],\n",
      "         [1., 1., 1., 1., 1., 1.]],\n",
      "\n",
      "        [[1., 1., 1., 1., 1., 1.],\n",
      "         [1., 1., 1., 1., 1., 1.]],\n",
      "\n",
      "        [[1., 1., 1., 1., 1., 1.],\n",
      "         [1., 1., 1., 1., 1., 1.]]])\n"
     ]
    }
   ],
   "execution_count": 51
  },
  {
   "metadata": {
    "ExecuteTime": {
     "end_time": "2025-08-07T04:43:39.471982Z",
     "start_time": "2025-08-07T04:43:39.463188Z"
    }
   },
   "cell_type": "code",
   "source": [
    "# 랜덤한 값으로 채워진 tensor 만들기\n",
    "print(randn(3, 6))"
   ],
   "id": "61722611ed229e3d",
   "outputs": [
    {
     "name": "stdout",
     "output_type": "stream",
     "text": [
      "tensor([[-0.1164, -1.8869,  0.1259, -1.5040, -0.3281, -0.1288],\n",
      "        [-1.5946,  0.5637, -1.7794, -0.9208, -0.6846,  0.6163],\n",
      "        [-0.2088, -0.8003, -0.9282,  2.3892, -0.9549,  0.8996]])\n"
     ]
    }
   ],
   "execution_count": 53
  },
  {
   "metadata": {
    "ExecuteTime": {
     "end_time": "2025-08-07T04:45:17.753216Z",
     "start_time": "2025-08-07T04:45:17.729966Z"
    }
   },
   "cell_type": "code",
   "source": [
    "print(type(xs_train))\n",
    "print(type(xs_train.values))\n",
    "print(type(Tensor(xs_train.values)))\n",
    "\n",
    "Tensor(xs_train.values)"
   ],
   "id": "5eb96add88dadcd2",
   "outputs": [
    {
     "name": "stdout",
     "output_type": "stream",
     "text": [
      "<class 'pandas.core.frame.DataFrame'>\n",
      "<class 'numpy.ndarray'>\n",
      "<class 'torch.Tensor'>\n"
     ]
    },
    {
     "data": {
      "text/plain": [
       "tensor([[ 2.,  1., 36.,  ...,  1.,  2.,  1.],\n",
       "        [ 0.,  1., 78.,  ...,  1.,  2.,  1.],\n",
       "        [ 2.,  0., 39.,  ...,  0.,  1.,  1.],\n",
       "        ...,\n",
       "        [ 0.,  1., 65.,  ...,  1.,  0.,  0.],\n",
       "        [ 2.,  1., 24.,  ...,  1.,  2.,  1.],\n",
       "        [ 2.,  1., 29.,  ...,  1.,  2.,  1.]])"
      ]
     },
     "execution_count": 61,
     "metadata": {},
     "output_type": "execute_result"
    }
   ],
   "execution_count": 61
  },
  {
   "metadata": {},
   "cell_type": "markdown",
   "source": [
    "## 텐서 연산\n",
    "\n",
    "두 텐서간의 연산을 지원한다."
   ],
   "id": "c611127ebfbac0e6"
  },
  {
   "metadata": {
    "ExecuteTime": {
     "end_time": "2025-08-07T04:46:45.323785Z",
     "start_time": "2025-08-07T04:46:45.309577Z"
    }
   },
   "cell_type": "code",
   "source": [
    "t1 = Tensor([[1, 2],\n",
    "             [3, 4]])\n",
    "t1"
   ],
   "id": "8f0da7832bb315e7",
   "outputs": [
    {
     "data": {
      "text/plain": [
       "tensor([[1., 2.],\n",
       "        [3., 4.]])"
      ]
     },
     "execution_count": 70,
     "metadata": {},
     "output_type": "execute_result"
    }
   ],
   "execution_count": 70
  },
  {
   "metadata": {
    "ExecuteTime": {
     "end_time": "2025-08-07T04:46:47.325260Z",
     "start_time": "2025-08-07T04:46:47.312281Z"
    }
   },
   "cell_type": "code",
   "source": [
    "# 스칼라 덧셈, 뺄셈, 곱셈, 나눗셈\n",
    "t1 + 1, t1 - 1, t1 * 2, t1 / 2"
   ],
   "id": "ce029eeb4d5e8b87",
   "outputs": [
    {
     "data": {
      "text/plain": [
       "(tensor([[2., 3.],\n",
       "         [4., 5.]]),\n",
       " tensor([[0., 1.],\n",
       "         [2., 3.]]),\n",
       " tensor([[2., 4.],\n",
       "         [6., 8.]]),\n",
       " tensor([[0.5000, 1.0000],\n",
       "         [1.5000, 2.0000]]))"
      ]
     },
     "execution_count": 71,
     "metadata": {},
     "output_type": "execute_result"
    }
   ],
   "execution_count": 71
  },
  {
   "metadata": {
    "ExecuteTime": {
     "end_time": "2025-08-07T04:47:29.862408Z",
     "start_time": "2025-08-07T04:47:29.852828Z"
    }
   },
   "cell_type": "code",
   "source": [
    "vec = Tensor([-2])\n",
    "\n",
    "t1 / vec"
   ],
   "id": "857a72cee08cb339",
   "outputs": [
    {
     "data": {
      "text/plain": [
       "tensor([[-0.5000, -1.0000],\n",
       "        [-1.5000, -2.0000]])"
      ]
     },
     "execution_count": 77,
     "metadata": {},
     "output_type": "execute_result"
    }
   ],
   "execution_count": 77
  },
  {
   "metadata": {
    "ExecuteTime": {
     "end_time": "2025-08-07T04:50:26.419675Z",
     "start_time": "2025-08-07T04:50:26.413466Z"
    }
   },
   "cell_type": "code",
   "source": [
    "# 벡터곱\n",
    "vec = Tensor([1, -1])\n",
    "\n",
    "t2 = Tensor([[1, 2, 3],\n",
    "             [4, 5, 6]])\n",
    "t3 = Tensor([1, 2, 3])\n",
    "t2.shape, t3.shape"
   ],
   "id": "f6eefd4de82f99b8",
   "outputs": [
    {
     "data": {
      "text/plain": [
       "(torch.Size([2, 3]), torch.Size([3]))"
      ]
     },
     "execution_count": 86,
     "metadata": {},
     "output_type": "execute_result"
    }
   ],
   "execution_count": 86
  },
  {
   "metadata": {
    "ExecuteTime": {
     "end_time": "2025-08-07T04:51:13.191395Z",
     "start_time": "2025-08-07T04:51:13.182037Z"
    }
   },
   "cell_type": "code",
   "source": [
    "# 같은 크기\n",
    "t2 = Tensor([[1, -1],\n",
    "             [2, -2]])\n",
    "\n",
    "t1 / t2"
   ],
   "id": "a54be81b9620f537",
   "outputs": [
    {
     "data": {
      "text/plain": [
       "tensor([[ 1.0000, -2.0000],\n",
       "        [ 1.5000, -2.0000]])"
      ]
     },
     "execution_count": 89,
     "metadata": {},
     "output_type": "execute_result"
    }
   ],
   "execution_count": 89
  },
  {
   "metadata": {
    "ExecuteTime": {
     "end_time": "2025-08-07T04:53:30.311377Z",
     "start_time": "2025-08-07T04:53:30.304162Z"
    }
   },
   "cell_type": "code",
   "source": [
    "# 컴까기\n",
    "t4 = ones(4, 2, 3)\n",
    "t4.shape"
   ],
   "id": "cf8137f1a04a90e8",
   "outputs": [
    {
     "data": {
      "text/plain": [
       "torch.Size([4, 2, 3])"
      ]
     },
     "execution_count": 97,
     "metadata": {},
     "output_type": "execute_result"
    }
   ],
   "execution_count": 97
  },
  {
   "metadata": {
    "ExecuteTime": {
     "end_time": "2025-08-07T04:53:58.598050Z",
     "start_time": "2025-08-07T04:53:58.590298Z"
    }
   },
   "cell_type": "code",
   "source": [
    "t5 = Tensor([[[1, 2, 3],\n",
    "             [4, 5, 6]],\n",
    "\n",
    "             [[-1, -2, -3],\n",
    "             [-4, -5, -6]]])\n",
    "t5.shape"
   ],
   "id": "75ed4e111a1d7336",
   "outputs": [
    {
     "data": {
      "text/plain": [
       "torch.Size([2, 2, 3])"
      ]
     },
     "execution_count": 99,
     "metadata": {},
     "output_type": "execute_result"
    }
   ],
   "execution_count": 99
  },
  {
   "metadata": {
    "ExecuteTime": {
     "end_time": "2025-08-07T05:02:15.144861Z",
     "start_time": "2025-08-07T05:02:15.140092Z"
    }
   },
   "cell_type": "code",
   "source": "(t4.reshape(-1, 2, 2, 3) * t5).reshape(-1, 2, 3).shape",
   "id": "4a3d9bd792e1f9b",
   "outputs": [
    {
     "data": {
      "text/plain": [
       "torch.Size([4, 2, 3])"
      ]
     },
     "execution_count": 128,
     "metadata": {},
     "output_type": "execute_result"
    }
   ],
   "execution_count": 128
  },
  {
   "metadata": {
    "ExecuteTime": {
     "end_time": "2025-08-07T05:03:03.875395Z",
     "start_time": "2025-08-07T05:03:03.866770Z"
    }
   },
   "cell_type": "code",
   "source": "t6 = ones(7)",
   "id": "f1fe52271f286560",
   "outputs": [
    {
     "data": {
      "text/plain": [
       "tensor([[1., 1., 1.],\n",
       "        [1., 1., 1.]])"
      ]
     },
     "execution_count": 132,
     "metadata": {},
     "output_type": "execute_result"
    }
   ],
   "execution_count": 132
  },
  {
   "metadata": {},
   "cell_type": "code",
   "source": "t1.matmul(t2)  # 행렬 곱셈",
   "id": "a6166994c87e1da8",
   "outputs": [],
   "execution_count": null
  },
  {
   "metadata": {},
   "cell_type": "code",
   "source": [
    "# 다른 크기\n",
    "t3 = Tensor([[1, 2],\n",
    "             [3, 4],\n",
    "             [5, 6],\n",
    "             [7, 8]])\n",
    "\n",
    "t1 + t3, t1 - t3, t1 * t3, t1 / t3  # 브로드캐스팅 실패"
   ],
   "id": "a40b75237e4d84d6",
   "outputs": [],
   "execution_count": null
  },
  {
   "metadata": {},
   "cell_type": "markdown",
   "source": [
    "## `Tensor.reshape(d, i, m, e, n, s, i, o, n)`\n",
    "\n",
    "Tensor.reshape()`Tensor.reshape()`Tensor.reshape()`Tensor.reshape()`Tensor.reshape()`Tensor.reshape()`Tensor.reshape()`Tensor.reshape()`Tensor.reshape()`Tensor.reshape()`\n",
    "Tensor.reshape()`Tensor.reshape()`Tensor.reshape()`Tensor.reshape()`Tensor.reshape()`Tensor.reshape()`Tensor.reshape()`Tensor.reshape()`Tensor.reshape()`Tensor.reshape()`\n",
    "Tensor.reshape()`Tensor.reshape()`Tensor.reshape()`Tensor.reshape()`Tensor.reshape()`Tensor.reshape()`Tensor.reshape()`Tensor.reshape()`Tensor.reshape()`Tensor.reshape()`\n",
    "Tensor.reshape()`Tensor.reshape()`Tensor.reshape()`Tensor.reshape()`Tensor.reshape()`Tensor.reshape()`Tensor.reshape()`Tensor.reshape()`Tensor.reshape()`Tensor.reshape()`\n",
    "Tensor.reshape()`Tensor.reshape()`Tensor.reshape()`Tensor.reshape()`Tensor.reshape()`Tensor.reshape()`Tensor.reshape()`Tensor.reshape()`Tensor.reshape()`Tensor.reshape()`\n",
    "Tensor.reshape()`Tensor.reshape()`Tensor.reshape()`Tensor.reshape()`Tensor.reshape()`Tensor.reshape()`Tensor.reshape()`Tensor.reshape()`Tensor.reshape()`Tensor.reshape()`\n",
    "Tensor.reshape()`Tensor.reshape()`Tensor.reshape()`Tensor.reshape()`Tensor.reshape()`Tensor.reshape()`Tensor.reshape()`Tensor.reshape()`Tensor.reshape()`Tensor.reshape()`\n",
    "Tensor.reshape()`Tensor.reshape()`Tensor.reshape()`Tensor.reshape()`Tensor.reshape()`Tensor.reshape()`Tensor.reshape()`Tensor.reshape()`Tensor.reshape()`Tensor.reshape()`\n",
    "Tensor.reshape()`Tensor.reshape()`Tensor.reshape()`Tensor.reshape()`Tensor.reshape()`Tensor.reshape()`Tensor.reshape()`Tensor.reshape()`Tensor.reshape()`Tensor.reshape()`\n",
    "Tensor.reshape()`Tensor.reshape()`Tensor.reshape()`Tensor.reshape()`Tensor.reshape()`Tensor.reshape()`Tensor.reshape()`Tensor.reshape()`Tensor.reshape()`Tensor.reshape()`\n",
    "Tensor.reshape()`Tensor.reshape()`Tensor.reshape()`Tensor.reshape()`Tensor.reshape()`Tensor.reshape()`Tensor.reshape()`Tensor.reshape()`Tensor.reshape()`Tensor.reshape()`\n",
    "Tensor.reshape()`Tensor.reshape()`Tensor.reshape()`Tensor.reshape()`Tensor.reshape()`Tensor.reshape()`Tensor.reshape()`Tensor.reshape()`Tensor.reshape()`Tensor.reshape()`\n",
    "Tensor.reshape()`Tensor.reshape()`Tensor.reshape()`Tensor.reshape()`Tensor.reshape()`Tensor.reshape()`Tensor.reshape()`Tensor.reshape()`Tensor.reshape()`Tensor.reshape()`\n",
    "Tensor.reshape()`Tensor.reshape()`Tensor.reshape()`Tensor.reshape()`Tensor.reshape()`Tensor.reshape()`Tensor.reshape()`Tensor.reshape()`Tensor.reshape()`Tensor.reshape()`\n",
    "Tensor.reshape()`Tensor.reshape()`Tensor.reshape()`Tensor.reshape()`Tensor.reshape()`Tensor.reshape()`Tensor.reshape()`Tensor.reshape()`Tensor.reshape()`Tensor.reshape()`\n",
    "Tensor.reshape()`Tensor.reshape()`Tensor.reshape()`Tensor.reshape()`Tensor.reshape()`Tensor.reshape()`Tensor.reshape()`Tensor.reshape()`Tensor.reshape()`Tensor.reshape()`\n",
    "Tensor.reshape()`Tensor.reshape()`Tensor.reshape()`Tensor.reshape()`Tensor.reshape()`Tensor.reshape()`Tensor.reshape()`Tensor.reshape()`Tensor.reshape()`Tensor.reshape()`\n",
    "Tensor.reshape()`Tensor.reshape()`Tensor.reshape()`Tensor.reshape()`Tensor.reshape()`Tensor.reshape()`Tensor.reshape()`Tensor.reshape()`Tensor.reshape()`Tensor.reshape()`\n",
    "중요함"
   ],
   "id": "f0f904ce773235a0"
  },
  {
   "metadata": {
    "ExecuteTime": {
     "end_time": "2025-08-07T04:55:30.036765Z",
     "start_time": "2025-08-07T04:55:30.028792Z"
    }
   },
   "cell_type": "code",
   "source": [
    "# reshape (재구성)\n",
    "t = Tensor([[1, 2],\n",
    "            [3, 4],\n",
    "            [5, 6]])\n",
    "print(t)"
   ],
   "id": "a0fbc95be85b4376",
   "outputs": [
    {
     "name": "stdout",
     "output_type": "stream",
     "text": [
      "tensor([[1., 2.],\n",
      "        [3., 4.],\n",
      "        [5., 6.]])\n"
     ]
    }
   ],
   "execution_count": 101
  },
  {
   "metadata": {
    "ExecuteTime": {
     "end_time": "2025-08-07T04:55:34.139455Z",
     "start_time": "2025-08-07T04:55:34.119707Z"
    }
   },
   "cell_type": "code",
   "source": "t.flatten()  # 1차원으로 평탄화",
   "id": "e1d4b05a8fbb5429",
   "outputs": [
    {
     "data": {
      "text/plain": [
       "tensor([1., 2., 3., 4., 5., 6.])"
      ]
     },
     "execution_count": 102,
     "metadata": {},
     "output_type": "execute_result"
    }
   ],
   "execution_count": 102
  },
  {
   "metadata": {
    "ExecuteTime": {
     "end_time": "2025-08-07T04:56:18.686589Z",
     "start_time": "2025-08-07T04:56:18.651224Z"
    }
   },
   "cell_type": "code",
   "source": "t.reshape(1, 2, 1, 2, 3)",
   "id": "6dc52c88968b691f",
   "outputs": [
    {
     "ename": "RuntimeError",
     "evalue": "shape '[1, 2, 1, 2, 3]' is invalid for input of size 6",
     "output_type": "error",
     "traceback": [
      "\u001B[31m---------------------------------------------------------------------------\u001B[39m",
      "\u001B[31mRuntimeError\u001B[39m                              Traceback (most recent call last)",
      "\u001B[36mCell\u001B[39m\u001B[36m \u001B[39m\u001B[32mIn[107]\u001B[39m\u001B[32m, line 1\u001B[39m\n\u001B[32m----> \u001B[39m\u001B[32m1\u001B[39m \u001B[43mt\u001B[49m\u001B[43m.\u001B[49m\u001B[43mreshape\u001B[49m\u001B[43m(\u001B[49m\u001B[32;43m1\u001B[39;49m\u001B[43m,\u001B[49m\u001B[43m \u001B[49m\u001B[32;43m2\u001B[39;49m\u001B[43m,\u001B[49m\u001B[43m \u001B[49m\u001B[32;43m1\u001B[39;49m\u001B[43m,\u001B[49m\u001B[43m \u001B[49m\u001B[32;43m2\u001B[39;49m\u001B[43m,\u001B[49m\u001B[43m \u001B[49m\u001B[32;43m3\u001B[39;49m\u001B[43m)\u001B[49m\n",
      "\u001B[31mRuntimeError\u001B[39m: shape '[1, 2, 1, 2, 3]' is invalid for input of size 6"
     ]
    }
   ],
   "execution_count": 107
  },
  {
   "metadata": {
    "ExecuteTime": {
     "end_time": "2025-08-07T04:59:09.714077Z",
     "start_time": "2025-08-07T04:59:09.707957Z"
    }
   },
   "cell_type": "code",
   "source": [
    "t = ones(3, 4, 5, 2, 3)\n",
    "t.reshape(10, -1).shape"
   ],
   "id": "253542bbdac60820",
   "outputs": [
    {
     "data": {
      "text/plain": [
       "torch.Size([10, 36])"
      ]
     },
     "execution_count": 117,
     "metadata": {},
     "output_type": "execute_result"
    }
   ],
   "execution_count": 117
  },
  {
   "metadata": {
    "ExecuteTime": {
     "end_time": "2025-08-07T04:59:16.285669Z",
     "start_time": "2025-08-07T04:59:16.267679Z"
    }
   },
   "cell_type": "code",
   "source": "t.reshape(3, -1)  # 3행, 열은 되는데로",
   "id": "3e4370310b99f9d8",
   "outputs": [
    {
     "data": {
      "text/plain": [
       "tensor([[1., 1., 1., 1., 1., 1., 1., 1., 1., 1., 1., 1., 1., 1., 1., 1., 1., 1.,\n",
       "         1., 1., 1., 1., 1., 1., 1., 1., 1., 1., 1., 1., 1., 1., 1., 1., 1., 1.,\n",
       "         1., 1., 1., 1., 1., 1., 1., 1., 1., 1., 1., 1., 1., 1., 1., 1., 1., 1.,\n",
       "         1., 1., 1., 1., 1., 1., 1., 1., 1., 1., 1., 1., 1., 1., 1., 1., 1., 1.,\n",
       "         1., 1., 1., 1., 1., 1., 1., 1., 1., 1., 1., 1., 1., 1., 1., 1., 1., 1.,\n",
       "         1., 1., 1., 1., 1., 1., 1., 1., 1., 1., 1., 1., 1., 1., 1., 1., 1., 1.,\n",
       "         1., 1., 1., 1., 1., 1., 1., 1., 1., 1., 1., 1.],\n",
       "        [1., 1., 1., 1., 1., 1., 1., 1., 1., 1., 1., 1., 1., 1., 1., 1., 1., 1.,\n",
       "         1., 1., 1., 1., 1., 1., 1., 1., 1., 1., 1., 1., 1., 1., 1., 1., 1., 1.,\n",
       "         1., 1., 1., 1., 1., 1., 1., 1., 1., 1., 1., 1., 1., 1., 1., 1., 1., 1.,\n",
       "         1., 1., 1., 1., 1., 1., 1., 1., 1., 1., 1., 1., 1., 1., 1., 1., 1., 1.,\n",
       "         1., 1., 1., 1., 1., 1., 1., 1., 1., 1., 1., 1., 1., 1., 1., 1., 1., 1.,\n",
       "         1., 1., 1., 1., 1., 1., 1., 1., 1., 1., 1., 1., 1., 1., 1., 1., 1., 1.,\n",
       "         1., 1., 1., 1., 1., 1., 1., 1., 1., 1., 1., 1.],\n",
       "        [1., 1., 1., 1., 1., 1., 1., 1., 1., 1., 1., 1., 1., 1., 1., 1., 1., 1.,\n",
       "         1., 1., 1., 1., 1., 1., 1., 1., 1., 1., 1., 1., 1., 1., 1., 1., 1., 1.,\n",
       "         1., 1., 1., 1., 1., 1., 1., 1., 1., 1., 1., 1., 1., 1., 1., 1., 1., 1.,\n",
       "         1., 1., 1., 1., 1., 1., 1., 1., 1., 1., 1., 1., 1., 1., 1., 1., 1., 1.,\n",
       "         1., 1., 1., 1., 1., 1., 1., 1., 1., 1., 1., 1., 1., 1., 1., 1., 1., 1.,\n",
       "         1., 1., 1., 1., 1., 1., 1., 1., 1., 1., 1., 1., 1., 1., 1., 1., 1., 1.,\n",
       "         1., 1., 1., 1., 1., 1., 1., 1., 1., 1., 1., 1.]])"
      ]
     },
     "execution_count": 118,
     "metadata": {},
     "output_type": "execute_result"
    }
   ],
   "execution_count": 118
  },
  {
   "metadata": {
    "ExecuteTime": {
     "end_time": "2025-08-07T05:05:39.920457Z",
     "start_time": "2025-08-07T05:05:39.913288Z"
    }
   },
   "cell_type": "code",
   "source": [
    "xs_train_tensor = Tensor(xs_train.values)\n",
    "xs_test_tensor = Tensor(xs_test.values)\n",
    "ys_train_tensor = Tensor(ys_train.values)\n",
    "ys_test_tensor = Tensor(ys_test.values)"
   ],
   "id": "1b19e5342d0e8f1f",
   "outputs": [],
   "execution_count": 135
  },
  {
   "metadata": {
    "ExecuteTime": {
     "end_time": "2025-08-07T05:24:51.912638Z",
     "start_time": "2025-08-07T05:24:51.906970Z"
    }
   },
   "cell_type": "code",
   "source": [
    "from torch.utils.data import DataLoader, TensorDataset\n",
    "\n",
    "train_dataset = TensorDataset(\n",
    "    xs_train_tensor, ys_train_tensor\n",
    ")  # 훈련용 x, y값을 묶어서 데이터셋 생성\n",
    "\n",
    "for_train = DataLoader(\n",
    "    train_dataset, batch_size=32, shuffle=True\n",
    ")"
   ],
   "id": "8f5b65dbee2493c8",
   "outputs": [],
   "execution_count": 141
  },
  {
   "metadata": {},
   "cell_type": "markdown",
   "source": [
    "## Practice 1.\n",
    "\n",
    "1. `clean_?` 데이터셋에서 분리한 xs_train, xs_test, ys_train, ys_test를 각각 Tensor로 변환한다.\n",
    "2. xs_train, ys_train을 DataLoader에 전달하여 배치 크기 32짜리 훈련 데이터셋을 만든다."
   ],
   "id": "6269ce88f804086e"
  },
  {
   "metadata": {},
   "cell_type": "markdown",
   "source": [
    "## 네트워크 생성\n",
    "\n",
    "이제 여러분은 Tensor를 다루는 방법을 배웠다.\n",
    "\n",
    "이제는 뉴럴 네트워크를 생성하는 방법을 배워야 한다.\n",
    "\n",
    "이 단계에서 배우는 두 가지 개념은 **레이어**와 **층**이다."
   ],
   "id": "9cb014ff1892173f"
  },
  {
   "metadata": {
    "ExecuteTime": {
     "end_time": "2025-08-07T06:10:20.105055Z",
     "start_time": "2025-08-07T06:10:20.094243Z"
    }
   },
   "cell_type": "code",
   "source": [
    "from torch import nn\n",
    "\n",
    "from sklearn.preprocessing import LabelEncoder\n",
    "\n",
    "le = LabelEncoder()\n",
    "\n",
    "class TitanicModel(nn.Module):\n",
    "    def __init__(self):\n",
    "        super(TitanicModel, self).__init__()\n",
    "\n",
    "        self.a = nn.Linear(11, 30)\n",
    "        self.b = nn.Linear(30, 20)\n",
    "        self.c = nn.Linear(20, 1)\n",
    "\n",
    "tm = TitanicModel()\n",
    "tm"
   ],
   "id": "b1c7d4eca9b5641e",
   "outputs": [
    {
     "data": {
      "text/plain": [
       "TitanicModel(\n",
       "  (a): Linear(in_features=11, out_features=30, bias=True)\n",
       "  (b): Linear(in_features=30, out_features=20, bias=True)\n",
       "  (c): Linear(in_features=20, out_features=1, bias=True)\n",
       ")"
      ]
     },
     "execution_count": 150,
     "metadata": {},
     "output_type": "execute_result"
    }
   ],
   "execution_count": 150
  },
  {
   "metadata": {},
   "cell_type": "code",
   "source": [
    "# 4개의 값을 받아 1개의 값을 출력하는 모델을 정의한다.\n",
    "# 4->10->10->1 총 3층으로 이뤄진 모델\n",
    "\n",
    "class ModelAlpha(nn.Module):\n",
    "    def __init__(self):\n",
    "        super(ModelAlpha, self).__init__()\n",
    "\n",
    "        self.lin_input = nn.Linear(4, 10)\n",
    "        self.lin_2 = nn.Linear(10, 10)\n",
    "        self.lin_output = nn.Linear(10, 1)\n"
   ],
   "id": "58a158e20dc3121",
   "outputs": [],
   "execution_count": null
  },
  {
   "metadata": {},
   "cell_type": "code",
   "source": [
    "# 4개 값을 받아 3개의 값을 출력하는 모델을 정의한다.\n",
    "# 4->20->30->20->3 총 4층으로 이뤄진 모델\n",
    "\n",
    "class ModelBravo(nn.Module):\n",
    "    def __init__(self):\n",
    "        super(ModelBravo, self).__init__()\n",
    "\n",
    "        self.l1 = nn.Linear(4, 20)\n",
    "        self.l2 = nn.Linear(20, 30)\n",
    "        self.l3 = nn.Linear(30, 20)\n",
    "        self.l4 = nn.Linear(20, 3)\n"
   ],
   "id": "d052ee8b1d495693",
   "outputs": [],
   "execution_count": null
  },
  {
   "metadata": {},
   "cell_type": "markdown",
   "source": [
    "## Practice 2. 빈 모델 만들기\n",
    "\n",
    "1. `ModelCharlie` 클래스를 입력층 5, 은닉층 10, 10, 출력층 1로 네트워크를 구성해 만드세요.\n",
    "2. `ModelDelta` 클래스를 입력층 3, 은닉층 6, 12, 24, 12, 6, 3, 출력층 1로 네트워크를 구성해 만드세요.\n",
    "3. `ModelEcho` 클래스를 입력층 10, 은닉층 모두 30, 출력층 1로 구성된 총 51층 네트워크를 구성해 만들 방법을 생각해보세요.\n",
    "(힌트 - 언패킹)\n"
   ],
   "id": "947d1ae12baaae4f"
  },
  {
   "metadata": {
    "ExecuteTime": {
     "end_time": "2025-08-07T06:26:34.883128Z",
     "start_time": "2025-08-07T06:26:34.871818Z"
    }
   },
   "cell_type": "code",
   "source": [
    "class ModelCharlie(nn.Module):\n",
    "    def __init__(self):\n",
    "        super(ModelCharlie, self).__init__()\n",
    "        num_neurons = [5, 10, 10, 1]\n",
    "        layers = []\n",
    "        for i, n in enumerate(num_neurons[:-1]):\n",
    "            _in = num_neurons[i]\n",
    "            _out = num_neurons[i + 1]\n",
    "            layers.append(nn.Linear(_in, _out))\n",
    "\n",
    "        self.a, self.b, self.c = layers\n",
    "\n",
    "mc = ModelCharlie()\n",
    "mc"
   ],
   "id": "3f41461420062e60",
   "outputs": [
    {
     "data": {
      "text/plain": [
       "ModelCharlie(\n",
       "  (a): Linear(in_features=5, out_features=10, bias=True)\n",
       "  (b): Linear(in_features=10, out_features=10, bias=True)\n",
       "  (c): Linear(in_features=10, out_features=1, bias=True)\n",
       ")"
      ]
     },
     "execution_count": 153,
     "metadata": {},
     "output_type": "execute_result"
    }
   ],
   "execution_count": 153
  },
  {
   "metadata": {
    "ExecuteTime": {
     "end_time": "2025-08-07T06:28:02.712743Z",
     "start_time": "2025-08-07T06:28:02.700162Z"
    }
   },
   "cell_type": "code",
   "source": [
    "class ModelDelta(nn.Module):\n",
    "    def __init__(self):\n",
    "        super(ModelDelta, self).__init__()\n",
    "        num_neurons = [3, 6, 12, 24, 12, 6, 3, 1]\n",
    "        layers = []\n",
    "        for i, n in enumerate(num_neurons[:-1]):\n",
    "            _in = num_neurons[i]\n",
    "            _out = num_neurons[i + 1]\n",
    "            layers.append(nn.Linear(_in, _out))\n",
    "\n",
    "        self.layer = nn.Sequential(*layers)\n",
    "\n",
    "md = ModelDelta()\n",
    "md"
   ],
   "id": "7f6bc8810eb01de5",
   "outputs": [
    {
     "data": {
      "text/plain": [
       "ModelDelta(\n",
       "  (layer): Sequential(\n",
       "    (0): Linear(in_features=3, out_features=6, bias=True)\n",
       "    (1): Linear(in_features=6, out_features=12, bias=True)\n",
       "    (2): Linear(in_features=12, out_features=24, bias=True)\n",
       "    (3): Linear(in_features=24, out_features=12, bias=True)\n",
       "    (4): Linear(in_features=12, out_features=6, bias=True)\n",
       "    (5): Linear(in_features=6, out_features=3, bias=True)\n",
       "    (6): Linear(in_features=3, out_features=1, bias=True)\n",
       "  )\n",
       ")"
      ]
     },
     "execution_count": 154,
     "metadata": {},
     "output_type": "execute_result"
    }
   ],
   "execution_count": 154
  },
  {
   "metadata": {
    "ExecuteTime": {
     "end_time": "2025-08-07T06:31:34.795915Z",
     "start_time": "2025-08-07T06:31:34.779185Z"
    }
   },
   "cell_type": "code",
   "source": [
    "class ModelEcho(nn.Module):\n",
    "    def __init__(self):\n",
    "        super(ModelEcho, self).__init__()\n",
    "        num_neurons = [10] + [30]*49 + [1]\n",
    "        layers = []\n",
    "        for i, n in enumerate(num_neurons[:-1]):\n",
    "            _in = num_neurons[i]\n",
    "            _out = num_neurons[i + 1]\n",
    "            layers.append(nn.Linear(_in, _out))\n",
    "\n",
    "        self.layer = nn.Sequential(*layers)\n",
    "\n",
    "me = ModelEcho()\n",
    "me"
   ],
   "id": "dd06ad46e3de5a86",
   "outputs": [
    {
     "data": {
      "text/plain": [
       "ModelEcho(\n",
       "  (layer): Sequential(\n",
       "    (0): Linear(in_features=10, out_features=30, bias=True)\n",
       "    (1): Linear(in_features=30, out_features=30, bias=True)\n",
       "    (2): Linear(in_features=30, out_features=30, bias=True)\n",
       "    (3): Linear(in_features=30, out_features=30, bias=True)\n",
       "    (4): Linear(in_features=30, out_features=30, bias=True)\n",
       "    (5): Linear(in_features=30, out_features=30, bias=True)\n",
       "    (6): Linear(in_features=30, out_features=30, bias=True)\n",
       "    (7): Linear(in_features=30, out_features=30, bias=True)\n",
       "    (8): Linear(in_features=30, out_features=30, bias=True)\n",
       "    (9): Linear(in_features=30, out_features=30, bias=True)\n",
       "    (10): Linear(in_features=30, out_features=30, bias=True)\n",
       "    (11): Linear(in_features=30, out_features=30, bias=True)\n",
       "    (12): Linear(in_features=30, out_features=30, bias=True)\n",
       "    (13): Linear(in_features=30, out_features=30, bias=True)\n",
       "    (14): Linear(in_features=30, out_features=30, bias=True)\n",
       "    (15): Linear(in_features=30, out_features=30, bias=True)\n",
       "    (16): Linear(in_features=30, out_features=30, bias=True)\n",
       "    (17): Linear(in_features=30, out_features=30, bias=True)\n",
       "    (18): Linear(in_features=30, out_features=30, bias=True)\n",
       "    (19): Linear(in_features=30, out_features=30, bias=True)\n",
       "    (20): Linear(in_features=30, out_features=30, bias=True)\n",
       "    (21): Linear(in_features=30, out_features=30, bias=True)\n",
       "    (22): Linear(in_features=30, out_features=30, bias=True)\n",
       "    (23): Linear(in_features=30, out_features=30, bias=True)\n",
       "    (24): Linear(in_features=30, out_features=30, bias=True)\n",
       "    (25): Linear(in_features=30, out_features=30, bias=True)\n",
       "    (26): Linear(in_features=30, out_features=30, bias=True)\n",
       "    (27): Linear(in_features=30, out_features=30, bias=True)\n",
       "    (28): Linear(in_features=30, out_features=30, bias=True)\n",
       "    (29): Linear(in_features=30, out_features=30, bias=True)\n",
       "    (30): Linear(in_features=30, out_features=30, bias=True)\n",
       "    (31): Linear(in_features=30, out_features=30, bias=True)\n",
       "    (32): Linear(in_features=30, out_features=30, bias=True)\n",
       "    (33): Linear(in_features=30, out_features=30, bias=True)\n",
       "    (34): Linear(in_features=30, out_features=30, bias=True)\n",
       "    (35): Linear(in_features=30, out_features=30, bias=True)\n",
       "    (36): Linear(in_features=30, out_features=30, bias=True)\n",
       "    (37): Linear(in_features=30, out_features=30, bias=True)\n",
       "    (38): Linear(in_features=30, out_features=30, bias=True)\n",
       "    (39): Linear(in_features=30, out_features=30, bias=True)\n",
       "    (40): Linear(in_features=30, out_features=30, bias=True)\n",
       "    (41): Linear(in_features=30, out_features=30, bias=True)\n",
       "    (42): Linear(in_features=30, out_features=30, bias=True)\n",
       "    (43): Linear(in_features=30, out_features=30, bias=True)\n",
       "    (44): Linear(in_features=30, out_features=30, bias=True)\n",
       "    (45): Linear(in_features=30, out_features=30, bias=True)\n",
       "    (46): Linear(in_features=30, out_features=30, bias=True)\n",
       "    (47): Linear(in_features=30, out_features=30, bias=True)\n",
       "    (48): Linear(in_features=30, out_features=30, bias=True)\n",
       "    (49): Linear(in_features=30, out_features=1, bias=True)\n",
       "  )\n",
       ")"
      ]
     },
     "execution_count": 158,
     "metadata": {},
     "output_type": "execute_result"
    }
   ],
   "execution_count": 158
  },
  {
   "metadata": {},
   "cell_type": "markdown",
   "source": [
    "## 순전파와 활성함수\n",
    "\n",
    "뉴럴네트워크 모델은 x값을 받아 y값을 계산하는 방법을 지정해주어야 한다."
   ],
   "id": "8f73edc9257b8e41"
  },
  {
   "metadata": {},
   "cell_type": "code",
   "source": [
    "class ModelFoxtrot(nn.Module):\n",
    "    def __init__(self):\n",
    "        super(ModelFoxtrot, self).__init__()\n",
    "        self.lin1 = nn.Linear(4, 10)  # 입력층: 4개의 특성, 은닉층: 10개의 뉴런\n",
    "        self.lin2 = nn.Linear(10, 10)  # 은닉층: 10개의 뉴런\n",
    "        self.lin3 = nn.Linear(10, 1)   # 출력층: 1개의 뉴런\n",
    "\n",
    "        self.activation1 = nn.ReLU()\n",
    "        self.activation2 = nn.Sigmoid()\n",
    "        self.activation4 = nn.LeakyReLU()\n",
    "        self.activation3 = nn.Tanh()\n",
    "        self.activation5 = nn.Sigmoid()\n",
    "        self.activation6 = nn.SELU()\n",
    "        self.activation7 = nn.ELU()\n",
    "        self.activation8 = nn.GELU()\n",
    "\n",
    "\n",
    "    def forward(self, x):\n",
    "        x = self.lin1(x)\n",
    "        x = self.activation1(x)\n",
    "        x = self.lin2(x)\n",
    "        x = self.activation2(x)\n",
    "        return self.lin3(x)\n",
    "\n"
   ],
   "id": "394f59d2c3d4a13c",
   "outputs": [],
   "execution_count": null
  },
  {
   "metadata": {},
   "cell_type": "markdown",
   "source": [
    "### 활성함수\n",
    "\n",
    "1. ReLU (Rectified Linear Unit): `f(x) = max(0, x)`\n",
    "2. Sigmoid: `f(x) = 1 / (1 + exp(-x))`\n",
    "3. Tanh (Hyperbolic Tangent): `f(x) = (exp(x) - exp(-x)) / (exp(x) + exp(-x))`\n",
    "4. Leaky ReLU: `f(x) = x if x > 0 else alpha * x` (alpha는 작은 상수)\n",
    "5. SELU (Scaled Exponential Linear Unit): `f(x) = scale * x if x > 0 else scale * alpha * (exp(x) - 1)`\n",
    "6. ELU (Exponential Linear Unit): `f(x) = x if x > 0 else alpha * (exp(x) - 1)`\n",
    "7. GELU (Gaussian Error Linear Unit): `f(x) = 0.5 * x * (1 + erf(x / sqrt(2)))` (erf는 오차 함수)\n",
    "8. Swish: `f(x) = x * sigmoid(beta * x)` (beta는 상수)\n",
    "\n",
    "이 외에도 활성함수가 여럿 있다. 이들이 각각 어디에 쓰이는지는 목적상황에 따라 다르다."
   ],
   "id": "e67b60a47f9a61"
  },
  {
   "metadata": {},
   "cell_type": "markdown",
   "source": [
    "## Practice 3. 순전파 구현하기\n",
    "\n",
    "1. `ModelGolf` (5, 6, 3) 네트워크와 ReLU 활성함수를 사용한 순전파를 구현하세요.\n",
    "2. `ModelHotel` (3, 6, 9, 12, 1) 네트워크와 LeakyReLU 활성함수를 사용한 순전파를 구현하세요.\n",
    "3. `ModelIndia` (10, 20, 30, 20, 10, 5, 1) 네트워크와 여러가지 활성함수를 사용한 순전파를 구현하세요."
   ],
   "id": "824391e05cb06a64"
  },
  {
   "metadata": {},
   "cell_type": "code",
   "source": "",
   "id": "7bdefc62bf9c6b5f",
   "outputs": [],
   "execution_count": null
  },
  {
   "metadata": {},
   "cell_type": "code",
   "source": "",
   "id": "6d07c4beaca2ef",
   "outputs": [],
   "execution_count": null
  },
  {
   "metadata": {},
   "cell_type": "code",
   "source": "",
   "id": "7d396de1fdfd1dfe",
   "outputs": [],
   "execution_count": null
  },
  {
   "metadata": {},
   "cell_type": "markdown",
   "source": [
    "## 훈련함수\n",
    "\n",
    "모델을 정의했다면, 이제 예측함수를 구현해야 한다.\n"
   ],
   "id": "cedea5a7b963e8c4"
  },
  {
   "metadata": {},
   "cell_type": "markdown",
   "source": "##",
   "id": "cb9fa1be4ccd0367"
  }
 ],
 "metadata": {
  "kernelspec": {
   "display_name": "Python 3",
   "language": "python",
   "name": "python3"
  },
  "language_info": {
   "codemirror_mode": {
    "name": "ipython",
    "version": 2
   },
   "file_extension": ".py",
   "mimetype": "text/x-python",
   "name": "python",
   "nbconvert_exporter": "python",
   "pygments_lexer": "ipython2",
   "version": "2.7.6"
  }
 },
 "nbformat": 4,
 "nbformat_minor": 5
}
