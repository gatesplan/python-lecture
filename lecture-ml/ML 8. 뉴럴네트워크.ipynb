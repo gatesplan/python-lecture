{
 "cells": [
  {
   "metadata": {},
   "cell_type": "markdown",
   "source": [
    "# 뉴럴 네트워크\n",
    "\n",
    "이번 강의에서 여러분은 현대 머신러닝의 시작지점인 뉴럴네트워크를 다루는 방법을 배운다."
   ],
   "id": "55a054a5ac875887"
  },
  {
   "metadata": {
    "ExecuteTime": {
     "end_time": "2025-08-06T15:30:48.938328Z",
     "start_time": "2025-08-06T15:30:48.921513Z"
    }
   },
   "cell_type": "code",
   "source": [
    "# 전처리된 타이타닉 데이터셋 로드\n",
    "import pandas as pd\n",
    "titanic = pd.read_csv('clean_titanic.csv', index_col=0)\n",
    "\n",
    "# 라벨 인코딩\n",
    "from sklearn.preprocessing import LabelEncoder\n",
    "encoders = {}\n",
    "for col in titanic.columns:\n",
    "    encoders[col] = LabelEncoder()\n",
    "    encoders[col].fit(titanic[col])\n",
    "    titanic[col] = encoders[col].transform(titanic[col])\n",
    "\n",
    "# xs, ys 분리\n",
    "xs, ys = titanic.drop(columns=['survived']), titanic['survived']\n",
    "\n",
    "# tts\n",
    "from sklearn.model_selection import train_test_split\n",
    "xs_train, xs_test, ys_train, ys_test = train_test_split(xs, ys, test_size=0.2)\n",
    "\n",
    "# 준비 끝!"
   ],
   "id": "cfb2b60fa2e6f1a5",
   "outputs": [],
   "execution_count": 5
  },
  {
   "metadata": {},
   "cell_type": "markdown",
   "source": [
    "# 미안하다\n",
    "\n",
    "여러분은 이제부터 Tensor 객체를 다루는 방법을 먼저 배워야 한다.\n",
    "\n",
    "데이터를 Tensor(행렬)로 변환하고, 조작하고 등등의 기본 작업을 수행할 줄 알아야 한다."
   ],
   "id": "a97befc95a11ffce"
  },
  {
   "metadata": {},
   "cell_type": "markdown",
   "source": [
    "## Tensor 선언\n",
    "\n",
    "Tensor(행렬)은 PyTorch의 기본 데이터 구조이다.\n",
    "\n",
    "PyTorch는 Tensor를 사용하여 데이터를 표현하고, 연산을 수행한다.\n",
    "\n",
    "Tensor는 다차원 배열로, NumPy의 ndarray와 유사하며, 이것으로 수치 연산을 수행하고 딥러닝 모델을 구축한다.\n",
    "\n",
    "Tensor는 CPU와 GPU에서 모두 사용할 수 있으며, GPU를 사용하여 연산을 가속화할 수 있다.\n",
    "\n",
    "여기서 우리는 Tensor를 선언하는 기본적인 방법을 배우고, 기존 데이터를 Tensor로 변환할 것이다."
   ],
   "id": "7a79dbefb44e1f68"
  },
  {
   "metadata": {
    "ExecuteTime": {
     "end_time": "2025-08-06T16:13:39.914217Z",
     "start_time": "2025-08-06T16:13:39.908123Z"
    }
   },
   "cell_type": "code",
   "source": [
    "from torch import Tensor\n",
    "\n",
    "# tensor 생성 - 1, 2, 3차원\n",
    "print(Tensor([1]))\n",
    "print(Tensor([[1]]))\n",
    "print(Tensor([[[1]]]))"
   ],
   "id": "2e76408875bc8553",
   "outputs": [
    {
     "name": "stdout",
     "output_type": "stream",
     "text": [
      "tensor([1.])\n",
      "tensor([[1.]])\n",
      "tensor([[[1.]]])\n"
     ]
    }
   ],
   "execution_count": 51
  },
  {
   "metadata": {
    "ExecuteTime": {
     "end_time": "2025-08-06T16:14:06.766094Z",
     "start_time": "2025-08-06T16:14:06.761053Z"
    }
   },
   "cell_type": "code",
   "source": [
    "print(Tensor([1]).shape)\n",
    "print(Tensor([[1]]).shape)\n",
    "print(Tensor([[[1]]]).shape)"
   ],
   "id": "114adecbbff49eaa",
   "outputs": [
    {
     "name": "stdout",
     "output_type": "stream",
     "text": [
      "torch.Size([1])\n",
      "torch.Size([1, 1])\n",
      "torch.Size([1, 1, 1])\n"
     ]
    }
   ],
   "execution_count": 53
  },
  {
   "metadata": {
    "ExecuteTime": {
     "end_time": "2025-08-06T16:15:20.444735Z",
     "start_time": "2025-08-06T16:15:20.438985Z"
    }
   },
   "cell_type": "code",
   "source": [
    "# 2x2 tensor 생성\n",
    "print(Tensor([[1, 2],\n",
    "              [3, 4]]))\n",
    "\n",
    "# 4x2 tensor 생성\n",
    "print(Tensor([[1, 2],\n",
    "              [3, 4],\n",
    "              [5, 6],\n",
    "              [7, 8]]))"
   ],
   "id": "cf3d05c8c8a31ea7",
   "outputs": [
    {
     "name": "stdout",
     "output_type": "stream",
     "text": [
      "tensor([[1., 2.],\n",
      "        [3., 4.]])\n",
      "tensor([[1., 2.],\n",
      "        [3., 4.],\n",
      "        [5., 6.],\n",
      "        [7., 8.]])\n"
     ]
    }
   ],
   "execution_count": 56
  },
  {
   "metadata": {},
   "cell_type": "markdown",
   "source": [
    "계속 이렇게 만들어야 하나요?\n",
    "\n",
    "**네**"
   ],
   "id": "a22602aa1d7a5382"
  },
  {
   "metadata": {
    "ExecuteTime": {
     "end_time": "2025-08-06T16:19:56.128778Z",
     "start_time": "2025-08-06T16:19:56.122569Z"
    }
   },
   "cell_type": "code",
   "source": [
    "# 빈 tensor 만들기\n",
    "from torch import zeros, ones, randn\n",
    "\n",
    "# 2x2 tensor 생성\n",
    "print(zeros(2, 2))\n",
    "\n",
    "# 4x2 tensor 생성\n",
    "print(zeros(4, 2))\n",
    "\n",
    "# 4x2x3 tensor 생성\n",
    "print(zeros(4, 2, 3))\n",
    "\n",
    "# 4x2x3x2 tensor 생성\n",
    "print(zeros(4, 2, 3, 2))"
   ],
   "id": "9afc5c9e785ae58",
   "outputs": [
    {
     "name": "stdout",
     "output_type": "stream",
     "text": [
      "tensor([[0., 0.],\n",
      "        [0., 0.]])\n",
      "tensor([[0., 0.],\n",
      "        [0., 0.],\n",
      "        [0., 0.],\n",
      "        [0., 0.]])\n",
      "tensor([[[0., 0., 0.],\n",
      "         [0., 0., 0.]],\n",
      "\n",
      "        [[0., 0., 0.],\n",
      "         [0., 0., 0.]],\n",
      "\n",
      "        [[0., 0., 0.],\n",
      "         [0., 0., 0.]],\n",
      "\n",
      "        [[0., 0., 0.],\n",
      "         [0., 0., 0.]]])\n",
      "tensor([[[[0., 0.],\n",
      "          [0., 0.],\n",
      "          [0., 0.]],\n",
      "\n",
      "         [[0., 0.],\n",
      "          [0., 0.],\n",
      "          [0., 0.]]],\n",
      "\n",
      "\n",
      "        [[[0., 0.],\n",
      "          [0., 0.],\n",
      "          [0., 0.]],\n",
      "\n",
      "         [[0., 0.],\n",
      "          [0., 0.],\n",
      "          [0., 0.]]],\n",
      "\n",
      "\n",
      "        [[[0., 0.],\n",
      "          [0., 0.],\n",
      "          [0., 0.]],\n",
      "\n",
      "         [[0., 0.],\n",
      "          [0., 0.],\n",
      "          [0., 0.]]],\n",
      "\n",
      "\n",
      "        [[[0., 0.],\n",
      "          [0., 0.],\n",
      "          [0., 0.]],\n",
      "\n",
      "         [[0., 0.],\n",
      "          [0., 0.],\n",
      "          [0., 0.]]]])\n"
     ]
    }
   ],
   "execution_count": 74
  },
  {
   "metadata": {
    "ExecuteTime": {
     "end_time": "2025-08-06T16:20:14.529663Z",
     "start_time": "2025-08-06T16:20:14.523300Z"
    }
   },
   "cell_type": "code",
   "source": [
    "# 1로 채워진 tensor 만들기\n",
    "print(ones(2, 2))\n",
    "\n",
    "# 4x2x6 tensor 생성\n",
    "print(ones(4, 2, 6))"
   ],
   "id": "ef86c99c1be911b",
   "outputs": [
    {
     "name": "stdout",
     "output_type": "stream",
     "text": [
      "tensor([[1., 1.],\n",
      "        [1., 1.]])\n",
      "tensor([[[1., 1., 1., 1., 1., 1.],\n",
      "         [1., 1., 1., 1., 1., 1.]],\n",
      "\n",
      "        [[1., 1., 1., 1., 1., 1.],\n",
      "         [1., 1., 1., 1., 1., 1.]],\n",
      "\n",
      "        [[1., 1., 1., 1., 1., 1.],\n",
      "         [1., 1., 1., 1., 1., 1.]],\n",
      "\n",
      "        [[1., 1., 1., 1., 1., 1.],\n",
      "         [1., 1., 1., 1., 1., 1.]]])\n"
     ]
    }
   ],
   "execution_count": 78
  },
  {
   "metadata": {
    "ExecuteTime": {
     "end_time": "2025-08-06T16:20:47.672601Z",
     "start_time": "2025-08-06T16:20:47.668649Z"
    }
   },
   "cell_type": "code",
   "source": [
    "# 랜덤한 값으로 채워진 tensor 만들기\n",
    "print(randn(3, 8))"
   ],
   "id": "61722611ed229e3d",
   "outputs": [
    {
     "name": "stdout",
     "output_type": "stream",
     "text": [
      "tensor([[ 1.6024, -1.1606, -0.0635, -1.1592, -0.2146, -0.8592,  1.1033, -1.0854],\n",
      "        [-0.1938,  1.0151, -0.5255,  1.9981, -0.1680, -0.7072, -1.7359, -0.8548],\n",
      "        [ 0.2887, -0.3030,  0.6106, -0.1844,  0.3978,  1.1142,  1.5979,  2.5535]])\n"
     ]
    }
   ],
   "execution_count": 82
  },
  {
   "metadata": {
    "ExecuteTime": {
     "end_time": "2025-08-06T16:49:47.474181Z",
     "start_time": "2025-08-06T16:49:47.468152Z"
    }
   },
   "cell_type": "code",
   "source": [
    "# 데이터프레임을 Tensor로 변환하기\n",
    "print(type(xs_train))\n",
    "print(type(xs_train.values))\n",
    "print(type(Tensor(xs_train.values)))\n",
    "\n",
    "# Tensor로 변환한 값 출력해보기\n",
    "print(Tensor(xs_train.values))"
   ],
   "id": "5eb96add88dadcd2",
   "outputs": [
    {
     "name": "stdout",
     "output_type": "stream",
     "text": [
      "<class 'pandas.core.frame.DataFrame'>\n",
      "<class 'numpy.ndarray'>\n",
      "<class 'torch.Tensor'>\n",
      "tensor([[ 0.,  1., 60.,  ...,  1.,  2.,  1.],\n",
      "        [ 1.,  0., 56.,  ...,  0.,  2.,  0.],\n",
      "        [ 1.,  0., 45.,  ...,  0.,  2.,  0.],\n",
      "        ...,\n",
      "        [ 0.,  1., 39.,  ...,  1.,  0.,  1.],\n",
      "        [ 0.,  1., 52.,  ...,  1.,  2.,  1.],\n",
      "        [ 2.,  0., 39.,  ...,  0.,  0.,  0.]])\n"
     ]
    }
   ],
   "execution_count": 95
  },
  {
   "metadata": {},
   "cell_type": "markdown",
   "source": [
    "## 텐서 연산\n",
    "\n",
    "두 텐서간의 연산을 지원한다."
   ],
   "id": "c611127ebfbac0e6"
  },
  {
   "metadata": {
    "ExecuteTime": {
     "end_time": "2025-08-06T16:54:57.778227Z",
     "start_time": "2025-08-06T16:54:57.774924Z"
    }
   },
   "cell_type": "code",
   "source": [
    "t1 = Tensor([[1, 2],\n",
    "             [3, 4]])"
   ],
   "id": "8f0da7832bb315e7",
   "outputs": [],
   "execution_count": 118
  },
  {
   "metadata": {
    "ExecuteTime": {
     "end_time": "2025-08-06T16:54:58.092760Z",
     "start_time": "2025-08-06T16:54:58.086834Z"
    }
   },
   "cell_type": "code",
   "source": [
    "# 스칼라 덧셈, 뺄셈, 곱셈, 나눗셈\n",
    "t1 + 1, t1 - 1, t1 * 2, t1 / 2"
   ],
   "id": "ce029eeb4d5e8b87",
   "outputs": [
    {
     "data": {
      "text/plain": [
       "(tensor([[2., 3.],\n",
       "         [4., 5.]]),\n",
       " tensor([[0., 1.],\n",
       "         [2., 3.]]),\n",
       " tensor([[2., 4.],\n",
       "         [6., 8.]]),\n",
       " tensor([[0.5000, 1.0000],\n",
       "         [1.5000, 2.0000]]))"
      ]
     },
     "execution_count": 119,
     "metadata": {},
     "output_type": "execute_result"
    }
   ],
   "execution_count": 119
  },
  {
   "metadata": {
    "ExecuteTime": {
     "end_time": "2025-08-06T16:54:58.247189Z",
     "start_time": "2025-08-06T16:54:58.241095Z"
    }
   },
   "cell_type": "code",
   "source": [
    "vec = Tensor([2])\n",
    "t1 + vec, t1 - vec, t1 * vec, t1 / vec"
   ],
   "id": "857a72cee08cb339",
   "outputs": [
    {
     "data": {
      "text/plain": [
       "(tensor([[3., 4.],\n",
       "         [5., 6.]]),\n",
       " tensor([[-1.,  0.],\n",
       "         [ 1.,  2.]]),\n",
       " tensor([[2., 4.],\n",
       "         [6., 8.]]),\n",
       " tensor([[0.5000, 1.0000],\n",
       "         [1.5000, 2.0000]]))"
      ]
     },
     "execution_count": 120,
     "metadata": {},
     "output_type": "execute_result"
    }
   ],
   "execution_count": 120
  },
  {
   "metadata": {
    "ExecuteTime": {
     "end_time": "2025-08-06T16:54:58.425122Z",
     "start_time": "2025-08-06T16:54:58.417770Z"
    }
   },
   "cell_type": "code",
   "source": [
    "# 벡터곱\n",
    "vec = Tensor([10, -10])\n",
    "t1 + vec, t1-vec, t1 * vec, t1 / vec"
   ],
   "id": "f6eefd4de82f99b8",
   "outputs": [
    {
     "data": {
      "text/plain": [
       "(tensor([[11., -8.],\n",
       "         [13., -6.]]),\n",
       " tensor([[-9., 12.],\n",
       "         [-7., 14.]]),\n",
       " tensor([[ 10., -20.],\n",
       "         [ 30., -40.]]),\n",
       " tensor([[ 0.1000, -0.2000],\n",
       "         [ 0.3000, -0.4000]]))"
      ]
     },
     "execution_count": 121,
     "metadata": {},
     "output_type": "execute_result"
    }
   ],
   "execution_count": 121
  },
  {
   "metadata": {
    "ExecuteTime": {
     "end_time": "2025-08-06T16:56:12.662995Z",
     "start_time": "2025-08-06T16:56:12.656569Z"
    }
   },
   "cell_type": "code",
   "source": [
    "# 같은 크기\n",
    "t2 = Tensor([[1, -1],\n",
    "             [2, -2]])\n",
    "\n",
    "t1+t2, t1-t2, t1*t2, t1/t2"
   ],
   "id": "a54be81b9620f537",
   "outputs": [
    {
     "data": {
      "text/plain": [
       "(tensor([[2., 1.],\n",
       "         [5., 2.]]),\n",
       " tensor([[0., 3.],\n",
       "         [1., 6.]]),\n",
       " tensor([[ 1., -2.],\n",
       "         [ 6., -8.]]),\n",
       " tensor([[ 1.0000, -2.0000],\n",
       "         [ 1.5000, -2.0000]]))"
      ]
     },
     "execution_count": 130,
     "metadata": {},
     "output_type": "execute_result"
    }
   ],
   "execution_count": 130
  },
  {
   "metadata": {
    "ExecuteTime": {
     "end_time": "2025-08-06T16:56:16.570751Z",
     "start_time": "2025-08-06T16:56:16.564540Z"
    }
   },
   "cell_type": "code",
   "source": "t1.matmul(t2)  # 행렬 곱셈",
   "id": "a6166994c87e1da8",
   "outputs": [
    {
     "data": {
      "text/plain": [
       "tensor([[  5.,  -5.],\n",
       "        [ 11., -11.]])"
      ]
     },
     "execution_count": 131,
     "metadata": {},
     "output_type": "execute_result"
    }
   ],
   "execution_count": 131
  },
  {
   "metadata": {
    "ExecuteTime": {
     "end_time": "2025-08-06T16:56:41.346470Z",
     "start_time": "2025-08-06T16:56:41.325812Z"
    }
   },
   "cell_type": "code",
   "source": [
    "# 다른 크기\n",
    "t3 = Tensor([[1, 2],\n",
    "             [3, 4],\n",
    "             [5, 6],\n",
    "             [7, 8]])\n",
    "\n",
    "t1 + t3, t1 - t3, t1 * t3, t1 / t3  # 브로드캐스팅 실패"
   ],
   "id": "a40b75237e4d84d6",
   "outputs": [
    {
     "ename": "RuntimeError",
     "evalue": "The size of tensor a (2) must match the size of tensor b (4) at non-singleton dimension 0",
     "output_type": "error",
     "traceback": [
      "\u001B[1;31m---------------------------------------------------------------------------\u001B[0m",
      "\u001B[1;31mRuntimeError\u001B[0m                              Traceback (most recent call last)",
      "Cell \u001B[1;32mIn[134], line 7\u001B[0m\n\u001B[0;32m      1\u001B[0m \u001B[38;5;66;03m# 다른 크기\u001B[39;00m\n\u001B[0;32m      2\u001B[0m t3 \u001B[38;5;241m=\u001B[39m Tensor([[\u001B[38;5;241m1\u001B[39m, \u001B[38;5;241m2\u001B[39m],\n\u001B[0;32m      3\u001B[0m              [\u001B[38;5;241m3\u001B[39m, \u001B[38;5;241m4\u001B[39m],\n\u001B[0;32m      4\u001B[0m              [\u001B[38;5;241m5\u001B[39m, \u001B[38;5;241m6\u001B[39m],\n\u001B[0;32m      5\u001B[0m              [\u001B[38;5;241m7\u001B[39m, \u001B[38;5;241m8\u001B[39m]])\n\u001B[1;32m----> 7\u001B[0m t1 \u001B[38;5;241m+\u001B[39m t3, t1 \u001B[38;5;241m-\u001B[39m t3, t1 \u001B[38;5;241m*\u001B[39m t3, t1 \u001B[38;5;241m/\u001B[39m t3\n",
      "\u001B[1;31mRuntimeError\u001B[0m: The size of tensor a (2) must match the size of tensor b (4) at non-singleton dimension 0"
     ]
    }
   ],
   "execution_count": 134
  },
  {
   "metadata": {},
   "cell_type": "markdown",
   "source": [
    "## `Tensor.reshape(d, i, m, e, n, s, i, o, n)`\n",
    "\n",
    "Tensor.reshape()`Tensor.reshape()`Tensor.reshape()`Tensor.reshape()`Tensor.reshape()`Tensor.reshape()`Tensor.reshape()`Tensor.reshape()`Tensor.reshape()`Tensor.reshape()`\n",
    "Tensor.reshape()`Tensor.reshape()`Tensor.reshape()`Tensor.reshape()`Tensor.reshape()`Tensor.reshape()`Tensor.reshape()`Tensor.reshape()`Tensor.reshape()`Tensor.reshape()`\n",
    "Tensor.reshape()`Tensor.reshape()`Tensor.reshape()`Tensor.reshape()`Tensor.reshape()`Tensor.reshape()`Tensor.reshape()`Tensor.reshape()`Tensor.reshape()`Tensor.reshape()`\n",
    "Tensor.reshape()`Tensor.reshape()`Tensor.reshape()`Tensor.reshape()`Tensor.reshape()`Tensor.reshape()`Tensor.reshape()`Tensor.reshape()`Tensor.reshape()`Tensor.reshape()`\n",
    "Tensor.reshape()`Tensor.reshape()`Tensor.reshape()`Tensor.reshape()`Tensor.reshape()`Tensor.reshape()`Tensor.reshape()`Tensor.reshape()`Tensor.reshape()`Tensor.reshape()`\n",
    "Tensor.reshape()`Tensor.reshape()`Tensor.reshape()`Tensor.reshape()`Tensor.reshape()`Tensor.reshape()`Tensor.reshape()`Tensor.reshape()`Tensor.reshape()`Tensor.reshape()`\n",
    "Tensor.reshape()`Tensor.reshape()`Tensor.reshape()`Tensor.reshape()`Tensor.reshape()`Tensor.reshape()`Tensor.reshape()`Tensor.reshape()`Tensor.reshape()`Tensor.reshape()`\n",
    "Tensor.reshape()`Tensor.reshape()`Tensor.reshape()`Tensor.reshape()`Tensor.reshape()`Tensor.reshape()`Tensor.reshape()`Tensor.reshape()`Tensor.reshape()`Tensor.reshape()`\n",
    "Tensor.reshape()`Tensor.reshape()`Tensor.reshape()`Tensor.reshape()`Tensor.reshape()`Tensor.reshape()`Tensor.reshape()`Tensor.reshape()`Tensor.reshape()`Tensor.reshape()`\n",
    "Tensor.reshape()`Tensor.reshape()`Tensor.reshape()`Tensor.reshape()`Tensor.reshape()`Tensor.reshape()`Tensor.reshape()`Tensor.reshape()`Tensor.reshape()`Tensor.reshape()`\n",
    "Tensor.reshape()`Tensor.reshape()`Tensor.reshape()`Tensor.reshape()`Tensor.reshape()`Tensor.reshape()`Tensor.reshape()`Tensor.reshape()`Tensor.reshape()`Tensor.reshape()`\n",
    "Tensor.reshape()`Tensor.reshape()`Tensor.reshape()`Tensor.reshape()`Tensor.reshape()`Tensor.reshape()`Tensor.reshape()`Tensor.reshape()`Tensor.reshape()`Tensor.reshape()`\n",
    "Tensor.reshape()`Tensor.reshape()`Tensor.reshape()`Tensor.reshape()`Tensor.reshape()`Tensor.reshape()`Tensor.reshape()`Tensor.reshape()`Tensor.reshape()`Tensor.reshape()`\n",
    "Tensor.reshape()`Tensor.reshape()`Tensor.reshape()`Tensor.reshape()`Tensor.reshape()`Tensor.reshape()`Tensor.reshape()`Tensor.reshape()`Tensor.reshape()`Tensor.reshape()`\n",
    "Tensor.reshape()`Tensor.reshape()`Tensor.reshape()`Tensor.reshape()`Tensor.reshape()`Tensor.reshape()`Tensor.reshape()`Tensor.reshape()`Tensor.reshape()`Tensor.reshape()`\n",
    "Tensor.reshape()`Tensor.reshape()`Tensor.reshape()`Tensor.reshape()`Tensor.reshape()`Tensor.reshape()`Tensor.reshape()`Tensor.reshape()`Tensor.reshape()`Tensor.reshape()`\n",
    "Tensor.reshape()`Tensor.reshape()`Tensor.reshape()`Tensor.reshape()`Tensor.reshape()`Tensor.reshape()`Tensor.reshape()`Tensor.reshape()`Tensor.reshape()`Tensor.reshape()`\n",
    "Tensor.reshape()`Tensor.reshape()`Tensor.reshape()`Tensor.reshape()`Tensor.reshape()`Tensor.reshape()`Tensor.reshape()`Tensor.reshape()`Tensor.reshape()`Tensor.reshape()`\n",
    "중요함"
   ],
   "id": "f0f904ce773235a0"
  },
  {
   "metadata": {
    "ExecuteTime": {
     "end_time": "2025-08-06T17:00:25.482377Z",
     "start_time": "2025-08-06T17:00:25.476904Z"
    }
   },
   "cell_type": "code",
   "source": [
    "# reshape (재구성)\n",
    "t = Tensor([[1, 2],\n",
    "            [3, 4],\n",
    "            [5, 6]])\n",
    "print(t)"
   ],
   "id": "a0fbc95be85b4376",
   "outputs": [
    {
     "name": "stdout",
     "output_type": "stream",
     "text": [
      "tensor([[1., 2.],\n",
      "        [3., 4.],\n",
      "        [5., 6.]])\n"
     ]
    }
   ],
   "execution_count": 154
  },
  {
   "metadata": {
    "ExecuteTime": {
     "end_time": "2025-08-06T17:00:27.121562Z",
     "start_time": "2025-08-06T17:00:27.116564Z"
    }
   },
   "cell_type": "code",
   "source": "t.flatten()  # 1차원으로 평탄화",
   "id": "e1d4b05a8fbb5429",
   "outputs": [
    {
     "data": {
      "text/plain": [
       "tensor([1., 2., 3., 4., 5., 6.])"
      ]
     },
     "execution_count": 155,
     "metadata": {},
     "output_type": "execute_result"
    }
   ],
   "execution_count": 155
  },
  {
   "metadata": {
    "ExecuteTime": {
     "end_time": "2025-08-06T17:01:01.574219Z",
     "start_time": "2025-08-06T17:01:01.568219Z"
    }
   },
   "cell_type": "code",
   "source": "t.reshape(1, 2, 3)",
   "id": "6dc52c88968b691f",
   "outputs": [
    {
     "data": {
      "text/plain": [
       "tensor([[[1., 2., 3.],\n",
       "         [4., 5., 6.]]])"
      ]
     },
     "execution_count": 158,
     "metadata": {},
     "output_type": "execute_result"
    }
   ],
   "execution_count": 158
  },
  {
   "metadata": {
    "ExecuteTime": {
     "end_time": "2025-08-06T17:01:54.211892Z",
     "start_time": "2025-08-06T17:01:54.205938Z"
    }
   },
   "cell_type": "code",
   "source": "t.reshape(-1, 3)  # 행은 되는데로, 3열",
   "id": "253542bbdac60820",
   "outputs": [
    {
     "data": {
      "text/plain": [
       "tensor([[1., 2., 3.],\n",
       "        [4., 5., 6.]])"
      ]
     },
     "execution_count": 162,
     "metadata": {},
     "output_type": "execute_result"
    }
   ],
   "execution_count": 162
  },
  {
   "metadata": {
    "ExecuteTime": {
     "end_time": "2025-08-06T17:02:13.877349Z",
     "start_time": "2025-08-06T17:02:13.869936Z"
    }
   },
   "cell_type": "code",
   "source": "t.reshape(3, -1)  # 3행, 열은 되는데로",
   "id": "3e4370310b99f9d8",
   "outputs": [
    {
     "data": {
      "text/plain": [
       "tensor([[1., 2.],\n",
       "        [3., 4.],\n",
       "        [5., 6.]])"
      ]
     },
     "execution_count": 165,
     "metadata": {},
     "output_type": "execute_result"
    }
   ],
   "execution_count": 165
  },
  {
   "metadata": {
    "ExecuteTime": {
     "end_time": "2025-08-06T17:31:07.958297Z",
     "start_time": "2025-08-06T17:31:07.950834Z"
    }
   },
   "cell_type": "code",
   "source": [
    "from torch.utils.data import DataLoader, TensorDataset\n",
    "\n",
    "# DataLoader를 사용하여 배치 단위로 데이터 로드\n",
    "batch_size = 6\n",
    "train_dataset = TensorDataset(Tensor(xs_train.values), Tensor(ys_train.values))\n",
    "train_loader = DataLoader(train_dataset, batch_size=batch_size, shuffle=True)\n",
    "\n",
    "# DataLoader를 사용하여 배치 단위로 데이터 로드\n",
    "for batch_xs, batch_ys in train_loader:\n",
    "    print(batch_xs)\n",
    "    print(batch_ys)\n",
    "    break  # 첫 번째 배치만 출력\n"
   ],
   "id": "8f5b65dbee2493c8",
   "outputs": [
    {
     "name": "stdout",
     "output_type": "stream",
     "text": [
      "tensor([[  2.,   1.,  28.,   0.,   0.,  61.,   2.,   1.,   1.,   2.,   1.],\n",
      "        [  2.,   0.,   8.,   0.,   2., 126.,   2.,   0.,   0.,   2.,   0.],\n",
      "        [  2.,   0.,  27.,   1.,   0.,  66.,   2.,   2.,   0.,   2.,   0.],\n",
      "        [  2.,   0.,  13.,   1.,   1., 101.,   2.,   0.,   0.,   0.,   0.],\n",
      "        [  0.,   0.,  28.,   0.,   2., 181.,   0.,   2.,   0.,   0.,   0.],\n",
      "        [  0.,   1.,  31.,   0.,   0., 216.,   0.,   1.,   1.,   0.,   1.]])\n",
      "tensor([0., 1., 0., 0., 1., 0.])\n"
     ]
    }
   ],
   "execution_count": 172
  },
  {
   "metadata": {},
   "cell_type": "markdown",
   "source": [
    "## Practice 1.\n",
    "\n",
    "1. `clean_titanic` 데이터셋에서 분리한 xs_train, xs_test, ys_train, ys_test를 각각 Tensor로 변환한다.\n",
    "2. xs_train, ys_train을 DataLoader에 전달하여 배치 크기 32짜리 훈련 데이터셋을 만든다."
   ],
   "id": "6269ce88f804086e"
  },
  {
   "metadata": {},
   "cell_type": "code",
   "outputs": [],
   "execution_count": null,
   "source": "",
   "id": "1af2bc2ccd83832b"
  },
  {
   "metadata": {},
   "cell_type": "markdown",
   "source": [
    "## 네트워크 생성\n",
    "\n",
    "이제 여러분은 Tensor를 다루는 방법을 배웠다.\n",
    "\n",
    "이제는 뉴럴 네트워크를 생성하는 방법을 배워야 한다."
   ],
   "id": "9cb014ff1892173f"
  },
  {
   "metadata": {
    "ExecuteTime": {
     "end_time": "2025-08-06T17:38:48.224784Z",
     "start_time": "2025-08-06T17:38:48.219798Z"
    }
   },
   "cell_type": "code",
   "source": [
    "from torch import nn, no_grad\n",
    "\n",
    "class TitanicModel(nn.Module):\n",
    "\n",
    "    def __init__(self):\n",
    "        super(TitanicModel, self).__init__()\n",
    "        # nn.Module을 상속받아 초기화\n",
    "        # 이해 못합니다 넘어가세요\n",
    "\n",
    "        # 네트워크 정의\n",
    "        self.layer = nn.Sequential(\n",
    "            nn.Linear(11, 64),  # 입력층: 11개의 특성, 은닉층: 64개의 뉴런\n",
    "            nn.ReLU(),\n",
    "            nn.Linear(64, 32),  # 은닉층: 32개의 뉴런\n",
    "            nn.ReLU(),\n",
    "            nn.Linear(32, 1),   # 출력층: 1개의 뉴런 (이진 분류)\n",
    "        )\n",
    "\n",
    "        # 마지막 층 softmax\n",
    "        self.softmax = nn.Sigmoid()  # 이진 분류를 위한 Sigmoid 활성화 함수\n",
    "\n",
    "\n",
    "    def forward(self, x):\n",
    "        # 순전파 정의\n",
    "        x = self.layer(x)  # 네트워크를 통과\n",
    "        x = self.softmax(x)  # 마지막 층 softmax 적용\n",
    "        return x\n",
    "\n",
    "\n",
    "    def predict(self, x):\n",
    "        self.eval()\n",
    "        with no_grad():\n",
    "            return self.forward(x)  # 예측을 위한 순전파"
   ],
   "id": "b1c7d4eca9b5641e",
   "outputs": [],
   "execution_count": 175
  },
  {
   "metadata": {
    "ExecuteTime": {
     "end_time": "2025-08-06T17:38:59.213983Z",
     "start_time": "2025-08-06T17:38:59.207814Z"
    }
   },
   "cell_type": "code",
   "source": [
    "# TitanicModel을 생성\n",
    "model = TitanicModel()\n",
    "model"
   ],
   "id": "58a158e20dc3121",
   "outputs": [
    {
     "data": {
      "text/plain": [
       "TitanicModel(\n",
       "  (layer): Sequential(\n",
       "    (0): Linear(in_features=11, out_features=64, bias=True)\n",
       "    (1): ReLU()\n",
       "    (2): Linear(in_features=64, out_features=32, bias=True)\n",
       "    (3): ReLU()\n",
       "    (4): Linear(in_features=32, out_features=1, bias=True)\n",
       "  )\n",
       "  (softmax): Sigmoid()\n",
       ")"
      ]
     },
     "execution_count": 176,
     "metadata": {},
     "output_type": "execute_result"
    }
   ],
   "execution_count": 176
  },
  {
   "metadata": {
    "ExecuteTime": {
     "end_time": "2025-08-06T17:42:12.511287Z",
     "start_time": "2025-08-06T17:42:12.494933Z"
    }
   },
   "cell_type": "code",
   "source": [
    "# 모델의 파라메터 출력\n",
    "list(model.parameters())"
   ],
   "id": "9f9d1e7960dceb4c",
   "outputs": [
    {
     "data": {
      "text/plain": [
       "[Parameter containing:\n",
       " tensor([[-0.2637,  0.1568, -0.2415,  0.2464,  0.0274, -0.1780,  0.1906,  0.2192,\n",
       "           0.0538, -0.2863, -0.2757],\n",
       "         [-0.1447,  0.2859, -0.0147, -0.0561,  0.0224,  0.0428, -0.0447, -0.0917,\n",
       "          -0.1920,  0.1950,  0.1506],\n",
       "         [ 0.0796,  0.2145, -0.2267,  0.2416, -0.0918, -0.1945, -0.1859, -0.0573,\n",
       "           0.1918, -0.2786,  0.1258],\n",
       "         [-0.2739, -0.1167, -0.1345, -0.0328,  0.0861, -0.2848, -0.1118,  0.2124,\n",
       "          -0.0283,  0.0971,  0.2708],\n",
       "         [ 0.1577,  0.2182,  0.0724, -0.1025, -0.0582, -0.0548, -0.0455, -0.1537,\n",
       "          -0.0790, -0.2452,  0.2216],\n",
       "         [ 0.1666, -0.1492,  0.1130,  0.1228,  0.1357,  0.0158,  0.1849,  0.1490,\n",
       "           0.2812,  0.0532,  0.1268],\n",
       "         [-0.2645,  0.0738,  0.0456, -0.2222,  0.1941,  0.0180,  0.1727, -0.0418,\n",
       "           0.3006,  0.0047, -0.1048],\n",
       "         [-0.1186, -0.0204,  0.0144,  0.1956, -0.2995,  0.1439, -0.2708,  0.1886,\n",
       "           0.1749,  0.1462,  0.0921],\n",
       "         [-0.2095,  0.2077,  0.0517,  0.2376, -0.0445, -0.1663, -0.2411, -0.0103,\n",
       "          -0.1319,  0.0414, -0.1151],\n",
       "         [ 0.2685,  0.1338,  0.2958, -0.0995, -0.0885,  0.0489, -0.2256,  0.0594,\n",
       "          -0.0543,  0.2046,  0.2591],\n",
       "         [-0.2156, -0.2794,  0.2423,  0.2599,  0.2995,  0.0277, -0.0865,  0.2210,\n",
       "           0.1317, -0.2262,  0.2595],\n",
       "         [ 0.1650,  0.0941, -0.0409, -0.2139,  0.0172, -0.1118,  0.0676,  0.0419,\n",
       "           0.1648, -0.0871, -0.1484],\n",
       "         [-0.2877,  0.1160, -0.0443, -0.2128,  0.0123,  0.1711,  0.1083,  0.1159,\n",
       "           0.1421,  0.1848,  0.3011],\n",
       "         [ 0.2572,  0.2193, -0.1330, -0.0896,  0.0490, -0.1733,  0.2124,  0.2222,\n",
       "          -0.0447,  0.1297,  0.1978],\n",
       "         [-0.2108, -0.1916, -0.1309, -0.1054,  0.1299,  0.2867,  0.0646,  0.1420,\n",
       "          -0.2610, -0.2829,  0.2360],\n",
       "         [-0.2677, -0.2403, -0.1761,  0.2083, -0.2044,  0.2645, -0.0520, -0.0360,\n",
       "           0.2616, -0.2373,  0.1241],\n",
       "         [ 0.0683,  0.0797,  0.2630,  0.0150,  0.0629,  0.1702, -0.0906, -0.2342,\n",
       "           0.2437,  0.1890, -0.2665],\n",
       "         [-0.2812,  0.2906, -0.0782, -0.0115,  0.2112, -0.2413, -0.0567,  0.0793,\n",
       "          -0.1571, -0.1903, -0.0590],\n",
       "         [ 0.0999,  0.1300,  0.0737, -0.1586,  0.0616,  0.1668,  0.1931, -0.0663,\n",
       "           0.2678, -0.1043, -0.1608],\n",
       "         [ 0.2345,  0.1269, -0.0420, -0.1054,  0.0628, -0.2806,  0.0708,  0.2896,\n",
       "          -0.1212,  0.0697,  0.0976],\n",
       "         [ 0.2640,  0.1495, -0.1309,  0.1743,  0.2029, -0.1063,  0.0293,  0.0645,\n",
       "           0.0706,  0.2014,  0.0512],\n",
       "         [ 0.0875,  0.1773, -0.1966, -0.0444,  0.0384,  0.1008,  0.0623, -0.2010,\n",
       "          -0.0698,  0.2805, -0.0977],\n",
       "         [ 0.0822, -0.0084, -0.1738, -0.0699, -0.0058, -0.0691,  0.0863, -0.2351,\n",
       "          -0.0235, -0.1213,  0.0050],\n",
       "         [-0.3014, -0.0131, -0.1404,  0.0738, -0.0284,  0.2386,  0.2920, -0.1537,\n",
       "           0.1138, -0.1683,  0.0016],\n",
       "         [-0.0456, -0.2927, -0.2448,  0.0704, -0.2201, -0.2788, -0.0078,  0.0948,\n",
       "          -0.0078,  0.0742,  0.2111],\n",
       "         [-0.2961,  0.1744, -0.2694,  0.1772, -0.1739, -0.1360, -0.1720,  0.0422,\n",
       "          -0.1300,  0.1918, -0.1514],\n",
       "         [-0.1571, -0.1018,  0.0083,  0.0570,  0.1807,  0.0351, -0.0850,  0.0943,\n",
       "           0.2163, -0.2638,  0.1491],\n",
       "         [-0.0270, -0.0460,  0.0825,  0.1331, -0.1221, -0.2020, -0.1634, -0.0572,\n",
       "           0.0574,  0.0250,  0.2533],\n",
       "         [-0.0603,  0.0525, -0.0068,  0.0184,  0.1041, -0.2673, -0.1467, -0.1434,\n",
       "           0.1142,  0.1403, -0.1945],\n",
       "         [-0.2445,  0.0236, -0.1379,  0.1007, -0.2332,  0.2217, -0.1279,  0.2597,\n",
       "          -0.2023,  0.2712, -0.2629],\n",
       "         [ 0.0880,  0.0646, -0.0970, -0.0594,  0.1167,  0.0559, -0.2800, -0.0517,\n",
       "           0.0814,  0.0409, -0.0093],\n",
       "         [-0.0201, -0.2771,  0.0948, -0.0821, -0.0114, -0.1674, -0.1862, -0.0129,\n",
       "          -0.2911,  0.1422,  0.1642],\n",
       "         [ 0.0422, -0.1171,  0.0900,  0.2495,  0.1436, -0.1257, -0.1611, -0.1543,\n",
       "          -0.2762, -0.0125, -0.0668],\n",
       "         [ 0.1631, -0.0605, -0.2016,  0.2543, -0.0790, -0.1425,  0.2076, -0.0413,\n",
       "          -0.2079,  0.1942, -0.0291],\n",
       "         [-0.0524,  0.0928,  0.2898,  0.0648,  0.1105, -0.1764,  0.1325, -0.0020,\n",
       "          -0.0246, -0.1599,  0.2947],\n",
       "         [-0.1902, -0.0570,  0.0654,  0.0539, -0.2820, -0.2911, -0.2687, -0.2090,\n",
       "          -0.1700,  0.0618,  0.1576],\n",
       "         [ 0.2077,  0.0655,  0.0216, -0.2148, -0.2114,  0.0990,  0.2756,  0.1948,\n",
       "           0.0280,  0.2981, -0.1724],\n",
       "         [-0.2237,  0.0381, -0.0848, -0.0007, -0.0186, -0.1250,  0.0355, -0.0348,\n",
       "           0.0375,  0.1903, -0.2239],\n",
       "         [-0.0688,  0.1173, -0.1098, -0.1929, -0.2983, -0.0337, -0.0663, -0.2020,\n",
       "          -0.2231,  0.1036,  0.2690],\n",
       "         [ 0.0347,  0.1089, -0.1960, -0.1992,  0.1790, -0.0964, -0.1330,  0.0244,\n",
       "           0.1676,  0.2049, -0.2082],\n",
       "         [-0.0160,  0.0767, -0.1058,  0.1174, -0.2707, -0.1884,  0.1745, -0.2351,\n",
       "          -0.0782, -0.2877,  0.1958],\n",
       "         [ 0.1466,  0.2127,  0.2556, -0.0829, -0.0015,  0.1045, -0.1120, -0.1558,\n",
       "           0.2159, -0.0201, -0.2586],\n",
       "         [ 0.0006, -0.2975,  0.0075,  0.2865,  0.0366,  0.1363,  0.2178,  0.0036,\n",
       "           0.1366,  0.2783,  0.0641],\n",
       "         [ 0.1034, -0.1752,  0.2314,  0.0740, -0.2576,  0.1435,  0.2757,  0.2124,\n",
       "           0.2246, -0.1052, -0.2239],\n",
       "         [-0.1681,  0.0063, -0.2918,  0.0123,  0.0936, -0.0366, -0.0523, -0.2203,\n",
       "           0.1470, -0.1836, -0.0989],\n",
       "         [ 0.1106, -0.0583, -0.1644, -0.0427, -0.2968,  0.1694,  0.1527, -0.2215,\n",
       "          -0.0228, -0.0950,  0.1985],\n",
       "         [-0.0019, -0.1370, -0.2699, -0.1107, -0.2065,  0.0657,  0.1396, -0.2276,\n",
       "          -0.0930, -0.0325,  0.1576],\n",
       "         [-0.2103,  0.1551,  0.0475, -0.1426, -0.0140,  0.0199, -0.1986, -0.2129,\n",
       "           0.1687, -0.1484, -0.0684],\n",
       "         [-0.1050, -0.0232,  0.2756,  0.0386, -0.0387, -0.2146, -0.1762,  0.1632,\n",
       "          -0.1194, -0.0497,  0.1744],\n",
       "         [-0.2488, -0.2090,  0.0065,  0.2336, -0.2387,  0.0319, -0.2399, -0.0727,\n",
       "          -0.0138, -0.0011,  0.1618],\n",
       "         [-0.0783,  0.1166,  0.1901, -0.0693, -0.1446,  0.0061, -0.0432, -0.2014,\n",
       "          -0.2298, -0.0305, -0.0386],\n",
       "         [ 0.2978, -0.2808,  0.1040,  0.2582, -0.2334, -0.3014, -0.1276, -0.0058,\n",
       "          -0.2347, -0.1600, -0.1093],\n",
       "         [ 0.1295,  0.2602, -0.1410, -0.1796, -0.0718, -0.2907,  0.2052, -0.0729,\n",
       "          -0.1775,  0.1498,  0.0454],\n",
       "         [ 0.2624,  0.1935,  0.0834,  0.0305, -0.0990, -0.2178, -0.0935, -0.1528,\n",
       "           0.1504, -0.1427,  0.1638],\n",
       "         [-0.0100, -0.1522,  0.1628,  0.1957, -0.1833, -0.1332, -0.1376, -0.0892,\n",
       "           0.1825,  0.0720, -0.0138],\n",
       "         [-0.1839,  0.2323,  0.1948,  0.2478, -0.0101,  0.0461, -0.1003, -0.0451,\n",
       "          -0.2269, -0.1553, -0.2282],\n",
       "         [ 0.2450,  0.0922,  0.2163, -0.0726,  0.2259,  0.0989, -0.2124,  0.1307,\n",
       "           0.2711, -0.2593, -0.0414],\n",
       "         [-0.0341, -0.2398, -0.1044,  0.0512,  0.2810, -0.0549,  0.0703,  0.0439,\n",
       "           0.0988, -0.2393, -0.2866],\n",
       "         [-0.1254,  0.2810,  0.0242,  0.0410, -0.1382,  0.2772, -0.2779,  0.1872,\n",
       "           0.1067, -0.1587, -0.1411],\n",
       "         [ 0.2863, -0.0333, -0.1227, -0.1877,  0.2622,  0.0744, -0.1160, -0.1012,\n",
       "          -0.0663,  0.2844, -0.2681],\n",
       "         [-0.1740,  0.2445,  0.1020, -0.0928,  0.0956,  0.2429, -0.2179, -0.0119,\n",
       "          -0.1268, -0.0455, -0.1341],\n",
       "         [ 0.1216, -0.2978, -0.2640,  0.2111,  0.0681,  0.1377,  0.2261, -0.0057,\n",
       "           0.1586,  0.1594,  0.1173],\n",
       "         [-0.0534,  0.0445, -0.0994, -0.0995,  0.2457, -0.0373,  0.0972, -0.1683,\n",
       "           0.1206, -0.1337, -0.2041],\n",
       "         [-0.0667, -0.0986, -0.2284,  0.1021, -0.1162, -0.2817,  0.2701, -0.1305,\n",
       "          -0.1129,  0.0738, -0.0378]], requires_grad=True),\n",
       " Parameter containing:\n",
       " tensor([-0.2307, -0.1964,  0.2279,  0.0565, -0.1399, -0.0037,  0.3003,  0.0979,\n",
       "         -0.0183, -0.0254,  0.2421, -0.1566,  0.0346,  0.0849, -0.1910, -0.0069,\n",
       "         -0.2689, -0.0069,  0.1798,  0.1615, -0.2699,  0.2891,  0.1056, -0.0159,\n",
       "         -0.0407,  0.2450,  0.0472, -0.1255,  0.2360, -0.2238,  0.2911,  0.0158,\n",
       "         -0.1436,  0.0933,  0.2793,  0.0862, -0.0446, -0.0044, -0.0121,  0.0052,\n",
       "          0.1240,  0.1709, -0.2492,  0.0281,  0.0809,  0.0057, -0.1003,  0.0081,\n",
       "          0.2345,  0.1144,  0.0931,  0.2396, -0.0208, -0.1808,  0.2180,  0.2873,\n",
       "          0.2977, -0.0489,  0.0736,  0.2796,  0.2073, -0.2371,  0.0542,  0.2904],\n",
       "        requires_grad=True),\n",
       " Parameter containing:\n",
       " tensor([[ 0.0960,  0.1204, -0.0456,  ...,  0.0786,  0.0375,  0.1033],\n",
       "         [-0.0914, -0.0409,  0.1115,  ..., -0.0682,  0.0991, -0.0808],\n",
       "         [-0.1015, -0.0076, -0.0933,  ...,  0.0953,  0.0339, -0.0341],\n",
       "         ...,\n",
       "         [-0.0717,  0.0340,  0.0537,  ..., -0.0003,  0.0815,  0.0863],\n",
       "         [ 0.0261,  0.1122, -0.1001,  ..., -0.0295, -0.0760, -0.1146],\n",
       "         [ 0.0618, -0.1077,  0.0766,  ..., -0.0992, -0.0065, -0.1062]],\n",
       "        requires_grad=True),\n",
       " Parameter containing:\n",
       " tensor([-0.0126,  0.1014,  0.0189,  0.0163,  0.0060, -0.0300,  0.0395,  0.0594,\n",
       "          0.0266,  0.0103, -0.0941, -0.0078, -0.0516,  0.0494,  0.1232, -0.0384,\n",
       "         -0.0798,  0.0995,  0.0148,  0.0267, -0.0832,  0.0161,  0.0024,  0.0023,\n",
       "         -0.0267, -0.1058,  0.0442,  0.0092, -0.0713,  0.0859,  0.0194, -0.0724],\n",
       "        requires_grad=True),\n",
       " Parameter containing:\n",
       " tensor([[ 0.0122,  0.0085, -0.1342,  0.1320,  0.0347,  0.0644, -0.1581, -0.1560,\n",
       "           0.1416, -0.1542,  0.0713,  0.0948, -0.1155, -0.0048, -0.0067,  0.1505,\n",
       "          -0.1475,  0.1291,  0.1091, -0.1338,  0.0109,  0.0102,  0.1305,  0.0731,\n",
       "           0.0470,  0.0853,  0.0766, -0.0360, -0.0417, -0.1169,  0.0226,  0.0485]],\n",
       "        requires_grad=True),\n",
       " Parameter containing:\n",
       " tensor([-0.0062], requires_grad=True)]"
      ]
     },
     "execution_count": 183,
     "metadata": {},
     "output_type": "execute_result"
    }
   ],
   "execution_count": 183
  },
  {
   "metadata": {
    "ExecuteTime": {
     "end_time": "2025-08-06T17:42:35.727596Z",
     "start_time": "2025-08-06T17:42:35.723679Z"
    }
   },
   "cell_type": "code",
   "source": [
    "# 학습 준비\n",
    "from torch.optim import Adam\n",
    "\n",
    "# 손실 함수 정의\n",
    "loss_fn = nn.BCELoss()\n",
    "# 이진 분류를 위한 손실 함수, BCELoss는 바이너리 크로스 엔트로피 손실이라 한다.\n",
    "\n",
    "# 옵티마이저 정의, 이때 학습률이라는 것을 정해준다.\n",
    "optimizer = Adam(model.parameters(), lr=0.001)"
   ],
   "id": "3f41461420062e60",
   "outputs": [],
   "execution_count": 185
  },
  {
   "metadata": {
    "ExecuteTime": {
     "end_time": "2025-08-06T17:44:21.828485Z",
     "start_time": "2025-08-06T17:44:21.823393Z"
    }
   },
   "cell_type": "code",
   "source": "",
   "id": "7f6bc8810eb01de5",
   "outputs": [
    {
     "data": {
      "text/plain": [
       "tensor(0.6749)"
      ]
     },
     "execution_count": 191,
     "metadata": {},
     "output_type": "execute_result"
    }
   ],
   "execution_count": 191
  }
 ],
 "metadata": {
  "kernelspec": {
   "display_name": "Python 3",
   "language": "python",
   "name": "python3"
  },
  "language_info": {
   "codemirror_mode": {
    "name": "ipython",
    "version": 2
   },
   "file_extension": ".py",
   "mimetype": "text/x-python",
   "name": "python",
   "nbconvert_exporter": "python",
   "pygments_lexer": "ipython2",
   "version": "2.7.6"
  }
 },
 "nbformat": 4,
 "nbformat_minor": 5
}
