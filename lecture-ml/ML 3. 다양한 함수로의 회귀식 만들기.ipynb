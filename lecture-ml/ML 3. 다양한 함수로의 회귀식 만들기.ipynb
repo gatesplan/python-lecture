{
 "cells": [
  {
   "metadata": {},
   "cell_type": "markdown",
   "source": [
    "# 커스텀 함수 모델 회귀식 만들기\n",
    "\n",
    "이번에는 원하는 여러 형태의 함수를 직접 만들고 학습시켜 다양한 회귀식을 만드는 방법을 배운다."
   ],
   "id": "9a84c1f22c59ebcc"
  },
  {
   "metadata": {},
   "cell_type": "markdown",
   "source": [
    "## 1. 커스텀 모델 함수 선언\n",
    "\n",
    "사용자 정의 함수 선언을 통해 다양한 형태의 회귀식을 만들 수 있다. 예를 들어, 2차 함수, 3차 함수, 지수 함수 등을 선언할 수 있다.\n",
    "\n",
    "1. 일차함수를 선언해본다\n",
    "2. 이차함수를 선언해본다\n",
    "3. 간단한 지수함수를 선언해본다"
   ],
   "id": "1bb28d08e823947"
  },
  {
   "metadata": {},
   "cell_type": "code",
   "source": [
    "import numpy as np  # 수치 계산 라이브러리\n",
    "\n",
    "# 일차함수\n",
    "def linear_degree1_model(x, a, b):\n",
    "    return a * x + b\n",
    "\n",
    "# 이차함수\n",
    "def linear_degree2_model(x, a, b, c):\n",
    "    return a * x**2 + b * x + c\n",
    "\n",
    "# 지수함수\n",
    "def exp_model(x, a, b):\n",
    "    return a * np.exp(b * x)\n"
   ],
   "id": "306e3b9b6883e2de",
   "outputs": [],
   "execution_count": null
  },
  {
   "metadata": {},
   "cell_type": "markdown",
   "source": [
    "#### Practice1. 목적함수 선언 연습\n",
    "\n",
    "여러 형태의 목적함수를 선언해보자. 아래의 함수들을 참고하여 다양한 형태의 목적함수를 선언한다.\n",
    "\n",
    "1. 사인함수 (`np.sin()` 사용)\n",
    "2. 코사인함수 (`np.cos()` 사용)\n",
    "3. 로그함수 (`np.log()` 사용)\n",
    "4. 제곱근함수 (`np.sqrt()` 사용)\n",
    "5. 하이퍼볼릭 사인함수 (`np.sinh()` 사용)"
   ],
   "id": "d0510cb99ac32735"
  },
  {
   "metadata": {},
   "cell_type": "code",
   "source": [
    "# 사인함수\n",
    "def sin_model(x, a, b, c, d):\n",
    "    return a * np.sin(b * x + c) + d\n",
    "\n",
    "# 코사인함수\n",
    "def cos_model(x, a, b, c, d):\n",
    "    return a * np.cos(b * x + c) + d\n",
    "\n",
    "# 로그함수\n",
    "def log_model(x, a, b, c, d):\n",
    "    return a * np.log(b * x + c) + d\n",
    "\n",
    "# 제곱근함수\n",
    "def sqrt_model(x, a, b, c, d):\n",
    "    return a * np.sqrt(b * x + c) + d\n",
    "\n",
    "# 하이퍼볼릭 사인함수\n",
    "def sinh_model(x, a, b, c, d):\n",
    "    return a * np.sinh(b * x + c) + d\n"
   ],
   "id": "d6f952c89645080d",
   "outputs": [],
   "execution_count": null
  },
  {
   "metadata": {},
   "cell_type": "markdown",
   "source": [
    "정의역 문제를 주의해야 한다. 여기서부터는 수학적으로 민감해지는 부분이 생기므로 항상 주의를 요한다.\n",
    "\n",
    "알고리즘적인 안전장치로 적당히 제어해야 할 수 있다. 지금은 정의역 문제가 없는 지수함수, 삼각함수만 연습해본다."
   ],
   "id": "4f5d6a2628a618be"
  },
  {
   "metadata": {},
   "cell_type": "markdown",
   "source": [
    "## 2. 커스텀 모델 함수 학습과 평가, 시각화\n",
    "\n",
    "커스텀 모델 함수를 학습하고 평가하는 방법을 배운다. 아래의 단계를 따라 진행한다.\n",
    "\n",
    "1. `scipy.optimize.curve_fit` 함수를 사용하여 커스텀 모델 함수를 학습한다.\n",
    "2. 학습된 모델을 사용하여 예측값을 계산한다.\n",
    "3. 평가 지표를 계산하여 모델의 성능을 평가한다.\n",
    "4. 실제 데이터와 예측값을 비교하여 시각화한다."
   ],
   "id": "451702cd943693f7"
  },
  {
   "metadata": {},
   "cell_type": "code",
   "source": [
    "# 필요한 라이브러리 임포트\n",
    "import matplotlib.pyplot as plt  # 시각화 라이브러리\n",
    "import seaborn as sns\n",
    "from scipy.optimize import curve_fit  # 곡선 피팅 라이브러리\n",
    "from sklearn.model_selection import train_test_split\n",
    "\n",
    "diamonds = sns.load_dataset(\"diamonds\")\n",
    "x = diamonds[[\"carat\"]]\n",
    "y = diamonds[\"price\"]\n",
    "x_train, x_test, y_train, y_test = train_test_split(x, y, test_size=0.2)"
   ],
   "id": "d2278bc3bc98cfcb",
   "outputs": [],
   "execution_count": null
  },
  {
   "metadata": {},
   "cell_type": "markdown",
   "source": "`curve_fit` 함수는 x값이 `numpy` 배열이어야 해서 입력 x값의 코드가 조금 다르다.",
   "id": "9bca7e8571d22bd0"
  },
  {
   "metadata": {},
   "cell_type": "code",
   "source": [
    "# 지수함수 모델 생성\n",
    "def exp_model(x, a, b, c):\n",
    "    return a * np.exp(b * x) + c\n",
    "\n",
    "# curve_fit을 사용하여 모델 학습\n",
    "params, _ = curve_fit(exp_model, x_train[\"carat\"], y_train)\n",
    "\n",
    "params  # 이 값으로 함수를 직접 새로 만드는 것"
   ],
   "id": "1306a59a8aa5a08a",
   "outputs": [],
   "execution_count": null
  },
  {
   "metadata": {},
   "cell_type": "code",
   "source": [
    "def fitted_model(x):\n",
    "    return params[0] * np.exp(params[1] * x) + params[2]\n",
    "\n",
    "# 예측값 계산\n",
    "y_pred = fitted_model(x_test[\"carat\"])\n",
    "\n",
    "# 평가\n",
    "from sklearn.metrics import mean_absolute_error, r2_score, root_mean_squared_error\n",
    "rmse = root_mean_squared_error(y_test, y_pred)\n",
    "mae = mean_absolute_error(y_test, y_pred)\n",
    "r2 = r2_score(y_test, y_pred)\n",
    "print(f\"RMSE: {rmse:.2f}, MAE: {mae:.2f}, R^2: {r2:.2f}\")\n",
    "\n",
    "\n",
    "# 시각화\n",
    "plt.figure(figsize=(10, 6))\n",
    "plt.scatter(x_test[\"carat\"], y_test, label=\"Actual\", color=\"blue\")\n",
    "plt.scatter(x_test[\"carat\"], y_pred, label=\"Predicted\", color=\"red\")\n",
    "plt.xlabel(\"Carat\")\n",
    "plt.ylabel(\"Price\")\n",
    "plt.title(\"Actual vs Predicted Price\")\n",
    "plt.legend()\n",
    "plt.show()"
   ],
   "id": "71a717924537eb57",
   "outputs": [],
   "execution_count": null
  },
  {
   "metadata": {},
   "cell_type": "markdown",
   "source": [
    "#### Practice2. 커스텀 모델 함수 학습과 평가\n",
    "\n",
    "1. 사차함수 `linear_degree4_model`을 선언한다.\n",
    "2. `curve_fit` 함수를 사용하여 사차함수 모델을 학습한다.\n",
    "3. 알아낸 계수를 이용해 `fitted_linear_degree4_model` 함수를 정의한다.\n",
    "4. 테스트 데이터에 대해 예측값을 계산한다.\n",
    "5. 평가 지표를 계산한다.\n",
    "6. 실제 데이터와 예측값을 비교하여 시각화한다."
   ],
   "id": "8653664d5d995f4a"
  },
  {
   "metadata": {},
   "cell_type": "code",
   "source": [
    "def linear_degree4_model(x, a, b, c, d, e):\n",
    "    return a * x**4 + b * x**3 + c * x**2 + d * x + e\n",
    "\n",
    "# 데이터셋 로드\n",
    "diamonds = sns.load_dataset(\"diamonds\")\n",
    "x = diamonds[\"carat\"]\n",
    "y = diamonds[\"price\"]\n",
    "\n",
    "param, _ = curve_fit(linear_degree4_model, x, y)\n",
    "param\n",
    "\n",
    "# fitted_linear_degree4_model 함수 정의\n",
    "def fitted_linear_degree4_model(x):\n",
    "    return (param[0] * x**4 + param[1] * x**3 +\n",
    "            param[2] * x**2 + param[3] * x + param[4])\n",
    "\n",
    "def fitted_linear_degree4_model(x):\n",
    "    return linear_degree4_model(x, *param)\n",
    "\n",
    "# 예측값 계산\n",
    "y_pred = fitted_linear_degree4_model(x)\n",
    "\n",
    "# 평가\n",
    "r2 = r2_score(y, y_pred)\n",
    "print(f\"R^2: {r2:.2f}\")\n",
    "\n",
    "# 시각화\n",
    "plt.figure(figsize=(12, 6))\n",
    "plt.scatter(x, y, label=\"Actual\", color=\"blue\", s=5)\n",
    "plt.scatter(x, y_pred, label=\"Predicted\", color=\"red\", s=5)\n",
    "plt.xlabel(\"Carat\")\n",
    "plt.ylabel(\"Price\")\n",
    "plt.title(\"Actual vs Predicted Price (4th Degree Polynomial)\")\n",
    "plt.legend()\n",
    "plt.show()\n"
   ],
   "id": "a191a7b38812064b",
   "outputs": [],
   "execution_count": null
  },
  {
   "metadata": {},
   "cell_type": "markdown",
   "source": [
    "1. 다항회귀 (x -> x, x^2, x^3)\n",
    "PolynomialFeatures"
   ],
   "id": "dab67acc5c8cc87b"
  },
  {
   "metadata": {},
   "cell_type": "code",
   "source": [
    "from sklearn.preprocessing import PolynomialFeatures\n",
    "\n",
    "x = diamonds[['carat']]\n",
    "poly = PolynomialFeatures(degree=4, include_bias=False)\n",
    "poly_x = poly.fit_transform(x, y)\n",
    "\n",
    "# 모델선언\n",
    "from sklearn.linear_model import LinearRegression\n",
    "model = LinearRegression()\n",
    "model.fit(poly_x, y)\n",
    "y_pred = model.predict(poly_x)\n",
    "\n",
    "# 평가\n",
    "from sklearn.metrics import r2_score\n",
    "r2 = r2_score(y, y_pred)\n",
    "print(f\"R^2: {r2:.2f}\")\n",
    "\n",
    "# 시각화\n",
    "plt.figure(figsize=(12, 6))\n",
    "plt.title('Actual vs Predicted Price (Polynomial Regression)')\n",
    "plt.scatter(x, y, label='Actual', color='blue', s=5)\n",
    "plt.scatter(x, y_pred, label='Predicted', color='red', s=5)\n",
    "plt.legend()\n",
    "plt.show()"
   ],
   "id": "8ae1facb64b9dc3b",
   "outputs": [],
   "execution_count": null
  },
  {
   "metadata": {},
   "cell_type": "code",
   "source": [
    "# curve_fit\n",
    "def exp_model(x, a, b, c):\n",
    "    return a * np.exp(b * x) + c\n",
    "\n",
    "# curve_fit을 사용하여 모델 학습\n",
    "params, _ = curve_fit(exp_model, x_train[\"carat\"], y_train)\n",
    "\n",
    "def fitted_exp_model(x):\n",
    "    return exp_model(x, *params)\n",
    "\n",
    "# 예측값 계산\n",
    "y_pred = fitted_exp_model(x_test[\"carat\"])\n",
    "\n",
    "# 평가\n",
    "r2 = r2_score(y_test, y_pred)\n",
    "print(f\"R^2: {r2:.2f}\")\n",
    "\n",
    "# 시각화\n",
    "plt.figure(figsize=(10, 6))\n",
    "plt.title('Actual vs Predicted Price (Exponential Regression)')\n",
    "plt.scatter(x_test[\"carat\"], y_test, label=\"Actual\", color=\"blue\", s=5)\n",
    "plt.scatter(x_test[\"carat\"], y_pred, label=\"Predicted\", color=\"red\", s=5)\n",
    "plt.legend()\n",
    "plt.show()"
   ],
   "id": "571ff18dfece985d",
   "outputs": [],
   "execution_count": null
  },
  {
   "metadata": {},
   "cell_type": "code",
   "source": "",
   "id": "6472f58e5f0adf35",
   "outputs": [],
   "execution_count": null
  }
 ],
 "metadata": {
  "kernelspec": {
   "display_name": "Python 3",
   "language": "python",
   "name": "python3"
  },
  "language_info": {
   "codemirror_mode": {
    "name": "ipython",
    "version": 2
   },
   "file_extension": ".py",
   "mimetype": "text/x-python",
   "name": "python",
   "nbconvert_exporter": "python",
   "pygments_lexer": "ipython2",
   "version": "2.7.6"
  }
 },
 "nbformat": 4,
 "nbformat_minor": 5
}
